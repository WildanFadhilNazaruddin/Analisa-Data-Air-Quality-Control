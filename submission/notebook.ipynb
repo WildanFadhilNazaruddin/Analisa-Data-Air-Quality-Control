{
 "cells": [
  {
   "cell_type": "markdown",
   "metadata": {
    "colab_type": "text",
    "id": "view-in-github"
   },
   "source": [
    "<a href=\"https://colab.research.google.com/github/Wlnfadhil/Analisa-Data-Air-Quality-Control/blob/coca-coba-code/submission/notebook.ipynb\" target=\"_parent\"><img src=\"https://colab.research.google.com/assets/colab-badge.svg\" alt=\"Open In Colab\"/></a>"
   ]
  },
  {
   "cell_type": "markdown",
   "metadata": {
    "id": "VKIzVjQmoy5H"
   },
   "source": [
    "# Proyek Analisis Data: PRSA_Data_20130301-20170228\n",
    "- **Nama:** Wildan Fadhil Nazaruddin\n",
    "- **Email:** wildanfadhil76@gmial.com\n",
    "- **ID Dicoding:**"
   ]
  },
  {
   "cell_type": "markdown",
   "metadata": {
    "id": "eSk76jKroy5K"
   },
   "source": [
    "## Air  Data Quality"
   ]
  },
  {
   "cell_type": "markdown",
   "metadata": {
    "id": "GpW_ywQ3oy5L"
   },
   "source": [
    "Air particulate matter in various regions has a significant impact on public health. Year-over-year data analysis is crucial in guiding informed decision-making to mitigate the effects of global warming. This project aims to analyze weather conditions and air quality across different regions of China to better understand environmental trends and their implications. The dataset used in this project includes data from 12 provinces in China, which will be examined to identify patterns and provide insights for more effective policy-making in maintaining air quality and public health. This analysis can also contribute to developing better strategies for mitigating the ongoing climate change."
   ]
  },
  {
   "cell_type": "markdown",
   "metadata": {
    "id": "1Z7aVagSoy5M"
   },
   "source": [
    "### 1.1 Clases"
   ]
  },
  {
   "cell_type": "markdown",
   "metadata": {
    "id": "ywxwdbLmoy5M"
   },
   "source": [
    "- PRSA_Data_Aotizhongxin: Data collected from the Aotizhongxin station.\n",
    "- PRSA_Data_Changping: Data from the Changping station.\n",
    "- PRSA_Data_Dingling: Data from the Dingling station.\n",
    "- PRSA_Data_Dongsi: Data from the Dongsi station.\n",
    "- PRSA_Data_Guanyuan: Data from the Guanyuan station.\n",
    "- PRSA_Data_Gucheng: Data from the Gucheng station.\n",
    "- PRSA_Data_Huairou: Data from the Huairou station.\n",
    "- PRSA_Data_Tiantan: Data from the Tiantan station.\n",
    "- PRSA_Data_Wanliu: Data from the Wanliu station."
   ]
  },
  {
   "cell_type": "markdown",
   "metadata": {
    "id": "VHNlzFAsoy5N"
   },
   "source": [
    "### 1.2 Methodology"
   ]
  },
  {
   "cell_type": "markdown",
   "metadata": {
    "id": "tlX5NElnoy5N"
   },
   "source": [
    "1. Data Collection and Cleaning:\n",
    "- - -\n",
    "First, we will consolidate the datasets from the 12 provinces. Data cleaning will involve handling missing values, correcting inconsistencies, and ensuring all datasets are standardized.\n",
    "Descriptive Statistics:\n",
    "- - -\n",
    "Descriptive statistics such as mean, median, standard deviation, and interquartile range (IQR) will be used to summarize the key characteristics of the air particulate data (PM2.5, PM10) across different provinces. Visualizations like histograms, box plots, and time series plots will be used to better understand the distribution and spread of the data.\n",
    "Correlation Analysis:\n",
    "- - -\n",
    "To identify the relationship between different pollutants and weather conditions, we will conduct a Pearson or Spearman correlation analysis. This will help in understanding how temperature, humidity, or wind speed affect the levels of particulate matter in the air.\n",
    "Trend Analysis:\n",
    "- - -\n",
    "Trend analysis will be performed to observe how air quality changes over time (seasonally or annually) and across provinces. We will use time series decomposition to break down the data into trend, seasonal, and residual components, enabling a clearer view of underlying patterns.\n",
    "Geospatial Analysis:\n",
    "- - -\n",
    "By plotting data on maps, we will explore the geographical distribution of air particulate matter across provinces, using spatial visualization tools to observe how air quality varies between regions.\n",
    "Hypothesis Testing:\n",
    "- - -\n",
    "Statistical hypothesis tests (such as t-tests or ANOVA) will be used to compare air quality between different regions or time periods, determining whether observed differences are statistically significant."
   ]
  },
  {
   "cell_type": "markdown",
   "metadata": {
    "id": "rM9lk3Fsoy5O"
   },
   "source": [
    "### 1.3 Deployment"
   ]
  },
  {
   "cell_type": "markdown",
   "metadata": {
    "id": "W0XgYQyOoy5P"
   },
   "source": []
  },
  {
   "cell_type": "markdown",
   "metadata": {
    "id": "W1kvfjn7oy5P"
   },
   "source": [
    "Data set\n",
    "\n",
    "```\n",
    "! git clone https://github.com/Wlnfadhil/Analisa-Data-Air-Quality-Control.git\n",
    "```\n",
    "\n"
   ]
  },
  {
   "cell_type": "markdown",
   "metadata": {
    "id": "q7GOp1uuoy5P"
   },
   "source": []
  },
  {
   "cell_type": "markdown",
   "metadata": {
    "id": "dQhXRwuYoy5P"
   },
   "source": [
    "## 1 code enggine"
   ]
  },
  {
   "cell_type": "code",
   "execution_count": 1,
   "metadata": {
    "colab": {
     "base_uri": "https://localhost:8080/"
    },
    "id": "J5YKDsrHoy5Q",
    "outputId": "6bb543c9-c3a1-4334-ce7c-0d4253929825"
   },
   "outputs": [],
   "source": [
    "# ! git clone https://github.com/Wlnfadhil/Analisa-Data-Air-Quality-Control.git"
   ]
  },
  {
   "cell_type": "markdown",
   "metadata": {},
   "source": [
    "#### 1.1   menganalisa KORELASI SUHU DAN TEMP DAN PERBANDINGAN DENGAN PRES "
   ]
  },
  {
   "cell_type": "markdown",
   "metadata": {},
   "source": [
    "##### 1.1.1  code untuk menganalisa KORELASI SUHU DAN TEMP DAN PERBANDINGAN DENGAN PRES harian"
   ]
  },
  {
   "cell_type": "code",
   "execution_count": 2,
   "metadata": {},
   "outputs": [],
   "source": [
    "def korelasi_suhu_(df, year, month, day_start, day_end):\n",
    "    \n",
    "    filtered_df = df.query('year == @year and month == @month and day >= @day_start and day <= @day_end')\n",
    "\n",
    "    result = (\n",
    "        filtered_df.groupby(['year', 'month', 'day'])\n",
    "        .agg(avg_TEMP=('TEMP', 'mean'), avg_O3=('O3', 'mean'), avg_PRES=('PRES', 'mean'))\n",
    "        .reset_index()\n",
    "    )\n",
    "\n",
    "    result['avg_TEMP'] = result['avg_TEMP'].round()\n",
    "    result['avg_O3'] = result['avg_O3'].round()\n",
    "    result['avg_PRES'] = result['avg_PRES'].round()\n",
    "\n",
    "    return result"
   ]
  },
  {
   "cell_type": "markdown",
   "metadata": {},
   "source": [
    "### 1.2 code untuk menganalisa Polutan Pm 2.5  DAN pm 10 "
   ]
  },
  {
   "cell_type": "markdown",
   "metadata": {},
   "source": [
    "#### 1.2.1 Polusi Harian"
   ]
  },
  {
   "cell_type": "code",
   "execution_count": 1,
   "metadata": {},
   "outputs": [],
   "source": [
    "def partikulasi_polusi(df, year, month, day_start, day_end):\n",
    "    filtered_df = df.query('year == @year and month == @month and day >= @day_start and day <= @day_end')\n",
    "\n",
    "    result = (\n",
    "        filtered_df.groupby(['year', 'month', 'day'])\n",
    "        .agg(avg_PM25=('PM2.5', 'mean'), avg_PM10=('PM10', 'mean'))\n",
    "        .reset_index()\n",
    "    )\n",
    "\n",
    "    result['avg_PM25'] = result['avg_PM25'].round()\n",
    "    result['avg_PM10'] = result['avg_PM10'].round()\n",
    "\n",
    "    return result"
   ]
  },
  {
   "cell_type": "markdown",
   "metadata": {},
   "source": [
    "#### 1.2.2 partikulasi_polusi_mingguan"
   ]
  },
  {
   "cell_type": "code",
   "execution_count": 2,
   "metadata": {},
   "outputs": [],
   "source": [
    "def partikulasi_polusi_mingguan(df, year, month):\n",
    "    # Filter the DataFrame for the specified year and month\n",
    "    filtered_df = df.query('year == @year and month == @month')\n",
    "\n",
    "    filtered_df['week'] = filtered_df['day'].apply(lambda x: (x - 1) // 7 + 1) \n",
    "\n",
    "    result = (\n",
    "        filtered_df.groupby(['year', 'month', 'week'])\n",
    "        .agg(avg_PM25=('PM2.5', 'mean'), avg_PM10=('PM10', 'mean'))\n",
    "        .reset_index()\n",
    "    )\n",
    "\n",
    "    # Round the averages to the nearest integer\n",
    "    result['avg_PM25'] = result['avg_PM25'].round()\n",
    "    result['avg_PM10'] = result['avg_PM10'].round()\n",
    "\n",
    "    return result\n"
   ]
  },
  {
   "cell_type": "markdown",
   "metadata": {},
   "source": [
    "#### 1.2.3 partikulasi_polusi_Tahunan"
   ]
  },
  {
   "cell_type": "code",
   "execution_count": 3,
   "metadata": {},
   "outputs": [],
   "source": [
    "def partikulasi_polusi_tahunan(df, year):\n",
    "    filtered_df = df.query('year == @year' )\n",
    "\n",
    "    result = (\n",
    "        filtered_df.groupby(['year'])\n",
    "        .agg(avg_PM25=('PM2.5', 'mean'), avg_PM10=('PM10', 'mean'))\n",
    "        .reset_index()\n",
    "    )\n",
    "\n",
    "    # Fix indentation for rounding and assignment\n",
    "    result['avg_PM25'] = result['avg_PM25'].round()\n",
    "    result['avg_PM10'] = result['avg_PM10'].round()\n",
    "\n",
    "    return result"
   ]
  },
  {
   "cell_type": "markdown",
   "metadata": {},
   "source": [
    "#### 1.2.4 partikulasi_polusi_bulanan"
   ]
  },
  {
   "cell_type": "code",
   "execution_count": 4,
   "metadata": {},
   "outputs": [],
   "source": [
    "def partikulasi_polusi_bulanan(df, year, month):\n",
    "    filtered_df = df.query('year == @year and month == @month')\n",
    "\n",
    "    result = (\n",
    "        filtered_df.groupby(['year', 'month'])\n",
    "        .agg(avg_PM25=('PM2.5', 'mean'), avg_PM10=('PM10', 'mean'))\n",
    "        .reset_index()\n",
    "    )\n",
    "\n",
    "    result['avg_PM25'] = result['avg_PM25'].round()\n",
    "    result['avg_PM10'] = result['avg_PM10'].round()\n",
    "\n",
    "    return result"
   ]
  },
  {
   "cell_type": "markdown",
   "metadata": {},
   "source": [
    "### 1.3 menganalisa KORELASI perubahan kualitas udara"
   ]
  },
  {
   "cell_type": "markdown",
   "metadata": {},
   "source": [
    "#### 1.3.1 code untuk menganalisa KORELASI perubahan kualitas udara harian"
   ]
  },
  {
   "cell_type": "code",
   "execution_count": 5,
   "metadata": {},
   "outputs": [],
   "source": [
    "def kualitas_udara(df, year, month, day_start, day_end):  # Function definition\n",
    "\n",
    "    # Filter the data based on year, month, and day range\n",
    "    filtered_df = df.query('year == @year and month == @month and day >= @day_start and day <= @day_end')\n",
    "\n",
    "    # Group the filtered data by year, month, and day, and calculate mean of pollutants\n",
    "    result = (\n",
    "        filtered_df.groupby(['year', 'month', 'day'])\n",
    "        .agg(avg_PM25=('PM2.5', 'mean'), avg_PM10=('PM10', 'mean'), avg_NO2=('NO2', 'mean'), avg_CO=('CO', 'mean'))\n",
    "        .reset_index()\n",
    "    )\n",
    "\n",
    "    # Round the calculated averages\n",
    "    result['avg_PM25'] = result['avg_PM25'].round()\n",
    "    result['avg_PM10'] = result['avg_PM10'].round()\n",
    "    result['avg_NO2'] = result['avg_NO2'].round()\n",
    "    result['avg_CO'] = result['avg_CO'].round()\n",
    "\n",
    "    # Return the result\n",
    "    return result\n"
   ]
  },
  {
   "cell_type": "markdown",
   "metadata": {},
   "source": [
    "### 1.4 Data Cleaning "
   ]
  },
  {
   "cell_type": "code",
   "execution_count": 6,
   "metadata": {},
   "outputs": [],
   "source": [
    "def preprocess_dataframe(df):\n",
    "    df['date'] = pd.to_datetime(df[['year', 'month', 'day', 'hour']]) \n",
    "    df.set_index('date', inplace=True) \n",
    "\n",
    "    df['wd'] = df['wd'].astype('category')\n",
    "    df['station'] = df['station'].astype('category')\n",
    "\n",
    "    pollutants = ['PM2.5', 'PM10', 'SO2', 'NO2', 'CO', 'O3']\n",
    "    df[pollutants] = df[pollutants].interpolate(method='time')\n",
    "\n",
    "    meteorological = ['TEMP', 'PRES', 'DEWP', 'RAIN']\n",
    "    df[meteorological] = df[meteorological].interpolate(method='linear')\n",
    "\n",
    "    df['wd'] = df['wd'].fillna(method='ffill')\n",
    "    df['WSPM'] = df['WSPM'].fillna(method='ffill')\n",
    "\n",
    "    return df"
   ]
  },
  {
   "cell_type": "markdown",
   "metadata": {
    "id": "xirOc5Aioy5R"
   },
   "source": [
    "## 2 Menentukan Pertanyaan Bisnis"
   ]
  },
  {
   "cell_type": "markdown",
   "metadata": {
    "id": "hQjlAHmEoy5S"
   },
   "source": [
    "- Pertanyaan 1 :\n",
    "  - What are the primary trends in air quality levels (PM2.5, PM10) across the 12 provinces in China over the observed time period (2013-2017)?\n",
    "- Pertanyaan 2 :\n",
    "  - How do various weather conditions (e.g., temperature, humidity, wind speed) correlate with particulate matter concentrations (PM2.5, PM10) in each province?\n",
    "- Pertanyaan 3 :\n",
    "   - Which regions show the highest and lowest levels of air particulate matter, and what factors contribute to these regional differences?\n",
    "- Pertanyaan 4 :   \n",
    "   - How do seasonal variations (e.g., winter vs. summer) impact air quality across the provinces, and what are the contributing factors?\n",
    "- Pertanyaan 5 :\n",
    "   - What actionable insights can be drawn from this analysis to inform policy decisions aimed at improving air quality and mitigating public health risks?\n"
   ]
  },
  {
   "cell_type": "markdown",
   "metadata": {
    "id": "hxBnwjpMoy5S"
   },
   "source": [
    "## 3 Import Semua Packages/Library yang Digunakan"
   ]
  },
  {
   "cell_type": "code",
   "execution_count": 8,
   "metadata": {
    "id": "tKqfSzmwoy5S"
   },
   "outputs": [
    {
     "ename": "ModuleNotFoundError",
     "evalue": "No module named 'matplotlib'",
     "output_type": "error",
     "traceback": [
      "\u001b[0;31m---------------------------------------------------------------------------\u001b[0m",
      "\u001b[0;31mModuleNotFoundError\u001b[0m                       Traceback (most recent call last)",
      "Cell \u001b[0;32mIn[8], line 3\u001b[0m\n\u001b[1;32m      1\u001b[0m \u001b[38;5;28;01mimport\u001b[39;00m \u001b[38;5;21;01mnumpy\u001b[39;00m \u001b[38;5;28;01mas\u001b[39;00m \u001b[38;5;21;01mnp\u001b[39;00m\n\u001b[1;32m      2\u001b[0m \u001b[38;5;28;01mimport\u001b[39;00m \u001b[38;5;21;01mpandas\u001b[39;00m \u001b[38;5;28;01mas\u001b[39;00m \u001b[38;5;21;01mpd\u001b[39;00m\n\u001b[0;32m----> 3\u001b[0m \u001b[38;5;28;01mimport\u001b[39;00m \u001b[38;5;21;01mmatplotlib\u001b[39;00m\u001b[38;5;21;01m.\u001b[39;00m\u001b[38;5;21;01mpyplot\u001b[39;00m \u001b[38;5;28;01mas\u001b[39;00m \u001b[38;5;21;01mplt\u001b[39;00m\n\u001b[1;32m      4\u001b[0m \u001b[38;5;28;01mimport\u001b[39;00m \u001b[38;5;21;01mseaborn\u001b[39;00m \u001b[38;5;28;01mas\u001b[39;00m \u001b[38;5;21;01msns\u001b[39;00m\n\u001b[1;32m      5\u001b[0m \u001b[38;5;28;01mimport\u001b[39;00m \u001b[38;5;21;01mos\u001b[39;00m\n",
      "\u001b[0;31mModuleNotFoundError\u001b[0m: No module named 'matplotlib'"
     ]
    }
   ],
   "source": [
    "import numpy as np\n",
    "import pandas as pd\n",
    "import matplotlib.pyplot as plt\n",
    "import seaborn as sns\n",
    "import os\n",
    "from IPython.display import Markdown, display\n",
    "from pandasql import sqldf\n",
    "import pandasql as psql\n",
    "import warnings\n",
    "warnings.filterwarnings('ignore')\n",
    "import plotly.graph_objects as go\n",
    "\n"
   ]
  },
  {
   "cell_type": "code",
   "execution_count": null,
   "metadata": {},
   "outputs": [],
   "source": []
  },
  {
   "cell_type": "code",
   "execution_count": null,
   "metadata": {
    "id": "E8HdT5Seoy5T"
   },
   "outputs": [],
   "source": [
    "## 4 Data Wrangling"
   ]
  },
  {
   "cell_type": "markdown",
   "metadata": {
    "id": "4vXgg5_noy5T"
   },
   "source": [
    "### 4.1 Gathering Data"
   ]
  },
  {
   "cell_type": "markdown",
   "metadata": {
    "id": "MiIlaR-6oy5U"
   },
   "source": [
    "#### 4.1.1 Load data"
   ]
  },
  {
   "cell_type": "markdown",
   "metadata": {
    "id": "JowbJKfLoy5U"
   },
   "source": [
    "##### 4.1.1.1 Menentukan Direktori yang di tuju"
   ]
  },
  {
   "cell_type": "code",
   "execution_count": 13,
   "metadata": {},
   "outputs": [
    {
     "ename": "NameError",
     "evalue": "name 'os' is not defined",
     "output_type": "error",
     "traceback": [
      "\u001b[0;31m---------------------------------------------------------------------------\u001b[0m",
      "\u001b[0;31mNameError\u001b[0m                                 Traceback (most recent call last)",
      "Cell \u001b[0;32mIn[13], line 1\u001b[0m\n\u001b[0;32m----> 1\u001b[0m current_dir \u001b[38;5;241m=\u001b[39m \u001b[43mos\u001b[49m\u001b[38;5;241m.\u001b[39mgetcwd()\n\u001b[1;32m      3\u001b[0m csv_files \u001b[38;5;241m=\u001b[39m [\n\u001b[1;32m      4\u001b[0m     \u001b[38;5;124m\"\u001b[39m\u001b[38;5;124mPRSA_Data_Aotizhongxin_20130301-20170228.csv\u001b[39m\u001b[38;5;124m\"\u001b[39m,\n\u001b[1;32m      5\u001b[0m     \u001b[38;5;124m\"\u001b[39m\u001b[38;5;124mPRSA_Data_Changping_20130301-20170228.csv\u001b[39m\u001b[38;5;124m\"\u001b[39m,\n\u001b[0;32m   (...)\u001b[0m\n\u001b[1;32m     15\u001b[0m     \u001b[38;5;124m\"\u001b[39m\u001b[38;5;124mPRSA_Data_Wanshouxigong_20130301-20170228.csv\u001b[39m\u001b[38;5;124m\"\u001b[39m\n\u001b[1;32m     16\u001b[0m ]\n\u001b[1;32m     18\u001b[0m dataframes \u001b[38;5;241m=\u001b[39m {}\n",
      "\u001b[0;31mNameError\u001b[0m: name 'os' is not defined"
     ]
    }
   ],
   "source": [
    "current_dir = os.getcwd()\n",
    "\n",
    "csv_files = [\n",
    "    \"PRSA_Data_Aotizhongxin_20130301-20170228.csv\",\n",
    "    \"PRSA_Data_Changping_20130301-20170228.csv\",\n",
    "    \"PRSA_Data_Dingling_20130301-20170228.csv\",\n",
    "    \"PRSA_Data_Dongsi_20130301-20170228.csv\",\n",
    "    \"PRSA_Data_Guanyuan_20130301-20170228.csv\",\n",
    "    \"PRSA_Data_Gucheng_20130301-20170228.csv\",\n",
    "    \"PRSA_Data_Huairou_20130301-20170228.csv\",\n",
    "    \"PRSA_Data_Nongzhanguan_20130301-20170228.csv\",\n",
    "    \"PRSA_Data_Shunyi_20130301-20170228.csv\",\n",
    "    \"PRSA_Data_Tiantan_20130301-20170228.csv\",\n",
    "    \"PRSA_Data_Wanliu_20130301-20170228.csv\",\n",
    "    \"PRSA_Data_Wanshouxigong_20130301-20170228.csv\"\n",
    "]\n",
    "\n",
    "dataframes = {}\n",
    "for csv_file in csv_files:\n",
    "    file_path = os.path.join(current_dir, \"data\", csv_file)  # Update directory here\n",
    "\n",
    "    if os.path.exists(file_path):\n",
    "        print(f\"File {csv_file} ditemukan di {file_path}\")\n",
    "        try:\n",
    "            df = pd.read_csv(file_path)\n",
    "            location = csv_file.split('_')[2]\n",
    "            dataframes[location] = df\n",
    "        except Exception as e:\n",
    "            print(f\"Terjadi kesalahan saat membaca file {csv_file}: {e}\")\n",
    "    else:\n",
    "        print(f\"File {csv_file} TIDAK ditemukan di {file_path}\")\n"
   ]
  },
  {
   "cell_type": "code",
   "execution_count": 12,
   "metadata": {},
   "outputs": [
    {
     "ename": "NameError",
     "evalue": "name 'dataframes' is not defined",
     "output_type": "error",
     "traceback": [
      "\u001b[0;31m---------------------------------------------------------------------------\u001b[0m",
      "\u001b[0;31mNameError\u001b[0m                                 Traceback (most recent call last)",
      "Cell \u001b[0;32mIn[12], line 1\u001b[0m\n\u001b[0;32m----> 1\u001b[0m aotizhongxin_df \u001b[38;5;241m=\u001b[39m \u001b[43mdataframes\u001b[49m[\u001b[38;5;124m'\u001b[39m\u001b[38;5;124mAotizhongxin\u001b[39m\u001b[38;5;124m'\u001b[39m]\n\u001b[1;32m      3\u001b[0m changping_df \u001b[38;5;241m=\u001b[39m dataframes[\u001b[38;5;124m'\u001b[39m\u001b[38;5;124mChangping\u001b[39m\u001b[38;5;124m'\u001b[39m]\n\u001b[1;32m      5\u001b[0m dingling_df \u001b[38;5;241m=\u001b[39m dataframes[\u001b[38;5;124m'\u001b[39m\u001b[38;5;124mDingling\u001b[39m\u001b[38;5;124m'\u001b[39m]\n",
      "\u001b[0;31mNameError\u001b[0m: name 'dataframes' is not defined"
     ]
    }
   ],
   "source": [
    "aotizhongxin_df = dataframes['Aotizhongxin']\n",
    "\n",
    "changping_df = dataframes['Changping']\n",
    "\n",
    "dingling_df = dataframes['Dingling']\n",
    "\n",
    "dongsi_df = dataframes['Dongsi']\n",
    "\n",
    "guanyuan_df = dataframes['Guanyuan']\n",
    "\n",
    "gucheng_df = dataframes['Gucheng']\n",
    "\n",
    "huairou_df = dataframes ['Huairou']\n",
    "\n",
    "Nongzhanguan_df = dataframes['Nongzhanguan']\n",
    "\n",
    "shunyi_df = dataframes['Shunyi']\n",
    "\n",
    "tiantian_df = dataframes['Tiantan']\n",
    "\n",
    "wanliu_df = dataframes['Wanliu']\n",
    "\n",
    "Wanshouxigong_df = dataframes['Wanshouxigong']\n"
   ]
  },
  {
   "cell_type": "markdown",
   "metadata": {
    "id": "4S8n_pjqoy5V"
   },
   "source": [
    "##### 4.1.1.2 Melihat Info Data"
   ]
  },
  {
   "cell_type": "markdown",
   "metadata": {
    "id": "eWzWkE2doy5W"
   },
   "source": [
    "###### 4.1.1.2.1 Aotizhongxin"
   ]
  },
  {
   "cell_type": "code",
   "execution_count": null,
   "metadata": {
    "colab": {
     "base_uri": "https://localhost:8080/",
     "height": 226
    },
    "id": "G9vNCSrhoy5W",
    "outputId": "5956104b-5b29-4741-b71f-e7fd735153c5"
   },
   "outputs": [],
   "source": [
    "aotizhongxin_df.head(5)"
   ]
  },
  {
   "cell_type": "code",
   "execution_count": null,
   "metadata": {
    "colab": {
     "base_uri": "https://localhost:8080/",
     "height": 320
    },
    "id": "vf4HYB1Coy5X",
    "outputId": "063e4dd5-dfd9-4d0f-98f1-a19083b025a4"
   },
   "outputs": [],
   "source": [
    "aotizhongxin_df.describe()"
   ]
  },
  {
   "cell_type": "markdown",
   "metadata": {
    "id": "38TO5ZPkoy5Y"
   },
   "source": [
    "###### 4.1.1.2.2 changping"
   ]
  },
  {
   "cell_type": "code",
   "execution_count": null,
   "metadata": {
    "id": "_MZSTVy2oy5Y",
    "outputId": "eefcb693-ba78-4b51-a9c4-76c8a7d1e0f5"
   },
   "outputs": [],
   "source": [
    "changping_df.head(5)"
   ]
  },
  {
   "cell_type": "code",
   "execution_count": null,
   "metadata": {
    "id": "vmztb-lNoy5Y",
    "outputId": "68c2663e-b3e9-4b83-f757-24e753fd9431"
   },
   "outputs": [],
   "source": [
    "dingling_df.head(5)"
   ]
  },
  {
   "cell_type": "code",
   "execution_count": null,
   "metadata": {
    "id": "apHgEk3ooy5Z",
    "outputId": "9bc0933e-845d-451d-92d3-c5823ee67d01"
   },
   "outputs": [],
   "source": [
    "dongsi_df.head(5)"
   ]
  },
  {
   "cell_type": "code",
   "execution_count": null,
   "metadata": {
    "id": "LXcVlsbnoy5Z",
    "outputId": "e78bddfa-bb2d-4000-fcc2-a5bec2c5b4cd"
   },
   "outputs": [],
   "source": [
    "guanyuan_df.head(5)"
   ]
  },
  {
   "cell_type": "code",
   "execution_count": null,
   "metadata": {
    "id": "k_fFB3gvoy5a",
    "outputId": "5f0d8c22-fd46-476f-9a18-03235b226e22"
   },
   "outputs": [],
   "source": [
    "guanyuan_df.head(5)"
   ]
  },
  {
   "cell_type": "code",
   "execution_count": null,
   "metadata": {
    "id": "S07PQ2-3oy5a",
    "outputId": "7fa085f5-d55e-4d43-a16b-46316c46ffdc"
   },
   "outputs": [],
   "source": [
    "huairou_df.head(5)"
   ]
  },
  {
   "cell_type": "code",
   "execution_count": null,
   "metadata": {
    "id": "OKUe-bq_oy5b",
    "outputId": "8b4ecb29-1e9a-4d11-c1f5-6425e2e263dc"
   },
   "outputs": [],
   "source": [
    "Nongzhanguan_df.head(5)"
   ]
  },
  {
   "cell_type": "code",
   "execution_count": null,
   "metadata": {
    "id": "QJcuoGdMoy5b",
    "outputId": "5b00a5de-a734-439f-cf0a-f3fdb949578b"
   },
   "outputs": [],
   "source": [
    "shunyi_df.head(5)"
   ]
  },
  {
   "cell_type": "code",
   "execution_count": null,
   "metadata": {
    "id": "Ff9mq0DUoy5d",
    "outputId": "842a6072-d63c-4158-d88a-c13cf4f3af2f"
   },
   "outputs": [],
   "source": [
    "tiantian_df.head(5)"
   ]
  },
  {
   "cell_type": "code",
   "execution_count": null,
   "metadata": {
    "id": "Zm2jy-Cioy5e",
    "outputId": "7fbc1ccf-e9ea-4f43-8262-1bab52c25b09"
   },
   "outputs": [],
   "source": [
    "wanliu_df.head(5)"
   ]
  },
  {
   "cell_type": "code",
   "execution_count": null,
   "metadata": {
    "id": "ZYmVNtoeoy5e",
    "outputId": "87cff8e2-3430-4317-97e5-38917f2a0e2d"
   },
   "outputs": [],
   "source": [
    "Wanshouxigong_df.head(5)"
   ]
  },
  {
   "cell_type": "markdown",
   "metadata": {
    "id": "ANtIdzwboy5e"
   },
   "source": [
    "## 5 Assessing Data"
   ]
  },
  {
   "cell_type": "markdown",
   "metadata": {
    "id": "XhQBVLlNoy5f"
   },
   "source": [
    "### 5.1 aotizhongxin"
   ]
  },
  {
   "cell_type": "code",
   "execution_count": null,
   "metadata": {
    "id": "tNSXsrY7oy5f",
    "outputId": "ddceaf57-72ab-4ca4-f19f-eaceefae4958"
   },
   "outputs": [],
   "source": [
    "aotizhongxin_df.info()"
   ]
  },
  {
   "cell_type": "code",
   "execution_count": null,
   "metadata": {
    "id": "CnlFdVj9oy5f",
    "outputId": "f48ab5a2-5f7c-4165-f1cf-c45eb29c6e18"
   },
   "outputs": [],
   "source": [
    "aotizhongxin_df.isnull().sum()"
   ]
  },
  {
   "cell_type": "code",
   "execution_count": null,
   "metadata": {
    "id": "R-s31qNdoy5f",
    "outputId": "e14c608d-a8d5-45b6-df94-386b200faec3"
   },
   "outputs": [],
   "source": [
    "changping_df.info()"
   ]
  },
  {
   "cell_type": "code",
   "execution_count": null,
   "metadata": {
    "id": "0HGeAQrloy5g",
    "outputId": "e99dcadc-01a9-46e8-b905-e36c1c7f417e"
   },
   "outputs": [],
   "source": [
    "aotizhongxin_df.duplicated()"
   ]
  },
  {
   "cell_type": "code",
   "execution_count": null,
   "metadata": {
    "id": "PuTMWHqnoy5g",
    "outputId": "ced75231-2655-4313-b303-e1f902922fe1"
   },
   "outputs": [],
   "source": [
    "\n",
    "def cek_nilai_tidak_akurat(df):\n",
    "    print(\"Pemeriksaan nilai tidak akurat:\")\n",
    "\n",
    "    # Definisikan rentang nilai yang dianggap akurat untuk setiap kolom\n",
    "    rentang_akurat = {\n",
    "        'PM2.5': (0, 1000),\n",
    "        'PM10': (0, 1500),\n",
    "        'SO2': (0, 2000),\n",
    "        'NO2': (0, 2000),\n",
    "        'CO': (0, 200),\n",
    "        'O3': (0, 500),\n",
    "        'TEMP': (-50, 50),\n",
    "        'PRES': (800, 1100),\n",
    "        'DEWP': (-50, 50),\n",
    "        'RAIN': (0, 500),\n",
    "        'WSPM': (0, 100)\n",
    "    }\n",
    "\n",
    "    hasil_tidak_akurat = {}\n",
    "\n",
    "    for kolom, (batas_bawah, batas_atas) in rentang_akurat.items():\n",
    "        if kolom in df.columns:\n",
    "            nilai_tidak_akurat = df[(df[kolom] < batas_bawah) | (df[kolom] > batas_atas)]\n",
    "            if not nilai_tidak_akurat.empty:\n",
    "                hasil_tidak_akurat[kolom] = nilai_tidak_akurat[[kolom]]\n",
    "                print(f\"\\nNilai tidak akurat ditemukan di kolom {kolom}:\")\n",
    "                print(nilai_tidak_akurat[[kolom]])\n",
    "\n",
    "    if not hasil_tidak_akurat:\n",
    "        print(\"Tidak ditemukan nilai yang tidak akurat dalam rentang yang ditentukan.\")\n",
    "\n",
    "    return hasil_tidak_akurat\n",
    "\n",
    "# Menjalankan fungsi\n",
    "hasil_tidak_akurat = cek_nilai_tidak_akurat(aotizhongxin_df)"
   ]
  },
  {
   "cell_type": "code",
   "execution_count": null,
   "metadata": {
    "id": "cxK1adK8oy5h",
    "outputId": "3df522a2-3aae-4db1-8034-9f5b760e9c18"
   },
   "outputs": [],
   "source": [
    "\n",
    "def cek_nilai_tidak_konsisten(df):\n",
    "    print(\"Pemeriksaan nilai tidak konsisten:\")\n",
    "\n",
    "    hasil_tidak_konsisten = {}\n",
    "\n",
    "    # 1. Memeriksa inkonsistensi antara PM2.5 dan PM10\n",
    "    if 'PM2.5' in df.columns and 'PM10' in df.columns:\n",
    "        pm_tidak_konsisten = df[df['PM2.5'] > df['PM10']]\n",
    "        if not pm_tidak_konsisten.empty:\n",
    "            hasil_tidak_konsisten['PM2.5 > PM10'] = pm_tidak_konsisten[['PM2.5', 'PM10']]\n",
    "            print(\"\\nDitemukan nilai PM2.5 yang lebih besar dari PM10:\")\n",
    "            print(pm_tidak_konsisten[['PM2.5', 'PM10']])\n",
    "\n",
    "    # 2. Memeriksa inkonsistensi dalam arah angin\n",
    "    if 'wd' in df.columns:\n",
    "        arah_angin_valid = ['N', 'NNE', 'NE', 'ENE', 'E', 'ESE', 'SE', 'SSE',\n",
    "                            'S', 'SSW', 'SW', 'WSW', 'W', 'WNW', 'NW', 'NNW']\n",
    "        arah_angin_tidak_valid = df[~df['wd'].isin(arah_angin_valid)]\n",
    "        if not arah_angin_tidak_valid.empty:\n",
    "            hasil_tidak_konsisten['Arah Angin Tidak Valid'] = arah_angin_tidak_valid[['wd']]\n",
    "            print(\"\\nDitemukan arah angin yang tidak valid:\")\n",
    "            print(arah_angin_tidak_valid[['wd']])\n",
    "\n",
    "    # 3. Memeriksa inkonsistensi dalam suhu dan titik embun\n",
    "    if 'TEMP' in df.columns and 'DEWP' in df.columns:\n",
    "        suhu_tidak_konsisten = df[df['DEWP'] > df['TEMP']]\n",
    "        if not suhu_tidak_konsisten.empty:\n",
    "            hasil_tidak_konsisten['DEWP > TEMP'] = suhu_tidak_konsisten[['TEMP', 'DEWP']]\n",
    "            print(\"\\nDitemukan titik embun yang lebih tinggi dari suhu:\")\n",
    "            print(suhu_tidak_konsisten[['TEMP', 'DEWP']])\n",
    "\n",
    "    # 4. Memeriksa inkonsistensi dalam kecepatan angin\n",
    "    if 'WSPM' in df.columns:\n",
    "        kecepatan_angin_negatif = df[df['WSPM'] < 0]\n",
    "        if not kecepatan_angin_negatif.empty:\n",
    "            hasil_tidak_konsisten['Kecepatan Angin Negatif'] = kecepatan_angin_negatif[['WSPM']]\n",
    "            print(\"\\nDitemukan kecepatan angin negatif:\")\n",
    "            print(kecepatan_angin_negatif[['WSPM']])\n",
    "\n",
    "    if not hasil_tidak_konsisten:\n",
    "        print(\"Tidak ditemukan nilai yang tidak konsisten berdasarkan kriteria yang diperiksa.\")\n",
    "\n",
    "    return hasil_tidak_konsisten\n",
    "\n",
    "# Menjalankan fungsi\n",
    "hasil_tidak_konsisten = cek_nilai_tidak_konsisten(aotizhongxin_df)"
   ]
  },
  {
   "cell_type": "code",
   "execution_count": null,
   "metadata": {
    "id": "58yDXVjUoy5h",
    "outputId": "cd1922fc-9993-4f7e-ca71-5243b9da7612"
   },
   "outputs": [],
   "source": [
    "import pandas as pd\n",
    "import numpy as np\n",
    "import matplotlib.pyplot as plt\n",
    "\n",
    "def cek_outlier(df):\n",
    "    print(\"Pemeriksaan outlier menggunakan metode IQR:\")\n",
    "\n",
    "    # Pilih kolom numerik\n",
    "    kolom_numerik = df.select_dtypes(include=[np.number]).columns\n",
    "\n",
    "    hasil_outlier = {}\n",
    "\n",
    "    for kolom in kolom_numerik:\n",
    "        Q1 = df[kolom].quantile(0.25)\n",
    "        Q3 = df[kolom].quantile(0.75)\n",
    "        IQR = Q3 - Q1\n",
    "\n",
    "        batas_bawah = Q1 - 1.5 * IQR\n",
    "        batas_atas = Q3 + 1.5 * IQR\n",
    "\n",
    "        outlier = df[(df[kolom] < batas_bawah) | (df[kolom] > batas_atas)]\n",
    "\n",
    "        if not outlier.empty:\n",
    "            hasil_outlier[kolom] = outlier[[kolom]]\n",
    "            print(f\"\\nOutlier ditemukan di kolom {kolom}:\")\n",
    "            print(f\"Jumlah outlier: {len(outlier)}\")\n",
    "            print(f\"Persentase outlier: {(len(outlier) / len(df)) * 100:.2f}%\")\n",
    "            print(f\"Range nilai outlier: {outlier[kolom].min()} hingga {outlier[kolom].max()}\")\n",
    "\n",
    "\n",
    "    if not hasil_outlier:\n",
    "        print(\"Tidak ditemukan outlier berdasarkan metode IQR.\")\n",
    "\n",
    "    return hasil_outlier\n",
    "\n",
    "# Menjalankan fungsi\n",
    "hasil_outlier = cek_outlier(aotizhongxin_df)"
   ]
  },
  {
   "cell_type": "code",
   "execution_count": null,
   "metadata": {
    "id": "hBOI4jhmoy5h"
   },
   "outputs": [],
   "source": [
    "\n",
    "\n",
    "# Buat tabel markdown\n",
    "table = \"\"\"\n",
    "| Dataset     | Tipe data                                    | Missing value                                     | Duplicate data                     | Inaccurate value                       |\n",
    "|-------------|----------------------------------------------|---------------------------------------------------|-------------------------------------|----------------------------------------|\n",
    "| aotizhongxin | <br>Terdapat kesalahan tipe :<br>1.data(hour,day,month,year)menjadi date_times<br><br>2.colom wd menjadi categori <br>3. station menjadi categori<br>| Terdapat   missing values:    <br> 1. 925 missing values pada PM2.5. <br>    | Terdapat 11 data yang duplikat.      | Terdapat inaccurate value pada kolom age. |\n",
    "| orders_df   | Terdapat kesalahan tipe data untuk kolom order_date & delivery_date. | - | -                                   | -                                      |\n",
    "| product_df  | -                                            | -                                                 | Terdapat 6 data yang duplikat.      | -                                      |\n",
    "| sales_df    | -                                            | Terdapat 19 missing value pada kolom total_price. | -                                   | -                                      |\n",
    "\"\"\"\n",
    "\n",
    "\n"
   ]
  },
  {
   "cell_type": "code",
   "execution_count": null,
   "metadata": {
    "id": "XP7-D7pToy5i",
    "outputId": "2763b3df-f086-4f3a-a848-9455d5e9d6c4"
   },
   "outputs": [],
   "source": [
    "display(Markdown(table))\n"
   ]
  },
  {
   "cell_type": "markdown",
   "metadata": {
    "id": "a1Lq4w0aoy5i"
   },
   "source": [
    "## 6 Cleaning Data"
   ]
  },
  {
   "cell_type": "code",
   "execution_count": null,
   "metadata": {},
   "outputs": [],
   "source": [
    "dataframes = {\n",
    "    'Aotizhongxin': aotizhongxin_df,\n",
    "    'Changping': changping_df,\n",
    "    'Dingling': dingling_df,\n",
    "    'Dongsi': dongsi_df,\n",
    "    'Guanyuan': guanyuan_df,\n",
    "    'Gucheng': gucheng_df,\n",
    "    'Huairou': huairou_df,\n",
    "    'Nongzhanguan': Nongzhanguan_df,\n",
    "    'Shunyi': shunyi_df,\n",
    "    'Tiantan': tiantian_df,\n",
    "    'Wanliu': wanliu_df,\n",
    "    'Wanshouxigong': Wanshouxigong_df\n",
    "}"
   ]
  },
  {
   "cell_type": "code",
   "execution_count": null,
   "metadata": {},
   "outputs": [],
   "source": [
    "for name, df in dataframes.items():\n",
    "    dataframes[name] = preprocess_dataframe(df)"
   ]
  },
  {
   "cell_type": "markdown",
   "metadata": {
    "id": "geNajSrNoy5n"
   },
   "source": [
    "## 7 Exploratory Data Analysis (EDA)"
   ]
  },
  {
   "cell_type": "markdown",
   "metadata": {
    "id": "xxF6w5zhoy5n"
   },
   "source": [
    "### 7.1 Explore"
   ]
  },
  {
   "cell_type": "markdown",
   "metadata": {
    "id": "0M4oOQnXoy5n"
   },
   "source": [
    "#### 7.1.1 Aoti"
   ]
  },
  {
   "cell_type": "markdown",
   "metadata": {
    "id": "EIZyPrue0phQ"
   },
   "source": [
    "##### 7.1.1.1 Melihat korelasi dari tiap tiap data frame yang ada"
   ]
  },
  {
   "cell_type": "code",
   "execution_count": null,
   "metadata": {
    "colab": {
     "base_uri": "https://localhost:8080/",
     "height": 832
    },
    "id": "lPV1nFuN2zwN",
    "outputId": "f51c2bd8-c032-40e9-a58f-6e9582e8f07c"
   },
   "outputs": [],
   "source": [
    "aotizhongxin_df.corr(numeric_only=True)"
   ]
  },
  {
   "cell_type": "markdown",
   "metadata": {
    "id": "C2UMuw9c4E_2"
   },
   "source": [
    "##### 7.1.1.2 Analisis Polutas PM 2,5 dan PM10"
   ]
  },
  {
   "cell_type": "markdown",
   "metadata": {
    "id": "DjMHUE5h4dSt"
   },
   "source": [
    "\n",
    "\n",
    "1.   Polutan Per Hari\n",
    "2.   Polutan Per bulan\n",
    "3.   Polutan Per Minggu\n",
    "4.   Polutan Per Tahun\n",
    "\n",
    "\n",
    "\n"
   ]
  },
  {
   "cell_type": "code",
   "execution_count": null,
   "metadata": {
    "id": "JwCdZtpv6wnH"
   },
   "outputs": [],
   "source": [
    "# menghitung polutan per hari dari tahun 2013 bulan 03"
   ]
  },
  {
   "cell_type": "code",
   "execution_count": null,
   "metadata": {
    "colab": {
     "base_uri": "https://localhost:8080/",
     "height": 206
    },
    "id": "3_vHK12K7R7p",
    "outputId": "8e90c995-b43e-4a4a-ac50-c9e24b264a4e"
   },
   "outputs": [],
   "source": [
    "filtered_df = aotizhongxin_df.query('year == 2013 and month == 3 and day >= 1 and day <= 30')\n",
    "\n",
    "partikulasi_polusi_harian_2013_03 = (\n",
    "    filtered_df.groupby(['year', 'month', 'day'])\n",
    "    .agg(avg_PM25=('PM2.5', 'mean'), avg_PM10=('PM10', 'mean'))\n",
    "    .reset_index()\n",
    ")\n",
    "\n",
    "partikulasi_polusi_harian_2013_03['avg_PM25'] = partikulasi_polusi_harian_2013_03['avg_PM25'].round()\n",
    "partikulasi_polusi_harian_2013_03['avg_PM10'] = partikulasi_polusi_harian_2013_03['avg_PM10'].round()\n",
    "\n",
    "# Menampilkan hasil\n",
    "partikulasi_polusi_harian_2013_03.head()"
   ]
  },
  {
   "cell_type": "code",
   "execution_count": null,
   "metadata": {
    "id": "D73LCFoy8-tW"
   },
   "outputs": [],
   "source": [
    "# menghitung polutan per hari dari tahun 2013 bulan 04"
   ]
  },
  {
   "cell_type": "code",
   "execution_count": null,
   "metadata": {
    "colab": {
     "base_uri": "https://localhost:8080/",
     "height": 206
    },
    "id": "ZntsH-hI9WVK",
    "outputId": "23230391-b589-4365-cceb-cca78a962b99"
   },
   "outputs": [],
   "source": [
    "filtered_df = aotizhongxin_df.query('year == 2013 and month == 4 and day >= 1 and day <= 30')\n",
    "\n",
    "partikulasi_polusi_harian_2013_04 = (\n",
    "    filtered_df.groupby(['year', 'month', 'day'])\n",
    "    .agg(avg_PM25=('PM2.5', 'mean'), avg_PM10=('PM10', 'mean'))\n",
    "    .reset_index()\n",
    ")\n",
    "\n",
    "partikulasi_polusi_harian_2013_04['avg_PM25'] = partikulasi_polusi_harian_2013_04['avg_PM25'].round()\n",
    "partikulasi_polusi_harian_2013_04['avg_PM10'] = partikulasi_polusi_harian_2013_04['avg_PM10'].round()\n",
    "\n",
    "# Menampilkan hasil\n",
    "partikulasi_polusi_harian_2013_04.head()"
   ]
  },
  {
   "cell_type": "code",
   "execution_count": null,
   "metadata": {
    "id": "AARFHsFP-TsI"
   },
   "outputs": [],
   "source": [
    "# menghitung polutan per hari dari tahun 2013 bulan 05"
   ]
  },
  {
   "cell_type": "code",
   "execution_count": null,
   "metadata": {
    "colab": {
     "base_uri": "https://localhost:8080/",
     "height": 206
    },
    "id": "Q9pNCYSWFS_P",
    "outputId": "1485e4d1-1941-49be-e9c7-8f5e443c5ab2"
   },
   "outputs": [],
   "source": [
    "filtered_df = aotizhongxin_df.query('year == 2013 and month == 5 and day >= 1 and day <= 30')\n",
    "\n",
    "partikulasi_polusi_harian_2013_05 = (\n",
    "    filtered_df.groupby(['year', 'month', 'day'])\n",
    "    .agg(avg_PM25=('PM2.5', 'mean'), avg_PM10=('PM10', 'mean'))\n",
    "    .reset_index()\n",
    ")\n",
    "\n",
    "partikulasi_polusi_harian_2013_05['avg_PM25'] = partikulasi_polusi_harian_2013_05['avg_PM25'].round()\n",
    "partikulasi_polusi_harian_2013_05['avg_PM10'] = partikulasi_polusi_harian_2013_05['avg_PM10'].round()\n",
    "\n",
    "# Menampilkan hasil\n",
    "partikulasi_polusi_harian_2013_05.head()"
   ]
  },
  {
   "cell_type": "code",
   "execution_count": null,
   "metadata": {
    "id": "nLrFEVL4FbpF"
   },
   "outputs": [],
   "source": [
    "# menghitung polutan per hari dari tahun 2013 bulan 06"
   ]
  },
  {
   "cell_type": "code",
   "execution_count": null,
   "metadata": {
    "colab": {
     "base_uri": "https://localhost:8080/",
     "height": 206
    },
    "id": "d9UTQQG1FkOM",
    "outputId": "3188be41-ae04-463c-cb21-7757d26724b0"
   },
   "outputs": [],
   "source": [
    "filtered_df = aotizhongxin_df.query('year == 2013 and month == 6 and day >= 1 and day <= 30')\n",
    "\n",
    "partikulasi_polusi_harian_2013_06 = (\n",
    "    filtered_df.groupby(['year', 'month', 'day'])\n",
    "    .agg(avg_PM25=('PM2.5', 'mean'), avg_PM10=('PM10', 'mean'))\n",
    "    .reset_index()\n",
    ")\n",
    "\n",
    "partikulasi_polusi_harian_2013_06['avg_PM25'] = partikulasi_polusi_harian_2013_06['avg_PM25'].round()\n",
    "partikulasi_polusi_harian_2013_06['avg_PM10'] = partikulasi_polusi_harian_2013_06['avg_PM10'].round()\n",
    "\n",
    "# Menampilkan hasil\n",
    "partikulasi_polusi_harian_2013_06.head()"
   ]
  },
  {
   "cell_type": "code",
   "execution_count": null,
   "metadata": {
    "id": "nSRV-J37FbfH"
   },
   "outputs": [],
   "source": [
    "# menghitung polutan per hari dari tahun 2013 bulan 07"
   ]
  },
  {
   "cell_type": "code",
   "execution_count": null,
   "metadata": {
    "colab": {
     "base_uri": "https://localhost:8080/",
     "height": 206
    },
    "id": "I5pVFPqKFko2",
    "outputId": "358da273-e1d7-4d30-c664-a0dfde15ffb9"
   },
   "outputs": [],
   "source": [
    "filtered_df = aotizhongxin_df.query('year == 2013 and month == 7 and day >= 1 and day <= 30')\n",
    "\n",
    "partikulasi_polusi_harian_2013_07 = (\n",
    "    filtered_df.groupby(['year', 'month', 'day'])\n",
    "    .agg(avg_PM25=('PM2.5', 'mean'), avg_PM10=('PM10', 'mean'))\n",
    "    .reset_index()\n",
    ")\n",
    "\n",
    "partikulasi_polusi_harian_2013_07['avg_PM25'] = partikulasi_polusi_harian_2013_07['avg_PM25'].round()\n",
    "partikulasi_polusi_harian_2013_07['avg_PM10'] = partikulasi_polusi_harian_2013_07['avg_PM10'].round()\n",
    "\n",
    "# Menampilkan hasil\n",
    "partikulasi_polusi_harian_2013_07.head()"
   ]
  },
  {
   "cell_type": "code",
   "execution_count": null,
   "metadata": {
    "id": "LcHcCwBCFbLq"
   },
   "outputs": [],
   "source": [
    "# menghitung polutan per hari dari tahun 2013 bulan 08"
   ]
  },
  {
   "cell_type": "code",
   "execution_count": null,
   "metadata": {
    "colab": {
     "base_uri": "https://localhost:8080/",
     "height": 206
    },
    "id": "DywK7lgtHuCS",
    "outputId": "70ce51f4-d06c-4eca-c277-0711e30be43f"
   },
   "outputs": [],
   "source": [
    "filtered_df = aotizhongxin_df.query('year == 2013 and month == 8 and day >= 1 and day <= 30')\n",
    "\n",
    "partikulasi_polusi_harian_2013_08 = (\n",
    "    filtered_df.groupby(['year', 'month', 'day'])\n",
    "    .agg(avg_PM25=('PM2.5', 'mean'), avg_PM10=('PM10', 'mean'))\n",
    "    .reset_index()\n",
    ")\n",
    "\n",
    "partikulasi_polusi_harian_2013_08['avg_PM25'] = partikulasi_polusi_harian_2013_08['avg_PM25'].round()\n",
    "partikulasi_polusi_harian_2013_08['avg_PM10'] = partikulasi_polusi_harian_2013_08['avg_PM10'].round()\n",
    "\n",
    "# Menampilkan hasil\n",
    "partikulasi_polusi_harian_2013_08.head()"
   ]
  },
  {
   "cell_type": "code",
   "execution_count": null,
   "metadata": {
    "id": "sLwtttV9Fa-u"
   },
   "outputs": [],
   "source": [
    "# menghitung polutan per hari dari tahun 2013 bulan 09"
   ]
  },
  {
   "cell_type": "code",
   "execution_count": null,
   "metadata": {
    "colab": {
     "base_uri": "https://localhost:8080/",
     "height": 206
    },
    "id": "PFchvhdUFlos",
    "outputId": "296c85ce-e0a5-48f0-9896-c98cb68a6483"
   },
   "outputs": [],
   "source": [
    "filtered_df = aotizhongxin_df.query('year == 2013 and month == 9 and day >= 1 and day <= 30')\n",
    "\n",
    "partikulasi_polusi_harian_2013_09 = (\n",
    "    filtered_df.groupby(['year', 'month', 'day'])\n",
    "    .agg(avg_PM25=('PM2.5', 'mean'), avg_PM10=('PM10', 'mean'))\n",
    "    .reset_index()\n",
    ")\n",
    "\n",
    "partikulasi_polusi_harian_2013_09['avg_PM25'] = partikulasi_polusi_harian_2013_09['avg_PM25'].round()\n",
    "partikulasi_polusi_harian_2013_09['avg_PM10'] = partikulasi_polusi_harian_2013_09['avg_PM10'].round()\n",
    "\n",
    "# Menampilkan hasil\n",
    "partikulasi_polusi_harian_2013_09.head()"
   ]
  },
  {
   "cell_type": "code",
   "execution_count": null,
   "metadata": {
    "id": "2vdPTwzVFmPo"
   },
   "outputs": [],
   "source": [
    "# menghitung polutan per hari dari tahun 2013 bulan 10"
   ]
  },
  {
   "cell_type": "code",
   "execution_count": null,
   "metadata": {
    "colab": {
     "base_uri": "https://localhost:8080/",
     "height": 206
    },
    "id": "dcsVxbbfHwTq",
    "outputId": "c6f4e247-a3c0-497d-cee6-c1a346d747d9"
   },
   "outputs": [],
   "source": [
    "filtered_df = aotizhongxin_df.query('year == 2013 and month == 5 and day >= 1 and day <= 30')\n",
    "\n",
    "partikulasi_polusi_harian_2013_10 = (\n",
    "    filtered_df.groupby(['year', 'month', 'day'])\n",
    "    .agg(avg_PM25=('PM2.5', 'mean'), avg_PM10=('PM10', 'mean'))\n",
    "    .reset_index()\n",
    ")\n",
    "\n",
    "partikulasi_polusi_harian_2013_10['avg_PM25'] = partikulasi_polusi_harian_2013_10['avg_PM25'].round()\n",
    "partikulasi_polusi_harian_2013_10['avg_PM10'] = partikulasi_polusi_harian_2013_10['avg_PM10'].round()\n",
    "\n",
    "# Menampilkan hasil\n",
    "partikulasi_polusi_harian_2013_10.head()"
   ]
  },
  {
   "cell_type": "code",
   "execution_count": null,
   "metadata": {
    "id": "qKpfDp_8Fnla"
   },
   "outputs": [],
   "source": [
    "# menghitung polutan per hari dari tahun 2013 bulan 11"
   ]
  },
  {
   "cell_type": "code",
   "execution_count": null,
   "metadata": {
    "colab": {
     "base_uri": "https://localhost:8080/",
     "height": 206
    },
    "id": "BCG9yNg8Hxdk",
    "outputId": "36635627-7ae5-472c-adbb-5b3ffa4412cc"
   },
   "outputs": [],
   "source": [
    "filtered_df = aotizhongxin_df.query('year == 2013 and month == 11 and day >= 1 and day <= 30')\n",
    "\n",
    "partikulasi_polusi_harian_2013_11 = (\n",
    "    filtered_df.groupby(['year', 'month', 'day'])\n",
    "    .agg(avg_PM25=('PM2.5', 'mean'), avg_PM10=('PM10', 'mean'))\n",
    "    .reset_index()\n",
    ")\n",
    "\n",
    "partikulasi_polusi_harian_2013_11['avg_PM25'] = partikulasi_polusi_harian_2013_11['avg_PM25'].round()\n",
    "partikulasi_polusi_harian_2013_11['avg_PM10'] = partikulasi_polusi_harian_2013_11['avg_PM10'].round()\n",
    "\n",
    "# Menampilkan hasil\n",
    "partikulasi_polusi_harian_2013_11.head()"
   ]
  },
  {
   "cell_type": "code",
   "execution_count": null,
   "metadata": {
    "id": "cxT85by5Fohg"
   },
   "outputs": [],
   "source": [
    "# menghitung polutan per hari dari tahun 2013 bulan 12"
   ]
  },
  {
   "cell_type": "code",
   "execution_count": null,
   "metadata": {
    "colab": {
     "base_uri": "https://localhost:8080/",
     "height": 206
    },
    "id": "GHMzgW2o-Th9",
    "outputId": "4b533d76-b99d-4999-dd52-bbb875d73bc5"
   },
   "outputs": [],
   "source": [
    "filtered_df = aotizhongxin_df.query('year == 2013 and month == 12 and day >= 1 and day <= 30')\n",
    "\n",
    "partikulasi_polusi_harian_2013_12 = (\n",
    "    filtered_df.groupby(['year', 'month', 'day'])\n",
    "    .agg(avg_PM25=('PM2.5', 'mean'), avg_PM10=('PM10', 'mean'))\n",
    "    .reset_index()\n",
    ")\n",
    "\n",
    "partikulasi_polusi_harian_2013_12['avg_PM25'] = partikulasi_polusi_harian_2013_12['avg_PM25'].round()\n",
    "partikulasi_polusi_harian_2013_12['avg_PM10'] = partikulasi_polusi_harian_2013_12['avg_PM10'].round()\n",
    "\n",
    "# Menampilkan hasil\n",
    "partikulasi_polusi_harian_2013_12.head()"
   ]
  },
  {
   "cell_type": "code",
   "execution_count": null,
   "metadata": {
    "id": "LXUO4ST4Mlwj"
   },
   "outputs": [],
   "source": [
    "# menghitung polusi bulanan 2013 bulan 03 sampai 12"
   ]
  },
  {
   "cell_type": "code",
   "execution_count": null,
   "metadata": {
    "colab": {
     "base_uri": "https://localhost:8080/",
     "height": 206
    },
    "id": "YtLg-nPGmv00",
    "outputId": "6b9e0463-5251-4721-f9cf-aac821002333"
   },
   "outputs": [],
   "source": [
    "filtered_df = aotizhongxin_df.query('year == 2013 and month >= 3 and month <= 12')\n",
    "\n",
    "# Menghitung rata-rata PM2.5 dan PM10 per bulan\n",
    "aotizhongxin_partikulasi_polusi_bulanan_2013 = (\n",
    "    filtered_df.groupby(['year', 'month'])\n",
    "    .agg(avg_PM25=('PM2.5', 'mean'), avg_PM10=('PM10', 'mean'))\n",
    "    .reset_index()\n",
    ")\n",
    "\n",
    "# Membulatkan nilai rata-rata\n",
    "aotizhongxin_partikulasi_polusi_bulanan_2013['avg_PM25'] = aotizhongxin_partikulasi_polusi_bulanan_2013['avg_PM25'].round()\n",
    "aotizhongxin_partikulasi_polusi_bulanan_2013['avg_PM10'] = aotizhongxin_partikulasi_polusi_bulanan_2013['avg_PM10'].round()\n",
    "\n",
    "# Menampilkan hasil\n",
    "aotizhongxin_partikulasi_polusi_bulanan_2013.head()\n"
   ]
  },
  {
   "cell_type": "code",
   "execution_count": null,
   "metadata": {
    "id": "CmAUiUTbMrMJ"
   },
   "outputs": [],
   "source": [
    "# menghitung polusi bulanan 2014 bulan 1 sampai 12"
   ]
  },
  {
   "cell_type": "code",
   "execution_count": null,
   "metadata": {
    "colab": {
     "base_uri": "https://localhost:8080/",
     "height": 206
    },
    "id": "kFvak1E6MuJ7",
    "outputId": "6a1bf26a-dbea-413e-cc58-794ba8f7ac24"
   },
   "outputs": [],
   "source": [
    "filtered_df = aotizhongxin_df.query('year == 2014 and month >= 1 and month <= 12')\n",
    "\n",
    "# Menghitung rata-rata PM2.5 dan PM10 per bulan\n",
    "aotizhongxin_partikulasi_polusi_bulanan_2014 = (\n",
    "    filtered_df.groupby(['year', 'month'])\n",
    "    .agg(avg_PM25=('PM2.5', 'mean'), avg_PM10=('PM10', 'mean'))\n",
    "    .reset_index()\n",
    ")\n",
    "\n",
    "# Membulatkan nilai rata-rata\n",
    "aotizhongxin_partikulasi_polusi_bulanan_2014['avg_PM25'] = aotizhongxin_partikulasi_polusi_bulanan_2014['avg_PM25'].round()\n",
    "aotizhongxin_partikulasi_polusi_bulanan_2014['avg_PM10'] = aotizhongxin_partikulasi_polusi_bulanan_2014['avg_PM10'].round()\n",
    "\n",
    "# Menampilkan hasil\n",
    "aotizhongxin_partikulasi_polusi_bulanan_2014.head()\n"
   ]
  },
  {
   "cell_type": "code",
   "execution_count": null,
   "metadata": {
    "id": "uyZQtZHyNbpI"
   },
   "outputs": [],
   "source": [
    "# menghitung polusi bulanan 2015 bulan 1 sampai 12"
   ]
  },
  {
   "cell_type": "code",
   "execution_count": null,
   "metadata": {
    "colab": {
     "base_uri": "https://localhost:8080/",
     "height": 206
    },
    "id": "E3ovxbXTNV60",
    "outputId": "298a9979-9498-44dc-defe-9ad4fb8c608d"
   },
   "outputs": [],
   "source": [
    "filtered_df = aotizhongxin_df.query('year == 2015 and month >= 1 and month <= 12')\n",
    "\n",
    "# Menghitung rata-rata PM2.5 dan PM10 per bulan\n",
    "aotizhongxin_partikulasi_polusi_bulanan_2015 = (\n",
    "    filtered_df.groupby(['year', 'month'])\n",
    "    .agg(avg_PM25=('PM2.5', 'mean'), avg_PM10=('PM10', 'mean'))\n",
    "    .reset_index()\n",
    ")\n",
    "\n",
    "# Membulatkan nilai rata-rata\n",
    "aotizhongxin_partikulasi_polusi_bulanan_2015['avg_PM25'] = aotizhongxin_partikulasi_polusi_bulanan_2015['avg_PM25'].round()\n",
    "aotizhongxin_partikulasi_polusi_bulanan_2015['avg_PM10'] = aotizhongxin_partikulasi_polusi_bulanan_2015['avg_PM10'].round()\n",
    "\n",
    "# Menampilkan hasil\n",
    "aotizhongxin_partikulasi_polusi_bulanan_2015.head()\n"
   ]
  },
  {
   "cell_type": "code",
   "execution_count": null,
   "metadata": {
    "id": "aWT1YlC4NciU"
   },
   "outputs": [],
   "source": [
    "# menghitung polusi bulanan 2016 bulan 1 sampai 12"
   ]
  },
  {
   "cell_type": "code",
   "execution_count": null,
   "metadata": {
    "colab": {
     "base_uri": "https://localhost:8080/",
     "height": 206
    },
    "id": "E4LSMQGSNVqG",
    "outputId": "bc826b9e-664e-4fba-9047-0f5c8bfd3673"
   },
   "outputs": [],
   "source": [
    "filtered_df = aotizhongxin_df.query('year == 2016 and month >= 1 and month <= 12')\n",
    "\n",
    "# Menghitung rata-rata PM2.5 dan PM10 per bulan\n",
    "aotizhongxin_partikulasi_polusi_bulanan_2016 = (\n",
    "    filtered_df.groupby(['year', 'month'])\n",
    "    .agg(avg_PM25=('PM2.5', 'mean'), avg_PM10=('PM10', 'mean'))\n",
    "    .reset_index()\n",
    ")\n",
    "\n",
    "# Membulatkan nilai rata-rata\n",
    "aotizhongxin_partikulasi_polusi_bulanan_2016['avg_PM25'] = aotizhongxin_partikulasi_polusi_bulanan_2016['avg_PM25'].round()\n",
    "aotizhongxin_partikulasi_polusi_bulanan_2016['avg_PM10'] = aotizhongxin_partikulasi_polusi_bulanan_2016['avg_PM10'].round()\n",
    "\n",
    "# Menampilkan hasil\n",
    "aotizhongxin_partikulasi_polusi_bulanan_2016.head()\n"
   ]
  },
  {
   "cell_type": "code",
   "execution_count": null,
   "metadata": {
    "id": "v-ybapSnNeiX"
   },
   "outputs": [],
   "source": [
    "# menghitung polusi bulanan 2017 bulan 1 sampai 12"
   ]
  },
  {
   "cell_type": "code",
   "execution_count": null,
   "metadata": {
    "colab": {
     "base_uri": "https://localhost:8080/",
     "height": 112
    },
    "id": "rHa77XH8NViI",
    "outputId": "fd7c2eef-9931-46d6-e0c1-a893bb925469"
   },
   "outputs": [],
   "source": [
    "filtered_df = aotizhongxin_df.query('year == 2017 and month >= 1 and month <= 12')\n",
    "\n",
    "# Menghitung rata-rata PM2.5 dan PM10 per bulan\n",
    "aotizhongxin_partikulasi_polusi_bulanan_2017 = (\n",
    "    filtered_df.groupby(['year', 'month'])\n",
    "    .agg(avg_PM25=('PM2.5', 'mean'), avg_PM10=('PM10', 'mean'))\n",
    "    .reset_index()\n",
    ")\n",
    "\n",
    "# Membulatkan nilai rata-rata\n",
    "aotizhongxin_partikulasi_polusi_bulanan_2017['avg_PM25'] = aotizhongxin_partikulasi_polusi_bulanan_2017['avg_PM25'].round()\n",
    "aotizhongxin_partikulasi_polusi_bulanan_2017['avg_PM10'] = aotizhongxin_partikulasi_polusi_bulanan_2017['avg_PM10'].round()\n",
    "\n",
    "# Menampilkan hasil\n",
    "aotizhongxin_partikulasi_polusi_bulanan_2017.head()\n"
   ]
  },
  {
   "cell_type": "code",
   "execution_count": null,
   "metadata": {
    "id": "3pkYYtP9kS7D"
   },
   "outputs": [],
   "source": [
    "# Fungsi untuk menjalankan query SQL\n",
    "pysqldf = lambda q: sqldf(q, globals())"
   ]
  },
  {
   "cell_type": "code",
   "execution_count": null,
   "metadata": {
    "colab": {
     "base_uri": "https://localhost:8080/",
     "height": 206
    },
    "id": "KiQXZpX_gHGu",
    "outputId": "52c5d2ee-4d3c-4d84-e96f-3110c44ecb8f"
   },
   "outputs": [],
   "source": [
    "\n",
    "query = '''\n",
    "SELECT\n",
    "    year,\n",
    "    ROUND(AVG(\"PM2.5\")) as PM_2_5,\n",
    "    ROUND(AVG(\"PM10\")) as PM_10\n",
    "FROM\n",
    "    aotizhongxin_df\n",
    "WHERE\n",
    "    year BETWEEN 2013 AND 2017\n",
    "GROUP BY\n",
    "    year\n",
    "ORDER BY\n",
    "    year;\n",
    "'''\n",
    "\n",
    "# Using sqldf directly, as it is now imported\n",
    "aotizhongxin_partikulasi_polusi__tahunan = sqldf(query, globals())\n",
    "aotizhongxin_partikulasi_polusi__tahunan.head()"
   ]
  },
  {
   "cell_type": "code",
   "execution_count": null,
   "metadata": {
    "colab": {
     "base_uri": "https://localhost:8080/",
     "height": 300
    },
    "id": "dZdPkf1sOlXh",
    "outputId": "298ac2d8-1214-47ac-bd59-bcdfa4fc9cb0"
   },
   "outputs": [],
   "source": [
    "aotizhongxin_df[['PM2.5', 'PM10','NO2' ,'CO','year','month','day','hour']].corr(method='spearman')\n"
   ]
  },
  {
   "cell_type": "markdown",
   "metadata": {
    "id": "L2cdVSTSax53"
   },
   "source": [
    "\n",
    "\n",
    "1.   Item daftar\n",
    "2.   Item daftar\n",
    "3.   Item daftar\n",
    "4.   Item daftar\n",
    "\n"
   ]
  },
  {
   "cell_type": "markdown",
   "metadata": {
    "id": "0gphwl3dbSPP"
   },
   "source": [
    "##### 7.1.1.3 pola perubahan kualitas udara"
   ]
  },
  {
   "cell_type": "code",
   "execution_count": null,
   "metadata": {
    "id": "H1PrGHaFazaR"
   },
   "outputs": [],
   "source": [
    "# pola perubahan kualitas udara mingguan 2013 bulan 03"
   ]
  },
  {
   "cell_type": "code",
   "execution_count": null,
   "metadata": {
    "colab": {
     "base_uri": "https://localhost:8080/",
     "height": 206
    },
    "id": "lgRvlipPbIAy",
    "outputId": "82a21c3d-5512-4115-bbf7-1ed51ad67cf0"
   },
   "outputs": [],
   "source": [
    "filtered_df = aotizhongxin_df.query('year == 2013 and month == 3 and day >= 1 and day <= 30')\n",
    "\n",
    "pola_perubahan_kualitas_harian_2013_03 = (\n",
    "    filtered_df.groupby(['year', 'month', 'day'])\n",
    "    .agg(avg_PM25=('PM2.5', 'mean'), avg_PM10=('PM10', 'mean'), avg_NO2=('NO2', 'mean'), avg_CO=('CO', 'mean'))\n",
    "    .reset_index()\n",
    ")\n",
    "\n",
    "pola_perubahan_kualitas_harian_2013_03['avg_PM25'] = pola_perubahan_kualitas_harian_2013_03['avg_PM25'].round()\n",
    "pola_perubahan_kualitas_harian_2013_03['avg_PM10'] = pola_perubahan_kualitas_harian_2013_03['avg_PM10'].round()\n",
    "pola_perubahan_kualitas_harian_2013_03['avg_NO2'] = pola_perubahan_kualitas_harian_2013_03['avg_NO2'].round()\n",
    "pola_perubahan_kualitas_harian_2013_03['avg_CO'] = pola_perubahan_kualitas_harian_2013_03['avg_CO'].round()\n",
    "\n",
    "# Menampilkan hasil\n",
    "pola_perubahan_kualitas_harian_2013_03.head()"
   ]
  },
  {
   "cell_type": "code",
   "execution_count": null,
   "metadata": {
    "id": "cfSNrkD3cNgD"
   },
   "outputs": [],
   "source": [
    "# pola perubahan kualitas udara mingguan 2013 bulan 04"
   ]
  },
  {
   "cell_type": "code",
   "execution_count": null,
   "metadata": {
    "colab": {
     "base_uri": "https://localhost:8080/",
     "height": 206
    },
    "id": "q3tnKQwIi4Z5",
    "outputId": "4568bb59-0115-407d-cb39-7282e5ff5dd0"
   },
   "outputs": [],
   "source": [
    "filtered_df = aotizhongxin_df.query('year == 2013 and month == 4 and day >= 1 and day <= 30')\n",
    "\n",
    "pola_perubahan_kualitas_harian_2013_04 = (\n",
    "    filtered_df.groupby(['year', 'month', 'day'])\n",
    "    .agg(avg_PM25=('PM2.5', 'mean'), avg_PM10=('PM10', 'mean'), avg_NO2=('NO2', 'mean'), avg_CO=('CO', 'mean'))\n",
    "    .reset_index()\n",
    ")\n",
    "\n",
    "pola_perubahan_kualitas_harian_2013_04['avg_PM25'] = pola_perubahan_kualitas_harian_2013_04['avg_PM25'].round()\n",
    "pola_perubahan_kualitas_harian_2013_04['avg_PM10'] = pola_perubahan_kualitas_harian_2013_04['avg_PM10'].round()\n",
    "pola_perubahan_kualitas_harian_2013_04['avg_NO2'] = pola_perubahan_kualitas_harian_2013_04['avg_NO2'].round()\n",
    "pola_perubahan_kualitas_harian_2013_04['avg_CO'] = pola_perubahan_kualitas_harian_2013_04['avg_CO'].round()\n",
    "\n",
    "# Menampilkan hasil\n",
    "pola_perubahan_kualitas_harian_2013_04.head()"
   ]
  },
  {
   "cell_type": "code",
   "execution_count": null,
   "metadata": {
    "id": "DuoHkHN0iv-P"
   },
   "outputs": [],
   "source": [
    "# pola perubahan kualitas udara mingguan 2013 bulan 05"
   ]
  },
  {
   "cell_type": "code",
   "execution_count": null,
   "metadata": {
    "colab": {
     "base_uri": "https://localhost:8080/",
     "height": 206
    },
    "id": "z2WLCgzUjovr",
    "outputId": "df9f76d7-1e97-4c86-e710-696d2d2d5fa5"
   },
   "outputs": [],
   "source": [
    "filtered_df = aotizhongxin_df.query('year == 2013 and month == 5 and day >= 1 and day <= 30')\n",
    "\n",
    "pola_perubahan_kualitas_harian_2013_05 = (\n",
    "    filtered_df.groupby(['year', 'month', 'day'])\n",
    "    .agg(avg_PM25=('PM2.5', 'mean'), avg_PM10=('PM10', 'mean'), avg_NO2=('NO2', 'mean'), avg_CO=('CO', 'mean'))\n",
    "    .reset_index()\n",
    ")\n",
    "\n",
    "pola_perubahan_kualitas_harian_2013_05['avg_PM25'] = pola_perubahan_kualitas_harian_2013_05['avg_PM25'].round()\n",
    "pola_perubahan_kualitas_harian_2013_05['avg_PM10'] = pola_perubahan_kualitas_harian_2013_05['avg_PM10'].round()\n",
    "pola_perubahan_kualitas_harian_2013_05['avg_NO2'] = pola_perubahan_kualitas_harian_2013_05['avg_NO2'].round()\n",
    "pola_perubahan_kualitas_harian_2013_05['avg_CO'] = pola_perubahan_kualitas_harian_2013_05['avg_CO'].round()\n",
    "\n",
    "# Menampilkan hasil\n",
    "pola_perubahan_kualitas_harian_2013_05.head()"
   ]
  },
  {
   "cell_type": "code",
   "execution_count": null,
   "metadata": {
    "id": "Gvvag1LqiwuI"
   },
   "outputs": [],
   "source": [
    "# pola perubahan kualitas udara mingguan 2013 bulan 06"
   ]
  },
  {
   "cell_type": "code",
   "execution_count": null,
   "metadata": {
    "colab": {
     "base_uri": "https://localhost:8080/",
     "height": 206
    },
    "id": "3u0glWX2j7CG",
    "outputId": "7ace9112-03f1-4497-aba4-6ac341371a32"
   },
   "outputs": [],
   "source": [
    "filtered_df = aotizhongxin_df.query('year == 2013 and month == 6 and day >= 1 and day <= 30')\n",
    "\n",
    "pola_perubahan_kualitas_harian_2013_06 = (\n",
    "    filtered_df.groupby(['year', 'month', 'day'])\n",
    "    .agg(avg_PM25=('PM2.5', 'mean'), avg_PM10=('PM10', 'mean'), avg_NO2=('NO2', 'mean'), avg_CO=('CO', 'mean'))\n",
    "    .reset_index()\n",
    ")\n",
    "\n",
    "pola_perubahan_kualitas_harian_2013_06['avg_PM25'] = pola_perubahan_kualitas_harian_2013_06['avg_PM25'].round()\n",
    "pola_perubahan_kualitas_harian_2013_06['avg_PM10'] = pola_perubahan_kualitas_harian_2013_06['avg_PM10'].round()\n",
    "pola_perubahan_kualitas_harian_2013_06['avg_NO2'] = pola_perubahan_kualitas_harian_2013_06['avg_NO2'].round()\n",
    "pola_perubahan_kualitas_harian_2013_06['avg_CO'] = pola_perubahan_kualitas_harian_2013_06['avg_CO'].round()\n",
    "\n",
    "# Menampilkan hasil\n",
    "pola_perubahan_kualitas_harian_2013_06.head()"
   ]
  },
  {
   "cell_type": "code",
   "execution_count": null,
   "metadata": {
    "id": "75z9xWNyixRj"
   },
   "outputs": [],
   "source": [
    "# pola perubahan kualitas udara mingguan 2013 bulan 07"
   ]
  },
  {
   "cell_type": "code",
   "execution_count": null,
   "metadata": {
    "colab": {
     "base_uri": "https://localhost:8080/",
     "height": 206
    },
    "id": "IbCU18grkz00",
    "outputId": "78d5ec1b-4129-46eb-b23a-0562b49c1f66"
   },
   "outputs": [],
   "source": [
    "filtered_df = aotizhongxin_df.query('year == 2013 and month == 7 and day >= 1 and day <= 30')\n",
    "\n",
    "pola_perubahan_kualitas_harian_2013_07 = (\n",
    "    filtered_df.groupby(['year', 'month', 'day'])\n",
    "    .agg(avg_PM25=('PM2.5', 'mean'), avg_PM10=('PM10', 'mean'), avg_NO2=('NO2', 'mean'), avg_CO=('CO', 'mean'))\n",
    "    .reset_index()\n",
    ")\n",
    "\n",
    "pola_perubahan_kualitas_harian_2013_07['avg_PM25'] = pola_perubahan_kualitas_harian_2013_07['avg_PM25'].round()\n",
    "pola_perubahan_kualitas_harian_2013_07['avg_PM10'] = pola_perubahan_kualitas_harian_2013_07['avg_PM10'].round()\n",
    "pola_perubahan_kualitas_harian_2013_07['avg_NO2'] = pola_perubahan_kualitas_harian_2013_07['avg_NO2'].round()\n",
    "pola_perubahan_kualitas_harian_2013_07['avg_CO'] = pola_perubahan_kualitas_harian_2013_07['avg_CO'].round()\n",
    "\n",
    "# Menampilkan hasil\n",
    "pola_perubahan_kualitas_harian_2013_07.head()"
   ]
  },
  {
   "cell_type": "code",
   "execution_count": null,
   "metadata": {
    "id": "aGHBfHgMix0-"
   },
   "outputs": [],
   "source": [
    "# pola perubahan kualitas udara mingguan 2013 bulan 07"
   ]
  },
  {
   "cell_type": "code",
   "execution_count": null,
   "metadata": {
    "colab": {
     "base_uri": "https://localhost:8080/",
     "height": 206
    },
    "id": "sFVHiDCrlDyF",
    "outputId": "9e7929dc-9f9b-4f30-fb76-f506b149ac7f"
   },
   "outputs": [],
   "source": [
    "filtered_df = aotizhongxin_df.query('year == 2013 and month == 7 and day >= 1 and day <= 30')\n",
    "\n",
    "pola_perubahan_kualitas_harian_2013_07 = (\n",
    "    filtered_df.groupby(['year', 'month', 'day'])\n",
    "    .agg(avg_PM25=('PM2.5', 'mean'), avg_PM10=('PM10', 'mean'), avg_NO2=('NO2', 'mean'), avg_CO=('CO', 'mean'))\n",
    "    .reset_index()\n",
    ")\n",
    "\n",
    "pola_perubahan_kualitas_harian_2013_07['avg_PM25'] = pola_perubahan_kualitas_harian_2013_07['avg_PM25'].round()\n",
    "pola_perubahan_kualitas_harian_2013_07['avg_PM10'] = pola_perubahan_kualitas_harian_2013_07['avg_PM10'].round()\n",
    "pola_perubahan_kualitas_harian_2013_07['avg_NO2'] = pola_perubahan_kualitas_harian_2013_07['avg_NO2'].round()\n",
    "pola_perubahan_kualitas_harian_2013_07['avg_CO'] = pola_perubahan_kualitas_harian_2013_07['avg_CO'].round()\n",
    "\n",
    "# Menampilkan hasil\n",
    "pola_perubahan_kualitas_harian_2013_07.head()"
   ]
  },
  {
   "cell_type": "code",
   "execution_count": null,
   "metadata": {
    "id": "0R1NfaeCi1py"
   },
   "outputs": [],
   "source": [
    "# pola perubahan kualitas udara mingguan 2013 bulan 08"
   ]
  },
  {
   "cell_type": "code",
   "execution_count": null,
   "metadata": {
    "colab": {
     "base_uri": "https://localhost:8080/",
     "height": 206
    },
    "id": "4HHNEU6AlReL",
    "outputId": "4afc86a6-a5bb-4b8e-9ea9-184877781477"
   },
   "outputs": [],
   "source": [
    "filtered_df = aotizhongxin_df.query('year == 2013 and month == 8 and day >= 1 and day <= 30')\n",
    "\n",
    "pola_perubahan_kualitas_harian_2013_08 = (\n",
    "    filtered_df.groupby(['year', 'month', 'day'])\n",
    "    .agg(avg_PM25=('PM2.5', 'mean'), avg_PM10=('PM10', 'mean'), avg_NO2=('NO2', 'mean'), avg_CO=('CO', 'mean'))\n",
    "    .reset_index()\n",
    ")\n",
    "\n",
    "pola_perubahan_kualitas_harian_2013_08['avg_PM25'] = pola_perubahan_kualitas_harian_2013_08['avg_PM25'].round()\n",
    "pola_perubahan_kualitas_harian_2013_08['avg_PM10'] = pola_perubahan_kualitas_harian_2013_08['avg_PM10'].round()\n",
    "pola_perubahan_kualitas_harian_2013_08['avg_NO2'] = pola_perubahan_kualitas_harian_2013_08['avg_NO2'].round()\n",
    "pola_perubahan_kualitas_harian_2013_08['avg_CO'] = pola_perubahan_kualitas_harian_2013_08['avg_CO'].round()\n",
    "\n",
    "# Menampilkan hasil\n",
    "pola_perubahan_kualitas_harian_2013_08.head()"
   ]
  },
  {
   "cell_type": "code",
   "execution_count": null,
   "metadata": {
    "id": "NtJFPxG_i2RO"
   },
   "outputs": [],
   "source": [
    "# pola perubahan kualitas udara mingguan 2013 bulan 09"
   ]
  },
  {
   "cell_type": "code",
   "execution_count": null,
   "metadata": {
    "colab": {
     "base_uri": "https://localhost:8080/",
     "height": 206
    },
    "id": "Wld7f5nvlgqb",
    "outputId": "37856078-1098-484d-c3a5-66aa8b73767a"
   },
   "outputs": [],
   "source": [
    "filtered_df = aotizhongxin_df.query('year == 2013 and month == 9 and day >= 1 and day <= 30')\n",
    "\n",
    "pola_perubahan_kualitas_harian_2013_09 = (\n",
    "    filtered_df.groupby(['year', 'month', 'day'])\n",
    "    .agg(avg_PM25=('PM2.5', 'mean'), avg_PM10=('PM10', 'mean'), avg_NO2=('NO2', 'mean'), avg_CO=('CO', 'mean'))\n",
    "    .reset_index()\n",
    ")\n",
    "\n",
    "pola_perubahan_kualitas_harian_2013_09['avg_PM25'] = pola_perubahan_kualitas_harian_2013_09['avg_PM25'].round()\n",
    "pola_perubahan_kualitas_harian_2013_09['avg_PM10'] = pola_perubahan_kualitas_harian_2013_09['avg_PM10'].round()\n",
    "pola_perubahan_kualitas_harian_2013_09['avg_NO2'] = pola_perubahan_kualitas_harian_2013_09['avg_NO2'].round()\n",
    "pola_perubahan_kualitas_harian_2013_09['avg_CO'] = pola_perubahan_kualitas_harian_2013_09['avg_CO'].round()\n",
    "\n",
    "# Menampilkan hasil\n",
    "pola_perubahan_kualitas_harian_2013_09.head()"
   ]
  },
  {
   "cell_type": "code",
   "execution_count": null,
   "metadata": {
    "id": "qOdXYcM3i25C"
   },
   "outputs": [],
   "source": [
    "# pola perubahan kualitas udara mingguan 2013 bulan 10"
   ]
  },
  {
   "cell_type": "code",
   "execution_count": null,
   "metadata": {
    "colab": {
     "base_uri": "https://localhost:8080/",
     "height": 206
    },
    "id": "S-V3BT1HlsDq",
    "outputId": "d01e54bc-ac88-4eba-b9aa-0c88e67d2db1"
   },
   "outputs": [],
   "source": [
    "filtered_df = aotizhongxin_df.query('year == 2013 and month ==10 and day >= 1 and day <= 30')\n",
    "\n",
    "pola_perubahan_kualitas_harian_2013_10 = (\n",
    "    filtered_df.groupby(['year', 'month', 'day'])\n",
    "    .agg(avg_PM25=('PM2.5', 'mean'), avg_PM10=('PM10', 'mean'), avg_NO2=('NO2', 'mean'), avg_CO=('CO', 'mean'))\n",
    "    .reset_index()\n",
    ")\n",
    "\n",
    "pola_perubahan_kualitas_harian_2013_10['avg_PM25'] = pola_perubahan_kualitas_harian_2013_10['avg_PM25'].round()\n",
    "pola_perubahan_kualitas_harian_2013_10['avg_PM10'] = pola_perubahan_kualitas_harian_2013_10['avg_PM10'].round()\n",
    "pola_perubahan_kualitas_harian_2013_10['avg_NO2'] = pola_perubahan_kualitas_harian_2013_10['avg_NO2'].round()\n",
    "pola_perubahan_kualitas_harian_2013_10['avg_CO'] = pola_perubahan_kualitas_harian_2013_10['avg_CO'].round()\n",
    "\n",
    "# Menampilkan hasil\n",
    "pola_perubahan_kualitas_harian_2013_10.head()"
   ]
  },
  {
   "cell_type": "code",
   "execution_count": null,
   "metadata": {
    "id": "hzKzHhyDi3gE"
   },
   "outputs": [],
   "source": [
    "# pola perubahan kualitas udara mingguan 2013 bulan 11"
   ]
  },
  {
   "cell_type": "code",
   "execution_count": null,
   "metadata": {
    "colab": {
     "base_uri": "https://localhost:8080/",
     "height": 206
    },
    "id": "3tRf0UGal2RS",
    "outputId": "77c621bc-8170-4442-e31b-495caead5e95"
   },
   "outputs": [],
   "source": [
    "filtered_df = aotizhongxin_df.query('year == 2013 and month == 11 and day >= 1 and day <= 30')\n",
    "\n",
    "pola_perubahan_kualitas_harian_2013_11 = (\n",
    "    filtered_df.groupby(['year', 'month', 'day'])\n",
    "    .agg(avg_PM25=('PM2.5', 'mean'), avg_PM10=('PM10', 'mean'), avg_NO2=('NO2', 'mean'), avg_CO=('CO', 'mean'))\n",
    "    .reset_index()\n",
    ")\n",
    "\n",
    "pola_perubahan_kualitas_harian_2013_11['avg_PM25'] = pola_perubahan_kualitas_harian_2013_11['avg_PM25'].round()\n",
    "pola_perubahan_kualitas_harian_2013_11['avg_PM10'] = pola_perubahan_kualitas_harian_2013_11['avg_PM10'].round()\n",
    "pola_perubahan_kualitas_harian_2013_11['avg_NO2'] = pola_perubahan_kualitas_harian_2013_11['avg_NO2'].round()\n",
    "pola_perubahan_kualitas_harian_2013_11['avg_CO'] = pola_perubahan_kualitas_harian_2013_11['avg_CO'].round()\n",
    "\n",
    "# Menampilkan hasil\n",
    "pola_perubahan_kualitas_harian_2013_11.head()"
   ]
  },
  {
   "cell_type": "code",
   "execution_count": null,
   "metadata": {
    "id": "asAgmeFEl2xZ"
   },
   "outputs": [],
   "source": [
    "# pola perubahan kualitas udara mingguan 2013 bulan 12"
   ]
  },
  {
   "cell_type": "code",
   "execution_count": null,
   "metadata": {
    "colab": {
     "base_uri": "https://localhost:8080/",
     "height": 206
    },
    "id": "w9yokbdTl5Lx",
    "outputId": "f7986113-1e0c-46a4-c26c-d0ecc9bfcb11"
   },
   "outputs": [],
   "source": [
    "filtered_df = aotizhongxin_df.query('year == 2013 and month == 12 and day >= 1 and day <= 30')\n",
    "\n",
    "pola_perubahan_kualitas_harian_2013_12 = (\n",
    "    filtered_df.groupby(['year', 'month', 'day'])\n",
    "    .agg(avg_PM25=('PM2.5', 'mean'), avg_PM10=('PM10', 'mean'), avg_NO2=('NO2', 'mean'), avg_CO=('CO', 'mean'))\n",
    "    .reset_index()\n",
    ")\n",
    "\n",
    "pola_perubahan_kualitas_harian_2013_12['avg_PM25'] = pola_perubahan_kualitas_harian_2013_12['avg_PM25'].round()\n",
    "pola_perubahan_kualitas_harian_2013_12['avg_PM10'] = pola_perubahan_kualitas_harian_2013_12['avg_PM10'].round()\n",
    "pola_perubahan_kualitas_harian_2013_12['avg_NO2'] = pola_perubahan_kualitas_harian_2013_12['avg_NO2'].round()\n",
    "pola_perubahan_kualitas_harian_2013_12['avg_CO'] = pola_perubahan_kualitas_harian_2013_12['avg_CO'].round()\n",
    "\n",
    "# Menampilkan hasil\n",
    "pola_perubahan_kualitas_harian_2013_12.head()"
   ]
  },
  {
   "cell_type": "markdown",
   "metadata": {},
   "source": [
    "##### 7.1.1.4 KORELASI SUHU DAN TEMP DAN PERBANDINGAN DENGAN PRES\n"
   ]
  },
  {
   "cell_type": "code",
   "execution_count": null,
   "metadata": {},
   "outputs": [],
   "source": [
    "# KORELASI SUHU DAN TEMP DAN PERBANDINGAN DENGAN PRES MINGGUAN AOTI 2013 03 "
   ]
  },
  {
   "cell_type": "code",
   "execution_count": null,
   "metadata": {},
   "outputs": [],
   "source": [
    "filtered_df = aotizhongxin_df.query('year == 2013 and month == 3 and day >= 1 and day <= 30')\n",
    "\n",
    "KORELASI_SUHU_DAN_TEMP_DAN_PERBANDINGAN_DENGAN_PRES_MINGGUAN_AOTI_2013_03  = (\n",
    "    filtered_df.groupby(['year', 'month', 'day'])\n",
    "    .agg(avg_TEMP=('TEMP', 'mean'), avg_O3=('O3', 'mean'), avg_PRES=('PRES', 'mean'))\n",
    "    .reset_index()\n",
    ")\n",
    "\n",
    "KORELASI_SUHU_DAN_TEMP_DAN_PERBANDINGAN_DENGAN_PRES_MINGGUAN_AOTI_2013_03['avg_TEMP'] = KORELASI_SUHU_DAN_TEMP_DAN_PERBANDINGAN_DENGAN_PRES_MINGGUAN_AOTI_2013_03['avg_TEMP'].round()\n",
    "KORELASI_SUHU_DAN_TEMP_DAN_PERBANDINGAN_DENGAN_PRES_MINGGUAN_AOTI_2013_03['avg_O3'] = KORELASI_SUHU_DAN_TEMP_DAN_PERBANDINGAN_DENGAN_PRES_MINGGUAN_AOTI_2013_03['avg_O3'].round()\n",
    "KORELASI_SUHU_DAN_TEMP_DAN_PERBANDINGAN_DENGAN_PRES_MINGGUAN_AOTI_2013_03['avg_PRES'] = KORELASI_SUHU_DAN_TEMP_DAN_PERBANDINGAN_DENGAN_PRES_MINGGUAN_AOTI_2013_03['avg_PRES'].round()\n",
    "\n",
    "# Menampilkan hasil\n",
    "KORELASI_SUHU_DAN_TEMP_DAN_PERBANDINGAN_DENGAN_PRES_MINGGUAN_AOTI_2013_03.head()"
   ]
  },
  {
   "cell_type": "code",
   "execution_count": null,
   "metadata": {},
   "outputs": [],
   "source": [
    "# Proses dataset Changping untuk April 2013\n",
    "KORELASI_AOTIZHONGXIN_2013_04 = korelasi_suhu(aotizhongxin_df, year=2013, month=4, day_start=1, day_end=30)\n",
    "\n",
    "KORELASI_AOTIZHONGXIN_2013_04.head()"
   ]
  },
  {
   "cell_type": "code",
   "execution_count": null,
   "metadata": {},
   "outputs": [],
   "source": [
    "# Proses dataset Changping untuk April 2013\n",
    "KORELASI_AOTIZHONGXIN_2013_05 = korelasi_suhu(aotizhongxin_df, year=2013, month=5, day_start=1, day_end=30)\n",
    "\n",
    "KORELASI_AOTIZHONGXIN_2013_05.head()"
   ]
  },
  {
   "cell_type": "code",
   "execution_count": null,
   "metadata": {},
   "outputs": [],
   "source": [
    "# Proses dataset Changping untuk April 2013\n",
    "KORELASI_AOTIZHONGXIN_2013_06 = korelasi_suhu(aotizhongxin_df, year=2013, month=6, day_start=1, day_end=30)\n",
    "\n",
    "KORELASI_AOTIZHONGXIN_2013_06.head()"
   ]
  },
  {
   "cell_type": "code",
   "execution_count": null,
   "metadata": {},
   "outputs": [],
   "source": [
    "# Proses dataset Changping untuk Juli 2013\n",
    "KORELASI_AOTIZHONGXIN_2013_07= korelasi_suhu(aotizhongxin_df, year=2013, month=7, day_start=1, day_end=30)\n",
    "\n",
    "KORELASI_AOTIZHONGXIN_2013_07.head()"
   ]
  },
  {
   "cell_type": "code",
   "execution_count": null,
   "metadata": {},
   "outputs": [],
   "source": [
    "# Proses dataset Changping untuk April 2013\n",
    "KORELASI_AOTIZHONGXIN_2013_08 = korelasi_suhu(aotizhongxin_df, year=2013, month=8, day_start=1, day_end=30)\n",
    "\n",
    "KORELASI_AOTIZHONGXIN_2013_08.head()"
   ]
  },
  {
   "cell_type": "code",
   "execution_count": null,
   "metadata": {},
   "outputs": [],
   "source": [
    "KORELASI_AOTIZHONGXIN_2013_09 = korelasi_suhu(aotizhongxin_df, year=2013, month=9, day_start=1, day_end=30)\n",
    "\n",
    "KORELASI_AOTIZHONGXIN_2013_09.head()"
   ]
  },
  {
   "cell_type": "code",
   "execution_count": null,
   "metadata": {},
   "outputs": [],
   "source": [
    "KORELASI_AOTIZHONGXIN_2013_10 = korelasi_suhu(aotizhongxin_df, year=2013, month=10, day_start=1, day_end=30)\n",
    "\n",
    "KORELASI_AOTIZHONGXIN_2013_10.head()"
   ]
  },
  {
   "cell_type": "code",
   "execution_count": null,
   "metadata": {},
   "outputs": [],
   "source": [
    "KORELASI_AOTIZHONGXIN_2013_11 = korelasi_suhu(aotizhongxin_df, year=2013, month=11, day_start=1, day_end=30)\n",
    "\n",
    "KORELASI_AOTIZHONGXIN_2013_11.head()"
   ]
  },
  {
   "cell_type": "code",
   "execution_count": null,
   "metadata": {},
   "outputs": [],
   "source": [
    "KORELASI_AOTIZHONGXIN_2013_12 = korelasi_suhu(aotizhongxin_df, year=2013, month=12, day_start=1, day_end=30)\n",
    "KORELASI_AOTIZHONGXIN_2013_12.head()"
   ]
  },
  {
   "cell_type": "code",
   "execution_count": null,
   "metadata": {},
   "outputs": [],
   "source": [
    "# Daftar bulan untuk diproses\n",
    "months = range(4, 13)  # Dari April (4) hingga Desember (12)\n",
    "korelasi_aotizhongxin = {}\n",
    "\n",
    "for month in months:\n",
    "    korelasi_aotizhongxin[month] = korelasi_suhu(aotizhongxin_df, year=2013, month=month, day_start=1, day_end=30)\n",
    "    print(f\"Korelasi Aotizhongxin untuk bulan {month}:\")\n",
    "    print(korelasi_aotizhongxin[month].head())\n",
    "\n",
    "# Memproses untuk bulan Desember dengan filter\n",
    "filtered_df = aotizhongxin_df.query('year == 2013 and month == 12 and day >= 1 and day <= 30')\n",
    "pola_perubahan_kualitas_harian_2013_12 = (\n",
    "    filtered_df.groupby(['year', 'month', 'day'])\n",
    "    .agg(avg_PM25=('PM2.5', 'mean'), avg_PM10=('PM10', 'mean'), avg_NO2=('NO2', 'mean'), avg_CO=('CO', 'mean'))\n",
    "    .reset_index()\n",
    ")\n",
    "\n",
    "# Pembulatan nilai rata-rata\n",
    "pola_perubahan_kualitas_harian_2013_12 = pola_perubahan_kualitas_harian_2013_12.round()\n",
    "# Menampilkan hasil\n",
    "pola_perubahan_kualitas_harian_2013_12.head()\n"
   ]
  },
  {
   "cell_type": "markdown",
   "metadata": {},
   "source": [
    "### 7.2.1 Changpig"
   ]
  },
  {
   "cell_type": "markdown",
   "metadata": {},
   "source": [
    "#### 7.2.1.1 Korelasi suhu"
   ]
  },
  {
   "cell_type": "markdown",
   "metadata": {},
   "source": [
    "##### 7.2.1.1 suhu bulanan 2013-2017"
   ]
  },
  {
   "cell_type": "code",
   "execution_count": null,
   "metadata": {},
   "outputs": [],
   "source": [
    "months = range(3, 13)  \n",
    "korelasi_changping_suhu_bulanan_2013 = {}\n",
    "\n",
    "for month in months:\n",
    "    # Call the korelasi_suhu function for each month and store the result\n",
    "    korelasi_changping_suhu_bulanan_2013[month] = korelasi_suhu(changping_df, year=2013, month=month, day_start=1, day_end=30)\n",
    "    \n",
    "    # Print the first few rows of the result for each month\n",
    "    print(f\"Korelasi Changping untuk bulan {month}:\")\n",
    "    print(korelasi_changping_suhu_bulanan_2013[month].head())  # Print the first few rows of the result\n"
   ]
  },
  {
   "cell_type": "code",
   "execution_count": null,
   "metadata": {},
   "outputs": [],
   "source": [
    "months = range(1, 13)  # Start from 1 (January) to 12 (December)\n",
    "korelasi_changping_suhu_bulanan_2014 = {}\n",
    "\n",
    "for month in months:\n",
    "    # Call the korelasi_suhu function for each month and store the result\n",
    "    korelasi_changping_suhu_bulanan_2014[month] = korelasi_suhu(changping_df, year=2014, month=month, day_start=1, day_end=30)\n",
    "    \n",
    "    # Print the first few rows of the result for each month\n",
    "    print(f\"Korelasi Changping untuk bulan {month}:\")\n",
    "    print(korelasi_changping_suhu_bulanan_2014[month].head())  # Print the first few rows of the result\n"
   ]
  },
  {
   "cell_type": "code",
   "execution_count": null,
   "metadata": {},
   "outputs": [],
   "source": [
    "months = range(1, 13)  # Start from 1 (January) to 12 (December)\n",
    "korelasi_changping_suhu_bulanan_2015 = {}\n",
    "\n",
    "for month in months:\n",
    "    # Call the korelasi_suhu function for each month and store the result\n",
    "    korelasi_changping_suhu_bulanan_2015[month] = korelasi_suhu(changping_df, year=2015, month=month, day_start=1, day_end=30)\n",
    "    \n",
    "    # Print the first few rows of the result for each month\n",
    "    print(f\"Korelasi Changping untuk bulan {month}:\")\n",
    "    print(korelasi_changping_suhu_bulanan_2015[month].head())  # Print the first few rows of the result\n"
   ]
  },
  {
   "cell_type": "code",
   "execution_count": null,
   "metadata": {},
   "outputs": [],
   "source": [
    "months = range(1, 13)  # Start from 1 (January) to 12 (December)\n",
    "korelasi_changping_suhu_bulanan_2016 = {}\n",
    "\n",
    "for month in months:\n",
    "    # Call the korelasi_suhu function for each month and store the result\n",
    "    korelasi_changping_suhu_bulanan_2016[month] = korelasi_suhu(changping_df, year=2016, month=month, day_start=1, day_end=30)\n",
    "    \n",
    "    # Print the first few rows of the result for each month\n",
    "    print(f\"Korelasi Changping untuk bulan {month}:\")\n",
    "    print(korelasi_changping_suhu_bulanan_2016[month].head())  # Print the first few rows of the result\n"
   ]
  },
  {
   "cell_type": "code",
   "execution_count": null,
   "metadata": {},
   "outputs": [],
   "source": [
    "months = range(1, 13)  # Start from 1 (January) to 12 (December)\n",
    "korelasi_changping_suhu_bulanan_2016 = {}\n",
    "\n",
    "for month in months:\n",
    "    # Call the korelasi_suhu function for each month and store the result\n",
    "    korelasi_changping_suhu_bulanan_2016[month] = korelasi_suhu(changping_df, year=2016, month=month, day_start=1, day_end=30)\n",
    "    \n",
    "    # Print the first few rows of the result for each month\n",
    "    print(f\"Korelasi Changping untuk bulan {month}:\")\n",
    "    print(korelasi_changping_suhu_bulanan_2016[month].head())  # Print the first few rows of the result\n"
   ]
  },
  {
   "cell_type": "code",
   "execution_count": null,
   "metadata": {},
   "outputs": [],
   "source": [
    "months = range(1, 2)  # Start from 1 (January) to 12 (December)\n",
    "korelasi_changping_suhu_bulanan_2017 = {}\n",
    "\n",
    "for month in months:\n",
    "    # Call the korelasi_suhu function for each month and store the result\n",
    "    korelasi_changping_suhu_bulanan_2017[month] = korelasi_suhu(changping_df, year=2017, month=month, day_start=1, day_end=30)\n",
    "    \n",
    "    # Print the first few rows of the result for each month\n",
    "    print(f\"Korelasi Changping untuk bulan {month}:\")\n",
    "    print(korelasi_changping_suhu_bulanan_2017[month].head())  # Print the first few rows of the result\n"
   ]
  },
  {
   "cell_type": "markdown",
   "metadata": {},
   "source": [
    "##### 7.2.1.2 partikulasi polusi changping 2013-2017"
   ]
  },
  {
   "cell_type": "code",
   "execution_count": null,
   "metadata": {},
   "outputs": [],
   "source": [
    "months = range(1, 13)  # Start from 1 (January) to 12 (December)\n",
    "partikulasi_polusi_changping_suhu_bulanan_2014 = {}\n",
    "\n",
    "for month in months:\n",
    "\n",
    "    partikulasi_polusi_changping_suhu_bulanan_2014[month] = partikulasi_polusi(changping_df, year=2014, month=month, day_start=1, day_end=30)\n",
    "    \n",
    "    # Print the first few rows of the result for each month\n",
    "    print(f\"partikulasi_polusi_Changping untuk bulan {month}:\")\n",
    "    print(partikulasi_polusi_changping_suhu_bulanan_2014[month].head())"
   ]
  },
  {
   "cell_type": "markdown",
   "metadata": {},
   "source": [
    "### 7.3.1 Dingling"
   ]
  },
  {
   "cell_type": "code",
   "execution_count": null,
   "metadata": {},
   "outputs": [],
   "source": [
    "months = range(3, 13)\n",
    "partikulasi_polusi_dingling_suhu_bulanan_2013 = {}\n",
    "\n",
    "for month in months:\n",
    "    partikulasi_polusi_dingling_suhu_bulanan_2013[month] = partikulasi_polusi(dingling_df, year=2013, month=month, day_start=1, day_end=30)\n",
    "    \n",
    "    partikulasi_polusi_dingling_suhu_bulanan_2013[month]['avg_PM25'] = round(partikulasi_polusi_dingling_suhu_bulanan_2013[month]['avg_PM25'])\n",
    "    partikulasi_polusi_dingling_suhu_bulanan_2013[month]['avg_PM10'] = round(partikulasi_polusi_dingling_suhu_bulanan_2013[month]['avg_PM10'])\n",
    "\n",
    "    display(partikulasi_polusi_dingling_suhu_bulanan_2013[month].head())"
   ]
  },
  {
   "cell_type": "code",
   "execution_count": null,
   "metadata": {},
   "outputs": [],
   "source": [
    "months = range(1, 13)\n",
    "partikulasi_polusi_dingling_suhu_bulanan_2014 = {}\n",
    "\n",
    "for month in months:\n",
    "    partikulasi_polusi_dingling_suhu_bulanan_2014[month] = partikulasi_polusi(dingling_df, year=2014, month=month, day_start=1, day_end=30)\n",
    "    \n",
    "    partikulasi_polusi_dingling_suhu_bulanan_2014[month]['avg_PM25'] = round(partikulasi_polusi_dingling_suhu_bulanan_2014[month]['avg_PM25'])\n",
    "    partikulasi_polusi_dingling_suhu_bulanan_2014[month]['avg_PM10'] = round(partikulasi_polusi_dingling_suhu_bulanan_2014[month]['avg_PM10'])\n",
    "\n",
    "    display(partikulasi_polusi_dingling_suhu_bulanan_2014[month].head())\n"
   ]
  },
  {
   "cell_type": "code",
   "execution_count": null,
   "metadata": {},
   "outputs": [],
   "source": [
    "months = range(1, 13)\n",
    "partikulasi_polusi_dingling_suhu_bulanan_2015 = {}\n",
    "\n",
    "for month in months:\n",
    "    partikulasi_polusi_dingling_suhu_bulanan_2015[month] = partikulasi_polusi(dingling_df, year=2015, month=month, day_start=1, day_end=30)\n",
    "    \n",
    "    partikulasi_polusi_dingling_suhu_bulanan_2015[month]['avg_PM25'] = round(partikulasi_polusi_dingling_suhu_bulanan_2015[month]['avg_PM25'])\n",
    "    partikulasi_polusi_dingling_suhu_bulanan_2015[month]['avg_PM10'] = round(partikulasi_polusi_dingling_suhu_bulanan_2015[month]['avg_PM10'])\n",
    "\n",
    "    display(partikulasi_polusi_dingling_suhu_bulanan_2015[month].head())"
   ]
  },
  {
   "cell_type": "code",
   "execution_count": null,
   "metadata": {},
   "outputs": [],
   "source": [
    "months = range(1, 13)\n",
    "partikulasi_polusi_dingling_suhu_bulanan_2015 = {}\n",
    "\n",
    "for month in months:\n",
    "    partikulasi_polusi_dingling_suhu_bulanan_2015[month] = partikulasi_polusi(dingling_df, year=2015, month=month, day_start=1, day_end=30)\n",
    "    \n",
    "    partikulasi_polusi_dingling_suhu_bulanan_2015[month]['avg_PM25'] = round(partikulasi_polusi_dingling_suhu_bulanan_2015[month]['avg_PM25'])\n",
    "    partikulasi_polusi_dingling_suhu_bulanan_2015[month]['avg_PM10'] = round(partikulasi_polusi_dingling_suhu_bulanan_2015[month]['avg_PM10'])\n",
    "\n",
    "    display(partikulasi_polusi_dingling_suhu_bulanan_2015[month].head())"
   ]
  },
  {
   "cell_type": "code",
   "execution_count": null,
   "metadata": {},
   "outputs": [],
   "source": [
    "months = range(1, 3)\n",
    "partikulasi_polusi_dingling_suhu_bulanan_2017 = {}\n",
    "\n",
    "for month in months:\n",
    "    partikulasi_polusi_dingling_suhu_bulanan_2017[month] = partikulasi_polusi(dingling_df, year=2017, month=month, day_start=1, day_end=30)\n",
    "    \n",
    "    partikulasi_polusi_dingling_suhu_bulanan_2017[month]['avg_PM25'] = round(partikulasi_polusi_dingling_suhu_bulanan_2017[month]['avg_PM25'])\n",
    "    partikulasi_polusi_dingling_suhu_bulanan_2017[month]['avg_PM10'] = round(partikulasi_polusi_dingling_suhu_bulanan_2017[month]['avg_PM10'])\n",
    "\n",
    "    display(partikulasi_polusi_dingling_suhu_bulanan_2017[month].head())"
   ]
  },
  {
   "cell_type": "markdown",
   "metadata": {},
   "source": [
    "### 7.4.1 Dongsi "
   ]
  },
  {
   "cell_type": "markdown",
   "metadata": {},
   "source": [
    "#### 7.4.1.1 Partikulasi Pm 2.5 dan PM 10 harian  Bulanan dan Tahunan"
   ]
  },
  {
   "cell_type": "code",
   "execution_count": null,
   "metadata": {},
   "outputs": [],
   "source": [
    "months = range(3, 13)\n",
    "partikulasi_polusi_dongsi_suhu_bulanan_2013 = {}\n",
    "\n",
    "for month in months:\n",
    "    partikulasi_polusi_dongsi_suhu_bulanan_2013[month] = partikulasi_polusi(dongsi_df, year=2013, month=month, day_start=1, day_end=30)\n",
    "    \n",
    "    partikulasi_polusi_dongsi_suhu_bulanan_2013[month]['avg_PM25'] = round(partikulasi_polusi_dongsi_suhu_bulanan_2013[month]['avg_PM25'])\n",
    "    partikulasi_polusi_dongsi_suhu_bulanan_2013[month]['avg_PM10'] = round(partikulasi_polusi_dongsi_suhu_bulanan_2013[month]['avg_PM10'])\n",
    "\n",
    "    display(partikulasi_polusi_dongsi_suhu_bulanan_2013[month].head())"
   ]
  },
  {
   "cell_type": "code",
   "execution_count": null,
   "metadata": {},
   "outputs": [],
   "source": [
    "months = range(1, 13)\n",
    "partikulasi_polusi_dongsi_suhu_bulanan_2014 = {}\n",
    "\n",
    "for month in months:\n",
    "    partikulasi_polusi_dongsi_suhu_bulanan_2014[month] = partikulasi_polusi(dongsi_df, year=2014, month=month, day_start=1, day_end=30)\n",
    "    \n",
    "    partikulasi_polusi_dongsi_suhu_bulanan_2014[month]['avg_PM25'] = round(partikulasi_polusi_dongsi_suhu_bulanan_2014[month]['avg_PM25'])\n",
    "    partikulasi_polusi_dongsi_suhu_bulanan_2014[month]['avg_PM10'] = round(partikulasi_polusi_dongsi_suhu_bulanan_2014[month]['avg_PM10'])\n",
    "\n",
    "    display(partikulasi_polusi_dongsi_suhu_bulanan_2014[month].head())"
   ]
  },
  {
   "cell_type": "code",
   "execution_count": null,
   "metadata": {},
   "outputs": [],
   "source": [
    "months = range(1, 13)\n",
    "partikulasi_polusi_dongsi_suhu_bulanan_2015 = {}\n",
    "\n",
    "for month in months:\n",
    "    partikulasi_polusi_dongsi_suhu_bulanan_2015[month] = partikulasi_polusi(dongsi_df, year=2015, month=month, day_start=1, day_end=30)\n",
    "    \n",
    "    partikulasi_polusi_dongsi_suhu_bulanan_2015[month]['avg_PM25'] = round(partikulasi_polusi_dongsi_suhu_bulanan_2015[month]['avg_PM25'])\n",
    "    partikulasi_polusi_dongsi_suhu_bulanan_2015[month]['avg_PM10'] = round(partikulasi_polusi_dongsi_suhu_bulanan_2015[month]['avg_PM10'])\n",
    "\n",
    "    display(partikulasi_polusi_dongsi_suhu_bulanan_2015[month].head())"
   ]
  },
  {
   "cell_type": "code",
   "execution_count": null,
   "metadata": {},
   "outputs": [],
   "source": [
    "months = range(1, 13)\n",
    "partikulasi_polusi_dongsi_suhu_bulanan_2016 = {}\n",
    "\n",
    "for month in months:\n",
    "    partikulasi_polusi_dongsi_suhu_bulanan_2016[month] = partikulasi_polusi(dongsi_df, year=2016, month=month, day_start=1, day_end=30)\n",
    "    \n",
    "    partikulasi_polusi_dongsi_suhu_bulanan_2016[month]['avg_PM25'] = round(partikulasi_polusi_dongsi_suhu_bulanan_2016[month]['avg_PM25'])\n",
    "    partikulasi_polusi_dongsi_suhu_bulanan_2016[month]['avg_PM10'] = round(partikulasi_polusi_dongsi_suhu_bulanan_2016[month]['avg_PM10'])\n",
    "\n",
    "    display(partikulasi_polusi_dongsi_suhu_bulanan_2016[month].head())"
   ]
  },
  {
   "cell_type": "code",
   "execution_count": null,
   "metadata": {},
   "outputs": [],
   "source": [
    "months = range(1, 3)\n",
    "partikulasi_polusi_dongsi_suhu_bulanan_2017 = {}\n",
    "\n",
    "for month in months:\n",
    "    partikulasi_polusi_dongsi_suhu_bulanan_2017[month] = partikulasi_polusi(dongsi_df, year=2017, month=month, day_start=1, day_end=30)\n",
    "    \n",
    "    partikulasi_polusi_dongsi_suhu_bulanan_2017[month]['avg_PM25'] = round(partikulasi_polusi_dongsi_suhu_bulanan_2017[month]['avg_PM25'])\n",
    "    partikulasi_polusi_dongsi_suhu_bulanan_2017[month]['avg_PM10'] = round(partikulasi_polusi_dongsi_suhu_bulanan_2017[month]['avg_PM10'])\n",
    "\n",
    "    display(partikulasi_polusi_dongsi_suhu_bulanan_2017[month].head())"
   ]
  },
  {
   "cell_type": "code",
   "execution_count": null,
   "metadata": {},
   "outputs": [],
   "source": [
    "months = range(1, 13)\n",
    "partikulasi_polusi_dongsi_suhu_bulanan_2016 = {}\n",
    "\n",
    "for month in months:\n",
    "    partikulasi_polusi_dongsi_suhu_bulanan_2016[month] = partikulasi_polusi_bulanan(dongsi_df, year=2016, month=month)\n",
    "    \n",
    "    partikulasi_polusi_dongsi_suhu_bulanan_2016[month]['avg_PM25'] = round(partikulasi_polusi_dongsi_suhu_bulanan_2016[month]['avg_PM25'])\n",
    "    partikulasi_polusi_dongsi_suhu_bulanan_2016[month]['avg_PM10'] = round(partikulasi_polusi_dongsi_suhu_bulanan_2016[month]['avg_PM10'])\n",
    "\n",
    "    display(partikulasi_polusi_dongsi_suhu_bulanan_2016[month].head())"
   ]
  },
  {
   "cell_type": "code",
   "execution_count": null,
   "metadata": {},
   "outputs": [],
   "source": [
    "partikulasi_polusi_dongsi_suhu_tahunan = {}\n",
    "\n",
    "for year in range(2013, 2018):\n",
    "    partikulasi_polusi_dongsi_suhu_tahunan[year] = partikulasi_polusi_tahunan(dongsi_df, year)\n",
    "\n",
    "annual_summary = pd.concat(partikulasi_polusi_dongsi_suhu_tahunan.values())\n",
    "\n",
    "display(annual_summary)"
   ]
  },
  {
   "cell_type": "markdown",
   "metadata": {},
   "source": [
    "### 7.5.1 Guanyuan"
   ]
  },
  {
   "cell_type": "markdown",
   "metadata": {},
   "source": [
    "#### 7.5.1.1 Partikulasi PM 25 dan PM 10 Harian Bulanan Dan Tahunan"
   ]
  },
  {
   "cell_type": "markdown",
   "metadata": {},
   "source": [
    "##### 7.5.1.1.1 Per hari"
   ]
  },
  {
   "cell_type": "code",
   "execution_count": null,
   "metadata": {},
   "outputs": [],
   "source": [
    "months = range(3, 13)\n",
    "partikulasi_polusi_dongsi_polusi_harian_2013 = {}\n",
    "\n",
    "for month in months:\n",
    "    partikulasi_polusi_dongsi_polusi_harian_2013[month] = partikulasi_polusi(guanyuan_df, year=2013, month=month, day_start=1, day_end=30)\n",
    "    \n",
    "    partikulasi_polusi_dongsi_polusi_harian_2013[month]['avg_PM25'] = round(partikulasi_polusi_dongsi_polusi_harian_2013[month]['avg_PM25'])\n",
    "    partikulasi_polusi_dongsi_polusi_harian_2013[month]['avg_PM10'] = round(partikulasi_polusi_dongsi_polusi_harian_2013[month]['avg_PM10'])\n",
    "\n",
    "    display(partikulasi_polusi_dongsi_polusi_harian_2013[month].head())"
   ]
  },
  {
   "cell_type": "code",
   "execution_count": null,
   "metadata": {},
   "outputs": [],
   "source": [
    "months = range(1, 13)\n",
    "partikulasi_polusi_dongsi_polusi_harian_2014 = {}\n",
    "\n",
    "for month in months:\n",
    "    partikulasi_polusi_dongsi_polusi_harian_2014[month] = partikulasi_polusi(guanyuan_df, year=2014, month=month, day_start=1, day_end=30)\n",
    "    \n",
    "    partikulasi_polusi_dongsi_polusi_harian_2014[month]['avg_PM25'] = round(partikulasi_polusi_dongsi_polusi_harian_2014[month]['avg_PM25'])\n",
    "    partikulasi_polusi_dongsi_polusi_harian_2014[month]['avg_PM10'] = round(partikulasi_polusi_dongsi_polusi_harian_2014[month]['avg_PM10'])\n",
    "\n",
    "    display(partikulasi_polusi_dongsi_polusi_harian_2014[month].head())"
   ]
  },
  {
   "cell_type": "code",
   "execution_count": null,
   "metadata": {},
   "outputs": [],
   "source": [
    "months = range(1, 13)\n",
    "partikulasi_polusi_dongsi_polusi_harian_2015 = {}\n",
    "\n",
    "for month in months:\n",
    "    partikulasi_polusi_dongsi_polusi_harian_2015[month] = partikulasi_polusi(guanyuan_df, year=2015, month=month, day_start=1, day_end=30)\n",
    "    \n",
    "    partikulasi_polusi_dongsi_polusi_harian_2015[month]['avg_PM25'] = round(partikulasi_polusi_dongsi_polusi_harian_2015[month]['avg_PM25'])\n",
    "    partikulasi_polusi_dongsi_polusi_harian_2015[month]['avg_PM10'] = round(partikulasi_polusi_dongsi_polusi_harian_2015[month]['avg_PM10'])\n",
    "\n",
    "    display(partikulasi_polusi_dongsi_polusi_harian_2015[month].head())"
   ]
  },
  {
   "cell_type": "code",
   "execution_count": null,
   "metadata": {},
   "outputs": [],
   "source": [
    "months = range(1, 13)\n",
    "partikulasi_polusi_dongsi_polusi_harian_2016 = {}\n",
    "\n",
    "for month in months:\n",
    "    partikulasi_polusi_dongsi_polusi_harian_2016[month] = partikulasi_polusi(guanyuan_df, year=2016, month=month, day_start=1, day_end=30)\n",
    "    \n",
    "    partikulasi_polusi_dongsi_polusi_harian_2016[month]['avg_PM25'] = round(partikulasi_polusi_dongsi_polusi_harian_2016[month]['avg_PM25'])\n",
    "    partikulasi_polusi_dongsi_polusi_harian_2016[month]['avg_PM10'] = round(partikulasi_polusi_dongsi_polusi_harian_2016[month]['avg_PM10'])\n",
    "\n",
    "    display(partikulasi_polusi_dongsi_polusi_harian_2016[month].head())"
   ]
  },
  {
   "cell_type": "code",
   "execution_count": null,
   "metadata": {},
   "outputs": [],
   "source": [
    "months = range(1, 2)\n",
    "partikulasi_polusi_dongsi_polusi_harian_2017 = {}\n",
    "\n",
    "for month in months:\n",
    "    partikulasi_polusi_dongsi_polusi_harian_2017[month] = partikulasi_polusi(guanyuan_df, year=2017, month=month, day_start=1, day_end=30)\n",
    "    \n",
    "    partikulasi_polusi_dongsi_polusi_harian_2017[month]['avg_PM25'] = round(partikulasi_polusi_dongsi_polusi_harian_2017[month]['avg_PM25'])\n",
    "    partikulasi_polusi_dongsi_polusi_harian_2017[month]['avg_PM10'] = round(partikulasi_polusi_dongsi_polusi_harian_2017[month]['avg_PM10'])\n",
    "\n",
    "    display(partikulasi_polusi_dongsi_suhu_harian_2017[month].head())"
   ]
  },
  {
   "cell_type": "markdown",
   "metadata": {},
   "source": [
    "##### 7.5.1.1.2 Per Minggu"
   ]
  },
  {
   "cell_type": "code",
   "execution_count": null,
   "metadata": {},
   "outputs": [],
   "source": [
    "months = range(3, 13)\n",
    "partikulasi_polusi_guanyuan_mingguan_2013 = {}\n",
    "\n",
    "for month in months:\n",
    "    partikulasi_polusi_guanyuan_mingguan_2013[month] = partikulasi_polusi_mingguan(guanyuan_df, year=2013, month=month)\n",
    "\n",
    "    display(partikulasi_polusi_guanyuan_mingguan_2013[month].head())\n"
   ]
  },
  {
   "cell_type": "code",
   "execution_count": null,
   "metadata": {},
   "outputs": [],
   "source": [
    "months = range(1, 13)\n",
    "partikulasi_polusi_guanyuan_mingguan_2014 = {}\n",
    "\n",
    "for month in months:\n",
    "    partikulasi_polusi_guanyuan_mingguan_2014[month] = partikulasi_polusi_mingguan(guanyuan_df, year=2014, month=month)\n",
    "\n",
    "    display(partikulasi_polusi_guanyuan_mingguan_2014[month].head())\n"
   ]
  },
  {
   "cell_type": "code",
   "execution_count": null,
   "metadata": {},
   "outputs": [],
   "source": [
    "months = range(1, 13)\n",
    "partikulasi_polusi_guanyuan_mingguan_2015 = {}\n",
    "\n",
    "for month in months:\n",
    "    partikulasi_polusi_guanyuan_mingguan_2015[month] = partikulasi_polusi_mingguan(guanyuan_df, year=2015, month=month)\n",
    "\n",
    "    display(partikulasi_polusi_guanyuan_mingguan_2015[month].head())\n"
   ]
  },
  {
   "cell_type": "code",
   "execution_count": null,
   "metadata": {},
   "outputs": [],
   "source": [
    "months = range(1, 13)\n",
    "partikulasi_polusi_guanyuan_mingguan_2016 = {}\n",
    "\n",
    "for month in months:\n",
    "    partikulasi_polusi_guanyuan_mingguan_2016[month] = partikulasi_polusi_mingguan(guanyuan_df, year=2016, month=month)\n",
    "\n",
    "    display(partikulasi_polusi_guanyuan_mingguan_2016[month].head())\n"
   ]
  },
  {
   "cell_type": "code",
   "execution_count": null,
   "metadata": {},
   "outputs": [],
   "source": [
    "months = range(1, 3)\n",
    "partikulasi_polusi_guanyuan_mingguan_2017 = {}\n",
    "\n",
    "for month in months:\n",
    "    partikulasi_polusi_guanyuan_mingguan_2017[month] = partikulasi_polusi_mingguan(guanyuan_df, year=2017, month=month)\n",
    "\n",
    "    display(partikulasi_polusi_guanyuan_mingguan_2017[month].head())\n"
   ]
  },
  {
   "cell_type": "markdown",
   "metadata": {},
   "source": [
    "##### 7.5.1.1.3 Per Bulan"
   ]
  },
  {
   "cell_type": "code",
   "execution_count": null,
   "metadata": {},
   "outputs": [],
   "source": [
    "months = range(3, 13)\n",
    "partikulasi_polusi_guanyuan_bulanan_2013 = {}\n",
    "\n",
    "for month in months:\n",
    "    partikulasi_polusi_guanyuan_bulanan_2013[month] = partikulasi_polusi_bulanan(guanyuan_df, year=2013, month=month)\n",
    "    display(partikulasi_polusi_guanyuan_bulanan_2013[month].head())"
   ]
  },
  {
   "cell_type": "code",
   "execution_count": null,
   "metadata": {},
   "outputs": [],
   "source": [
    "months = range(1, 13)\n",
    "partikulasi_polusi_guanyuan_bulanan_2014 = {}\n",
    "\n",
    "for month in months:\n",
    "    partikulasi_polusi_guanyuan_bulanan_2014[month] = partikulasi_polusi_bulanan(guanyuan_df, year=2014, month=month)\n",
    "    display(partikulasi_polusi_guanyuan_bulanan_2014[month].head())"
   ]
  },
  {
   "cell_type": "code",
   "execution_count": null,
   "metadata": {},
   "outputs": [],
   "source": [
    "months = range(1, 13)\n",
    "partikulasi_polusi_guanyuan_bulanan_2015 = {}\n",
    "\n",
    "for month in months:\n",
    "    partikulasi_polusi_guanyuan_bulanan_2015[month] = partikulasi_polusi_bulanan(guanyuan_df, year=2015, month=month)\n",
    "    display(partikulasi_polusi_guanyuan_bulanan_2015[month].head())"
   ]
  },
  {
   "cell_type": "code",
   "execution_count": null,
   "metadata": {},
   "outputs": [],
   "source": [
    "months = range(1, 13)\n",
    "partikulasi_polusi_guanyuan_bulanan_2016 = {}\n",
    "\n",
    "for month in months:\n",
    "    partikulasi_polusi_guanyuan_bulanan_2016[month] = partikulasi_polusi_bulanan(guanyuan_df, year=2016, month=month)\n",
    "    display(partikulasi_polusi_guanyuan_bulanan_2016[month].head())"
   ]
  },
  {
   "cell_type": "code",
   "execution_count": null,
   "metadata": {},
   "outputs": [],
   "source": [
    "months = range(1, 3)\n",
    "partikulasi_polusi_guanyuan_bulanan_2017 = {}\n",
    "\n",
    "for month in months:\n",
    "    partikulasi_polusi_guanyuan_bulanan_2017[month] = partikulasi_polusi_bulanan(guanyuan_df, year=2017, month=month)\n",
    "    display(partikulasi_polusi_guanyuan_bulanan_2017[month].head())"
   ]
  },
  {
   "cell_type": "markdown",
   "metadata": {},
   "source": [
    "### 7.6.1 Gucheng"
   ]
  },
  {
   "cell_type": "code",
   "execution_count": null,
   "metadata": {},
   "outputs": [],
   "source": [
    "years = range(2013, 2018)  # Rentang tahun 2013-2017\n",
    "months = range(3, 13)  # Rentang bulan Maret hingga Desember\n",
    "\n",
    "partikulasi_polusi_per_tahun_bulan = {}\n",
    "\n",
    "for year in years:\n",
    "    for month in months:\n",
    "        # Hitung partikulasi polusi untuk setiap bulan dan tahun\n",
    "        polusi_data = partikulasi_polusi(gucheng_df, year=year, month=month, day_start=1, day_end=30)\n",
    "        \n",
    "        # Bulatkan nilai rata-rata PM2.5 dan PM10\n",
    "        polusi_data['avg_PM25'] = round(polusi_data['avg_PM25'])\n",
    "        polusi_data['avg_PM10'] = round(polusi_data['avg_PM10'])\n",
    "        \n",
    "        # Simpan hasil ke dalam dictionary dengan kunci (tahun, bulan)\n",
    "        partikulasi_polusi_per_tahun_bulan[(year, month)] = polusi_data\n",
    "\n",
    "        # Menampilkan 5 baris pertama dari data untuk setiap bulan\n",
    "        display(polusi_data.head())\n"
   ]
  },
  {
   "cell_type": "markdown",
   "metadata": {},
   "source": [
    "### 7.7.1 Huairou"
   ]
  },
  {
   "cell_type": "markdown",
   "metadata": {},
   "source": [
    "### 7.8.1 Nongzhanguan"
   ]
  },
  {
   "cell_type": "markdown",
   "metadata": {},
   "source": [
    "### 7.9.1 Shunyi"
   ]
  },
  {
   "cell_type": "markdown",
   "metadata": {},
   "source": [
    "### 7.5.1 Tiantian"
   ]
  },
  {
   "cell_type": "markdown",
   "metadata": {},
   "source": [
    "### 7.11.1 Wanliu"
   ]
  },
  {
   "cell_type": "markdown",
   "metadata": {},
   "source": [
    "### 7.12.1 Wanshouxigong"
   ]
  },
  {
   "cell_type": "code",
   "execution_count": null,
   "metadata": {},
   "outputs": [],
   "source": []
  },
  {
   "cell_type": "markdown",
   "metadata": {
    "id": "SwTsv9PWoy5p"
   },
   "source": [
    "## 8 Visualization & Explanatory Analysis"
   ]
  },
  {
   "cell_type": "markdown",
   "metadata": {
    "id": "1XUQOk9eoy5p"
   },
   "source": [
    "### 8.1 Pertanyaan 1: Apa tren utama dalam tingkat kualitas udara (PM2.5, PM10) di 12 provinsi di Tiongkok selama periode waktu yang diamati (2013-2017)?"
   ]
  },
  {
   "cell_type": "markdown",
   "metadata": {},
   "source": [
    "#### Aoti_df"
   ]
  },
  {
   "cell_type": "code",
   "execution_count": null,
   "metadata": {},
   "outputs": [],
   "source": [
    "def partikulasi_polusi(df, year, month, day_start, day_end):\n",
    "    # Filter data sesuai tahun, bulan, dan hari\n",
    "    mask = (df['year'] == year) & (df['month'] == month) & (df['day'].between(day_start, day_end))\n",
    "    monthly_data = df[mask]\n",
    "    \n",
    "    # Menghitung rata-rata PM2.5 dan PM10\n",
    "    avg_PM25 = monthly_data['PM2.5'].mean()\n",
    "    avg_PM10 = monthly_data['PM10'].mean()\n",
    "    \n",
    "    return pd.DataFrame({\n",
    "        'month': [month],\n",
    "        'avg_PM25': [avg_PM25],\n",
    "        'avg_PM10': [avg_PM10]\n",
    "    })\n",
    "\n",
    "# Buat dictionary untuk menyimpan data per bulan\n",
    "partikulasi_polusi_aoti_df_harian_2013 = {}\n",
    "\n",
    "# Loop untuk mengisi data per bulan\n",
    "months = range(1, 13)\n",
    "for month in months:\n",
    "    partikulasi_polusi_aoti_df_harian_2013[month] = partikulasi_polusi(\n",
    "        aotizhongxin_df, year=2013, month=month, day_start=1, day_end=30)\n",
    "\n",
    "# Gabungkan semua dataframe bulanan ke dalam satu dataframe\n",
    "all_months_data = pd.concat(partikulasi_polusi_aoti_df_harian_2013.values())\n",
    "\n",
    "# Pastikan urutan bulan benar\n",
    "all_months_data['month'] = pd.Categorical(all_months_data['month'], categories=list(range(1, 13)), ordered=True)\n",
    "\n",
    "# Definisikan warna berbeda untuk PM2.5 dan PM10\n",
    "color_pm25 = 'blue'\n",
    "color_pm10 = 'orange'\n",
    "\n",
    "# Membuat plot menggunakan Plotly\n",
    "fig = go.Figure()\n",
    "\n",
    "# Tambahkan data untuk PM2.5\n",
    "fig.add_trace(go.Bar(\n",
    "    x=all_months_data['month'].astype(str),  # Ubah bulan menjadi string untuk sumbu x\n",
    "    y=all_months_data['avg_PM25'],\n",
    "    name='PM2.5',\n",
    "    marker_color=color_pm25,\n",
    "    hovertemplate='<b>Bulan %{x}</b><br>PM2.5: %{y:.2f} μg/m³<extra></extra>'\n",
    "))\n",
    "\n",
    "# Tambahkan data untuk PM10\n",
    "fig.add_trace(go.Bar(\n",
    "    x=all_months_data['month'].astype(str),  # Ubah bulan menjadi string untuk sumbu x\n",
    "    y=all_months_data['avg_PM10'],\n",
    "    name='PM10',\n",
    "    marker_color=color_pm10,\n",
    "    hovertemplate='<b>Bulan %{x}</b><br>PM10: %{y:.2f} μg/m³<extra></extra>'\n",
    "))\n",
    "\n",
    "# Layout dan label\n",
    "fig.update_layout(\n",
    "    title='Kadar PM2.5 dan PM10 per Bulan di Tahun 2013 (Aoti)',\n",
    "    xaxis=dict(\n",
    "        title='Bulan',  # Menetapkan judul untuk sumbu x\n",
    "        tickvals=list(range(1, 13)),  # Nilai untuk sumbu x (bulan 1 sampai 12)\n",
    "        ticktext=['Jan', 'Feb', 'Mar', 'Apr', 'May', 'Jun', 'Jul', 'Aug', 'Sep', 'Oct', 'Nov', 'Dec']  # Label bulan\n",
    "    ),\n",
    "    yaxis=dict(title='Kadar PM (μg/m³)'),  # Menetapkan judul untuk sumbu y\n",
    "    barmode='group',  # Mengelompokkan batang PM2.5 dan PM10\n",
    "    plot_bgcolor='rgba(0,0,0,0)',  # Warna latar belakang plot\n",
    "    paper_bgcolor='rgba(0,0,0,0)',  # Warna latar belakang kertas\n",
    "    font=dict(\n",
    "        family=\"Courier New, monospace\",  # Jenis font\n",
    "        size=18,  # Ukuran font\n",
    "        color=\"#7f7f7f\"  # Warna font\n",
    "    )\n",
    ")\n",
    "\n",
    "# Tampilkan grafik\n",
    "fig.show()\n"
   ]
  },
  {
   "cell_type": "code",
   "execution_count": null,
   "metadata": {},
   "outputs": [],
   "source": [
    "def partikulasi_polusi(df, year, month, day_start, day_end):\n",
    "    # Filter data sesuai tahun, bulan, dan hari\n",
    "    mask = (df['year'] == year) & (df['month'] == month) & (df['day'].between(day_start, day_end))\n",
    "    monthly_data = df[mask]\n",
    "    \n",
    "    # Menghitung rata-rata PM2.5 dan PM10\n",
    "    avg_PM25 = monthly_data['PM2.5'].mean()\n",
    "    avg_PM10 = monthly_data['PM10'].mean()\n",
    "    \n",
    "    return pd.DataFrame({\n",
    "        'month': [month],\n",
    "        'avg_PM25': [avg_PM25],\n",
    "        'avg_PM10': [avg_PM10]\n",
    "    })\n",
    "\n",
    "# Buat dictionary untuk menyimpan data per bulan\n",
    "partikulasi_polusi_aoti_df_harian_2014 = {}\n",
    "\n",
    "# Loop untuk mengisi data per bulan\n",
    "months = range(1, 13)\n",
    "for month in months:\n",
    "    partikulasi_polusi_aoti_df_harian_2014[month] = partikulasi_polusi(aotizhongxin_df, year=2014, month=month, day_start=1, day_end=30)\n",
    "\n",
    "# Gabungkan semua dataframe bulanan ke dalam satu dataframe\n",
    "all_months_data = pd.concat(partikulasi_polusi_aoti_df_harian_2014.values())\n",
    "\n",
    "# Pastikan urutan bulan benar\n",
    "all_months_data['month'] = pd.Categorical(all_months_data['month'], categories=list(range(1, 13)), ordered=True)\n",
    "\n",
    "# Definisikan warna berbeda untuk PM2.5 dan PM10\n",
    "color_pm25 = 'blue'\n",
    "color_pm10 = 'orange'\n",
    "\n",
    "# Membuat plot menggunakan Plotly\n",
    "fig = go.Figure()\n",
    "\n",
    "# Tambahkan data untuk PM2.5\n",
    "fig.add_trace(go.Bar(\n",
    "    x=all_months_data['month'].astype(str),  # Ubah bulan menjadi string untuk sumbu x\n",
    "    y=all_months_data['avg_PM25'],\n",
    "    name='PM2.5',\n",
    "    marker_color=color_pm25,\n",
    "    hovertemplate='<b>Bulan %{x}</b><br>PM2.5: %{y:.2f} μg/m³<extra></extra>'\n",
    "))\n",
    "\n",
    "# Tambahkan data untuk PM10\n",
    "fig.add_trace(go.Bar(\n",
    "    x=all_months_data['month'].astype(str),  # Ubah bulan menjadi string untuk sumbu x\n",
    "    y=all_months_data['avg_PM10'],\n",
    "    name='PM10',\n",
    "    marker_color=color_pm10,\n",
    "    hovertemplate='<b>Bulan %{x}</b><br>PM10: %{y:.2f} μg/m³<extra></extra>'\n",
    "))\n",
    "\n",
    "# Layout dan label\n",
    "fig.update_layout(\n",
    "    title='Kadar PM2.5 dan PM10 per Bulan di Tahun 2014 (Aoti)',\n",
    "    xaxis=dict(\n",
    "        title='Bulan',  # Menetapkan judul untuk sumbu x\n",
    "        tickvals=list(range(1, 13)),  # Nilai untuk sumbu x (bulan 1 sampai 12)\n",
    "        ticktext=['Jan', 'Feb', 'Mar', 'Apr', 'May', 'Jun', 'Jul', 'Aug', 'Sep', 'Oct', 'Nov', 'Dec']  # Label bulan\n",
    "    ),\n",
    "    yaxis=dict(title='Kadar PM (μg/m³)'),  # Menetapkan judul untuk sumbu y\n",
    "    barmode='group',  # Mengelompokkan batang PM2.5 dan PM10\n",
    "    plot_bgcolor='rgba(0,0,0,0)',  # Warna latar belakang plot\n",
    "    paper_bgcolor='rgba(0,0,0,0)',  # Warna latar belakang kertas\n",
    "    font=dict(\n",
    "        family=\"Courier New, monospace\",  # Jenis font\n",
    "        size=18,  # Ukuran font\n",
    "        color=\"#7f7f7f\"  # Warna font\n",
    "    )\n",
    ")\n",
    "\n",
    "# Tampilkan grafik\n",
    "fig.show()\n"
   ]
  },
  {
   "cell_type": "code",
   "execution_count": null,
   "metadata": {},
   "outputs": [],
   "source": [
    "def partikulasi_polusi(df, year, month, day_start, day_end):\n",
    "    # Filter data sesuai tahun, bulan, dan hari\n",
    "    mask = (df['year'] == year) & (df['month'] == month) & (df['day'].between(day_start, day_end))\n",
    "    monthly_data = df[mask]\n",
    "    \n",
    "    # Menghitung rata-rata PM2.5 dan PM10\n",
    "    avg_PM25 = monthly_data['PM2.5'].mean()\n",
    "    avg_PM10 = monthly_data['PM10'].mean()\n",
    "    \n",
    "    return pd.DataFrame({\n",
    "        'month': [month],\n",
    "        'avg_PM25': [avg_PM25],\n",
    "        'avg_PM10': [avg_PM10]\n",
    "    })\n",
    "\n",
    "# Buat dictionary untuk menyimpan data per bulan\n",
    "partikulasi_polusi_aoti_df_harian_2015 = {}\n",
    "\n",
    "# Loop untuk mengisi data per bulan\n",
    "months = range(1, 13)\n",
    "for month in months:\n",
    "    partikulasi_polusi_aoti_df_harian_2015[month] = partikulasi_polusi(aotizhongxin_df, year=2015, month=month, day_start=1, day_end=30)\n",
    "\n",
    "# Gabungkan semua dataframe bulanan ke dalam satu dataframe\n",
    "all_months_data = pd.concat(partikulasi_polusi_aoti_df_harian_2015.values())\n",
    "\n",
    "# Pastikan urutan bulan benar\n",
    "all_months_data['month'] = pd.Categorical(all_months_data['month'], categories=list(range(1, 13)), ordered=True)\n",
    "\n",
    "# Definisikan warna berbeda untuk PM2.5 dan PM10\n",
    "color_pm25 = 'blue'\n",
    "color_pm10 = 'orange'\n",
    "\n",
    "# Membuat plot menggunakan Plotly\n",
    "fig = go.Figure()\n",
    "\n",
    "# Tambahkan data untuk PM2.5\n",
    "fig.add_trace(go.Bar(\n",
    "    x=all_months_data['month'].astype(str),  # Ubah bulan menjadi string untuk sumbu x\n",
    "    y=all_months_data['avg_PM25'],\n",
    "    name='PM2.5',\n",
    "    marker_color=color_pm25,\n",
    "    hovertemplate='<b>Bulan %{x}</b><br>PM2.5: %{y:.2f} μg/m³<extra></extra>'\n",
    "))\n",
    "\n",
    "# Tambahkan data untuk PM10\n",
    "fig.add_trace(go.Bar(\n",
    "    x=all_months_data['month'].astype(str),  # Ubah bulan menjadi string untuk sumbu x\n",
    "    y=all_months_data['avg_PM10'],\n",
    "    name='PM10',\n",
    "    marker_color=color_pm10,\n",
    "    hovertemplate='<b>Bulan %{x}</b><br>PM10: %{y:.2f} μg/m³<extra></extra>'\n",
    "))\n",
    "\n",
    "# Layout dan label\n",
    "fig.update_layout(\n",
    "    title='Kadar PM2.5 dan PM10 per Bulan di Tahun 2015 (Aoti)',\n",
    "    xaxis=dict(\n",
    "        title='Bulan',  # Menetapkan judul untuk sumbu x\n",
    "        tickvals=list(range(1, 13)),  # Nilai untuk sumbu x (bulan 1 sampai 12)\n",
    "        ticktext=['Jan', 'Feb', 'Mar', 'Apr', 'May', 'Jun', 'Jul', 'Aug', 'Sep', 'Oct', 'Nov', 'Dec']  # Label bulan\n",
    "    ),\n",
    "    yaxis=dict(title='Kadar PM (μg/m³)'),  # Menetapkan judul untuk sumbu y\n",
    "    barmode='group',  # Mengelompokkan batang PM2.5 dan PM10\n",
    "    plot_bgcolor='rgba(0,0,0,0)',  # Warna latar belakang plot\n",
    "    paper_bgcolor='rgba(0,0,0,0)',  # Warna latar belakang kertas\n",
    "    font=dict(\n",
    "        family=\"Courier New, monospace\",  # Jenis font\n",
    "        size=18,  # Ukuran font\n",
    "        color=\"#7f7f7f\"  # Warna font\n",
    "    )\n",
    ")\n",
    "\n",
    "# Tampilkan grafik\n",
    "fig.show()\n"
   ]
  },
  {
   "cell_type": "code",
   "execution_count": null,
   "metadata": {},
   "outputs": [],
   "source": [
    "def partikulasi_polusi(df, year, month, day_start, day_end):\n",
    "    # Filter data sesuai tahun, bulan, dan hari\n",
    "    mask = (df['year'] == year) & (df['month'] == month) & (df['day'].between(day_start, day_end))\n",
    "    monthly_data = df[mask]\n",
    "    \n",
    "    # Menghitung rata-rata PM2.5 dan PM10\n",
    "    avg_PM25 = monthly_data['PM2.5'].mean()\n",
    "    avg_PM10 = monthly_data['PM10'].mean()\n",
    "    \n",
    "    return pd.DataFrame({\n",
    "        'month': [month],\n",
    "        'avg_PM25': [avg_PM25],\n",
    "        'avg_PM10': [avg_PM10]\n",
    "    })\n",
    "\n",
    "# Buat dictionary untuk menyimpan data per bulan\n",
    "partikulasi_polusi_aoti_df_harian_2016 = {}\n",
    "\n",
    "# Loop untuk mengisi data per bulan\n",
    "months = range(1, 13)\n",
    "for month in months:\n",
    "    partikulasi_polusi_aoti_df_harian_2016[month] = partikulasi_polusi(aotizhongxin_df, year=2016, month=month, day_start=1, day_end=30)\n",
    "\n",
    "# Gabungkan semua dataframe bulanan ke dalam satu dataframe\n",
    "all_months_data = pd.concat(partikulasi_polusi_aoti_df_harian_2016.values())\n",
    "\n",
    "# Pastikan urutan bulan benar\n",
    "all_months_data['month'] = pd.Categorical(all_months_data['month'], categories=list(range(1, 13)), ordered=True)\n",
    "\n",
    "# Definisikan warna berbeda untuk PM2.5 dan PM10\n",
    "color_pm25 = 'blue'\n",
    "color_pm10 = 'orange'\n",
    "\n",
    "# Membuat plot menggunakan Plotly\n",
    "fig = go.Figure()\n",
    "\n",
    "# Tambahkan data untuk PM2.5\n",
    "fig.add_trace(go.Bar(\n",
    "    x=all_months_data['month'].astype(str),  # Ubah bulan menjadi string untuk sumbu x\n",
    "    y=all_months_data['avg_PM25'],\n",
    "    name='PM2.5',\n",
    "    marker_color=color_pm25,\n",
    "    hovertemplate='<b>Bulan %{x}</b><br>PM2.5: %{y:.2f} μg/m³<extra></extra>'\n",
    "))\n",
    "\n",
    "# Tambahkan data untuk PM10\n",
    "fig.add_trace(go.Bar(\n",
    "    x=all_months_data['month'].astype(str),  # Ubah bulan menjadi string untuk sumbu x\n",
    "    y=all_months_data['avg_PM10'],\n",
    "    name='PM10',\n",
    "    marker_color=color_pm10,\n",
    "    hovertemplate='<b>Bulan %{x}</b><br>PM10: %{y:.2f} μg/m³<extra></extra>'\n",
    "))\n",
    "\n",
    "# Layout dan label\n",
    "fig.update_layout(\n",
    "    title='Kadar PM2.5 dan PM10 per Bulan di Tahun 2016 (Aoti)',\n",
    "    xaxis=dict(\n",
    "        title='Bulan',  # Menetapkan judul untuk sumbu x\n",
    "        tickvals=list(range(1, 13)),  # Nilai untuk sumbu x (bulan 1 sampai 12)\n",
    "        ticktext=['Jan', 'Feb', 'Mar', 'Apr', 'May', 'Jun', 'Jul', 'Aug', 'Sep', 'Oct', 'Nov', 'Dec']  # Label bulan\n",
    "    ),\n",
    "    yaxis=dict(title='Kadar PM (μg/m³)'),  # Menetapkan judul untuk sumbu y\n",
    "    barmode='group',  # Mengelompokkan batang PM2.5 dan PM10\n",
    "    plot_bgcolor='rgba(0,0,0,0)',  # Warna latar belakang plot\n",
    "    paper_bgcolor='rgba(0,0,0,0)',  # Warna latar belakang kertas\n",
    "    font=dict(\n",
    "        family=\"Courier New, monospace\",  # Jenis font\n",
    "        size=18,  # Ukuran font\n",
    "        color=\"#7f7f7f\"  # Warna font\n",
    "    )\n",
    ")\n",
    "\n",
    "# Tampilkan grafik\n",
    "fig.show()\n"
   ]
  },
  {
   "cell_type": "code",
   "execution_count": null,
   "metadata": {},
   "outputs": [],
   "source": [
    "def partikulasi_polusi(df, year, month, day_start, day_end):\n",
    "    # Filter data sesuai tahun, bulan, dan hari\n",
    "    mask = (df['year'] == year) & (df['month'] == month) & (df['day'].between(day_start, day_end))\n",
    "    monthly_data = df[mask]\n",
    "    \n",
    "    # Menghitung rata-rata PM2.5 dan PM10\n",
    "    avg_PM25 = monthly_data['PM2.5'].mean()\n",
    "    avg_PM10 = monthly_data['PM10'].mean()\n",
    "    \n",
    "    return pd.DataFrame({\n",
    "        'month': [month],\n",
    "        'avg_PM25': [avg_PM25],\n",
    "        'avg_PM10': [avg_PM10]\n",
    "    })\n",
    "\n",
    "# Buat dictionary untuk menyimpan data per bulan\n",
    "partikulasi_polusi_aoti_df_harian_2017 = {}\n",
    "\n",
    "# Loop untuk mengisi data per bulan\n",
    "months = range(1, 13)\n",
    "for month in months:\n",
    "    partikulasi_polusi_aoti_df_harian_2017[month] = partikulasi_polusi(aotizhongxin_df, year=2017, month=month, day_start=1, day_end=30)\n",
    "\n",
    "# Gabungkan semua dataframe bulanan ke dalam satu dataframe\n",
    "all_months_data = pd.concat(partikulasi_polusi_aoti_df_harian_2017.values())\n",
    "\n",
    "# Pastikan urutan bulan benar\n",
    "all_months_data['month'] = pd.Categorical(all_months_data['month'], categories=list(range(1, 13)), ordered=True)\n",
    "\n",
    "# Definisikan warna berbeda untuk PM2.5 dan PM10\n",
    "color_pm25 = 'blue'\n",
    "color_pm10 = 'orange'\n",
    "\n",
    "# Membuat plot menggunakan Plotly\n",
    "fig = go.Figure()\n",
    "\n",
    "# Tambahkan data untuk PM2.5\n",
    "fig.add_trace(go.Bar(\n",
    "    x=all_months_data['month'].astype(str),  # Ubah bulan menjadi string untuk sumbu x\n",
    "    y=all_months_data['avg_PM25'],\n",
    "    name='PM2.5',\n",
    "    marker_color=color_pm25,\n",
    "    hovertemplate='<b>Bulan %{x}</b><br>PM2.5: %{y:.2f} μg/m³<extra></extra>'\n",
    "))\n",
    "\n",
    "# Tambahkan data untuk PM10\n",
    "fig.add_trace(go.Bar(\n",
    "    x=all_months_data['month'].astype(str),  # Ubah bulan menjadi string untuk sumbu x\n",
    "    y=all_months_data['avg_PM10'],\n",
    "    name='PM10',\n",
    "    marker_color=color_pm10,\n",
    "    hovertemplate='<b>Bulan %{x}</b><br>PM10: %{y:.2f} μg/m³<extra></extra>'\n",
    "))\n",
    "\n",
    "# Layout dan label\n",
    "fig.update_layout(\n",
    "    title='Kadar PM2.5 dan PM10 per Bulan di Tahun 2017 (Aoti)',\n",
    "    xaxis=dict(\n",
    "        title='Bulan',  # Menetapkan judul untuk sumbu x\n",
    "        tickvals=list(range(1, 13)),  # Nilai untuk sumbu x (bulan 1 sampai 12)\n",
    "        ticktext=['Jan', 'Feb', 'Mar', 'Apr', 'May', 'Jun', 'Jul', 'Aug', 'Sep', 'Oct', 'Nov', 'Dec']  # Label bulan\n",
    "    ),\n",
    "    yaxis=dict(title='Kadar PM (μg/m³)'),  # Menetapkan judul untuk sumbu y\n",
    "    barmode='group',  # Mengelompokkan batang PM2.5 dan PM10\n",
    "    plot_bgcolor='rgba(0,0,0,0)',  # Warna latar belakang plot\n",
    "    paper_bgcolor='rgba(0,0,0,0)',  # Warna latar belakang kertas\n",
    "    font=dict(\n",
    "        family=\"Courier New, monospace\",  # Jenis font\n",
    "        size=18,  # Ukuran font\n",
    "        color=\"#7f7f7f\"  # Warna font\n",
    "    )\n",
    ")\n",
    "\n",
    "# Tampilkan grafik\n",
    "fig.show()\n"
   ]
  },
  {
   "cell_type": "code",
   "execution_count": null,
   "metadata": {},
   "outputs": [],
   "source": [
    "\n",
    "# Gabungkan semua dataframe per tahun\n",
    "all_years_data = pd.concat([aotizhongxin_partikulasi_polusi_bulanan_2013,\n",
    "                            aotizhongxin_partikulasi_polusi_bulanan_2014,\n",
    "                            aotizhongxin_partikulasi_polusi_bulanan_2015,\n",
    "                            aotizhongxin_partikulasi_polusi_bulanan_2016,\n",
    "                            aotizhongxin_partikulasi_polusi_bulanan_2017])\n",
    "\n",
    "# Definisikan warna berbeda untuk tiap tahun\n",
    "year_colors = {\n",
    "    2013: '#636EFA',  # Blue\n",
    "    2014: '#EF553B',  # Red\n",
    "    2015: '#00CC96',  # Green\n",
    "    2016: '#AB63FA',  # Purple\n",
    "    2017: '#FFA15A'  # Orange\n",
    "}\n",
    "\n",
    "# Membuat bar chart menggunakan Plotly\n",
    "fig = go.Figure()\n",
    "\n",
    "# Tambahkan data untuk tiap tahun dengan warna spesifik\n",
    "for year in range(2013, 2017):\n",
    "    yearly_data = all_years_data[all_years_data['year'] == year]\n",
    "    fig.add_trace(go.Bar(\n",
    "        x=yearly_data['month'],\n",
    "        y=yearly_data['avg_PM25'],\n",
    "        name=f'{year}',\n",
    "        marker_color=year_colors[year],\n",
    "        hovertemplate='<b>Bulan %{x}</b><br>Tahun: %{customdata}<br>PM2.5: %{y:.2f} μg/m³<extra></extra>',\n",
    "        customdata=yearly_data['year']\n",
    "    ))\n",
    "\n",
    "# Layout dan label\n",
    "fig.update_layout(\n",
    "    title='Polusi PM2.5 per Bulan (2013-2017)',\n",
    "    xaxis=dict(title='Bulan', tickvals=list(range(1, 13)),\n",
    "               ticktext=['Jan', 'Feb', 'Mar', 'Apr', 'May', 'Jun', 'Jul', 'Aug', 'Sep', 'Oct', 'Nov', 'Dec']),\n",
    "    yaxis=dict(title='Kadar PM2.5 (μg/m³)'),\n",
    "    barmode='group',\n",
    "    hovermode='x unified',\n",
    "    plot_bgcolor='rgba(0,0,0,0)',\n",
    "    paper_bgcolor='rgba(0,0,0,0)',\n",
    "    font=dict(\n",
    "        family=\"Courier New, monospace\",\n",
    "        size=18,\n",
    "        color=\"#7f7f7f\"\n",
    "    )\n",
    ")\n",
    "\n",
    "# Tampilkan grafik\n",
    "fig.show()\n"
   ]
  },
  {
   "cell_type": "code",
   "execution_count": null,
   "metadata": {},
   "outputs": [],
   "source": [
    "# Fungsi untuk menghitung rata-rata polusi tahunan\n",
    "def partikulasi_polusi_tahunan(df, year):\n",
    "    # Filter data sesuai tahun\n",
    "    mask = (df['year'] == year)\n",
    "    yearly_data = df[mask]\n",
    "\n",
    "    # Menghitung rata-rata PM2.5 dan PM10\n",
    "    avg_PM25 = yearly_data['PM2.5'].mean()\n",
    "    avg_PM10 = yearly_data['PM10'].mean()\n",
    "\n",
    "    return pd.DataFrame({\n",
    "        'year': [year],\n",
    "        'avg_PM25': [avg_PM25],\n",
    "        'avg_PM10': [avg_PM10]\n",
    "    })\n",
    "\n",
    "# Buat dictionary untuk menyimpan data tahunan\n",
    "partikulasi_polusi_aoti_df_tahunan = {}\n",
    "\n",
    "# Loop untuk mengisi data per tahun\n",
    "years = range(2013, 2018)  # Dari 2013 sampai 2017\n",
    "for year in years:\n",
    "    partikulasi_polusi_aoti_df_tahunan[year] = partikulasi_polusi_tahunan(aotizhongxin_df, year)\n",
    "\n",
    "# Gabungkan semua dataframe tahunan ke dalam satu dataframe\n",
    "all_years_data = pd.concat(partikulasi_polusi_aoti_df_tahunan.values())\n",
    "\n",
    "# Definisikan warna berbeda untuk PM2.5 dan PM10\n",
    "color_pm25 = 'blue'\n",
    "color_pm10 = 'orange'\n",
    "\n",
    "# Membuat plot menggunakan Plotly\n",
    "fig = go.Figure()\n",
    "\n",
    "# Tambahkan data untuk PM2.5\n",
    "fig.add_trace(go.Bar(\n",
    "    x=all_years_data['year'].astype(str),  # Ubah tahun menjadi string untuk sumbu x\n",
    "    y=all_years_data['avg_PM25'],\n",
    "    name='PM2.5',\n",
    "    marker_color=color_pm25,\n",
    "    hovertemplate='<b>Tahun %{x}</b><br>PM2.5: %{y:.2f} μg/m³<extra></extra>'\n",
    "))\n",
    "\n",
    "# Tambahkan data untuk PM10\n",
    "fig.add_trace(go.Bar(\n",
    "    x=all_years_data['year'].astype(str),  # Ubah tahun menjadi string untuk sumbu x\n",
    "    y=all_years_data['avg_PM10'],\n",
    "    name='PM10',\n",
    "    marker_color=color_pm10,\n",
    "    hovertemplate='<b>Tahun %{x}</b><br>PM10: %{y:.2f} μg/m³<extra></extra>'\n",
    "))\n",
    "\n",
    "# Layout dan label\n",
    "fig.update_layout(\n",
    "    title='Kadar PM2.5 dan PM10 per Tahun dari 2013 hingga 2017 (Aoti)',\n",
    "    xaxis=dict(\n",
    "        title='Tahun',  # Menetapkan judul untuk sumbu x\n",
    "    ),\n",
    "    yaxis=dict(title='Kadar PM (μg/m³)'),  # Menetapkan judul untuk sumbu y\n",
    "    barmode='group',  # Mengelompokkan batang PM2.5 dan PM10\n",
    "    plot_bgcolor='rgba(0,0,0,0)',  # Warna latar belakang plot\n",
    "    paper_bgcolor='rgba(0,0,0,0)',  # Warna latar belakang kertas\n",
    "    font=dict(\n",
    "        family=\"Courier New, monospace\",  # Jenis font\n",
    "        size=18,  # Ukuran font\n",
    "        color=\"#7f7f7f\"  # Warna font\n",
    "    )\n",
    ")\n",
    "\n",
    "# Tampilkan grafik\n",
    "fig.show()\n"
   ]
  },
  {
   "cell_type": "markdown",
   "metadata": {},
   "source": [
    "#### changping df"
   ]
  },
  {
   "cell_type": "code",
   "execution_count": null,
   "metadata": {},
   "outputs": [],
   "source": [
    "partikulasi_polusi_changping_df_df_harian_2013 = {}\n",
    "\n",
    "# Loop to fill data for each month\n",
    "months = range(1, 13)\n",
    "for month in months:\n",
    "    partikulasi_polusi_changping_df_df_harian_2013[month] = partikulasi_polusi(changping_df, year=2013, month=month, day_start=1, day_end=30)\n",
    "\n",
    "# Combine all monthly DataFrames into a single DataFrame\n",
    "all_months_data = pd.concat(partikulasi_polusi_changping_df_df_harian_2013.values())\n",
    "\n",
    "# Ensure the month order is correct\n",
    "all_months_data['month'] = pd.Categorical(all_months_data['month'], categories=list(range(3, 13)), ordered=True)\n",
    "\n",
    "# Define different colors for PM2.5 and PM10\n",
    "color_pm25 = 'blue'\n",
    "color_pm10 = 'orange'\n",
    "\n",
    "# Create a plot using Plotly\n",
    "fig = go.Figure()\n",
    "\n",
    "# Add data for PM2.5\n",
    "fig.add_trace(go.Bar(\n",
    "    x=all_months_data['month'].astype(str),  # Convert month to string for x-axis\n",
    "    y=all_months_data['avg_PM25'],\n",
    "    name='PM2.5',\n",
    "    marker_color=color_pm25,\n",
    "    hovertemplate='<b>Bulan %{x}</b><br>PM2.5: %{y:.2f} μg/m³<extra></extra>'\n",
    "))\n",
    "\n",
    "# Add data for PM10\n",
    "fig.add_trace(go.Bar(\n",
    "    x=all_months_data['month'].astype(str),  # Convert month to string for x-axis\n",
    "    y=all_months_data['avg_PM10'],\n",
    "    name='PM10',\n",
    "    marker_color=color_pm10,\n",
    "    hovertemplate='<b>Bulan %{x}</b><br>PM10: %{y:.2f} μg/m³<extra></extra>'\n",
    "))\n",
    "\n",
    "# Layout and labels\n",
    "fig.update_layout(\n",
    "    title='Kadar PM2.5 dan PM10 per Bulan di Tahun 2013 (Changping)',\n",
    "    xaxis=dict(\n",
    "        title='Bulan',  # Set title for x-axis\n",
    "        tickvals=list(range(3, 13)),  # Values for x-axis (months 1 to 12)\n",
    "        ticktext=[ 'Mar', 'Apr', 'May', 'Jun', 'Jul', 'Aug', 'Sep', 'Oct', 'Nov', 'Dec']  # Month labels\n",
    "    ),\n",
    "    yaxis=dict(title='Kadar PM (μg/m³)'),  # Set title for y-axis\n",
    "    barmode='group',  # Group PM2.5 and PM10 bars\n",
    "    plot_bgcolor='rgba(0,0,0,0)',  # Background color of the plot\n",
    "    paper_bgcolor='rgba(0,0,0,0)',  # Background color of the paper\n",
    "    font=dict(\n",
    "        family=\"Courier New, monospace\",  # Font type\n",
    "        size=18,  # Font size\n",
    "        color=\"#7f7f7f\"  # Font color\n",
    "    )\n",
    ")\n",
    "\n",
    "# Show the plot\n",
    "fig.show()\n"
   ]
  },
  {
   "cell_type": "code",
   "execution_count": null,
   "metadata": {},
   "outputs": [],
   "source": [
    "partikulasi_polusi_changping_df_df_harian_2014 = {}\n",
    "\n",
    "# Loop to fill data for each month\n",
    "months = range(1, 13)\n",
    "for month in months:\n",
    "    partikulasi_polusi_changping_df_df_harian_2014[month] = partikulasi_polusi(changping_df, year=2014, month=month, day_start=1, day_end=30)\n",
    "\n",
    "# Combine all monthly DataFrames into a single DataFrame\n",
    "all_months_data = pd.concat(partikulasi_polusi_changping_df_df_harian_2014.values())\n",
    "\n",
    "# Ensure the month order is correct\n",
    "all_months_data['month'] = pd.Categorical(all_months_data['month'], categories=list(range(1, 13)), ordered=True)\n",
    "\n",
    "# Define different colors for PM2.5 and PM10\n",
    "color_pm25 = 'blue'\n",
    "color_pm10 = 'orange'\n",
    "\n",
    "# Create a plot using Plotly\n",
    "fig = go.Figure()\n",
    "\n",
    "# Add data for PM2.5\n",
    "fig.add_trace(go.Bar(\n",
    "    x=all_months_data['month'].astype(str),  # Convert month to string for x-axis\n",
    "    y=all_months_data['avg_PM25'],\n",
    "    name='PM2.5',\n",
    "    marker_color=color_pm25,\n",
    "    hovertemplate='<b>Bulan %{x}</b><br>PM2.5: %{y:.2f} μg/m³<extra></extra>'\n",
    "))\n",
    "\n",
    "# Add data for PM10\n",
    "fig.add_trace(go.Bar(\n",
    "    x=all_months_data['month'].astype(str),  # Convert month to string for x-axis\n",
    "    y=all_months_data['avg_PM10'],\n",
    "    name='PM10',\n",
    "    marker_color=color_pm10,\n",
    "    hovertemplate='<b>Bulan %{x}</b><br>PM10: %{y:.2f} μg/m³<extra></extra>'\n",
    "))\n",
    "\n",
    "# Layout and labels\n",
    "fig.update_layout(\n",
    "    title='Kadar PM2.5 dan PM10 per Bulan di Tahun 2014 (Changping)',\n",
    "    xaxis=dict(\n",
    "        title='Bulan',  # Set title for x-axis\n",
    "        tickvals=list(range(1, 13)),  # Values for x-axis (months 1 to 12)\n",
    "        ticktext=['Jan', 'Feb', 'Mar', 'Apr', 'May', 'Jun', 'Jul', 'Aug', 'Sep', 'Oct', 'Nov', 'Dec']  # Month labels\n",
    "    ),\n",
    "    yaxis=dict(title='Kadar PM (μg/m³)'),  # Set title for y-axis\n",
    "    barmode='group',  # Group PM2.5 and PM10 bars\n",
    "    plot_bgcolor='rgba(0,0,0,0)',  # Background color of the plot\n",
    "    paper_bgcolor='rgba(0,0,0,0)',  # Background color of the paper\n",
    "    font=dict(\n",
    "        family=\"Courier New, monospace\",  # Font type\n",
    "        size=18,  # Font size\n",
    "        color=\"#7f7f7f\"  # Font color\n",
    "    )\n",
    ")\n",
    "\n",
    "# Show the plot\n",
    "fig.show()\n"
   ]
  },
  {
   "cell_type": "code",
   "execution_count": null,
   "metadata": {},
   "outputs": [],
   "source": [
    "\n",
    "partikulasi_polusi_changping_df_df_harian_2015 = {}\n",
    "\n",
    "months = range(1, 13)\n",
    "for month in months:\n",
    "    partikulasi_polusi_changping_df_df_harian_2015[month] = partikulasi_polusi(changping_df, year=2015, month=month, day_start=1, day_end=30)\n",
    "\n",
    "all_months_data = pd.concat(partikulasi_polusi_changping_df_df_harian_2015.values())\n",
    "\n",
    "all_months_data['month'] = pd.Categorical(all_months_data['month'], categories=list(range(1, 13)), ordered=True)\n",
    "\n",
    "color_pm25 = 'blue'\n",
    "color_pm10 = 'orange'\n",
    "\n",
    "fig = go.Figure()\n",
    "\n",
    "fig.add_trace(go.Bar(\n",
    "    x=all_months_data['month'].astype(str), \n",
    "    y=all_months_data['avg_PM25'],\n",
    "    name='PM2.5',\n",
    "    marker_color=color_pm25,\n",
    "    hovertemplate='<b>Bulan %{x}</b><br>PM2.5: %{y:.2f} μg/m³<extra></extra>'\n",
    "))\n",
    "\n",
    "fig.add_trace(go.Bar(\n",
    "    x=all_months_data['month'].astype(str), \n",
    "    y=all_months_data['avg_PM10'],\n",
    "    name='PM10',\n",
    "    marker_color=color_pm10,\n",
    "    hovertemplate='<b>Bulan %{x}</b><br>PM10: %{y:.2f} μg/m³<extra></extra>'\n",
    "))\n",
    "\n",
    "fig.update_layout(\n",
    "    title='Kadar PM2.5 dan PM10 per Bulan di Tahun 2015 (Changping)',\n",
    "    xaxis=dict(\n",
    "        title='Bulan', \n",
    "        tickvals=list(range(1, 13)),  \n",
    "        ticktext=['Jan', 'Feb', 'Mar', 'Apr', 'May', 'Jun', 'Jul', 'Aug', 'Sep', 'Oct', 'Nov', 'Dec']  \n",
    "    ),\n",
    "    yaxis=dict(title='Kadar PM (μg/m³)'),  \n",
    "    barmode='group',  \n",
    "    plot_bgcolor='rgba(0,0,0,0)', \n",
    "    paper_bgcolor='rgba(0,0,0,0)',  \n",
    "    font=dict(\n",
    "        family=\"Courier New, monospace\", \n",
    "        size=18, \n",
    "        color=\"#7f7f7f\"  \n",
    "    )\n",
    ")\n",
    "\n",
    "fig.show()\n"
   ]
  },
  {
   "cell_type": "code",
   "execution_count": null,
   "metadata": {},
   "outputs": [],
   "source": [
    "\n",
    "partikulasi_polusi_changping_df_df_harian_2016 = {}\n",
    "\n",
    "months = range(1, 13)\n",
    "for month in months:\n",
    "    partikulasi_polusi_changping_df_df_harian_2016[month] = partikulasi_polusi(changping_df, year=2016, month=month, day_start=1, day_end=30)\n",
    "\n",
    "all_months_data = pd.concat(partikulasi_polusi_changping_df_df_harian_2016.values())\n",
    "\n",
    "all_months_data['month'] = pd.Categorical(all_months_data['month'], categories=list(range(1, 13)), ordered=True)\n",
    "\n",
    "color_pm25 = 'blue'\n",
    "color_pm10 = 'orange'\n",
    "\n",
    "fig = go.Figure()\n",
    "\n",
    "fig.add_trace(go.Bar(\n",
    "    x=all_months_data['month'].astype(str), \n",
    "    y=all_months_data['avg_PM25'],\n",
    "    name='PM2.5',\n",
    "    marker_color=color_pm25,\n",
    "    hovertemplate='<b>Bulan %{x}</b><br>PM2.5: %{y:.2f} μg/m³<extra></extra>'\n",
    "))\n",
    "\n",
    "fig.add_trace(go.Bar(\n",
    "    x=all_months_data['month'].astype(str), \n",
    "    y=all_months_data['avg_PM10'],\n",
    "    name='PM10',\n",
    "    marker_color=color_pm10,\n",
    "    hovertemplate='<b>Bulan %{x}</b><br>PM10: %{y:.2f} μg/m³<extra></extra>'\n",
    "))\n",
    "\n",
    "fig.update_layout(\n",
    "    title='Kadar PM2.5 dan PM10 per Bulan di Tahun 2016 (Changping)',\n",
    "    xaxis=dict(\n",
    "        title='Bulan', \n",
    "        tickvals=list(range(1, 13)),  \n",
    "        ticktext=['Jan', 'Feb', 'Mar', 'Apr', 'May', 'Jun', 'Jul', 'Aug', 'Sep', 'Oct', 'Nov', 'Dec']  \n",
    "    ),\n",
    "    yaxis=dict(title='Kadar PM (μg/m³)'),  \n",
    "    barmode='group',  \n",
    "    plot_bgcolor='rgba(0,0,0,0)', \n",
    "    paper_bgcolor='rgba(0,0,0,0)',  \n",
    "    font=dict(\n",
    "        family=\"Courier New, monospace\", \n",
    "        size=18, \n",
    "        color=\"#7f7f7f\"  \n",
    "    )\n",
    ")\n",
    "\n",
    "fig.show()\n"
   ]
  },
  {
   "cell_type": "code",
   "execution_count": null,
   "metadata": {},
   "outputs": [],
   "source": [
    "\n",
    "partikulasi_polusi_changping_df_df_harian_201 = {}\n",
    "\n",
    "months = range(1, 13)\n",
    "for month in months:\n",
    "    partikulasi_polusi_changping_df_df_harian_201[month] = partikulasi_polusi(changping_df, year=2017, month=month, day_start=1, day_end=30)\n",
    "\n",
    "all_months_data = pd.concat(partikulasi_polusi_changping_df_df_harian_201.values())\n",
    "\n",
    "all_months_data['month'] = pd.Categorical(all_months_data['month'], categories=list(range(1, 3)), ordered=True)\n",
    "\n",
    "color_pm25 = 'blue'\n",
    "color_pm10 = 'orange'\n",
    "\n",
    "fig = go.Figure()\n",
    "\n",
    "fig.add_trace(go.Bar(\n",
    "    x=all_months_data['month'].astype(str), \n",
    "    y=all_months_data['avg_PM25'],\n",
    "    name='PM2.5',\n",
    "    marker_color=color_pm25,\n",
    "    hovertemplate='<b>Bulan %{x}</b><br>PM2.5: %{y:.2f} μg/m³<extra></extra>'\n",
    "))\n",
    "\n",
    "fig.add_trace(go.Bar(\n",
    "    x=all_months_data['month'].astype(str), \n",
    "    y=all_months_data['avg_PM10'],\n",
    "    name='PM10',\n",
    "    marker_color=color_pm10,\n",
    "    hovertemplate='<b>Bulan %{x}</b><br>PM10: %{y:.2f} μg/m³<extra></extra>'\n",
    "))\n",
    "\n",
    "fig.update_layout(\n",
    "    title='Kadar PM2.5 dan PM10 per Bulan di Tahun 2017 (Changping)',\n",
    "    xaxis=dict(\n",
    "        title='Bulan', \n",
    "        tickvals=list(range(1, 3)),  \n",
    "        ticktext=['Jan', 'Feb']  \n",
    "    ),\n",
    "    yaxis=dict(title='Kadar PM (μg/m³)'),  \n",
    "    barmode='group',  \n",
    "    plot_bgcolor='rgba(0,0,0,0)', \n",
    "    paper_bgcolor='rgba(0,0,0,0)',  \n",
    "    font=dict(\n",
    "        family=\"Courier New, monospace\", \n",
    "        size=18, \n",
    "        color=\"#7f7f7f\"  \n",
    "    )\n",
    ")\n",
    "\n",
    "fig.show()\n"
   ]
  },
  {
   "cell_type": "code",
   "execution_count": null,
   "metadata": {},
   "outputs": [],
   "source": [
    "# Fungsi untuk menghitung rata-rata polusi tahunan\n",
    "def partikulasi_polusi_tahunan(df, year):\n",
    "    # Filter data sesuai tahun\n",
    "    mask = (df['year'] == year)\n",
    "    yearly_data = df[mask]\n",
    "\n",
    "    # Menghitung rata-rata PM2.5 dan PM10\n",
    "    avg_PM25 = yearly_data['PM2.5'].mean()\n",
    "    avg_PM10 = yearly_data['PM10'].mean()\n",
    "\n",
    "    return pd.DataFrame({\n",
    "        'year': [year],\n",
    "        'avg_PM25': [avg_PM25],\n",
    "        'avg_PM10': [avg_PM10]\n",
    "    })\n",
    "\n",
    "# Buat dictionary untuk menyimpan data tahunan\n",
    "partikulasi_polusi_changping_df_tahunan = {}\n",
    "\n",
    "# Loop untuk mengisi data per tahun\n",
    "years = range(2013, 2018)  # Dari 2013 sampai 2017\n",
    "for year in years:\n",
    "    partikulasi_polusi_changping_df_tahunan[year] = partikulasi_polusi_tahunan(changping_df, year)\n",
    "\n",
    "# Gabungkan semua dataframe tahunan ke dalam satu dataframe\n",
    "all_years_data = pd.concat(partikulasi_polusi_changping_df_tahunan.values())\n",
    "\n",
    "# Definisikan warna berbeda untuk PM2.5 dan PM10\n",
    "color_pm25 = 'blue'\n",
    "color_pm10 = 'orange'\n",
    "\n",
    "# Membuat plot menggunakan Plotly\n",
    "fig = go.Figure()\n",
    "\n",
    "# Tambahkan data untuk PM2.5\n",
    "fig.add_trace(go.Bar(\n",
    "    x=all_years_data['year'].astype(str),  \n",
    "    y=all_years_data['avg_PM25'],\n",
    "    name='PM2.5',\n",
    "    marker_color=color_pm25,\n",
    "    hovertemplate='<b>Tahun %{x}</b><br>PM2.5: %{y:.2f} μg/m³<extra></extra>'\n",
    "))\n",
    "\n",
    "# Tambahkan data untuk PM10\n",
    "fig.add_trace(go.Bar(\n",
    "    x=all_years_data['year'].astype(str),  \n",
    "    y=all_years_data['avg_PM10'],\n",
    "    name='PM10',\n",
    "    marker_color=color_pm10,\n",
    "    hovertemplate='<b>Tahun %{x}</b><br>PM10: %{y:.2f} μg/m³<extra></extra>'\n",
    "))\n",
    "\n",
    "# Layout dan label\n",
    "fig.update_layout(\n",
    "    title='Kadar PM2.5 dan PM10 per Tahun dari 2013 hingga 2017 Changping',\n",
    "    xaxis=dict(\n",
    "        title='Tahun',  # Menetapkan judul untuk sumbu x\n",
    "    ),\n",
    "    yaxis=dict(title='Kadar PM (μg/m³)'),  # Menetapkan judul untuk sumbu y\n",
    "    barmode='group',  # Mengelompokkan batang PM2.5 dan PM10\n",
    "    plot_bgcolor='rgba(0,0,0,0)',  # Warna latar belakang plot\n",
    "    paper_bgcolor='rgba(0,0,0,0)',  # Warna latar belakang kertas\n",
    "    font=dict(\n",
    "        family=\"Courier New, monospace\",  # Jenis font\n",
    "        size=18,  # Ukuran font\n",
    "        color=\"#7f7f7f\"  # Warna font\n",
    "    )\n",
    ")\n",
    "\n",
    "# Tampilkan grafik\n",
    "fig.show()\n"
   ]
  },
  {
   "cell_type": "code",
   "execution_count": null,
   "metadata": {
    "id": "rYC9n_1yoy5p"
   },
   "outputs": [],
   "source": [
    "# waktu kapan yang paling besar tingkat polusi udara mingguan"
   ]
  },
  {
   "cell_type": "code",
   "execution_count": null,
   "metadata": {
    "colab": {
     "base_uri": "https://localhost:8080/",
     "height": 542
    },
    "id": "g-lG3mDznQCJ",
    "outputId": "84868b7d-9c75-473d-82ca-881b2bf53a41"
   },
   "outputs": [],
   "source": [
    "\n",
    "# Gabungkan semua dataframe per tahun\n",
    "all_years_data = pd.concat([aotizhongxin_partikulasi_polusi_bulanan_2013,\n",
    "                            aotizhongxin_partikulasi_polusi_bulanan_2014,\n",
    "                            aotizhongxin_partikulasi_polusi_bulanan_2015,\n",
    "                            aotizhongxin_partikulasi_polusi_bulanan_2016,\n",
    "                            aotizhongxin_partikulasi_polusi_bulanan_2017])\n",
    "\n",
    "# Definisikan warna berbeda untuk tiap tahun\n",
    "year_colors = {\n",
    "    2013: '#636EFA',  # Blue\n",
    "    2014: '#EF553B',  # Red\n",
    "    2015: '#00CC96',  # Green\n",
    "    2016: '#AB63FA',  # Purple\n",
    "    2017: '#FFA15A'  # Orange\n",
    "}\n",
    "\n",
    "# Membuat bar chart menggunakan Plotly\n",
    "fig = go.Figure()\n",
    "\n",
    "# Tambahkan data untuk tiap tahun dengan warna spesifik\n",
    "for year in range(2013, 2017):\n",
    "    yearly_data = all_years_data[all_years_data['year'] == year]\n",
    "    fig.add_trace(go.Bar(\n",
    "        x=yearly_data['month'],\n",
    "        y=yearly_data['avg_PM25'],\n",
    "        name=f'{year}',\n",
    "        marker_color=year_colors[year],\n",
    "        hovertemplate='<b>Bulan %{x}</b><br>Tahun: %{customdata}<br>PM2.5: %{y:.2f} μg/m³<extra></extra>',\n",
    "        customdata=yearly_data['year']\n",
    "    ))\n",
    "\n",
    "# Layout dan label\n",
    "fig.update_layout(\n",
    "    title='Polusi PM2.5 per Bulan (2013-2017)',\n",
    "    xaxis=dict(title='Bulan', tickvals=list(range(1, 13)),\n",
    "               ticktext=['Jan', 'Feb', 'Mar', 'Apr', 'May', 'Jun', 'Jul', 'Aug', 'Sep', 'Oct', 'Nov', 'Dec']),\n",
    "    yaxis=dict(title='Kadar PM2.5 (μg/m³)'),\n",
    "    barmode='group',\n",
    "    hovermode='x unified',\n",
    "    plot_bgcolor='rgba(0,0,0,0)',\n",
    "    paper_bgcolor='rgba(0,0,0,0)',\n",
    "    font=dict(\n",
    "        family=\"Courier New, monospace\",\n",
    "        size=18,\n",
    "        color=\"#7f7f7f\"\n",
    "    )\n",
    ")\n",
    "\n",
    "# Tampilkan grafik\n",
    "fig.show()\n"
   ]
  },
  {
   "cell_type": "code",
   "execution_count": null,
   "metadata": {},
   "outputs": [],
   "source": [
    "# Buat dictionary untuk menyimpan data per bulan\n",
    "partikulasi_polusi_changping_suhu_harian_2014 = {}\n",
    "\n",
    "# Loop untuk mengisi data per bulan\n",
    "months = range(1, 13)\n",
    "for month in months:\n",
    "    partikulasi_polusi_changping_suhu_harian_2014[month] = korelasi_suhu(changping_df, year=2014, month=month, day_start=1, day_end=30)\n",
    "\n",
    "# Gabungkan semua dataframe bulanan ke dalam satu dataframe\n",
    "all_months_data = pd.concat(partikulasi_polusi_changping_suhu_harian_2014.values())\n",
    "\n",
    "# Pastikan urutan bulan benar\n",
    "all_months_data['month'] = pd.Categorical(all_months_data['month'], categories=list(range(1, 13)), ordered=True)\n",
    "\n",
    "# Definisikan warna berbeda untuk tiap bulan\n",
    "month_colors = {\n",
    "    1: 'red', 2: 'blue', 3: 'green', 4: 'orange', 5: 'purple', 6: 'cyan',\n",
    "    7: 'magenta', 8: 'yellow', 9: 'brown', 10: 'pink', 11: 'gray', 12: 'olive'\n",
    "}\n",
    "\n",
    "# Membuat plot menggunakan Plotly\n",
    "fig = go.Figure()\n",
    "\n",
    "# Tambahkan data untuk tiap bulan dengan warna spesifik\n",
    "for month in range(1, 13):\n",
    "    monthly_data = partikulasi_polusi_changping_suhu_harian_2014[month]\n",
    "    if not monthly_data.empty:\n",
    "        fig.add_trace(go.Scatter(\n",
    "            x=monthly_data['day'],\n",
    "            y=monthly_data['avg_TEMP'],\n",
    "            mode='lines+markers',\n",
    "            name=f'Bulan {month}',\n",
    "            marker=dict(color=month_colors[month]),\n",
    "            hovertemplate='<b>Hari %{x}</b><br>Suhu Rata-rata: %{y:.2f}°C<extra></extra>'\n",
    "        ))\n",
    "\n",
    "# Layout dan label\n",
    "fig.update_layout(\n",
    "    title='Suhu Rata-rata per Hari di Tahun 2014 (Changping)',\n",
    "    xaxis=dict(title='Hari'),\n",
    "    yaxis=dict(title='Suhu Rata-rata (°C)'),\n",
    "    hovermode='x unified',\n",
    "    plot_bgcolor='rgba(0,0,0,0)',\n",
    "    paper_bgcolor='rgba(0,0,0,0)',\n",
    "    font=dict(\n",
    "        family=\"Courier New, monospace\",\n",
    "        size=18,\n",
    "        color=\"#7f7f7f\"\n",
    "    )\n",
    ")\n",
    "\n",
    "# Tampilkan grafik\n",
    "fig.show()\n"
   ]
  },
  {
   "cell_type": "code",
   "execution_count": null,
   "metadata": {},
   "outputs": [],
   "source": [
    "import plotly.graph_objects as go\n",
    "import pandas as pd\n",
    "\n",
    "# Buat dictionary untuk menyimpan data per bulan\n",
    "partikulasi_polusi_changping_suhu_bulanan_2014 = {}\n",
    "\n",
    "# Loop untuk mengisi data per bulan\n",
    "months = range(1, 13)\n",
    "for month in months:\n",
    "    partikulasi_polusi_changping_suhu_bulanan_2014[month] = korelasi_suhu(changping_df, year=2014, month=month, day_start=1, day_end=30)\n",
    "\n",
    "# Gabungkan semua dataframe bulanan ke dalam satu dataframe\n",
    "all_months_data = pd.concat(partikulasi_polusi_changping_suhu_bulanan_2014.values())\n",
    "\n",
    "# Pastikan urutan bulan benar\n",
    "all_months_data['month'] = pd.Categorical(all_months_data['month'], categories=list(range(1, 13)), ordered=True)\n",
    "\n",
    "# Hitung rata-rata suhu per bulan\n",
    "avg_temp_per_month = all_months_data.groupby('month')['avg_TEMP'].mean().reset_index()\n",
    "\n",
    "# Definisikan warna berbeda untuk tiap bulan\n",
    "month_colors = {\n",
    "    1: 'red', 2: 'blue', 3: 'green', 4: 'orange', 5: 'purple', 6: 'cyan',\n",
    "    7: 'magenta', 8: 'yellow', 9: 'brown', 10: 'pink', 11: 'gray', 12: 'olive'\n",
    "}\n",
    "\n",
    "# Membuat bar chart menggunakan Plotly\n",
    "fig = go.Figure()\n",
    "\n",
    "# Tambahkan data suhu rata-rata per bulan\n",
    "fig.add_trace(go.Bar(\n",
    "    x=avg_temp_per_month['month'],\n",
    "    y=avg_temp_per_month['avg_TEMP'],\n",
    "    marker_color=[month_colors[month] for month in avg_temp_per_month['month']],\n",
    "    hovertemplate='<b>Bulan %{x}</b><br>Suhu Rata-rata: %{y:.2f}°C<extra></extra>'\n",
    "))\n",
    "\n",
    "# Layout dan label\n",
    "fig.update_layout(\n",
    "    title='Suhu Rata-rata per Bulan di Tahun 2014 (Changping)',\n",
    "    xaxis=dict(\n",
    "        title='Bulan',\n",
    "        tickvals=list(range(1, 13)),\n",
    "        ticktext=['Jan', 'Feb', 'Mar', 'Apr', 'May', 'Jun', 'Jul', 'Aug', 'Sep', 'Oct', 'Nov', 'Dec']\n",
    "    ),\n",
    "    yaxis=dict(title='Suhu Rata-rata (°C)'),\n",
    "    plot_bgcolor='rgba(0,0,0,0)',\n",
    "    paper_bgcolor='rgba(0,0,0,0)',\n",
    "    font=dict(\n",
    "        family=\"Courier New, monospace\",\n",
    "        size=18,\n",
    "        color=\"#7f7f7f\"\n",
    "    )\n",
    ")\n",
    "\n",
    "# Tampilkan grafik\n",
    "fig.show()\n"
   ]
  },
  {
   "cell_type": "markdown",
   "metadata": {
    "id": "oENrt3qToy5p"
   },
   "source": [
    "### 8.1 Pertanyaan 2:"
   ]
  },
  {
   "cell_type": "code",
   "execution_count": null,
   "metadata": {
    "id": "4qzgNR7Joy5q"
   },
   "outputs": [],
   "source": []
  },
  {
   "cell_type": "markdown",
   "metadata": {
    "id": "p7WavcbEoy5q"
   },
   "source": [
    "## 9 Analisis Lanjutan (Opsional)"
   ]
  },
  {
   "cell_type": "code",
   "execution_count": null,
   "metadata": {
    "id": "kOndyIl5oy5q"
   },
   "outputs": [],
   "source": []
  },
  {
   "cell_type": "markdown",
   "metadata": {
    "id": "KCyDoPvzoy5r"
   },
   "source": [
    "## 10 Conclusion"
   ]
  },
  {
   "cell_type": "markdown",
   "metadata": {
    "id": "ptQ8cXfhoy5r"
   },
   "source": []
  }
 ],
 "metadata": {
  "colab": {
   "include_colab_link": true,
   "provenance": [],
   "toc_visible": true
  },
  "kernelspec": {
   "display_name": "Python 3 (ipykernel)",
   "language": "python",
   "name": "python3"
  },
  "language_info": {
   "codemirror_mode": {
    "name": "ipython",
    "version": 3
   },
   "file_extension": ".py",
   "mimetype": "text/x-python",
   "name": "python",
   "nbconvert_exporter": "python",
   "pygments_lexer": "ipython3",
   "version": "3.11.10"
  }
 },
 "nbformat": 4,
 "nbformat_minor": 4
}
