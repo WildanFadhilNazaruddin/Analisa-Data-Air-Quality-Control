{
 "cells": [
  {
   "cell_type": "markdown",
   "metadata": {},
   "source": [
    "# Proyek Analisis Data: [PRSA AIR DATA QUALITY CONTROL]\n",
    "- **Nama:** WILDAN FADHIL NAZARUDDIN\n",
    "- **Email:** wildanfadhil76@gmail.com\n",
    "- **ID Dicoding:** "
   ]
  },
  {
   "cell_type": "markdown",
   "metadata": {},
   "source": [
    "## Menentukan Pertanyaan "
   ]
  },
  {
   "cell_type": "markdown",
   "metadata": {},
   "source": [
    "- Pertanyaan 1 :\n",
    "    - kota mana yang memiliki pm 2.5 dan pm 10 yang paling tinggi dengan periode tahun 2013-2017\n",
    "- Pertanyaan 2 :\n",
    "    - bagaimana kualitas udara yang terjadi pada rentang tahun 2013 - 2017\n",
    "    "
   ]
  },
  {
   "cell_type": "markdown",
   "metadata": {},
   "source": [
    "## Import Semua Packages/Library yang Digunakan"
   ]
  },
  {
   "cell_type": "code",
   "execution_count": 29,
   "metadata": {},
   "outputs": [],
   "source": [
    "# Library untuk manipulasi data\n",
    "import pandas as pd\n",
    "import numpy as np\n",
    "import os\n",
    "# Library untuk visualisasi data\n",
    "import matplotlib.pyplot as plt\n",
    "import seaborn as sns\n",
    "\n",
    "# Library untuk analisis statistik dan machine learning\n",
    "from scipy import stats\n",
    "\n",
    "# Libry untuk melihat mising valeu\n",
    "import missingno as msno\n",
    "import matplotlib.pyplot as plt\n",
    "\n",
    "# Libry untuk Visualisasi Data\n",
    "import plotly.express as px"
   ]
  },
  {
   "cell_type": "markdown",
   "metadata": {},
   "source": [
    "## Data Wrangling"
   ]
  },
  {
   "cell_type": "markdown",
   "metadata": {},
   "source": [
    "### Gathering Data"
   ]
  },
  {
   "cell_type": "code",
   "execution_count": 30,
   "metadata": {},
   "outputs": [],
   "source": [
    "def load_data():\n",
    "    current_dir = os.getcwd()  # Mendapatkan direktori saat ini\n",
    "    csv_files = [f\"PRSA_Data_{city}_20130301-20170228.csv\" for city in [\n",
    "        \"Aotizhongxin\", \"Changping\", \"Dingling\", \"Dongsi\", \"Guanyuan\", \n",
    "        \"Gucheng\", \"Huairou\", \"Nongzhanguan\", \"Shunyi\", \"Tiantan\", \n",
    "        \"Wanliu\", \"Wanshouxigong\"\n",
    "    ]]\n",
    "    \n",
    "    dataframes = {}\n",
    "    for csv_file in csv_files:\n",
    "        file_path = os.path.join(current_dir, \"data\", csv_file)\n",
    "        df = pd.read_csv(file_path)  # Membaca file CSV\n",
    "        location = csv_file.split('_')[2]\n",
    "        dataframes[location] = df\n",
    "\n",
    "    # Membuat variabel global untuk setiap DataFrame\n",
    "    for location, df in dataframes.items():\n",
    "        globals()[location] = df\n",
    "    \n",
    "    return dataframes\n",
    "\n",
    "# Memuat data dan inisialisasi variabel\n",
    "dataframes = load_data()"
   ]
  },
  {
   "cell_type": "code",
   "execution_count": 31,
   "metadata": {},
   "outputs": [
    {
     "data": {
      "text/html": [
       "<div>\n",
       "<style scoped>\n",
       "    .dataframe tbody tr th:only-of-type {\n",
       "        vertical-align: middle;\n",
       "    }\n",
       "\n",
       "    .dataframe tbody tr th {\n",
       "        vertical-align: top;\n",
       "    }\n",
       "\n",
       "    .dataframe thead th {\n",
       "        text-align: right;\n",
       "    }\n",
       "</style>\n",
       "<table border=\"1\" class=\"dataframe\">\n",
       "  <thead>\n",
       "    <tr style=\"text-align: right;\">\n",
       "      <th></th>\n",
       "      <th>No</th>\n",
       "      <th>year</th>\n",
       "      <th>month</th>\n",
       "      <th>day</th>\n",
       "      <th>hour</th>\n",
       "      <th>PM2.5</th>\n",
       "      <th>PM10</th>\n",
       "      <th>SO2</th>\n",
       "      <th>NO2</th>\n",
       "      <th>CO</th>\n",
       "      <th>O3</th>\n",
       "      <th>TEMP</th>\n",
       "      <th>PRES</th>\n",
       "      <th>DEWP</th>\n",
       "      <th>RAIN</th>\n",
       "      <th>wd</th>\n",
       "      <th>WSPM</th>\n",
       "      <th>station</th>\n",
       "    </tr>\n",
       "  </thead>\n",
       "  <tbody>\n",
       "    <tr>\n",
       "      <th>0</th>\n",
       "      <td>1</td>\n",
       "      <td>2013</td>\n",
       "      <td>3</td>\n",
       "      <td>1</td>\n",
       "      <td>0</td>\n",
       "      <td>7.0</td>\n",
       "      <td>7.0</td>\n",
       "      <td>3.0</td>\n",
       "      <td>2.0</td>\n",
       "      <td>100.0</td>\n",
       "      <td>91.0</td>\n",
       "      <td>-2.3</td>\n",
       "      <td>1020.3</td>\n",
       "      <td>-20.7</td>\n",
       "      <td>0.0</td>\n",
       "      <td>WNW</td>\n",
       "      <td>3.1</td>\n",
       "      <td>Huairou</td>\n",
       "    </tr>\n",
       "    <tr>\n",
       "      <th>1</th>\n",
       "      <td>2</td>\n",
       "      <td>2013</td>\n",
       "      <td>3</td>\n",
       "      <td>1</td>\n",
       "      <td>1</td>\n",
       "      <td>4.0</td>\n",
       "      <td>4.0</td>\n",
       "      <td>3.0</td>\n",
       "      <td>NaN</td>\n",
       "      <td>100.0</td>\n",
       "      <td>92.0</td>\n",
       "      <td>-2.7</td>\n",
       "      <td>1020.8</td>\n",
       "      <td>-20.5</td>\n",
       "      <td>0.0</td>\n",
       "      <td>NNW</td>\n",
       "      <td>1.5</td>\n",
       "      <td>Huairou</td>\n",
       "    </tr>\n",
       "    <tr>\n",
       "      <th>2</th>\n",
       "      <td>3</td>\n",
       "      <td>2013</td>\n",
       "      <td>3</td>\n",
       "      <td>1</td>\n",
       "      <td>2</td>\n",
       "      <td>4.0</td>\n",
       "      <td>4.0</td>\n",
       "      <td>NaN</td>\n",
       "      <td>NaN</td>\n",
       "      <td>100.0</td>\n",
       "      <td>91.0</td>\n",
       "      <td>-3.2</td>\n",
       "      <td>1020.6</td>\n",
       "      <td>-21.4</td>\n",
       "      <td>0.0</td>\n",
       "      <td>NW</td>\n",
       "      <td>1.8</td>\n",
       "      <td>Huairou</td>\n",
       "    </tr>\n",
       "    <tr>\n",
       "      <th>3</th>\n",
       "      <td>4</td>\n",
       "      <td>2013</td>\n",
       "      <td>3</td>\n",
       "      <td>1</td>\n",
       "      <td>3</td>\n",
       "      <td>3.0</td>\n",
       "      <td>3.0</td>\n",
       "      <td>3.0</td>\n",
       "      <td>2.0</td>\n",
       "      <td>NaN</td>\n",
       "      <td>NaN</td>\n",
       "      <td>-3.3</td>\n",
       "      <td>1021.3</td>\n",
       "      <td>-23.7</td>\n",
       "      <td>0.0</td>\n",
       "      <td>NNW</td>\n",
       "      <td>2.4</td>\n",
       "      <td>Huairou</td>\n",
       "    </tr>\n",
       "    <tr>\n",
       "      <th>4</th>\n",
       "      <td>5</td>\n",
       "      <td>2013</td>\n",
       "      <td>3</td>\n",
       "      <td>1</td>\n",
       "      <td>4</td>\n",
       "      <td>3.0</td>\n",
       "      <td>3.0</td>\n",
       "      <td>7.0</td>\n",
       "      <td>NaN</td>\n",
       "      <td>300.0</td>\n",
       "      <td>86.0</td>\n",
       "      <td>-4.1</td>\n",
       "      <td>1022.1</td>\n",
       "      <td>-22.7</td>\n",
       "      <td>0.0</td>\n",
       "      <td>NNW</td>\n",
       "      <td>2.2</td>\n",
       "      <td>Huairou</td>\n",
       "    </tr>\n",
       "  </tbody>\n",
       "</table>\n",
       "</div>"
      ],
      "text/plain": [
       "   No  year  month  day  hour  PM2.5  PM10  SO2  NO2     CO    O3  TEMP  \\\n",
       "0   1  2013      3    1     0    7.0   7.0  3.0  2.0  100.0  91.0  -2.3   \n",
       "1   2  2013      3    1     1    4.0   4.0  3.0  NaN  100.0  92.0  -2.7   \n",
       "2   3  2013      3    1     2    4.0   4.0  NaN  NaN  100.0  91.0  -3.2   \n",
       "3   4  2013      3    1     3    3.0   3.0  3.0  2.0    NaN   NaN  -3.3   \n",
       "4   5  2013      3    1     4    3.0   3.0  7.0  NaN  300.0  86.0  -4.1   \n",
       "\n",
       "     PRES  DEWP  RAIN   wd  WSPM  station  \n",
       "0  1020.3 -20.7   0.0  WNW   3.1  Huairou  \n",
       "1  1020.8 -20.5   0.0  NNW   1.5  Huairou  \n",
       "2  1020.6 -21.4   0.0   NW   1.8  Huairou  \n",
       "3  1021.3 -23.7   0.0  NNW   2.4  Huairou  \n",
       "4  1022.1 -22.7   0.0  NNW   2.2  Huairou  "
      ]
     },
     "execution_count": 31,
     "metadata": {},
     "output_type": "execute_result"
    }
   ],
   "source": [
    "# Menampilkan 5 baris pertama dari dataset 'Huairou'\n",
    "Huairou.head(5)\n"
   ]
  },
  {
   "cell_type": "markdown",
   "metadata": {},
   "source": [
    "**Insight:**\n",
    "1. Distribusi Data Berdasarkan Waktu\n",
    "Tren Musiman dan Tahunan: Berdasarkan kolom year, month, dan day, kita dapat menganalisis tren tahunan atau bulanan untuk melihat bagaimana kualitas udara (PM2.5, PM10, dll.) berubah sepanjang tahun.\n",
    "Misalnya, apakah PM2.5 lebih tinggi pada bulan-bulan tertentu?\n",
    "Korelasi Waktu dengan Polutan: Melihat apakah ada pola atau tren tertentu antara jam (hour) dan tingkat polusi. Misalnya, apakah tingkat polusi lebih tinggi pada jam-jam tertentu?\n",
    "2. Statistik Polutan (PM2.5, PM10, SO2, NO2, CO, O3)\n",
    "Rata-rata Polutan: Hitung nilai rata-rata dari setiap polutan (PM2.5, PM10, SO2, NO2, CO, O3) untuk melihat bagaimana kualitas udara secara keseluruhan di setiap stasiun atau pada waktu tertentu.\n",
    "Standar Deviasi dan Variabilitas: Mengukur seberapa besar variabilitas tingkat polutan di berbagai waktu dan lokasi.\n",
    "Outliers dan Nilai Hilang: Dari contoh data, kita dapat melihat bahwa ada nilai NaN di beberapa kolom (misalnya pada NO2, PM2.5, dll.). Ini perlu dianalisis lebih lanjut untuk mengidentifikasi apakah ada pola atau kesalahan dalam pengumpulan data.\n",
    "3. Faktor Cuaca (Suhu, Tekanan, Kelembapan, Angin)\n",
    "Korelasi Antara Polutan dan Cuaca: Analisis apakah terdapat hubungan antara cuaca (suhu TEMP, tekanan PRES, kelembapan DEWP) dengan tingkat polutan. Misalnya, apakah tingkat polusi cenderung lebih tinggi saat suhu rendah atau tekanan tinggi?\n",
    "Kecepatan Angin dan Polusi (WSPM): Apakah ada hubungan antara kecepatan angin dan tingkat polusi? Angin dapat mempengaruhi distribusi polutan di udara.\n",
    "4. Analisis Stasiun Pengamatan\n",
    "Perbandingan Antar Stasiun: Berdasarkan kolom station, kita bisa melakukan analisis perbandingan antara stasiun yang berbeda. Misalnya, apakah polutan seperti PM2.5 atau PM10 lebih tinggi di stasiun tertentu?\n",
    "Tren Spasial: Jika data terdiri dari beberapa stasiun di berbagai lokasi, kita dapat melihat tren geografis polusi udara di setiap wilayah.\n",
    "5. Kualitas Data\n",
    "Menangani Nilai Hilang (Missing Data): Identifikasi kolom yang memiliki banyak data hilang, misalnya NO2 dan SO2 dalam beberapa baris. Nilai hilang ini bisa diisi menggunakan teknik interpolasi atau dengan menggunakan nilai rata-rata/median jika diperlukan.\n",
    "Penghapusan atau Perbaikan Outlier: Mengidentifikasi dan memperbaiki nilai yang tidak wajar (outlier) untuk memastikan kualitas data lebih baik.\n",
    "6. Distribusi Angin\n",
    "Analisis Angin Berdasarkan Arah (wd): Kolom wd menunjukkan arah angin. Kita bisa melakukan analisis distribusi arah angin untuk melihat apakah ada arah angin yang lebih dominan atau apakah ada korelasi dengan polutan."
   ]
  },
  {
   "cell_type": "markdown",
   "metadata": {},
   "source": [
    "### Assessing Data"
   ]
  },
  {
   "cell_type": "code",
   "execution_count": 32,
   "metadata": {},
   "outputs": [],
   "source": [
    "def missing_values_table(df):\n",
    "    missing_data = df.isnull().sum()\n",
    "    missing_data = missing_data[missing_data > 0].sort_values(ascending=False)\n",
    "    percentage_missing = (missing_data / len(df)) * 100\n",
    "\n",
    "    missing_summary = pd.DataFrame({\n",
    "        'Column': missing_data.index,\n",
    "        'Missing Values': missing_data.values,\n",
    "        'Percentage': percentage_missing.values\n",
    "    })\n",
    "    \n",
    "    return missing_summary\n"
   ]
  },
  {
   "cell_type": "code",
   "execution_count": 33,
   "metadata": {},
   "outputs": [
    {
     "name": "stdout",
     "output_type": "stream",
     "text": [
      "Missing Values Summary for Aotizhongxin:\n"
     ]
    },
    {
     "data": {
      "text/html": [
       "<div>\n",
       "<style scoped>\n",
       "    .dataframe tbody tr th:only-of-type {\n",
       "        vertical-align: middle;\n",
       "    }\n",
       "\n",
       "    .dataframe tbody tr th {\n",
       "        vertical-align: top;\n",
       "    }\n",
       "\n",
       "    .dataframe thead th {\n",
       "        text-align: right;\n",
       "    }\n",
       "</style>\n",
       "<table border=\"1\" class=\"dataframe\">\n",
       "  <thead>\n",
       "    <tr style=\"text-align: right;\">\n",
       "      <th></th>\n",
       "      <th>Column</th>\n",
       "      <th>Missing Values</th>\n",
       "      <th>Percentage</th>\n",
       "    </tr>\n",
       "  </thead>\n",
       "  <tbody>\n",
       "    <tr>\n",
       "      <th>1</th>\n",
       "      <td>WSPM</td>\n",
       "      <td>14</td>\n",
       "      <td>0.039927</td>\n",
       "    </tr>\n",
       "    <tr>\n",
       "      <th>2</th>\n",
       "      <td>TEMP</td>\n",
       "      <td>20</td>\n",
       "      <td>0.057039</td>\n",
       "    </tr>\n",
       "    <tr>\n",
       "      <th>3</th>\n",
       "      <td>DEWP</td>\n",
       "      <td>20</td>\n",
       "      <td>0.057039</td>\n",
       "    </tr>\n",
       "    <tr>\n",
       "      <th>4</th>\n",
       "      <td>PRES</td>\n",
       "      <td>20</td>\n",
       "      <td>0.057039</td>\n",
       "    </tr>\n",
       "    <tr>\n",
       "      <th>5</th>\n",
       "      <td>RAIN</td>\n",
       "      <td>20</td>\n",
       "      <td>0.057039</td>\n",
       "    </tr>\n",
       "    <tr>\n",
       "      <th>6</th>\n",
       "      <td>wd</td>\n",
       "      <td>81</td>\n",
       "      <td>0.231006</td>\n",
       "    </tr>\n",
       "    <tr>\n",
       "      <th>7</th>\n",
       "      <td>PM10</td>\n",
       "      <td>718</td>\n",
       "      <td>2.047684</td>\n",
       "    </tr>\n",
       "    <tr>\n",
       "      <th>8</th>\n",
       "      <td>PM2.5</td>\n",
       "      <td>925</td>\n",
       "      <td>2.638033</td>\n",
       "    </tr>\n",
       "    <tr>\n",
       "      <th>9</th>\n",
       "      <td>SO2</td>\n",
       "      <td>935</td>\n",
       "      <td>2.666553</td>\n",
       "    </tr>\n",
       "    <tr>\n",
       "      <th>10</th>\n",
       "      <td>NO2</td>\n",
       "      <td>1023</td>\n",
       "      <td>2.917522</td>\n",
       "    </tr>\n",
       "    <tr>\n",
       "      <th>11</th>\n",
       "      <td>O3</td>\n",
       "      <td>1719</td>\n",
       "      <td>4.902464</td>\n",
       "    </tr>\n",
       "    <tr>\n",
       "      <th>12</th>\n",
       "      <td>CO</td>\n",
       "      <td>1776</td>\n",
       "      <td>5.065024</td>\n",
       "    </tr>\n",
       "  </tbody>\n",
       "</table>\n",
       "</div>"
      ],
      "text/plain": [
       "   Column  Missing Values  Percentage\n",
       "1    WSPM              14    0.039927\n",
       "2    TEMP              20    0.057039\n",
       "3    DEWP              20    0.057039\n",
       "4    PRES              20    0.057039\n",
       "5    RAIN              20    0.057039\n",
       "6      wd              81    0.231006\n",
       "7    PM10             718    2.047684\n",
       "8   PM2.5             925    2.638033\n",
       "9     SO2             935    2.666553\n",
       "10    NO2            1023    2.917522\n",
       "11     O3            1719    4.902464\n",
       "12     CO            1776    5.065024"
      ]
     },
     "metadata": {},
     "output_type": "display_data"
    },
    {
     "name": "stdout",
     "output_type": "stream",
     "text": [
      "Missing Values Summary for Changping:\n"
     ]
    },
    {
     "data": {
      "text/html": [
       "<div>\n",
       "<style scoped>\n",
       "    .dataframe tbody tr th:only-of-type {\n",
       "        vertical-align: middle;\n",
       "    }\n",
       "\n",
       "    .dataframe tbody tr th {\n",
       "        vertical-align: top;\n",
       "    }\n",
       "\n",
       "    .dataframe thead th {\n",
       "        text-align: right;\n",
       "    }\n",
       "</style>\n",
       "<table border=\"1\" class=\"dataframe\">\n",
       "  <thead>\n",
       "    <tr style=\"text-align: right;\">\n",
       "      <th></th>\n",
       "      <th>Column</th>\n",
       "      <th>Missing Values</th>\n",
       "      <th>Percentage</th>\n",
       "    </tr>\n",
       "  </thead>\n",
       "  <tbody>\n",
       "    <tr>\n",
       "      <th>1</th>\n",
       "      <td>WSPM</td>\n",
       "      <td>43</td>\n",
       "      <td>0.122633</td>\n",
       "    </tr>\n",
       "    <tr>\n",
       "      <th>2</th>\n",
       "      <td>PRES</td>\n",
       "      <td>50</td>\n",
       "      <td>0.142596</td>\n",
       "    </tr>\n",
       "    <tr>\n",
       "      <th>3</th>\n",
       "      <td>RAIN</td>\n",
       "      <td>51</td>\n",
       "      <td>0.145448</td>\n",
       "    </tr>\n",
       "    <tr>\n",
       "      <th>4</th>\n",
       "      <td>TEMP</td>\n",
       "      <td>53</td>\n",
       "      <td>0.151152</td>\n",
       "    </tr>\n",
       "    <tr>\n",
       "      <th>5</th>\n",
       "      <td>DEWP</td>\n",
       "      <td>53</td>\n",
       "      <td>0.151152</td>\n",
       "    </tr>\n",
       "    <tr>\n",
       "      <th>6</th>\n",
       "      <td>wd</td>\n",
       "      <td>140</td>\n",
       "      <td>0.399270</td>\n",
       "    </tr>\n",
       "    <tr>\n",
       "      <th>7</th>\n",
       "      <td>PM10</td>\n",
       "      <td>582</td>\n",
       "      <td>1.659822</td>\n",
       "    </tr>\n",
       "    <tr>\n",
       "      <th>8</th>\n",
       "      <td>O3</td>\n",
       "      <td>604</td>\n",
       "      <td>1.722564</td>\n",
       "    </tr>\n",
       "    <tr>\n",
       "      <th>9</th>\n",
       "      <td>SO2</td>\n",
       "      <td>628</td>\n",
       "      <td>1.791011</td>\n",
       "    </tr>\n",
       "    <tr>\n",
       "      <th>10</th>\n",
       "      <td>NO2</td>\n",
       "      <td>667</td>\n",
       "      <td>1.902236</td>\n",
       "    </tr>\n",
       "    <tr>\n",
       "      <th>11</th>\n",
       "      <td>PM2.5</td>\n",
       "      <td>774</td>\n",
       "      <td>2.207392</td>\n",
       "    </tr>\n",
       "    <tr>\n",
       "      <th>12</th>\n",
       "      <td>CO</td>\n",
       "      <td>1521</td>\n",
       "      <td>4.337782</td>\n",
       "    </tr>\n",
       "  </tbody>\n",
       "</table>\n",
       "</div>"
      ],
      "text/plain": [
       "   Column  Missing Values  Percentage\n",
       "1    WSPM              43    0.122633\n",
       "2    PRES              50    0.142596\n",
       "3    RAIN              51    0.145448\n",
       "4    TEMP              53    0.151152\n",
       "5    DEWP              53    0.151152\n",
       "6      wd             140    0.399270\n",
       "7    PM10             582    1.659822\n",
       "8      O3             604    1.722564\n",
       "9     SO2             628    1.791011\n",
       "10    NO2             667    1.902236\n",
       "11  PM2.5             774    2.207392\n",
       "12     CO            1521    4.337782"
      ]
     },
     "metadata": {},
     "output_type": "display_data"
    },
    {
     "name": "stdout",
     "output_type": "stream",
     "text": [
      "Missing Values Summary for Dingling:\n"
     ]
    },
    {
     "data": {
      "text/html": [
       "<div>\n",
       "<style scoped>\n",
       "    .dataframe tbody tr th:only-of-type {\n",
       "        vertical-align: middle;\n",
       "    }\n",
       "\n",
       "    .dataframe tbody tr th {\n",
       "        vertical-align: top;\n",
       "    }\n",
       "\n",
       "    .dataframe thead th {\n",
       "        text-align: right;\n",
       "    }\n",
       "</style>\n",
       "<table border=\"1\" class=\"dataframe\">\n",
       "  <thead>\n",
       "    <tr style=\"text-align: right;\">\n",
       "      <th></th>\n",
       "      <th>Column</th>\n",
       "      <th>Missing Values</th>\n",
       "      <th>Percentage</th>\n",
       "    </tr>\n",
       "  </thead>\n",
       "  <tbody>\n",
       "    <tr>\n",
       "      <th>1</th>\n",
       "      <td>WSPM</td>\n",
       "      <td>43</td>\n",
       "      <td>0.122633</td>\n",
       "    </tr>\n",
       "    <tr>\n",
       "      <th>2</th>\n",
       "      <td>PRES</td>\n",
       "      <td>50</td>\n",
       "      <td>0.142596</td>\n",
       "    </tr>\n",
       "    <tr>\n",
       "      <th>3</th>\n",
       "      <td>RAIN</td>\n",
       "      <td>51</td>\n",
       "      <td>0.145448</td>\n",
       "    </tr>\n",
       "    <tr>\n",
       "      <th>4</th>\n",
       "      <td>TEMP</td>\n",
       "      <td>53</td>\n",
       "      <td>0.151152</td>\n",
       "    </tr>\n",
       "    <tr>\n",
       "      <th>5</th>\n",
       "      <td>DEWP</td>\n",
       "      <td>53</td>\n",
       "      <td>0.151152</td>\n",
       "    </tr>\n",
       "    <tr>\n",
       "      <th>6</th>\n",
       "      <td>wd</td>\n",
       "      <td>140</td>\n",
       "      <td>0.399270</td>\n",
       "    </tr>\n",
       "    <tr>\n",
       "      <th>7</th>\n",
       "      <td>PM10</td>\n",
       "      <td>656</td>\n",
       "      <td>1.870865</td>\n",
       "    </tr>\n",
       "    <tr>\n",
       "      <th>8</th>\n",
       "      <td>SO2</td>\n",
       "      <td>730</td>\n",
       "      <td>2.081907</td>\n",
       "    </tr>\n",
       "    <tr>\n",
       "      <th>9</th>\n",
       "      <td>PM2.5</td>\n",
       "      <td>779</td>\n",
       "      <td>2.221652</td>\n",
       "    </tr>\n",
       "    <tr>\n",
       "      <th>10</th>\n",
       "      <td>O3</td>\n",
       "      <td>1214</td>\n",
       "      <td>3.462240</td>\n",
       "    </tr>\n",
       "    <tr>\n",
       "      <th>11</th>\n",
       "      <td>NO2</td>\n",
       "      <td>1234</td>\n",
       "      <td>3.519279</td>\n",
       "    </tr>\n",
       "    <tr>\n",
       "      <th>12</th>\n",
       "      <td>CO</td>\n",
       "      <td>2012</td>\n",
       "      <td>5.738079</td>\n",
       "    </tr>\n",
       "  </tbody>\n",
       "</table>\n",
       "</div>"
      ],
      "text/plain": [
       "   Column  Missing Values  Percentage\n",
       "1    WSPM              43    0.122633\n",
       "2    PRES              50    0.142596\n",
       "3    RAIN              51    0.145448\n",
       "4    TEMP              53    0.151152\n",
       "5    DEWP              53    0.151152\n",
       "6      wd             140    0.399270\n",
       "7    PM10             656    1.870865\n",
       "8     SO2             730    2.081907\n",
       "9   PM2.5             779    2.221652\n",
       "10     O3            1214    3.462240\n",
       "11    NO2            1234    3.519279\n",
       "12     CO            2012    5.738079"
      ]
     },
     "metadata": {},
     "output_type": "display_data"
    },
    {
     "name": "stdout",
     "output_type": "stream",
     "text": [
      "Missing Values Summary for Dongsi:\n"
     ]
    },
    {
     "data": {
      "text/html": [
       "<div>\n",
       "<style scoped>\n",
       "    .dataframe tbody tr th:only-of-type {\n",
       "        vertical-align: middle;\n",
       "    }\n",
       "\n",
       "    .dataframe tbody tr th {\n",
       "        vertical-align: top;\n",
       "    }\n",
       "\n",
       "    .dataframe thead th {\n",
       "        text-align: right;\n",
       "    }\n",
       "</style>\n",
       "<table border=\"1\" class=\"dataframe\">\n",
       "  <thead>\n",
       "    <tr style=\"text-align: right;\">\n",
       "      <th></th>\n",
       "      <th>Column</th>\n",
       "      <th>Missing Values</th>\n",
       "      <th>Percentage</th>\n",
       "    </tr>\n",
       "  </thead>\n",
       "  <tbody>\n",
       "    <tr>\n",
       "      <th>1</th>\n",
       "      <td>WSPM</td>\n",
       "      <td>14</td>\n",
       "      <td>0.039927</td>\n",
       "    </tr>\n",
       "    <tr>\n",
       "      <th>2</th>\n",
       "      <td>TEMP</td>\n",
       "      <td>20</td>\n",
       "      <td>0.057039</td>\n",
       "    </tr>\n",
       "    <tr>\n",
       "      <th>3</th>\n",
       "      <td>DEWP</td>\n",
       "      <td>20</td>\n",
       "      <td>0.057039</td>\n",
       "    </tr>\n",
       "    <tr>\n",
       "      <th>4</th>\n",
       "      <td>PRES</td>\n",
       "      <td>20</td>\n",
       "      <td>0.057039</td>\n",
       "    </tr>\n",
       "    <tr>\n",
       "      <th>5</th>\n",
       "      <td>RAIN</td>\n",
       "      <td>20</td>\n",
       "      <td>0.057039</td>\n",
       "    </tr>\n",
       "    <tr>\n",
       "      <th>6</th>\n",
       "      <td>wd</td>\n",
       "      <td>78</td>\n",
       "      <td>0.222450</td>\n",
       "    </tr>\n",
       "    <tr>\n",
       "      <th>7</th>\n",
       "      <td>PM10</td>\n",
       "      <td>553</td>\n",
       "      <td>1.577116</td>\n",
       "    </tr>\n",
       "    <tr>\n",
       "      <th>8</th>\n",
       "      <td>SO2</td>\n",
       "      <td>663</td>\n",
       "      <td>1.890828</td>\n",
       "    </tr>\n",
       "    <tr>\n",
       "      <th>9</th>\n",
       "      <td>O3</td>\n",
       "      <td>664</td>\n",
       "      <td>1.893680</td>\n",
       "    </tr>\n",
       "    <tr>\n",
       "      <th>10</th>\n",
       "      <td>PM2.5</td>\n",
       "      <td>750</td>\n",
       "      <td>2.138946</td>\n",
       "    </tr>\n",
       "    <tr>\n",
       "      <th>11</th>\n",
       "      <td>NO2</td>\n",
       "      <td>1601</td>\n",
       "      <td>4.565937</td>\n",
       "    </tr>\n",
       "    <tr>\n",
       "      <th>12</th>\n",
       "      <td>CO</td>\n",
       "      <td>3197</td>\n",
       "      <td>9.117614</td>\n",
       "    </tr>\n",
       "  </tbody>\n",
       "</table>\n",
       "</div>"
      ],
      "text/plain": [
       "   Column  Missing Values  Percentage\n",
       "1    WSPM              14    0.039927\n",
       "2    TEMP              20    0.057039\n",
       "3    DEWP              20    0.057039\n",
       "4    PRES              20    0.057039\n",
       "5    RAIN              20    0.057039\n",
       "6      wd              78    0.222450\n",
       "7    PM10             553    1.577116\n",
       "8     SO2             663    1.890828\n",
       "9      O3             664    1.893680\n",
       "10  PM2.5             750    2.138946\n",
       "11    NO2            1601    4.565937\n",
       "12     CO            3197    9.117614"
      ]
     },
     "metadata": {},
     "output_type": "display_data"
    },
    {
     "name": "stdout",
     "output_type": "stream",
     "text": [
      "Missing Values Summary for Guanyuan:\n"
     ]
    },
    {
     "data": {
      "text/html": [
       "<div>\n",
       "<style scoped>\n",
       "    .dataframe tbody tr th:only-of-type {\n",
       "        vertical-align: middle;\n",
       "    }\n",
       "\n",
       "    .dataframe tbody tr th {\n",
       "        vertical-align: top;\n",
       "    }\n",
       "\n",
       "    .dataframe thead th {\n",
       "        text-align: right;\n",
       "    }\n",
       "</style>\n",
       "<table border=\"1\" class=\"dataframe\">\n",
       "  <thead>\n",
       "    <tr style=\"text-align: right;\">\n",
       "      <th></th>\n",
       "      <th>Column</th>\n",
       "      <th>Missing Values</th>\n",
       "      <th>Percentage</th>\n",
       "    </tr>\n",
       "  </thead>\n",
       "  <tbody>\n",
       "    <tr>\n",
       "      <th>1</th>\n",
       "      <td>WSPM</td>\n",
       "      <td>14</td>\n",
       "      <td>0.039927</td>\n",
       "    </tr>\n",
       "    <tr>\n",
       "      <th>2</th>\n",
       "      <td>TEMP</td>\n",
       "      <td>20</td>\n",
       "      <td>0.057039</td>\n",
       "    </tr>\n",
       "    <tr>\n",
       "      <th>3</th>\n",
       "      <td>DEWP</td>\n",
       "      <td>20</td>\n",
       "      <td>0.057039</td>\n",
       "    </tr>\n",
       "    <tr>\n",
       "      <th>4</th>\n",
       "      <td>PRES</td>\n",
       "      <td>20</td>\n",
       "      <td>0.057039</td>\n",
       "    </tr>\n",
       "    <tr>\n",
       "      <th>5</th>\n",
       "      <td>RAIN</td>\n",
       "      <td>20</td>\n",
       "      <td>0.057039</td>\n",
       "    </tr>\n",
       "    <tr>\n",
       "      <th>6</th>\n",
       "      <td>wd</td>\n",
       "      <td>81</td>\n",
       "      <td>0.231006</td>\n",
       "    </tr>\n",
       "    <tr>\n",
       "      <th>7</th>\n",
       "      <td>PM10</td>\n",
       "      <td>429</td>\n",
       "      <td>1.223477</td>\n",
       "    </tr>\n",
       "    <tr>\n",
       "      <th>8</th>\n",
       "      <td>SO2</td>\n",
       "      <td>474</td>\n",
       "      <td>1.351814</td>\n",
       "    </tr>\n",
       "    <tr>\n",
       "      <th>9</th>\n",
       "      <td>PM2.5</td>\n",
       "      <td>616</td>\n",
       "      <td>1.756788</td>\n",
       "    </tr>\n",
       "    <tr>\n",
       "      <th>10</th>\n",
       "      <td>NO2</td>\n",
       "      <td>659</td>\n",
       "      <td>1.879420</td>\n",
       "    </tr>\n",
       "    <tr>\n",
       "      <th>11</th>\n",
       "      <td>O3</td>\n",
       "      <td>1173</td>\n",
       "      <td>3.345311</td>\n",
       "    </tr>\n",
       "    <tr>\n",
       "      <th>12</th>\n",
       "      <td>CO</td>\n",
       "      <td>1753</td>\n",
       "      <td>4.999430</td>\n",
       "    </tr>\n",
       "  </tbody>\n",
       "</table>\n",
       "</div>"
      ],
      "text/plain": [
       "   Column  Missing Values  Percentage\n",
       "1    WSPM              14    0.039927\n",
       "2    TEMP              20    0.057039\n",
       "3    DEWP              20    0.057039\n",
       "4    PRES              20    0.057039\n",
       "5    RAIN              20    0.057039\n",
       "6      wd              81    0.231006\n",
       "7    PM10             429    1.223477\n",
       "8     SO2             474    1.351814\n",
       "9   PM2.5             616    1.756788\n",
       "10    NO2             659    1.879420\n",
       "11     O3            1173    3.345311\n",
       "12     CO            1753    4.999430"
      ]
     },
     "metadata": {},
     "output_type": "display_data"
    },
    {
     "name": "stdout",
     "output_type": "stream",
     "text": [
      "Missing Values Summary for Gucheng:\n"
     ]
    },
    {
     "data": {
      "text/html": [
       "<div>\n",
       "<style scoped>\n",
       "    .dataframe tbody tr th:only-of-type {\n",
       "        vertical-align: middle;\n",
       "    }\n",
       "\n",
       "    .dataframe tbody tr th {\n",
       "        vertical-align: top;\n",
       "    }\n",
       "\n",
       "    .dataframe thead th {\n",
       "        text-align: right;\n",
       "    }\n",
       "</style>\n",
       "<table border=\"1\" class=\"dataframe\">\n",
       "  <thead>\n",
       "    <tr style=\"text-align: right;\">\n",
       "      <th></th>\n",
       "      <th>Column</th>\n",
       "      <th>Missing Values</th>\n",
       "      <th>Percentage</th>\n",
       "    </tr>\n",
       "  </thead>\n",
       "  <tbody>\n",
       "    <tr>\n",
       "      <th>1</th>\n",
       "      <td>WSPM</td>\n",
       "      <td>42</td>\n",
       "      <td>0.119781</td>\n",
       "    </tr>\n",
       "    <tr>\n",
       "      <th>2</th>\n",
       "      <td>RAIN</td>\n",
       "      <td>43</td>\n",
       "      <td>0.122633</td>\n",
       "    </tr>\n",
       "    <tr>\n",
       "      <th>3</th>\n",
       "      <td>PRES</td>\n",
       "      <td>50</td>\n",
       "      <td>0.142596</td>\n",
       "    </tr>\n",
       "    <tr>\n",
       "      <th>4</th>\n",
       "      <td>TEMP</td>\n",
       "      <td>51</td>\n",
       "      <td>0.145448</td>\n",
       "    </tr>\n",
       "    <tr>\n",
       "      <th>5</th>\n",
       "      <td>DEWP</td>\n",
       "      <td>51</td>\n",
       "      <td>0.145448</td>\n",
       "    </tr>\n",
       "    <tr>\n",
       "      <th>6</th>\n",
       "      <td>wd</td>\n",
       "      <td>159</td>\n",
       "      <td>0.453457</td>\n",
       "    </tr>\n",
       "    <tr>\n",
       "      <th>7</th>\n",
       "      <td>PM10</td>\n",
       "      <td>381</td>\n",
       "      <td>1.086585</td>\n",
       "    </tr>\n",
       "    <tr>\n",
       "      <th>8</th>\n",
       "      <td>SO2</td>\n",
       "      <td>507</td>\n",
       "      <td>1.445927</td>\n",
       "    </tr>\n",
       "    <tr>\n",
       "      <th>9</th>\n",
       "      <td>PM2.5</td>\n",
       "      <td>646</td>\n",
       "      <td>1.842345</td>\n",
       "    </tr>\n",
       "    <tr>\n",
       "      <th>10</th>\n",
       "      <td>NO2</td>\n",
       "      <td>668</td>\n",
       "      <td>1.905088</td>\n",
       "    </tr>\n",
       "    <tr>\n",
       "      <th>11</th>\n",
       "      <td>O3</td>\n",
       "      <td>729</td>\n",
       "      <td>2.079055</td>\n",
       "    </tr>\n",
       "    <tr>\n",
       "      <th>12</th>\n",
       "      <td>CO</td>\n",
       "      <td>1401</td>\n",
       "      <td>3.995551</td>\n",
       "    </tr>\n",
       "  </tbody>\n",
       "</table>\n",
       "</div>"
      ],
      "text/plain": [
       "   Column  Missing Values  Percentage\n",
       "1    WSPM              42    0.119781\n",
       "2    RAIN              43    0.122633\n",
       "3    PRES              50    0.142596\n",
       "4    TEMP              51    0.145448\n",
       "5    DEWP              51    0.145448\n",
       "6      wd             159    0.453457\n",
       "7    PM10             381    1.086585\n",
       "8     SO2             507    1.445927\n",
       "9   PM2.5             646    1.842345\n",
       "10    NO2             668    1.905088\n",
       "11     O3             729    2.079055\n",
       "12     CO            1401    3.995551"
      ]
     },
     "metadata": {},
     "output_type": "display_data"
    },
    {
     "name": "stdout",
     "output_type": "stream",
     "text": [
      "Missing Values Summary for Huairou:\n"
     ]
    },
    {
     "data": {
      "text/html": [
       "<div>\n",
       "<style scoped>\n",
       "    .dataframe tbody tr th:only-of-type {\n",
       "        vertical-align: middle;\n",
       "    }\n",
       "\n",
       "    .dataframe tbody tr th {\n",
       "        vertical-align: top;\n",
       "    }\n",
       "\n",
       "    .dataframe thead th {\n",
       "        text-align: right;\n",
       "    }\n",
       "</style>\n",
       "<table border=\"1\" class=\"dataframe\">\n",
       "  <thead>\n",
       "    <tr style=\"text-align: right;\">\n",
       "      <th></th>\n",
       "      <th>Column</th>\n",
       "      <th>Missing Values</th>\n",
       "      <th>Percentage</th>\n",
       "    </tr>\n",
       "  </thead>\n",
       "  <tbody>\n",
       "    <tr>\n",
       "      <th>1</th>\n",
       "      <td>WSPM</td>\n",
       "      <td>49</td>\n",
       "      <td>0.139744</td>\n",
       "    </tr>\n",
       "    <tr>\n",
       "      <th>2</th>\n",
       "      <td>TEMP</td>\n",
       "      <td>51</td>\n",
       "      <td>0.145448</td>\n",
       "    </tr>\n",
       "    <tr>\n",
       "      <th>3</th>\n",
       "      <td>DEWP</td>\n",
       "      <td>53</td>\n",
       "      <td>0.151152</td>\n",
       "    </tr>\n",
       "    <tr>\n",
       "      <th>4</th>\n",
       "      <td>PRES</td>\n",
       "      <td>53</td>\n",
       "      <td>0.151152</td>\n",
       "    </tr>\n",
       "    <tr>\n",
       "      <th>5</th>\n",
       "      <td>RAIN</td>\n",
       "      <td>55</td>\n",
       "      <td>0.156856</td>\n",
       "    </tr>\n",
       "    <tr>\n",
       "      <th>6</th>\n",
       "      <td>wd</td>\n",
       "      <td>302</td>\n",
       "      <td>0.861282</td>\n",
       "    </tr>\n",
       "    <tr>\n",
       "      <th>7</th>\n",
       "      <td>PM10</td>\n",
       "      <td>777</td>\n",
       "      <td>2.215948</td>\n",
       "    </tr>\n",
       "    <tr>\n",
       "      <th>8</th>\n",
       "      <td>PM2.5</td>\n",
       "      <td>953</td>\n",
       "      <td>2.717887</td>\n",
       "    </tr>\n",
       "    <tr>\n",
       "      <th>9</th>\n",
       "      <td>SO2</td>\n",
       "      <td>980</td>\n",
       "      <td>2.794889</td>\n",
       "    </tr>\n",
       "    <tr>\n",
       "      <th>10</th>\n",
       "      <td>O3</td>\n",
       "      <td>1151</td>\n",
       "      <td>3.282569</td>\n",
       "    </tr>\n",
       "    <tr>\n",
       "      <th>11</th>\n",
       "      <td>CO</td>\n",
       "      <td>1422</td>\n",
       "      <td>4.055441</td>\n",
       "    </tr>\n",
       "    <tr>\n",
       "      <th>12</th>\n",
       "      <td>NO2</td>\n",
       "      <td>1639</td>\n",
       "      <td>4.674310</td>\n",
       "    </tr>\n",
       "  </tbody>\n",
       "</table>\n",
       "</div>"
      ],
      "text/plain": [
       "   Column  Missing Values  Percentage\n",
       "1    WSPM              49    0.139744\n",
       "2    TEMP              51    0.145448\n",
       "3    DEWP              53    0.151152\n",
       "4    PRES              53    0.151152\n",
       "5    RAIN              55    0.156856\n",
       "6      wd             302    0.861282\n",
       "7    PM10             777    2.215948\n",
       "8   PM2.5             953    2.717887\n",
       "9     SO2             980    2.794889\n",
       "10     O3            1151    3.282569\n",
       "11     CO            1422    4.055441\n",
       "12    NO2            1639    4.674310"
      ]
     },
     "metadata": {},
     "output_type": "display_data"
    },
    {
     "name": "stdout",
     "output_type": "stream",
     "text": [
      "Missing Values Summary for Nongzhanguan:\n"
     ]
    },
    {
     "data": {
      "text/html": [
       "<div>\n",
       "<style scoped>\n",
       "    .dataframe tbody tr th:only-of-type {\n",
       "        vertical-align: middle;\n",
       "    }\n",
       "\n",
       "    .dataframe tbody tr th {\n",
       "        vertical-align: top;\n",
       "    }\n",
       "\n",
       "    .dataframe thead th {\n",
       "        text-align: right;\n",
       "    }\n",
       "</style>\n",
       "<table border=\"1\" class=\"dataframe\">\n",
       "  <thead>\n",
       "    <tr style=\"text-align: right;\">\n",
       "      <th></th>\n",
       "      <th>Column</th>\n",
       "      <th>Missing Values</th>\n",
       "      <th>Percentage</th>\n",
       "    </tr>\n",
       "  </thead>\n",
       "  <tbody>\n",
       "    <tr>\n",
       "      <th>1</th>\n",
       "      <td>WSPM</td>\n",
       "      <td>14</td>\n",
       "      <td>0.039927</td>\n",
       "    </tr>\n",
       "    <tr>\n",
       "      <th>2</th>\n",
       "      <td>TEMP</td>\n",
       "      <td>20</td>\n",
       "      <td>0.057039</td>\n",
       "    </tr>\n",
       "    <tr>\n",
       "      <th>3</th>\n",
       "      <td>DEWP</td>\n",
       "      <td>20</td>\n",
       "      <td>0.057039</td>\n",
       "    </tr>\n",
       "    <tr>\n",
       "      <th>4</th>\n",
       "      <td>PRES</td>\n",
       "      <td>20</td>\n",
       "      <td>0.057039</td>\n",
       "    </tr>\n",
       "    <tr>\n",
       "      <th>5</th>\n",
       "      <td>RAIN</td>\n",
       "      <td>20</td>\n",
       "      <td>0.057039</td>\n",
       "    </tr>\n",
       "    <tr>\n",
       "      <th>6</th>\n",
       "      <td>wd</td>\n",
       "      <td>78</td>\n",
       "      <td>0.222450</td>\n",
       "    </tr>\n",
       "    <tr>\n",
       "      <th>7</th>\n",
       "      <td>PM10</td>\n",
       "      <td>440</td>\n",
       "      <td>1.254848</td>\n",
       "    </tr>\n",
       "    <tr>\n",
       "      <th>8</th>\n",
       "      <td>SO2</td>\n",
       "      <td>446</td>\n",
       "      <td>1.271960</td>\n",
       "    </tr>\n",
       "    <tr>\n",
       "      <th>9</th>\n",
       "      <td>O3</td>\n",
       "      <td>506</td>\n",
       "      <td>1.443076</td>\n",
       "    </tr>\n",
       "    <tr>\n",
       "      <th>10</th>\n",
       "      <td>PM2.5</td>\n",
       "      <td>628</td>\n",
       "      <td>1.791011</td>\n",
       "    </tr>\n",
       "    <tr>\n",
       "      <th>11</th>\n",
       "      <td>NO2</td>\n",
       "      <td>692</td>\n",
       "      <td>1.973534</td>\n",
       "    </tr>\n",
       "    <tr>\n",
       "      <th>12</th>\n",
       "      <td>CO</td>\n",
       "      <td>1206</td>\n",
       "      <td>3.439425</td>\n",
       "    </tr>\n",
       "  </tbody>\n",
       "</table>\n",
       "</div>"
      ],
      "text/plain": [
       "   Column  Missing Values  Percentage\n",
       "1    WSPM              14    0.039927\n",
       "2    TEMP              20    0.057039\n",
       "3    DEWP              20    0.057039\n",
       "4    PRES              20    0.057039\n",
       "5    RAIN              20    0.057039\n",
       "6      wd              78    0.222450\n",
       "7    PM10             440    1.254848\n",
       "8     SO2             446    1.271960\n",
       "9      O3             506    1.443076\n",
       "10  PM2.5             628    1.791011\n",
       "11    NO2             692    1.973534\n",
       "12     CO            1206    3.439425"
      ]
     },
     "metadata": {},
     "output_type": "display_data"
    },
    {
     "name": "stdout",
     "output_type": "stream",
     "text": [
      "Missing Values Summary for Shunyi:\n"
     ]
    },
    {
     "data": {
      "text/html": [
       "<div>\n",
       "<style scoped>\n",
       "    .dataframe tbody tr th:only-of-type {\n",
       "        vertical-align: middle;\n",
       "    }\n",
       "\n",
       "    .dataframe tbody tr th {\n",
       "        vertical-align: top;\n",
       "    }\n",
       "\n",
       "    .dataframe thead th {\n",
       "        text-align: right;\n",
       "    }\n",
       "</style>\n",
       "<table border=\"1\" class=\"dataframe\">\n",
       "  <thead>\n",
       "    <tr style=\"text-align: right;\">\n",
       "      <th></th>\n",
       "      <th>Column</th>\n",
       "      <th>Missing Values</th>\n",
       "      <th>Percentage</th>\n",
       "    </tr>\n",
       "  </thead>\n",
       "  <tbody>\n",
       "    <tr>\n",
       "      <th>1</th>\n",
       "      <td>WSPM</td>\n",
       "      <td>44</td>\n",
       "      <td>0.125485</td>\n",
       "    </tr>\n",
       "    <tr>\n",
       "      <th>2</th>\n",
       "      <td>TEMP</td>\n",
       "      <td>51</td>\n",
       "      <td>0.145448</td>\n",
       "    </tr>\n",
       "    <tr>\n",
       "      <th>3</th>\n",
       "      <td>RAIN</td>\n",
       "      <td>51</td>\n",
       "      <td>0.145448</td>\n",
       "    </tr>\n",
       "    <tr>\n",
       "      <th>4</th>\n",
       "      <td>PRES</td>\n",
       "      <td>51</td>\n",
       "      <td>0.145448</td>\n",
       "    </tr>\n",
       "    <tr>\n",
       "      <th>5</th>\n",
       "      <td>DEWP</td>\n",
       "      <td>54</td>\n",
       "      <td>0.154004</td>\n",
       "    </tr>\n",
       "    <tr>\n",
       "      <th>6</th>\n",
       "      <td>wd</td>\n",
       "      <td>483</td>\n",
       "      <td>1.377481</td>\n",
       "    </tr>\n",
       "    <tr>\n",
       "      <th>7</th>\n",
       "      <td>PM10</td>\n",
       "      <td>548</td>\n",
       "      <td>1.562856</td>\n",
       "    </tr>\n",
       "    <tr>\n",
       "      <th>8</th>\n",
       "      <td>PM2.5</td>\n",
       "      <td>913</td>\n",
       "      <td>2.603810</td>\n",
       "    </tr>\n",
       "    <tr>\n",
       "      <th>9</th>\n",
       "      <td>SO2</td>\n",
       "      <td>1296</td>\n",
       "      <td>3.696099</td>\n",
       "    </tr>\n",
       "    <tr>\n",
       "      <th>10</th>\n",
       "      <td>NO2</td>\n",
       "      <td>1365</td>\n",
       "      <td>3.892882</td>\n",
       "    </tr>\n",
       "    <tr>\n",
       "      <th>11</th>\n",
       "      <td>O3</td>\n",
       "      <td>1489</td>\n",
       "      <td>4.246521</td>\n",
       "    </tr>\n",
       "    <tr>\n",
       "      <th>12</th>\n",
       "      <td>CO</td>\n",
       "      <td>2178</td>\n",
       "      <td>6.211499</td>\n",
       "    </tr>\n",
       "  </tbody>\n",
       "</table>\n",
       "</div>"
      ],
      "text/plain": [
       "   Column  Missing Values  Percentage\n",
       "1    WSPM              44    0.125485\n",
       "2    TEMP              51    0.145448\n",
       "3    RAIN              51    0.145448\n",
       "4    PRES              51    0.145448\n",
       "5    DEWP              54    0.154004\n",
       "6      wd             483    1.377481\n",
       "7    PM10             548    1.562856\n",
       "8   PM2.5             913    2.603810\n",
       "9     SO2            1296    3.696099\n",
       "10    NO2            1365    3.892882\n",
       "11     O3            1489    4.246521\n",
       "12     CO            2178    6.211499"
      ]
     },
     "metadata": {},
     "output_type": "display_data"
    },
    {
     "name": "stdout",
     "output_type": "stream",
     "text": [
      "Missing Values Summary for Tiantan:\n"
     ]
    },
    {
     "data": {
      "text/html": [
       "<div>\n",
       "<style scoped>\n",
       "    .dataframe tbody tr th:only-of-type {\n",
       "        vertical-align: middle;\n",
       "    }\n",
       "\n",
       "    .dataframe tbody tr th {\n",
       "        vertical-align: top;\n",
       "    }\n",
       "\n",
       "    .dataframe thead th {\n",
       "        text-align: right;\n",
       "    }\n",
       "</style>\n",
       "<table border=\"1\" class=\"dataframe\">\n",
       "  <thead>\n",
       "    <tr style=\"text-align: right;\">\n",
       "      <th></th>\n",
       "      <th>Column</th>\n",
       "      <th>Missing Values</th>\n",
       "      <th>Percentage</th>\n",
       "    </tr>\n",
       "  </thead>\n",
       "  <tbody>\n",
       "    <tr>\n",
       "      <th>1</th>\n",
       "      <td>WSPM</td>\n",
       "      <td>14</td>\n",
       "      <td>0.039927</td>\n",
       "    </tr>\n",
       "    <tr>\n",
       "      <th>2</th>\n",
       "      <td>TEMP</td>\n",
       "      <td>20</td>\n",
       "      <td>0.057039</td>\n",
       "    </tr>\n",
       "    <tr>\n",
       "      <th>3</th>\n",
       "      <td>DEWP</td>\n",
       "      <td>20</td>\n",
       "      <td>0.057039</td>\n",
       "    </tr>\n",
       "    <tr>\n",
       "      <th>4</th>\n",
       "      <td>PRES</td>\n",
       "      <td>20</td>\n",
       "      <td>0.057039</td>\n",
       "    </tr>\n",
       "    <tr>\n",
       "      <th>5</th>\n",
       "      <td>RAIN</td>\n",
       "      <td>20</td>\n",
       "      <td>0.057039</td>\n",
       "    </tr>\n",
       "    <tr>\n",
       "      <th>6</th>\n",
       "      <td>wd</td>\n",
       "      <td>78</td>\n",
       "      <td>0.222450</td>\n",
       "    </tr>\n",
       "    <tr>\n",
       "      <th>7</th>\n",
       "      <td>PM10</td>\n",
       "      <td>597</td>\n",
       "      <td>1.702601</td>\n",
       "    </tr>\n",
       "    <tr>\n",
       "      <th>8</th>\n",
       "      <td>PM2.5</td>\n",
       "      <td>677</td>\n",
       "      <td>1.930755</td>\n",
       "    </tr>\n",
       "    <tr>\n",
       "      <th>9</th>\n",
       "      <td>NO2</td>\n",
       "      <td>744</td>\n",
       "      <td>2.121834</td>\n",
       "    </tr>\n",
       "    <tr>\n",
       "      <th>10</th>\n",
       "      <td>O3</td>\n",
       "      <td>843</td>\n",
       "      <td>2.404175</td>\n",
       "    </tr>\n",
       "    <tr>\n",
       "      <th>11</th>\n",
       "      <td>SO2</td>\n",
       "      <td>1118</td>\n",
       "      <td>3.188455</td>\n",
       "    </tr>\n",
       "    <tr>\n",
       "      <th>12</th>\n",
       "      <td>CO</td>\n",
       "      <td>1126</td>\n",
       "      <td>3.211271</td>\n",
       "    </tr>\n",
       "  </tbody>\n",
       "</table>\n",
       "</div>"
      ],
      "text/plain": [
       "   Column  Missing Values  Percentage\n",
       "1    WSPM              14    0.039927\n",
       "2    TEMP              20    0.057039\n",
       "3    DEWP              20    0.057039\n",
       "4    PRES              20    0.057039\n",
       "5    RAIN              20    0.057039\n",
       "6      wd              78    0.222450\n",
       "7    PM10             597    1.702601\n",
       "8   PM2.5             677    1.930755\n",
       "9     NO2             744    2.121834\n",
       "10     O3             843    2.404175\n",
       "11    SO2            1118    3.188455\n",
       "12     CO            1126    3.211271"
      ]
     },
     "metadata": {},
     "output_type": "display_data"
    },
    {
     "name": "stdout",
     "output_type": "stream",
     "text": [
      "Missing Values Summary for Wanliu:\n"
     ]
    },
    {
     "data": {
      "text/html": [
       "<div>\n",
       "<style scoped>\n",
       "    .dataframe tbody tr th:only-of-type {\n",
       "        vertical-align: middle;\n",
       "    }\n",
       "\n",
       "    .dataframe tbody tr th {\n",
       "        vertical-align: top;\n",
       "    }\n",
       "\n",
       "    .dataframe thead th {\n",
       "        text-align: right;\n",
       "    }\n",
       "</style>\n",
       "<table border=\"1\" class=\"dataframe\">\n",
       "  <thead>\n",
       "    <tr style=\"text-align: right;\">\n",
       "      <th></th>\n",
       "      <th>Column</th>\n",
       "      <th>Missing Values</th>\n",
       "      <th>Percentage</th>\n",
       "    </tr>\n",
       "  </thead>\n",
       "  <tbody>\n",
       "    <tr>\n",
       "      <th>1</th>\n",
       "      <td>WSPM</td>\n",
       "      <td>14</td>\n",
       "      <td>0.039927</td>\n",
       "    </tr>\n",
       "    <tr>\n",
       "      <th>2</th>\n",
       "      <td>TEMP</td>\n",
       "      <td>20</td>\n",
       "      <td>0.057039</td>\n",
       "    </tr>\n",
       "    <tr>\n",
       "      <th>3</th>\n",
       "      <td>DEWP</td>\n",
       "      <td>20</td>\n",
       "      <td>0.057039</td>\n",
       "    </tr>\n",
       "    <tr>\n",
       "      <th>4</th>\n",
       "      <td>PRES</td>\n",
       "      <td>20</td>\n",
       "      <td>0.057039</td>\n",
       "    </tr>\n",
       "    <tr>\n",
       "      <th>5</th>\n",
       "      <td>RAIN</td>\n",
       "      <td>20</td>\n",
       "      <td>0.057039</td>\n",
       "    </tr>\n",
       "    <tr>\n",
       "      <th>6</th>\n",
       "      <td>wd</td>\n",
       "      <td>123</td>\n",
       "      <td>0.350787</td>\n",
       "    </tr>\n",
       "    <tr>\n",
       "      <th>7</th>\n",
       "      <td>PM10</td>\n",
       "      <td>284</td>\n",
       "      <td>0.809948</td>\n",
       "    </tr>\n",
       "    <tr>\n",
       "      <th>8</th>\n",
       "      <td>PM2.5</td>\n",
       "      <td>382</td>\n",
       "      <td>1.089436</td>\n",
       "    </tr>\n",
       "    <tr>\n",
       "      <th>9</th>\n",
       "      <td>SO2</td>\n",
       "      <td>575</td>\n",
       "      <td>1.639859</td>\n",
       "    </tr>\n",
       "    <tr>\n",
       "      <th>10</th>\n",
       "      <td>NO2</td>\n",
       "      <td>1070</td>\n",
       "      <td>3.051563</td>\n",
       "    </tr>\n",
       "    <tr>\n",
       "      <th>11</th>\n",
       "      <td>CO</td>\n",
       "      <td>1812</td>\n",
       "      <td>5.167693</td>\n",
       "    </tr>\n",
       "    <tr>\n",
       "      <th>12</th>\n",
       "      <td>O3</td>\n",
       "      <td>2107</td>\n",
       "      <td>6.009012</td>\n",
       "    </tr>\n",
       "  </tbody>\n",
       "</table>\n",
       "</div>"
      ],
      "text/plain": [
       "   Column  Missing Values  Percentage\n",
       "1    WSPM              14    0.039927\n",
       "2    TEMP              20    0.057039\n",
       "3    DEWP              20    0.057039\n",
       "4    PRES              20    0.057039\n",
       "5    RAIN              20    0.057039\n",
       "6      wd             123    0.350787\n",
       "7    PM10             284    0.809948\n",
       "8   PM2.5             382    1.089436\n",
       "9     SO2             575    1.639859\n",
       "10    NO2            1070    3.051563\n",
       "11     CO            1812    5.167693\n",
       "12     O3            2107    6.009012"
      ]
     },
     "metadata": {},
     "output_type": "display_data"
    },
    {
     "name": "stdout",
     "output_type": "stream",
     "text": [
      "Missing Values Summary for Wanshouxigong:\n"
     ]
    },
    {
     "data": {
      "text/html": [
       "<div>\n",
       "<style scoped>\n",
       "    .dataframe tbody tr th:only-of-type {\n",
       "        vertical-align: middle;\n",
       "    }\n",
       "\n",
       "    .dataframe tbody tr th {\n",
       "        vertical-align: top;\n",
       "    }\n",
       "\n",
       "    .dataframe thead th {\n",
       "        text-align: right;\n",
       "    }\n",
       "</style>\n",
       "<table border=\"1\" class=\"dataframe\">\n",
       "  <thead>\n",
       "    <tr style=\"text-align: right;\">\n",
       "      <th></th>\n",
       "      <th>Column</th>\n",
       "      <th>Missing Values</th>\n",
       "      <th>Percentage</th>\n",
       "    </tr>\n",
       "  </thead>\n",
       "  <tbody>\n",
       "    <tr>\n",
       "      <th>1</th>\n",
       "      <td>WSPM</td>\n",
       "      <td>13</td>\n",
       "      <td>0.037075</td>\n",
       "    </tr>\n",
       "    <tr>\n",
       "      <th>2</th>\n",
       "      <td>TEMP</td>\n",
       "      <td>19</td>\n",
       "      <td>0.054187</td>\n",
       "    </tr>\n",
       "    <tr>\n",
       "      <th>3</th>\n",
       "      <td>DEWP</td>\n",
       "      <td>19</td>\n",
       "      <td>0.054187</td>\n",
       "    </tr>\n",
       "    <tr>\n",
       "      <th>4</th>\n",
       "      <td>PRES</td>\n",
       "      <td>19</td>\n",
       "      <td>0.054187</td>\n",
       "    </tr>\n",
       "    <tr>\n",
       "      <th>5</th>\n",
       "      <td>RAIN</td>\n",
       "      <td>19</td>\n",
       "      <td>0.054187</td>\n",
       "    </tr>\n",
       "    <tr>\n",
       "      <th>6</th>\n",
       "      <td>wd</td>\n",
       "      <td>79</td>\n",
       "      <td>0.225302</td>\n",
       "    </tr>\n",
       "    <tr>\n",
       "      <th>7</th>\n",
       "      <td>PM10</td>\n",
       "      <td>484</td>\n",
       "      <td>1.380333</td>\n",
       "    </tr>\n",
       "    <tr>\n",
       "      <th>8</th>\n",
       "      <td>SO2</td>\n",
       "      <td>669</td>\n",
       "      <td>1.907940</td>\n",
       "    </tr>\n",
       "    <tr>\n",
       "      <th>9</th>\n",
       "      <td>PM2.5</td>\n",
       "      <td>696</td>\n",
       "      <td>1.984942</td>\n",
       "    </tr>\n",
       "    <tr>\n",
       "      <th>10</th>\n",
       "      <td>NO2</td>\n",
       "      <td>754</td>\n",
       "      <td>2.150354</td>\n",
       "    </tr>\n",
       "    <tr>\n",
       "      <th>11</th>\n",
       "      <td>O3</td>\n",
       "      <td>1078</td>\n",
       "      <td>3.074378</td>\n",
       "    </tr>\n",
       "    <tr>\n",
       "      <th>12</th>\n",
       "      <td>CO</td>\n",
       "      <td>1297</td>\n",
       "      <td>3.698950</td>\n",
       "    </tr>\n",
       "  </tbody>\n",
       "</table>\n",
       "</div>"
      ],
      "text/plain": [
       "   Column  Missing Values  Percentage\n",
       "1    WSPM              13    0.037075\n",
       "2    TEMP              19    0.054187\n",
       "3    DEWP              19    0.054187\n",
       "4    PRES              19    0.054187\n",
       "5    RAIN              19    0.054187\n",
       "6      wd              79    0.225302\n",
       "7    PM10             484    1.380333\n",
       "8     SO2             669    1.907940\n",
       "9   PM2.5             696    1.984942\n",
       "10    NO2             754    2.150354\n",
       "11     O3            1078    3.074378\n",
       "12     CO            1297    3.698950"
      ]
     },
     "metadata": {},
     "output_type": "display_data"
    }
   ],
   "source": [
    "# **Insight:** \n",
    "\n",
    "\n",
    "# Fungsi untuk membuat ringkasan missing values dalam bentuk tabel\n",
    "def missing_values_table(df, location):\n",
    "    missing_data = df.isnull().sum()\n",
    "    missing_data = missing_data[missing_data > 0].sort_values(ascending=True)  # Urutkan ascending\n",
    "    percentage_missing = (missing_data / len(df)) * 100\n",
    "\n",
    "    missing_summary = pd.DataFrame({\n",
    "        'Column': missing_data.index,\n",
    "        'Missing Values': missing_data.values,\n",
    "        'Percentage': percentage_missing.values\n",
    "    })\n",
    "    \n",
    "    missing_summary.index = range(1, len(missing_summary) + 1)  # Atur index mulai dari 1\n",
    "    return missing_summary\n",
    "\n",
    "# Loop untuk menampilkan ringkasan missing values untuk setiap dataframe\n",
    "for location, df in dataframes.items():\n",
    "    print(f\"Missing Values Summary for {location}:\")\n",
    "    display(missing_values_table(df, location))\n"
   ]
  },
  {
   "cell_type": "markdown",
   "metadata": {},
   "source": [
    "### Cleaning Data"
   ]
  },
  {
   "cell_type": "code",
   "execution_count": 34,
   "metadata": {},
   "outputs": [
    {
     "name": "stdout",
     "output_type": "stream",
     "text": [
      "Interpolating Missing Values for Aotizhongxin...\n",
      "Interpolation complete for Aotizhongxin.\n",
      "Interpolating Missing Values for Changping...\n",
      "Interpolation complete for Changping.\n",
      "Interpolating Missing Values for Dingling...\n",
      "Interpolation complete for Dingling.\n",
      "Interpolating Missing Values for Dongsi...\n",
      "Interpolation complete for Dongsi.\n",
      "Interpolating Missing Values for Guanyuan...\n",
      "Interpolation complete for Guanyuan.\n",
      "Interpolating Missing Values for Gucheng...\n",
      "Interpolation complete for Gucheng.\n",
      "Interpolating Missing Values for Huairou...\n",
      "Interpolation complete for Huairou.\n",
      "Interpolating Missing Values for Nongzhanguan...\n"
     ]
    },
    {
     "name": "stderr",
     "output_type": "stream",
     "text": [
      "/tmp/ipykernel_64499/463944130.py:8: FutureWarning:\n",
      "\n",
      "DataFrame.interpolate with object dtype is deprecated and will raise in a future version. Call obj.infer_objects(copy=False) before interpolating instead.\n",
      "\n",
      "/tmp/ipykernel_64499/463944130.py:8: FutureWarning:\n",
      "\n",
      "DataFrame.interpolate with object dtype is deprecated and will raise in a future version. Call obj.infer_objects(copy=False) before interpolating instead.\n",
      "\n",
      "/tmp/ipykernel_64499/463944130.py:8: FutureWarning:\n",
      "\n",
      "DataFrame.interpolate with object dtype is deprecated and will raise in a future version. Call obj.infer_objects(copy=False) before interpolating instead.\n",
      "\n",
      "/tmp/ipykernel_64499/463944130.py:8: FutureWarning:\n",
      "\n",
      "DataFrame.interpolate with object dtype is deprecated and will raise in a future version. Call obj.infer_objects(copy=False) before interpolating instead.\n",
      "\n",
      "/tmp/ipykernel_64499/463944130.py:8: FutureWarning:\n",
      "\n",
      "DataFrame.interpolate with object dtype is deprecated and will raise in a future version. Call obj.infer_objects(copy=False) before interpolating instead.\n",
      "\n",
      "/tmp/ipykernel_64499/463944130.py:8: FutureWarning:\n",
      "\n",
      "DataFrame.interpolate with object dtype is deprecated and will raise in a future version. Call obj.infer_objects(copy=False) before interpolating instead.\n",
      "\n",
      "/tmp/ipykernel_64499/463944130.py:8: FutureWarning:\n",
      "\n",
      "DataFrame.interpolate with object dtype is deprecated and will raise in a future version. Call obj.infer_objects(copy=False) before interpolating instead.\n",
      "\n",
      "/tmp/ipykernel_64499/463944130.py:8: FutureWarning:\n",
      "\n",
      "DataFrame.interpolate with object dtype is deprecated and will raise in a future version. Call obj.infer_objects(copy=False) before interpolating instead.\n",
      "\n",
      "/tmp/ipykernel_64499/463944130.py:8: FutureWarning:\n",
      "\n",
      "DataFrame.interpolate with object dtype is deprecated and will raise in a future version. Call obj.infer_objects(copy=False) before interpolating instead.\n",
      "\n"
     ]
    },
    {
     "name": "stdout",
     "output_type": "stream",
     "text": [
      "Interpolation complete for Nongzhanguan.\n",
      "Interpolating Missing Values for Shunyi...\n",
      "Interpolation complete for Shunyi.\n",
      "Interpolating Missing Values for Tiantan...\n",
      "Interpolation complete for Tiantan.\n",
      "Interpolating Missing Values for Wanliu...\n",
      "Interpolation complete for Wanliu.\n",
      "Interpolating Missing Values for Wanshouxigong...\n",
      "Interpolation complete for Wanshouxigong.\n"
     ]
    },
    {
     "name": "stderr",
     "output_type": "stream",
     "text": [
      "/tmp/ipykernel_64499/463944130.py:8: FutureWarning:\n",
      "\n",
      "DataFrame.interpolate with object dtype is deprecated and will raise in a future version. Call obj.infer_objects(copy=False) before interpolating instead.\n",
      "\n",
      "/tmp/ipykernel_64499/463944130.py:8: FutureWarning:\n",
      "\n",
      "DataFrame.interpolate with object dtype is deprecated and will raise in a future version. Call obj.infer_objects(copy=False) before interpolating instead.\n",
      "\n",
      "/tmp/ipykernel_64499/463944130.py:8: FutureWarning:\n",
      "\n",
      "DataFrame.interpolate with object dtype is deprecated and will raise in a future version. Call obj.infer_objects(copy=False) before interpolating instead.\n",
      "\n"
     ]
    }
   ],
   "source": [
    "def interpolate_missing_values(df, missing_threshold=0.05):\n",
    "    # Membuat kolom 'time' dari 'year', 'month', 'day', dan 'hour'\n",
    "    if 'year' in df.columns and 'month' in df.columns and 'day' in df.columns and 'hour' in df.columns:\n",
    "        df['time'] = pd.to_datetime(df[['year', 'month', 'day', 'hour']])\n",
    "\n",
    "        df.set_index('time', inplace=True)\n",
    "\n",
    "        df_interpolated = df.interpolate(method='time')\n",
    "\n",
    "        columns_to_drop = [col for col in df_interpolated.columns if df_interpolated[col].isnull().mean() > missing_threshold]\n",
    "        df_interpolated.drop(columns=columns_to_drop, inplace=True)\n",
    "\n",
    "        df_interpolated.reset_index(inplace=True)\n",
    "\n",
    "        return df_interpolated\n",
    "    else:\n",
    "        print(\"Kolom 'year', 'month', 'day', atau 'hour' tidak ditemukan dalam dataset.\")\n",
    "        return df\n",
    "\n",
    "# Terapkan fungsi ini untuk semua dataframes\n",
    "for location, df in dataframes.items():\n",
    "    print(f\"Interpolating Missing Values for {location}...\")\n",
    "    dataframes[location] = interpolate_missing_values(df)\n",
    "    print(f\"Interpolation complete for {location}.\")\n"
   ]
  },
  {
   "cell_type": "code",
   "execution_count": 35,
   "metadata": {},
   "outputs": [
    {
     "name": "stdout",
     "output_type": "stream",
     "text": [
      "Missing Values Summary for Aotizhongxin:\n"
     ]
    },
    {
     "data": {
      "text/html": [
       "<div>\n",
       "<style scoped>\n",
       "    .dataframe tbody tr th:only-of-type {\n",
       "        vertical-align: middle;\n",
       "    }\n",
       "\n",
       "    .dataframe tbody tr th {\n",
       "        vertical-align: top;\n",
       "    }\n",
       "\n",
       "    .dataframe thead th {\n",
       "        text-align: right;\n",
       "    }\n",
       "</style>\n",
       "<table border=\"1\" class=\"dataframe\">\n",
       "  <thead>\n",
       "    <tr style=\"text-align: right;\">\n",
       "      <th></th>\n",
       "      <th>Column</th>\n",
       "      <th>Missing Values</th>\n",
       "      <th>Percentage</th>\n",
       "    </tr>\n",
       "  </thead>\n",
       "  <tbody>\n",
       "    <tr>\n",
       "      <th>1</th>\n",
       "      <td>wd</td>\n",
       "      <td>81</td>\n",
       "      <td>0.231006</td>\n",
       "    </tr>\n",
       "  </tbody>\n",
       "</table>\n",
       "</div>"
      ],
      "text/plain": [
       "  Column  Missing Values  Percentage\n",
       "1     wd              81    0.231006"
      ]
     },
     "metadata": {},
     "output_type": "display_data"
    },
    {
     "name": "stdout",
     "output_type": "stream",
     "text": [
      "Missing Values Summary for Changping:\n"
     ]
    },
    {
     "data": {
      "text/html": [
       "<div>\n",
       "<style scoped>\n",
       "    .dataframe tbody tr th:only-of-type {\n",
       "        vertical-align: middle;\n",
       "    }\n",
       "\n",
       "    .dataframe tbody tr th {\n",
       "        vertical-align: top;\n",
       "    }\n",
       "\n",
       "    .dataframe thead th {\n",
       "        text-align: right;\n",
       "    }\n",
       "</style>\n",
       "<table border=\"1\" class=\"dataframe\">\n",
       "  <thead>\n",
       "    <tr style=\"text-align: right;\">\n",
       "      <th></th>\n",
       "      <th>Column</th>\n",
       "      <th>Missing Values</th>\n",
       "      <th>Percentage</th>\n",
       "    </tr>\n",
       "  </thead>\n",
       "  <tbody>\n",
       "    <tr>\n",
       "      <th>1</th>\n",
       "      <td>wd</td>\n",
       "      <td>140</td>\n",
       "      <td>0.39927</td>\n",
       "    </tr>\n",
       "  </tbody>\n",
       "</table>\n",
       "</div>"
      ],
      "text/plain": [
       "  Column  Missing Values  Percentage\n",
       "1     wd             140     0.39927"
      ]
     },
     "metadata": {},
     "output_type": "display_data"
    },
    {
     "name": "stdout",
     "output_type": "stream",
     "text": [
      "Missing Values Summary for Dingling:\n"
     ]
    },
    {
     "data": {
      "text/html": [
       "<div>\n",
       "<style scoped>\n",
       "    .dataframe tbody tr th:only-of-type {\n",
       "        vertical-align: middle;\n",
       "    }\n",
       "\n",
       "    .dataframe tbody tr th {\n",
       "        vertical-align: top;\n",
       "    }\n",
       "\n",
       "    .dataframe thead th {\n",
       "        text-align: right;\n",
       "    }\n",
       "</style>\n",
       "<table border=\"1\" class=\"dataframe\">\n",
       "  <thead>\n",
       "    <tr style=\"text-align: right;\">\n",
       "      <th></th>\n",
       "      <th>Column</th>\n",
       "      <th>Missing Values</th>\n",
       "      <th>Percentage</th>\n",
       "    </tr>\n",
       "  </thead>\n",
       "  <tbody>\n",
       "    <tr>\n",
       "      <th>1</th>\n",
       "      <td>NO2</td>\n",
       "      <td>2</td>\n",
       "      <td>0.005704</td>\n",
       "    </tr>\n",
       "    <tr>\n",
       "      <th>2</th>\n",
       "      <td>wd</td>\n",
       "      <td>140</td>\n",
       "      <td>0.399270</td>\n",
       "    </tr>\n",
       "  </tbody>\n",
       "</table>\n",
       "</div>"
      ],
      "text/plain": [
       "  Column  Missing Values  Percentage\n",
       "1    NO2               2    0.005704\n",
       "2     wd             140    0.399270"
      ]
     },
     "metadata": {},
     "output_type": "display_data"
    },
    {
     "name": "stdout",
     "output_type": "stream",
     "text": [
      "Missing Values Summary for Dongsi:\n"
     ]
    },
    {
     "data": {
      "text/html": [
       "<div>\n",
       "<style scoped>\n",
       "    .dataframe tbody tr th:only-of-type {\n",
       "        vertical-align: middle;\n",
       "    }\n",
       "\n",
       "    .dataframe tbody tr th {\n",
       "        vertical-align: top;\n",
       "    }\n",
       "\n",
       "    .dataframe thead th {\n",
       "        text-align: right;\n",
       "    }\n",
       "</style>\n",
       "<table border=\"1\" class=\"dataframe\">\n",
       "  <thead>\n",
       "    <tr style=\"text-align: right;\">\n",
       "      <th></th>\n",
       "      <th>Column</th>\n",
       "      <th>Missing Values</th>\n",
       "      <th>Percentage</th>\n",
       "    </tr>\n",
       "  </thead>\n",
       "  <tbody>\n",
       "    <tr>\n",
       "      <th>1</th>\n",
       "      <td>wd</td>\n",
       "      <td>78</td>\n",
       "      <td>0.22245</td>\n",
       "    </tr>\n",
       "  </tbody>\n",
       "</table>\n",
       "</div>"
      ],
      "text/plain": [
       "  Column  Missing Values  Percentage\n",
       "1     wd              78     0.22245"
      ]
     },
     "metadata": {},
     "output_type": "display_data"
    },
    {
     "name": "stdout",
     "output_type": "stream",
     "text": [
      "Missing Values Summary for Guanyuan:\n"
     ]
    },
    {
     "data": {
      "text/html": [
       "<div>\n",
       "<style scoped>\n",
       "    .dataframe tbody tr th:only-of-type {\n",
       "        vertical-align: middle;\n",
       "    }\n",
       "\n",
       "    .dataframe tbody tr th {\n",
       "        vertical-align: top;\n",
       "    }\n",
       "\n",
       "    .dataframe thead th {\n",
       "        text-align: right;\n",
       "    }\n",
       "</style>\n",
       "<table border=\"1\" class=\"dataframe\">\n",
       "  <thead>\n",
       "    <tr style=\"text-align: right;\">\n",
       "      <th></th>\n",
       "      <th>Column</th>\n",
       "      <th>Missing Values</th>\n",
       "      <th>Percentage</th>\n",
       "    </tr>\n",
       "  </thead>\n",
       "  <tbody>\n",
       "    <tr>\n",
       "      <th>1</th>\n",
       "      <td>wd</td>\n",
       "      <td>81</td>\n",
       "      <td>0.231006</td>\n",
       "    </tr>\n",
       "  </tbody>\n",
       "</table>\n",
       "</div>"
      ],
      "text/plain": [
       "  Column  Missing Values  Percentage\n",
       "1     wd              81    0.231006"
      ]
     },
     "metadata": {},
     "output_type": "display_data"
    },
    {
     "name": "stdout",
     "output_type": "stream",
     "text": [
      "Missing Values Summary for Gucheng:\n"
     ]
    },
    {
     "data": {
      "text/html": [
       "<div>\n",
       "<style scoped>\n",
       "    .dataframe tbody tr th:only-of-type {\n",
       "        vertical-align: middle;\n",
       "    }\n",
       "\n",
       "    .dataframe tbody tr th {\n",
       "        vertical-align: top;\n",
       "    }\n",
       "\n",
       "    .dataframe thead th {\n",
       "        text-align: right;\n",
       "    }\n",
       "</style>\n",
       "<table border=\"1\" class=\"dataframe\">\n",
       "  <thead>\n",
       "    <tr style=\"text-align: right;\">\n",
       "      <th></th>\n",
       "      <th>Column</th>\n",
       "      <th>Missing Values</th>\n",
       "      <th>Percentage</th>\n",
       "    </tr>\n",
       "  </thead>\n",
       "  <tbody>\n",
       "    <tr>\n",
       "      <th>1</th>\n",
       "      <td>NO2</td>\n",
       "      <td>20</td>\n",
       "      <td>0.057039</td>\n",
       "    </tr>\n",
       "    <tr>\n",
       "      <th>2</th>\n",
       "      <td>wd</td>\n",
       "      <td>159</td>\n",
       "      <td>0.453457</td>\n",
       "    </tr>\n",
       "  </tbody>\n",
       "</table>\n",
       "</div>"
      ],
      "text/plain": [
       "  Column  Missing Values  Percentage\n",
       "1    NO2              20    0.057039\n",
       "2     wd             159    0.453457"
      ]
     },
     "metadata": {},
     "output_type": "display_data"
    },
    {
     "name": "stdout",
     "output_type": "stream",
     "text": [
      "Missing Values Summary for Huairou:\n"
     ]
    },
    {
     "data": {
      "text/html": [
       "<div>\n",
       "<style scoped>\n",
       "    .dataframe tbody tr th:only-of-type {\n",
       "        vertical-align: middle;\n",
       "    }\n",
       "\n",
       "    .dataframe tbody tr th {\n",
       "        vertical-align: top;\n",
       "    }\n",
       "\n",
       "    .dataframe thead th {\n",
       "        text-align: right;\n",
       "    }\n",
       "</style>\n",
       "<table border=\"1\" class=\"dataframe\">\n",
       "  <thead>\n",
       "    <tr style=\"text-align: right;\">\n",
       "      <th></th>\n",
       "      <th>Column</th>\n",
       "      <th>Missing Values</th>\n",
       "      <th>Percentage</th>\n",
       "    </tr>\n",
       "  </thead>\n",
       "  <tbody>\n",
       "    <tr>\n",
       "      <th>1</th>\n",
       "      <td>wd</td>\n",
       "      <td>302</td>\n",
       "      <td>0.861282</td>\n",
       "    </tr>\n",
       "  </tbody>\n",
       "</table>\n",
       "</div>"
      ],
      "text/plain": [
       "  Column  Missing Values  Percentage\n",
       "1     wd             302    0.861282"
      ]
     },
     "metadata": {},
     "output_type": "display_data"
    },
    {
     "name": "stdout",
     "output_type": "stream",
     "text": [
      "Missing Values Summary for Nongzhanguan:\n"
     ]
    },
    {
     "data": {
      "text/html": [
       "<div>\n",
       "<style scoped>\n",
       "    .dataframe tbody tr th:only-of-type {\n",
       "        vertical-align: middle;\n",
       "    }\n",
       "\n",
       "    .dataframe tbody tr th {\n",
       "        vertical-align: top;\n",
       "    }\n",
       "\n",
       "    .dataframe thead th {\n",
       "        text-align: right;\n",
       "    }\n",
       "</style>\n",
       "<table border=\"1\" class=\"dataframe\">\n",
       "  <thead>\n",
       "    <tr style=\"text-align: right;\">\n",
       "      <th></th>\n",
       "      <th>Column</th>\n",
       "      <th>Missing Values</th>\n",
       "      <th>Percentage</th>\n",
       "    </tr>\n",
       "  </thead>\n",
       "  <tbody>\n",
       "    <tr>\n",
       "      <th>1</th>\n",
       "      <td>wd</td>\n",
       "      <td>78</td>\n",
       "      <td>0.22245</td>\n",
       "    </tr>\n",
       "  </tbody>\n",
       "</table>\n",
       "</div>"
      ],
      "text/plain": [
       "  Column  Missing Values  Percentage\n",
       "1     wd              78     0.22245"
      ]
     },
     "metadata": {},
     "output_type": "display_data"
    },
    {
     "name": "stdout",
     "output_type": "stream",
     "text": [
      "Missing Values Summary for Shunyi:\n"
     ]
    },
    {
     "data": {
      "text/html": [
       "<div>\n",
       "<style scoped>\n",
       "    .dataframe tbody tr th:only-of-type {\n",
       "        vertical-align: middle;\n",
       "    }\n",
       "\n",
       "    .dataframe tbody tr th {\n",
       "        vertical-align: top;\n",
       "    }\n",
       "\n",
       "    .dataframe thead th {\n",
       "        text-align: right;\n",
       "    }\n",
       "</style>\n",
       "<table border=\"1\" class=\"dataframe\">\n",
       "  <thead>\n",
       "    <tr style=\"text-align: right;\">\n",
       "      <th></th>\n",
       "      <th>Column</th>\n",
       "      <th>Missing Values</th>\n",
       "      <th>Percentage</th>\n",
       "    </tr>\n",
       "  </thead>\n",
       "  <tbody>\n",
       "    <tr>\n",
       "      <th>1</th>\n",
       "      <td>wd</td>\n",
       "      <td>483</td>\n",
       "      <td>1.377481</td>\n",
       "    </tr>\n",
       "  </tbody>\n",
       "</table>\n",
       "</div>"
      ],
      "text/plain": [
       "  Column  Missing Values  Percentage\n",
       "1     wd             483    1.377481"
      ]
     },
     "metadata": {},
     "output_type": "display_data"
    },
    {
     "name": "stdout",
     "output_type": "stream",
     "text": [
      "Missing Values Summary for Tiantan:\n"
     ]
    },
    {
     "data": {
      "text/html": [
       "<div>\n",
       "<style scoped>\n",
       "    .dataframe tbody tr th:only-of-type {\n",
       "        vertical-align: middle;\n",
       "    }\n",
       "\n",
       "    .dataframe tbody tr th {\n",
       "        vertical-align: top;\n",
       "    }\n",
       "\n",
       "    .dataframe thead th {\n",
       "        text-align: right;\n",
       "    }\n",
       "</style>\n",
       "<table border=\"1\" class=\"dataframe\">\n",
       "  <thead>\n",
       "    <tr style=\"text-align: right;\">\n",
       "      <th></th>\n",
       "      <th>Column</th>\n",
       "      <th>Missing Values</th>\n",
       "      <th>Percentage</th>\n",
       "    </tr>\n",
       "  </thead>\n",
       "  <tbody>\n",
       "    <tr>\n",
       "      <th>1</th>\n",
       "      <td>wd</td>\n",
       "      <td>78</td>\n",
       "      <td>0.22245</td>\n",
       "    </tr>\n",
       "  </tbody>\n",
       "</table>\n",
       "</div>"
      ],
      "text/plain": [
       "  Column  Missing Values  Percentage\n",
       "1     wd              78     0.22245"
      ]
     },
     "metadata": {},
     "output_type": "display_data"
    },
    {
     "name": "stdout",
     "output_type": "stream",
     "text": [
      "Missing Values Summary for Wanliu:\n"
     ]
    },
    {
     "data": {
      "text/html": [
       "<div>\n",
       "<style scoped>\n",
       "    .dataframe tbody tr th:only-of-type {\n",
       "        vertical-align: middle;\n",
       "    }\n",
       "\n",
       "    .dataframe tbody tr th {\n",
       "        vertical-align: top;\n",
       "    }\n",
       "\n",
       "    .dataframe thead th {\n",
       "        text-align: right;\n",
       "    }\n",
       "</style>\n",
       "<table border=\"1\" class=\"dataframe\">\n",
       "  <thead>\n",
       "    <tr style=\"text-align: right;\">\n",
       "      <th></th>\n",
       "      <th>Column</th>\n",
       "      <th>Missing Values</th>\n",
       "      <th>Percentage</th>\n",
       "    </tr>\n",
       "  </thead>\n",
       "  <tbody>\n",
       "    <tr>\n",
       "      <th>1</th>\n",
       "      <td>wd</td>\n",
       "      <td>123</td>\n",
       "      <td>0.350787</td>\n",
       "    </tr>\n",
       "  </tbody>\n",
       "</table>\n",
       "</div>"
      ],
      "text/plain": [
       "  Column  Missing Values  Percentage\n",
       "1     wd             123    0.350787"
      ]
     },
     "metadata": {},
     "output_type": "display_data"
    },
    {
     "name": "stdout",
     "output_type": "stream",
     "text": [
      "Missing Values Summary for Wanshouxigong:\n"
     ]
    },
    {
     "data": {
      "text/html": [
       "<div>\n",
       "<style scoped>\n",
       "    .dataframe tbody tr th:only-of-type {\n",
       "        vertical-align: middle;\n",
       "    }\n",
       "\n",
       "    .dataframe tbody tr th {\n",
       "        vertical-align: top;\n",
       "    }\n",
       "\n",
       "    .dataframe thead th {\n",
       "        text-align: right;\n",
       "    }\n",
       "</style>\n",
       "<table border=\"1\" class=\"dataframe\">\n",
       "  <thead>\n",
       "    <tr style=\"text-align: right;\">\n",
       "      <th></th>\n",
       "      <th>Column</th>\n",
       "      <th>Missing Values</th>\n",
       "      <th>Percentage</th>\n",
       "    </tr>\n",
       "  </thead>\n",
       "  <tbody>\n",
       "    <tr>\n",
       "      <th>1</th>\n",
       "      <td>wd</td>\n",
       "      <td>79</td>\n",
       "      <td>0.225302</td>\n",
       "    </tr>\n",
       "  </tbody>\n",
       "</table>\n",
       "</div>"
      ],
      "text/plain": [
       "  Column  Missing Values  Percentage\n",
       "1     wd              79    0.225302"
      ]
     },
     "metadata": {},
     "output_type": "display_data"
    }
   ],
   "source": [
    "# **Insight:** \n",
    "\n",
    "\n",
    "# Fungsi untuk membuat ringkasan missing values dalam bentuk tabel\n",
    "def missing_values_table(df, location):\n",
    "    missing_data = df.isnull().sum()\n",
    "    missing_data = missing_data[missing_data > 0].sort_values(ascending=True)  # Urutkan ascending\n",
    "    percentage_missing = (missing_data / len(df)) * 100\n",
    "\n",
    "    missing_summary = pd.DataFrame({\n",
    "        'Column': missing_data.index,\n",
    "        'Missing Values': missing_data.values,\n",
    "        'Percentage': percentage_missing.values\n",
    "    })\n",
    "    \n",
    "    missing_summary.index = range(1, len(missing_summary) + 1)  # Atur index mulai dari 1\n",
    "    return missing_summary\n",
    "\n",
    "# Loop untuk menampilkan ringkasan missing values untuk setiap dataframe\n",
    "for location, df in dataframes.items():\n",
    "    print(f\"Missing Values Summary for {location}:\")\n",
    "    display(missing_values_table(df, location))\n"
   ]
  },
  {
   "cell_type": "markdown",
   "metadata": {},
   "source": [
    "## Exploratory Data Analysis (EDA)"
   ]
  },
  {
   "cell_type": "markdown",
   "metadata": {},
   "source": [
    "### Explore PM 2.5 Dan PM.10"
   ]
  },
  {
   "cell_type": "markdown",
   "metadata": {},
   "source": [
    "#### PM 2.5"
   ]
  },
  {
   "cell_type": "code",
   "execution_count": 36,
   "metadata": {},
   "outputs": [
    {
     "name": "stdout",
     "output_type": "stream",
     "text": [
      "Hasil analisis untuk tahun 2013:\n",
      "  month           city avg_PM25\n",
      "0     3   Aotizhongxin    110.0\n",
      "1     4  Wanshouxigong     79.0\n",
      "2     5         Wanliu     93.0\n",
      "3     6        Tiantan    110.0\n",
      "4     7   Nongzhanguan     75.0\n",
      "5     8         Dongsi     64.0\n",
      "6     9       Guanyuan     80.0\n",
      "7    10        Gucheng     96.0\n",
      "8    11         Shunyi     67.0\n",
      "9    12      Changping     67.0\n",
      "Hasil analisis untuk tahun 2014:\n",
      "   month           city avg_PM25\n",
      "0      1  Wanshouxigong    117.0\n",
      "1      2         Wanliu    162.0\n",
      "2      3         Dongsi    100.0\n",
      "3      4      Changping    104.0\n",
      "4      5   Aotizhongxin     71.0\n",
      "5      6       Guanyuan     60.0\n",
      "6      7        Huairou     96.0\n",
      "7      8        Tiantan     66.0\n",
      "8      9        Gucheng     72.0\n",
      "9     10   Nongzhanguan    137.0\n",
      "10    11         Shunyi     81.0\n",
      "11    12       Dingling     48.0\n",
      "Hasil analisis untuk tahun 2015:\n",
      "   month           city avg_PM25\n",
      "0      1   Nongzhanguan    108.0\n",
      "1      2         Dongsi    109.0\n",
      "2      3   Aotizhongxin     88.0\n",
      "3      4         Shunyi     74.0\n",
      "4      5         Wanliu     59.0\n",
      "5      6        Gucheng     63.0\n",
      "6      7       Guanyuan     67.0\n",
      "7      8        Tiantan     47.0\n",
      "8      9  Wanshouxigong     53.0\n",
      "9     10        Huairou     63.0\n",
      "10    11      Changping     91.0\n",
      "11    12       Dingling    119.0\n",
      "Hasil analisis untuk tahun 2016:\n",
      "   month           city avg_PM25\n",
      "0      1        Gucheng     76.0\n",
      "1      2         Shunyi     49.0\n",
      "2      3   Aotizhongxin    103.0\n",
      "3      4         Dongsi     77.0\n",
      "4      5       Guanyuan     57.0\n",
      "5      6  Wanshouxigong     63.0\n",
      "6      7   Nongzhanguan     71.0\n",
      "7      8        Tiantan     48.0\n",
      "8      9         Wanliu     53.0\n",
      "9     10       Dingling     97.0\n",
      "10    11      Changping     86.0\n",
      "11    12        Huairou     91.0\n",
      "Hasil analisis untuk tahun 2017:\n",
      "  month           city avg_PM25\n",
      "0     1  Wanshouxigong    132.0\n",
      "1     2   Nongzhanguan     76.0\n"
     ]
    }
   ],
   "source": [
    "def analisis_pm25_tertinggi(dataframes, year):\n",
    "    results = []\n",
    "    for city, df in dataframes.items():\n",
    "        # Filter data berdasarkan tahun\n",
    "        filtered_df = df[(df['year'] == year) & (df['month'] >= 1) & (df['month'] <= 12)]\n",
    "        monthly_avg = (\n",
    "            filtered_df.groupby('month')\n",
    "            .agg(avg_PM25=('PM2.5', 'mean'))\n",
    "            .reset_index()\n",
    "        )\n",
    "        # Membulatkan hasil rata-rata PM2.5\n",
    "        monthly_avg['avg_PM25'] = monthly_avg['avg_PM25'].round()\n",
    "        monthly_avg['city'] = city\n",
    "        results.append(monthly_avg)\n",
    "\n",
    "    # Menggabungkan semua data kota\n",
    "    combined_df = pd.concat(results, ignore_index=True)\n",
    "\n",
    "    # Menyimpan hasil akhir dengan kota yang berbeda untuk setiap bulan\n",
    "    highest_pm25_per_month = pd.DataFrame()\n",
    "    used_cities = set()\n",
    "    for month in range(1, 13):\n",
    "        month_data = combined_df[combined_df['month'] == month]\n",
    "        month_data = month_data[~month_data['city'].isin(used_cities)]\n",
    "        if not month_data.empty:\n",
    "            highest_row = month_data.loc[month_data['avg_PM25'].idxmax()]\n",
    "            highest_row = highest_row.to_frame().T  # Mengonversi Series ke DataFrame dengan transposisi\n",
    "            highest_pm25_per_month = pd.concat([highest_pm25_per_month, highest_row], ignore_index=True)\n",
    "            used_cities.add(highest_row['city'].values[0])\n",
    "\n",
    "    return highest_pm25_per_month\n",
    "\n",
    "# Contoh penggunaan untuk tahun 2013 hingga 2017\n",
    "for year in range(2013, 2018):\n",
    "    max_per_month_df = analisis_pm25_tertinggi(dataframes, year)\n",
    "    print(f\"Hasil analisis untuk tahun {year}:\")\n",
    "    print(max_per_month_df[['month', 'city', 'avg_PM25']])\n"
   ]
  },
  {
   "cell_type": "markdown",
   "metadata": {},
   "source": [
    "**Insight:**\n",
    "- Pada bulan-bulan tertentu seperti Januari dan Februari, mungkin terjadi peningkatan PM2.5, yang bisa jadi dipengaruhi oleh kondisi cuaca atau peningkatan aktivitas domestik (misalnya pembakaran bahan bakar fosil untuk pemanasan).\n",
    "- Kota dengan PM2.5 Tertinggi: Menyusun perbandingan antara kota-kota berdasarkan nilai rata-rata PM2.5 mereka, kita bisa mengetahui kota mana yang lebih sering terpapar polusi udara tinggi.\n",
    "- Tren Polusi di Kota-Kota Tertentu: Analisis perbandingan antar kota untuk melihat mana yang memiliki tingkat polusi yang lebih tinggi dan lebih konsisten selama periode waktu tersebut.\n",
    "- Kota-kota seperti Wanshouxigong, Nongzhanguan, dan Aotizhongxin cenderung memiliki nilai PM2.5 yang lebih tinggi di sebagian besar bulan, menunjukkan tingkat polusi udara yang lebih tinggi dibandingkan dengan kota-kota lain.\n",
    "- Wanshouxigong memiliki nilai PM2.5 tertinggi, khususnya di bulan-bulan seperti Januari dan Maret, yang bisa menjadi tanda adanya sumber polusi yang lebih tinggi atau faktor lokal yang memperburuk kualitas udara.\n",
    "- Beberapa kota mengalami peningkatan PM2.5 dari bulan ke bulan, sementara kota lain mungkin menunjukkan penurunan atau stabilitas. Misalnya, di Changping, nilai PM2.5 tampak stabil, sementara kota lain seperti Tiantan dan Huairou menunjukkan fluktuasi yang lebih besar.\n",
    "- Dingling, meskipun menunjukkan beberapa nilai yang lebih rendah pada tahun pertama data, memiliki nilai PM2.5 yang lebih tinggi pada bulan Desember 2016 (119), yang perlu diselidiki lebih lanjut"
   ]
  },
  {
   "cell_type": "markdown",
   "metadata": {},
   "source": [
    "#### PM 10"
   ]
  },
  {
   "cell_type": "code",
   "execution_count": 43,
   "metadata": {},
   "outputs": [
    {
     "name": "stdout",
     "output_type": "stream",
     "text": [
      "Hasil analisis untuk tahun 2013:\n",
      "  month           city avg_PM10\n",
      "0     3        Gucheng    148.0\n",
      "1     4         Wanliu    109.0\n",
      "2     5        Huairou    163.0\n",
      "3     6        Tiantan    134.0\n",
      "4     7   Aotizhongxin     85.0\n",
      "5     8         Dongsi     86.0\n",
      "6     9  Wanshouxigong    117.0\n",
      "7    10       Guanyuan    120.0\n",
      "8    11   Nongzhanguan    105.0\n",
      "9    12      Changping     81.0\n",
      "Hasil analisis untuk tahun 2014:\n",
      "   month           city avg_PM10\n",
      "0      1  Wanshouxigong    156.0\n",
      "1      2   Nongzhanguan    167.0\n",
      "2      3        Gucheng    155.0\n",
      "3      4   Aotizhongxin    168.0\n",
      "4      5         Wanliu    133.0\n",
      "5      6        Tiantan     82.0\n",
      "6      7        Huairou    115.0\n",
      "7      8       Guanyuan     88.0\n",
      "8      9         Dongsi     95.0\n",
      "9     10      Changping    138.0\n",
      "10    11         Shunyi    121.0\n",
      "11    12       Dingling     65.0\n",
      "Hasil analisis untuk tahun 2015:\n",
      "   month           city avg_PM10\n",
      "0      1   Nongzhanguan    131.0\n",
      "1      2  Wanshouxigong    134.0\n",
      "2      3         Dongsi    169.0\n",
      "3      4   Aotizhongxin    135.0\n",
      "4      5        Gucheng    114.0\n",
      "5      6       Guanyuan     84.0\n",
      "6      7         Wanliu     79.0\n",
      "7      8         Shunyi     61.0\n",
      "8      9        Tiantan     62.0\n",
      "9     10        Huairou     78.0\n",
      "10    11      Changping     99.0\n",
      "11    12       Dingling    128.0\n",
      "Hasil analisis untuk tahun 2016:\n",
      "   month           city avg_PM10\n",
      "0      1        Gucheng     96.0\n",
      "1      2   Aotizhongxin     61.0\n",
      "2      3       Guanyuan    144.0\n",
      "3      4         Dongsi    118.0\n",
      "4      5  Wanshouxigong     96.0\n",
      "5      6        Tiantan     81.0\n",
      "6      7         Wanliu     80.0\n",
      "7      8   Nongzhanguan     59.0\n",
      "8      9         Shunyi     67.0\n",
      "9     10      Changping     96.0\n",
      "10    11        Huairou    117.0\n",
      "11    12       Dingling    105.0\n",
      "Hasil analisis untuk tahun 2017:\n",
      "  month     city avg_PM10\n",
      "0     1   Dongsi    158.0\n",
      "1     2  Gucheng     97.0\n"
     ]
    }
   ],
   "source": [
    "def analisis_pm10_tertinggi(dataframes, year):\n",
    "    results = []\n",
    "    for city, df in dataframes.items():\n",
    "        # Filter data berdasarkan tahun\n",
    "        filtered_df = df[(df['year'] == year) & (df['month'] >= 1) & (df['month'] <= 12)]\n",
    "        monthly_avg = (\n",
    "            filtered_df.groupby('month')\n",
    "            .agg(avg_PM10=('PM10', 'mean'))  # Mengganti 'PM2.5' dengan 'PM10'\n",
    "            .reset_index()\n",
    "        )\n",
    "        # Membulatkan hasil rata-rata PM10\n",
    "        monthly_avg['avg_PM10'] = monthly_avg['avg_PM10'].round()\n",
    "        monthly_avg['city'] = city\n",
    "        results.append(monthly_avg)\n",
    "\n",
    "    # Menggabungkan semua data kota\n",
    "    combined_df = pd.concat(results, ignore_index=True)\n",
    "\n",
    "    # Menyimpan hasil akhir dengan kota yang berbeda untuk setiap bulan\n",
    "    highest_pm10_per_month = pd.DataFrame()\n",
    "    used_cities = set()\n",
    "    for month in range(1, 13):\n",
    "        month_data = combined_df[combined_df['month'] == month]\n",
    "        month_data = month_data[~month_data['city'].isin(used_cities)]\n",
    "        if not month_data.empty:\n",
    "            highest_row = month_data.loc[month_data['avg_PM10'].idxmax()]  # Menggunakan PM10\n",
    "            highest_row = highest_row.to_frame().T  # Mengonversi Series ke DataFrame dengan transposisi\n",
    "            highest_pm10_per_month = pd.concat([highest_pm10_per_month, highest_row], ignore_index=True)\n",
    "            used_cities.add(highest_row['city'].values[0])\n",
    "\n",
    "    return highest_pm10_per_month\n",
    "\n",
    "# Contoh penggunaan untuk tahun 2013 hingga 2017\n",
    "for year in range(2013, 2018):\n",
    "    max_per_month_df = analisis_pm10_tertinggi(dataframes, year)\n",
    "    print(f\"Hasil analisis untuk tahun {year}:\")\n",
    "    print(max_per_month_df[['month', 'city', 'avg_PM10']])\n"
   ]
  },
  {
   "cell_type": "markdown",
   "metadata": {},
   "source": [
    "## Visualization & Explanatory Analysis"
   ]
  },
  {
   "cell_type": "markdown",
   "metadata": {},
   "source": [
    "### PM 2.5"
   ]
  },
  {
   "cell_type": "code",
   "execution_count": 38,
   "metadata": {},
   "outputs": [
    {
     "data": {
      "application/vnd.plotly.v1+json": {
       "config": {
        "plotlyServerURL": "https://plot.ly"
       },
       "data": [
        {
         "alignmentgroup": "True",
         "hovertemplate": "city=%{text}<br>Bulan-Tahun=%{x}<br>Rata-rata PM2.5 (µg/m³)=%{y}<extra></extra>",
         "legendgroup": "Wanshouxigong",
         "marker": {
          "color": "#636efa",
          "pattern": {
           "shape": ""
          }
         },
         "name": "Wanshouxigong",
         "offsetgroup": "Wanshouxigong",
         "orientation": "v",
         "showlegend": true,
         "text": [
          "Wanshouxigong",
          "Wanshouxigong",
          "Wanshouxigong",
          "Wanshouxigong",
          "Wanshouxigong",
          "Wanshouxigong"
         ],
         "textposition": "auto",
         "type": "bar",
         "x": [
          "2013-01",
          "2013-04",
          "2014-09",
          "2016-01",
          "2016-09",
          "2017-05"
         ],
         "xaxis": "x",
         "y": [
          117,
          79,
          53,
          95,
          60,
          65
         ],
         "yaxis": "y"
        },
        {
         "alignmentgroup": "True",
         "hovertemplate": "city=%{text}<br>Bulan-Tahun=%{x}<br>Rata-rata PM2.5 (µg/m³)=%{y}<extra></extra>",
         "legendgroup": "Wanliu",
         "marker": {
          "color": "#EF553B",
          "pattern": {
           "shape": ""
          }
         },
         "name": "Wanliu",
         "offsetgroup": "Wanliu",
         "orientation": "v",
         "showlegend": true,
         "text": [
          "Wanliu",
          "Wanliu",
          "Wanliu",
          "Wanliu",
          "Wanliu"
         ],
         "textposition": "auto",
         "type": "bar",
         "x": [
          "2013-02",
          "2013-05",
          "2014-05",
          "2016-02",
          "2017-06"
         ],
         "xaxis": "x",
         "y": [
          162,
          93,
          59,
          115,
          80
         ],
         "yaxis": "y"
        },
        {
         "alignmentgroup": "True",
         "hovertemplate": "city=%{text}<br>Bulan-Tahun=%{x}<br>Rata-rata PM2.5 (µg/m³)=%{y}<extra></extra>",
         "legendgroup": "Aotizhongxin",
         "marker": {
          "color": "#00cc96",
          "pattern": {
           "shape": ""
          }
         },
         "name": "Aotizhongxin",
         "offsetgroup": "Aotizhongxin",
         "orientation": "v",
         "showlegend": true,
         "text": [
          "Aotizhongxin",
          "Aotizhongxin",
          "Aotizhongxin",
          "Aotizhongxin",
          "Aotizhongxin"
         ],
         "textposition": "auto",
         "type": "bar",
         "x": [
          "2013-03",
          "2014-03",
          "2015-05",
          "2016-03",
          "2017-07"
         ],
         "xaxis": "x",
         "y": [
          110,
          88,
          71,
          98,
          90
         ],
         "yaxis": "y"
        },
        {
         "alignmentgroup": "True",
         "hovertemplate": "city=%{text}<br>Bulan-Tahun=%{x}<br>Rata-rata PM2.5 (µg/m³)=%{y}<extra></extra>",
         "legendgroup": "Tiantan",
         "marker": {
          "color": "#ab63fa",
          "pattern": {
           "shape": ""
          }
         },
         "name": "Tiantan",
         "offsetgroup": "Tiantan",
         "orientation": "v",
         "showlegend": true,
         "text": [
          "Tiantan",
          "Tiantan",
          "Tiantan",
          "Tiantan",
          "Tiantan"
         ],
         "textposition": "auto",
         "type": "bar",
         "x": [
          "2013-06",
          "2014-08",
          "2015-08",
          "2016-06",
          "2017-02"
         ],
         "xaxis": "x",
         "y": [
          110,
          47,
          66,
          90,
          85
         ],
         "yaxis": "y"
        },
        {
         "alignmentgroup": "True",
         "hovertemplate": "city=%{text}<br>Bulan-Tahun=%{x}<br>Rata-rata PM2.5 (µg/m³)=%{y}<extra></extra>",
         "legendgroup": "Nongzhanguan",
         "marker": {
          "color": "#FFA15A",
          "pattern": {
           "shape": ""
          }
         },
         "name": "Nongzhanguan",
         "offsetgroup": "Nongzhanguan",
         "orientation": "v",
         "showlegend": true,
         "text": [
          "Nongzhanguan",
          "Nongzhanguan",
          "Nongzhanguan",
          "Nongzhanguan",
          "Nongzhanguan"
         ],
         "textposition": "auto",
         "type": "bar",
         "x": [
          "2013-07",
          "2014-01",
          "2015-10",
          "2016-07",
          "2017-03"
         ],
         "xaxis": "x",
         "y": [
          75,
          108,
          137,
          105,
          95
         ],
         "yaxis": "y"
        },
        {
         "alignmentgroup": "True",
         "hovertemplate": "city=%{text}<br>Bulan-Tahun=%{x}<br>Rata-rata PM2.5 (µg/m³)=%{y}<extra></extra>",
         "legendgroup": "Dongsi",
         "marker": {
          "color": "#19d3f3",
          "pattern": {
           "shape": ""
          }
         },
         "name": "Dongsi",
         "offsetgroup": "Dongsi",
         "orientation": "v",
         "showlegend": true,
         "text": [
          "Dongsi",
          "Dongsi",
          "Dongsi",
          "Dongsi",
          "Dongsi"
         ],
         "textposition": "auto",
         "type": "bar",
         "x": [
          "2013-08",
          "2014-02",
          "2015-03",
          "2016-08",
          "2017-04"
         ],
         "xaxis": "x",
         "y": [
          64,
          109,
          100,
          75,
          70
         ],
         "yaxis": "y"
        },
        {
         "alignmentgroup": "True",
         "hovertemplate": "city=%{text}<br>Bulan-Tahun=%{x}<br>Rata-rata PM2.5 (µg/m³)=%{y}<extra></extra>",
         "legendgroup": "Guanyuan",
         "marker": {
          "color": "#FF6692",
          "pattern": {
           "shape": ""
          }
         },
         "name": "Guanyuan",
         "offsetgroup": "Guanyuan",
         "orientation": "v",
         "showlegend": true,
         "text": [
          "Guanyuan",
          "Guanyuan",
          "Guanyuan",
          "Guanyuan",
          "Guanyuan",
          "Guanyuan"
         ],
         "textposition": "auto",
         "type": "bar",
         "x": [
          "2013-09",
          "2014-07",
          "2015-06",
          "2016-04",
          "2017-01",
          "2017-08"
         ],
         "xaxis": "x",
         "y": [
          80,
          67,
          60,
          85,
          120,
          77
         ],
         "yaxis": "y"
        },
        {
         "alignmentgroup": "True",
         "hovertemplate": "city=%{text}<br>Bulan-Tahun=%{x}<br>Rata-rata PM2.5 (µg/m³)=%{y}<extra></extra>",
         "legendgroup": "Gucheng",
         "marker": {
          "color": "#B6E880",
          "pattern": {
           "shape": ""
          }
         },
         "name": "Gucheng",
         "offsetgroup": "Gucheng",
         "orientation": "v",
         "showlegend": true,
         "text": [
          "Gucheng",
          "Gucheng",
          "Gucheng",
          "Gucheng",
          "Gucheng"
         ],
         "textposition": "auto",
         "type": "bar",
         "x": [
          "2013-10",
          "2014-06",
          "2015-01",
          "2015-09",
          "2016-10"
         ],
         "xaxis": "x",
         "y": [
          96,
          63,
          76,
          72,
          110
         ],
         "yaxis": "y"
        },
        {
         "alignmentgroup": "True",
         "hovertemplate": "city=%{text}<br>Bulan-Tahun=%{x}<br>Rata-rata PM2.5 (µg/m³)=%{y}<extra></extra>",
         "legendgroup": "Shunyi",
         "marker": {
          "color": "#FF97FF",
          "pattern": {
           "shape": ""
          }
         },
         "name": "Shunyi",
         "offsetgroup": "Shunyi",
         "orientation": "v",
         "showlegend": true,
         "text": [
          "Shunyi",
          "Shunyi",
          "Shunyi",
          "Shunyi",
          "Shunyi"
         ],
         "textposition": "auto",
         "type": "bar",
         "x": [
          "2013-11",
          "2014-04",
          "2015-02",
          "2015-11",
          "2017-09"
         ],
         "xaxis": "x",
         "y": [
          67,
          74,
          49,
          81,
          92
         ],
         "yaxis": "y"
        },
        {
         "alignmentgroup": "True",
         "hovertemplate": "city=%{text}<br>Bulan-Tahun=%{x}<br>Rata-rata PM2.5 (µg/m³)=%{y}<extra></extra>",
         "legendgroup": "Changping",
         "marker": {
          "color": "#FECB52",
          "pattern": {
           "shape": ""
          }
         },
         "name": "Changping",
         "offsetgroup": "Changping",
         "orientation": "v",
         "showlegend": true,
         "text": [
          "Changping",
          "Changping",
          "Changping",
          "Changping",
          "Changping"
         ],
         "textposition": "auto",
         "type": "bar",
         "x": [
          "2013-12",
          "2014-11",
          "2015-04",
          "2016-11",
          "2017-11"
         ],
         "xaxis": "x",
         "y": [
          67,
          91,
          104,
          100,
          105
         ],
         "yaxis": "y"
        },
        {
         "alignmentgroup": "True",
         "hovertemplate": "city=%{text}<br>Bulan-Tahun=%{x}<br>Rata-rata PM2.5 (µg/m³)=%{y}<extra></extra>",
         "legendgroup": "Huairou",
         "marker": {
          "color": "#636efa",
          "pattern": {
           "shape": ""
          }
         },
         "name": "Huairou",
         "offsetgroup": "Huairou",
         "orientation": "v",
         "showlegend": true,
         "text": [
          "Huairou",
          "Huairou",
          "Huairou",
          "Huairou"
         ],
         "textposition": "auto",
         "type": "bar",
         "x": [
          "2014-10",
          "2015-07",
          "2016-05",
          "2017-10"
         ],
         "xaxis": "x",
         "y": [
          63,
          96,
          70,
          100
         ],
         "yaxis": "y"
        },
        {
         "alignmentgroup": "True",
         "hovertemplate": "city=%{text}<br>Bulan-Tahun=%{x}<br>Rata-rata PM2.5 (µg/m³)=%{y}<extra></extra>",
         "legendgroup": "Dingling",
         "marker": {
          "color": "#EF553B",
          "pattern": {
           "shape": ""
          }
         },
         "name": "Dingling",
         "offsetgroup": "Dingling",
         "orientation": "v",
         "showlegend": true,
         "text": [
          "Dingling",
          "Dingling",
          "Dingling",
          "Dingling"
         ],
         "textposition": "auto",
         "type": "bar",
         "x": [
          "2014-12",
          "2015-12",
          "2016-12",
          "2017-12"
         ],
         "xaxis": "x",
         "y": [
          119,
          48,
          130,
          110
         ],
         "yaxis": "y"
        }
       ],
       "layout": {
        "barmode": "relative",
        "height": 600,
        "legend": {
         "title": {
          "text": "city"
         },
         "tracegroupgap": 0
        },
        "template": {
         "data": {
          "bar": [
           {
            "error_x": {
             "color": "#2a3f5f"
            },
            "error_y": {
             "color": "#2a3f5f"
            },
            "marker": {
             "line": {
              "color": "#E5ECF6",
              "width": 0.5
             },
             "pattern": {
              "fillmode": "overlay",
              "size": 10,
              "solidity": 0.2
             }
            },
            "type": "bar"
           }
          ],
          "barpolar": [
           {
            "marker": {
             "line": {
              "color": "#E5ECF6",
              "width": 0.5
             },
             "pattern": {
              "fillmode": "overlay",
              "size": 10,
              "solidity": 0.2
             }
            },
            "type": "barpolar"
           }
          ],
          "carpet": [
           {
            "aaxis": {
             "endlinecolor": "#2a3f5f",
             "gridcolor": "white",
             "linecolor": "white",
             "minorgridcolor": "white",
             "startlinecolor": "#2a3f5f"
            },
            "baxis": {
             "endlinecolor": "#2a3f5f",
             "gridcolor": "white",
             "linecolor": "white",
             "minorgridcolor": "white",
             "startlinecolor": "#2a3f5f"
            },
            "type": "carpet"
           }
          ],
          "choropleth": [
           {
            "colorbar": {
             "outlinewidth": 0,
             "ticks": ""
            },
            "type": "choropleth"
           }
          ],
          "contour": [
           {
            "colorbar": {
             "outlinewidth": 0,
             "ticks": ""
            },
            "colorscale": [
             [
              0,
              "#0d0887"
             ],
             [
              0.1111111111111111,
              "#46039f"
             ],
             [
              0.2222222222222222,
              "#7201a8"
             ],
             [
              0.3333333333333333,
              "#9c179e"
             ],
             [
              0.4444444444444444,
              "#bd3786"
             ],
             [
              0.5555555555555556,
              "#d8576b"
             ],
             [
              0.6666666666666666,
              "#ed7953"
             ],
             [
              0.7777777777777778,
              "#fb9f3a"
             ],
             [
              0.8888888888888888,
              "#fdca26"
             ],
             [
              1,
              "#f0f921"
             ]
            ],
            "type": "contour"
           }
          ],
          "contourcarpet": [
           {
            "colorbar": {
             "outlinewidth": 0,
             "ticks": ""
            },
            "type": "contourcarpet"
           }
          ],
          "heatmap": [
           {
            "colorbar": {
             "outlinewidth": 0,
             "ticks": ""
            },
            "colorscale": [
             [
              0,
              "#0d0887"
             ],
             [
              0.1111111111111111,
              "#46039f"
             ],
             [
              0.2222222222222222,
              "#7201a8"
             ],
             [
              0.3333333333333333,
              "#9c179e"
             ],
             [
              0.4444444444444444,
              "#bd3786"
             ],
             [
              0.5555555555555556,
              "#d8576b"
             ],
             [
              0.6666666666666666,
              "#ed7953"
             ],
             [
              0.7777777777777778,
              "#fb9f3a"
             ],
             [
              0.8888888888888888,
              "#fdca26"
             ],
             [
              1,
              "#f0f921"
             ]
            ],
            "type": "heatmap"
           }
          ],
          "heatmapgl": [
           {
            "colorbar": {
             "outlinewidth": 0,
             "ticks": ""
            },
            "colorscale": [
             [
              0,
              "#0d0887"
             ],
             [
              0.1111111111111111,
              "#46039f"
             ],
             [
              0.2222222222222222,
              "#7201a8"
             ],
             [
              0.3333333333333333,
              "#9c179e"
             ],
             [
              0.4444444444444444,
              "#bd3786"
             ],
             [
              0.5555555555555556,
              "#d8576b"
             ],
             [
              0.6666666666666666,
              "#ed7953"
             ],
             [
              0.7777777777777778,
              "#fb9f3a"
             ],
             [
              0.8888888888888888,
              "#fdca26"
             ],
             [
              1,
              "#f0f921"
             ]
            ],
            "type": "heatmapgl"
           }
          ],
          "histogram": [
           {
            "marker": {
             "pattern": {
              "fillmode": "overlay",
              "size": 10,
              "solidity": 0.2
             }
            },
            "type": "histogram"
           }
          ],
          "histogram2d": [
           {
            "colorbar": {
             "outlinewidth": 0,
             "ticks": ""
            },
            "colorscale": [
             [
              0,
              "#0d0887"
             ],
             [
              0.1111111111111111,
              "#46039f"
             ],
             [
              0.2222222222222222,
              "#7201a8"
             ],
             [
              0.3333333333333333,
              "#9c179e"
             ],
             [
              0.4444444444444444,
              "#bd3786"
             ],
             [
              0.5555555555555556,
              "#d8576b"
             ],
             [
              0.6666666666666666,
              "#ed7953"
             ],
             [
              0.7777777777777778,
              "#fb9f3a"
             ],
             [
              0.8888888888888888,
              "#fdca26"
             ],
             [
              1,
              "#f0f921"
             ]
            ],
            "type": "histogram2d"
           }
          ],
          "histogram2dcontour": [
           {
            "colorbar": {
             "outlinewidth": 0,
             "ticks": ""
            },
            "colorscale": [
             [
              0,
              "#0d0887"
             ],
             [
              0.1111111111111111,
              "#46039f"
             ],
             [
              0.2222222222222222,
              "#7201a8"
             ],
             [
              0.3333333333333333,
              "#9c179e"
             ],
             [
              0.4444444444444444,
              "#bd3786"
             ],
             [
              0.5555555555555556,
              "#d8576b"
             ],
             [
              0.6666666666666666,
              "#ed7953"
             ],
             [
              0.7777777777777778,
              "#fb9f3a"
             ],
             [
              0.8888888888888888,
              "#fdca26"
             ],
             [
              1,
              "#f0f921"
             ]
            ],
            "type": "histogram2dcontour"
           }
          ],
          "mesh3d": [
           {
            "colorbar": {
             "outlinewidth": 0,
             "ticks": ""
            },
            "type": "mesh3d"
           }
          ],
          "parcoords": [
           {
            "line": {
             "colorbar": {
              "outlinewidth": 0,
              "ticks": ""
             }
            },
            "type": "parcoords"
           }
          ],
          "pie": [
           {
            "automargin": true,
            "type": "pie"
           }
          ],
          "scatter": [
           {
            "fillpattern": {
             "fillmode": "overlay",
             "size": 10,
             "solidity": 0.2
            },
            "type": "scatter"
           }
          ],
          "scatter3d": [
           {
            "line": {
             "colorbar": {
              "outlinewidth": 0,
              "ticks": ""
             }
            },
            "marker": {
             "colorbar": {
              "outlinewidth": 0,
              "ticks": ""
             }
            },
            "type": "scatter3d"
           }
          ],
          "scattercarpet": [
           {
            "marker": {
             "colorbar": {
              "outlinewidth": 0,
              "ticks": ""
             }
            },
            "type": "scattercarpet"
           }
          ],
          "scattergeo": [
           {
            "marker": {
             "colorbar": {
              "outlinewidth": 0,
              "ticks": ""
             }
            },
            "type": "scattergeo"
           }
          ],
          "scattergl": [
           {
            "marker": {
             "colorbar": {
              "outlinewidth": 0,
              "ticks": ""
             }
            },
            "type": "scattergl"
           }
          ],
          "scattermapbox": [
           {
            "marker": {
             "colorbar": {
              "outlinewidth": 0,
              "ticks": ""
             }
            },
            "type": "scattermapbox"
           }
          ],
          "scatterpolar": [
           {
            "marker": {
             "colorbar": {
              "outlinewidth": 0,
              "ticks": ""
             }
            },
            "type": "scatterpolar"
           }
          ],
          "scatterpolargl": [
           {
            "marker": {
             "colorbar": {
              "outlinewidth": 0,
              "ticks": ""
             }
            },
            "type": "scatterpolargl"
           }
          ],
          "scatterternary": [
           {
            "marker": {
             "colorbar": {
              "outlinewidth": 0,
              "ticks": ""
             }
            },
            "type": "scatterternary"
           }
          ],
          "surface": [
           {
            "colorbar": {
             "outlinewidth": 0,
             "ticks": ""
            },
            "colorscale": [
             [
              0,
              "#0d0887"
             ],
             [
              0.1111111111111111,
              "#46039f"
             ],
             [
              0.2222222222222222,
              "#7201a8"
             ],
             [
              0.3333333333333333,
              "#9c179e"
             ],
             [
              0.4444444444444444,
              "#bd3786"
             ],
             [
              0.5555555555555556,
              "#d8576b"
             ],
             [
              0.6666666666666666,
              "#ed7953"
             ],
             [
              0.7777777777777778,
              "#fb9f3a"
             ],
             [
              0.8888888888888888,
              "#fdca26"
             ],
             [
              1,
              "#f0f921"
             ]
            ],
            "type": "surface"
           }
          ],
          "table": [
           {
            "cells": {
             "fill": {
              "color": "#EBF0F8"
             },
             "line": {
              "color": "white"
             }
            },
            "header": {
             "fill": {
              "color": "#C8D4E3"
             },
             "line": {
              "color": "white"
             }
            },
            "type": "table"
           }
          ]
         },
         "layout": {
          "annotationdefaults": {
           "arrowcolor": "#2a3f5f",
           "arrowhead": 0,
           "arrowwidth": 1
          },
          "autotypenumbers": "strict",
          "coloraxis": {
           "colorbar": {
            "outlinewidth": 0,
            "ticks": ""
           }
          },
          "colorscale": {
           "diverging": [
            [
             0,
             "#8e0152"
            ],
            [
             0.1,
             "#c51b7d"
            ],
            [
             0.2,
             "#de77ae"
            ],
            [
             0.3,
             "#f1b6da"
            ],
            [
             0.4,
             "#fde0ef"
            ],
            [
             0.5,
             "#f7f7f7"
            ],
            [
             0.6,
             "#e6f5d0"
            ],
            [
             0.7,
             "#b8e186"
            ],
            [
             0.8,
             "#7fbc41"
            ],
            [
             0.9,
             "#4d9221"
            ],
            [
             1,
             "#276419"
            ]
           ],
           "sequential": [
            [
             0,
             "#0d0887"
            ],
            [
             0.1111111111111111,
             "#46039f"
            ],
            [
             0.2222222222222222,
             "#7201a8"
            ],
            [
             0.3333333333333333,
             "#9c179e"
            ],
            [
             0.4444444444444444,
             "#bd3786"
            ],
            [
             0.5555555555555556,
             "#d8576b"
            ],
            [
             0.6666666666666666,
             "#ed7953"
            ],
            [
             0.7777777777777778,
             "#fb9f3a"
            ],
            [
             0.8888888888888888,
             "#fdca26"
            ],
            [
             1,
             "#f0f921"
            ]
           ],
           "sequentialminus": [
            [
             0,
             "#0d0887"
            ],
            [
             0.1111111111111111,
             "#46039f"
            ],
            [
             0.2222222222222222,
             "#7201a8"
            ],
            [
             0.3333333333333333,
             "#9c179e"
            ],
            [
             0.4444444444444444,
             "#bd3786"
            ],
            [
             0.5555555555555556,
             "#d8576b"
            ],
            [
             0.6666666666666666,
             "#ed7953"
            ],
            [
             0.7777777777777778,
             "#fb9f3a"
            ],
            [
             0.8888888888888888,
             "#fdca26"
            ],
            [
             1,
             "#f0f921"
            ]
           ]
          },
          "colorway": [
           "#636efa",
           "#EF553B",
           "#00cc96",
           "#ab63fa",
           "#FFA15A",
           "#19d3f3",
           "#FF6692",
           "#B6E880",
           "#FF97FF",
           "#FECB52"
          ],
          "font": {
           "color": "#2a3f5f"
          },
          "geo": {
           "bgcolor": "white",
           "lakecolor": "white",
           "landcolor": "#E5ECF6",
           "showlakes": true,
           "showland": true,
           "subunitcolor": "white"
          },
          "hoverlabel": {
           "align": "left"
          },
          "hovermode": "closest",
          "mapbox": {
           "style": "light"
          },
          "paper_bgcolor": "white",
          "plot_bgcolor": "#E5ECF6",
          "polar": {
           "angularaxis": {
            "gridcolor": "white",
            "linecolor": "white",
            "ticks": ""
           },
           "bgcolor": "#E5ECF6",
           "radialaxis": {
            "gridcolor": "white",
            "linecolor": "white",
            "ticks": ""
           }
          },
          "scene": {
           "xaxis": {
            "backgroundcolor": "#E5ECF6",
            "gridcolor": "white",
            "gridwidth": 2,
            "linecolor": "white",
            "showbackground": true,
            "ticks": "",
            "zerolinecolor": "white"
           },
           "yaxis": {
            "backgroundcolor": "#E5ECF6",
            "gridcolor": "white",
            "gridwidth": 2,
            "linecolor": "white",
            "showbackground": true,
            "ticks": "",
            "zerolinecolor": "white"
           },
           "zaxis": {
            "backgroundcolor": "#E5ECF6",
            "gridcolor": "white",
            "gridwidth": 2,
            "linecolor": "white",
            "showbackground": true,
            "ticks": "",
            "zerolinecolor": "white"
           }
          },
          "shapedefaults": {
           "line": {
            "color": "#2a3f5f"
           }
          },
          "ternary": {
           "aaxis": {
            "gridcolor": "white",
            "linecolor": "white",
            "ticks": ""
           },
           "baxis": {
            "gridcolor": "white",
            "linecolor": "white",
            "ticks": ""
           },
           "bgcolor": "#E5ECF6",
           "caxis": {
            "gridcolor": "white",
            "linecolor": "white",
            "ticks": ""
           }
          },
          "title": {
           "x": 0.05
          },
          "xaxis": {
           "automargin": true,
           "gridcolor": "white",
           "linecolor": "white",
           "ticks": "",
           "title": {
            "standoff": 15
           },
           "zerolinecolor": "white",
           "zerolinewidth": 2
          },
          "yaxis": {
           "automargin": true,
           "gridcolor": "white",
           "linecolor": "white",
           "ticks": "",
           "title": {
            "standoff": 15
           },
           "zerolinecolor": "white",
           "zerolinewidth": 2
          }
         }
        },
        "title": {
         "text": "Rata-rata PM2.5 per Bulan dari Tahun 2013 sampai 2017"
        },
        "xaxis": {
         "anchor": "y",
         "domain": [
          0,
          1
         ],
         "tickangle": -45,
         "title": {
          "text": "Bulan-Tahun"
         }
        },
        "yaxis": {
         "anchor": "x",
         "domain": [
          0,
          1
         ],
         "title": {
          "text": "Rata-rata PM2.5 (µg/m³)"
         }
        }
       }
      },
      "text/html": [
       "<div>                            <div id=\"d2af8375-7e7f-4afb-82db-43c04d64bd72\" class=\"plotly-graph-div\" style=\"height:600px; width:100%;\"></div>            <script type=\"text/javascript\">                require([\"plotly\"], function(Plotly) {                    window.PLOTLYENV=window.PLOTLYENV || {};                                    if (document.getElementById(\"d2af8375-7e7f-4afb-82db-43c04d64bd72\")) {                    Plotly.newPlot(                        \"d2af8375-7e7f-4afb-82db-43c04d64bd72\",                        [{\"alignmentgroup\":\"True\",\"hovertemplate\":\"city=%{text}\\u003cbr\\u003eBulan-Tahun=%{x}\\u003cbr\\u003eRata-rata PM2.5 (\\u00b5g\\u002fm\\u00b3)=%{y}\\u003cextra\\u003e\\u003c\\u002fextra\\u003e\",\"legendgroup\":\"Wanshouxigong\",\"marker\":{\"color\":\"#636efa\",\"pattern\":{\"shape\":\"\"}},\"name\":\"Wanshouxigong\",\"offsetgroup\":\"Wanshouxigong\",\"orientation\":\"v\",\"showlegend\":true,\"text\":[\"Wanshouxigong\",\"Wanshouxigong\",\"Wanshouxigong\",\"Wanshouxigong\",\"Wanshouxigong\",\"Wanshouxigong\"],\"textposition\":\"auto\",\"x\":[\"2013-01\",\"2013-04\",\"2014-09\",\"2016-01\",\"2016-09\",\"2017-05\"],\"xaxis\":\"x\",\"y\":[117.0,79.0,53.0,95.0,60.0,65.0],\"yaxis\":\"y\",\"type\":\"bar\"},{\"alignmentgroup\":\"True\",\"hovertemplate\":\"city=%{text}\\u003cbr\\u003eBulan-Tahun=%{x}\\u003cbr\\u003eRata-rata PM2.5 (\\u00b5g\\u002fm\\u00b3)=%{y}\\u003cextra\\u003e\\u003c\\u002fextra\\u003e\",\"legendgroup\":\"Wanliu\",\"marker\":{\"color\":\"#EF553B\",\"pattern\":{\"shape\":\"\"}},\"name\":\"Wanliu\",\"offsetgroup\":\"Wanliu\",\"orientation\":\"v\",\"showlegend\":true,\"text\":[\"Wanliu\",\"Wanliu\",\"Wanliu\",\"Wanliu\",\"Wanliu\"],\"textposition\":\"auto\",\"x\":[\"2013-02\",\"2013-05\",\"2014-05\",\"2016-02\",\"2017-06\"],\"xaxis\":\"x\",\"y\":[162.0,93.0,59.0,115.0,80.0],\"yaxis\":\"y\",\"type\":\"bar\"},{\"alignmentgroup\":\"True\",\"hovertemplate\":\"city=%{text}\\u003cbr\\u003eBulan-Tahun=%{x}\\u003cbr\\u003eRata-rata PM2.5 (\\u00b5g\\u002fm\\u00b3)=%{y}\\u003cextra\\u003e\\u003c\\u002fextra\\u003e\",\"legendgroup\":\"Aotizhongxin\",\"marker\":{\"color\":\"#00cc96\",\"pattern\":{\"shape\":\"\"}},\"name\":\"Aotizhongxin\",\"offsetgroup\":\"Aotizhongxin\",\"orientation\":\"v\",\"showlegend\":true,\"text\":[\"Aotizhongxin\",\"Aotizhongxin\",\"Aotizhongxin\",\"Aotizhongxin\",\"Aotizhongxin\"],\"textposition\":\"auto\",\"x\":[\"2013-03\",\"2014-03\",\"2015-05\",\"2016-03\",\"2017-07\"],\"xaxis\":\"x\",\"y\":[110.0,88.0,71.0,98.0,90.0],\"yaxis\":\"y\",\"type\":\"bar\"},{\"alignmentgroup\":\"True\",\"hovertemplate\":\"city=%{text}\\u003cbr\\u003eBulan-Tahun=%{x}\\u003cbr\\u003eRata-rata PM2.5 (\\u00b5g\\u002fm\\u00b3)=%{y}\\u003cextra\\u003e\\u003c\\u002fextra\\u003e\",\"legendgroup\":\"Tiantan\",\"marker\":{\"color\":\"#ab63fa\",\"pattern\":{\"shape\":\"\"}},\"name\":\"Tiantan\",\"offsetgroup\":\"Tiantan\",\"orientation\":\"v\",\"showlegend\":true,\"text\":[\"Tiantan\",\"Tiantan\",\"Tiantan\",\"Tiantan\",\"Tiantan\"],\"textposition\":\"auto\",\"x\":[\"2013-06\",\"2014-08\",\"2015-08\",\"2016-06\",\"2017-02\"],\"xaxis\":\"x\",\"y\":[110.0,47.0,66.0,90.0,85.0],\"yaxis\":\"y\",\"type\":\"bar\"},{\"alignmentgroup\":\"True\",\"hovertemplate\":\"city=%{text}\\u003cbr\\u003eBulan-Tahun=%{x}\\u003cbr\\u003eRata-rata PM2.5 (\\u00b5g\\u002fm\\u00b3)=%{y}\\u003cextra\\u003e\\u003c\\u002fextra\\u003e\",\"legendgroup\":\"Nongzhanguan\",\"marker\":{\"color\":\"#FFA15A\",\"pattern\":{\"shape\":\"\"}},\"name\":\"Nongzhanguan\",\"offsetgroup\":\"Nongzhanguan\",\"orientation\":\"v\",\"showlegend\":true,\"text\":[\"Nongzhanguan\",\"Nongzhanguan\",\"Nongzhanguan\",\"Nongzhanguan\",\"Nongzhanguan\"],\"textposition\":\"auto\",\"x\":[\"2013-07\",\"2014-01\",\"2015-10\",\"2016-07\",\"2017-03\"],\"xaxis\":\"x\",\"y\":[75.0,108.0,137.0,105.0,95.0],\"yaxis\":\"y\",\"type\":\"bar\"},{\"alignmentgroup\":\"True\",\"hovertemplate\":\"city=%{text}\\u003cbr\\u003eBulan-Tahun=%{x}\\u003cbr\\u003eRata-rata PM2.5 (\\u00b5g\\u002fm\\u00b3)=%{y}\\u003cextra\\u003e\\u003c\\u002fextra\\u003e\",\"legendgroup\":\"Dongsi\",\"marker\":{\"color\":\"#19d3f3\",\"pattern\":{\"shape\":\"\"}},\"name\":\"Dongsi\",\"offsetgroup\":\"Dongsi\",\"orientation\":\"v\",\"showlegend\":true,\"text\":[\"Dongsi\",\"Dongsi\",\"Dongsi\",\"Dongsi\",\"Dongsi\"],\"textposition\":\"auto\",\"x\":[\"2013-08\",\"2014-02\",\"2015-03\",\"2016-08\",\"2017-04\"],\"xaxis\":\"x\",\"y\":[64.0,109.0,100.0,75.0,70.0],\"yaxis\":\"y\",\"type\":\"bar\"},{\"alignmentgroup\":\"True\",\"hovertemplate\":\"city=%{text}\\u003cbr\\u003eBulan-Tahun=%{x}\\u003cbr\\u003eRata-rata PM2.5 (\\u00b5g\\u002fm\\u00b3)=%{y}\\u003cextra\\u003e\\u003c\\u002fextra\\u003e\",\"legendgroup\":\"Guanyuan\",\"marker\":{\"color\":\"#FF6692\",\"pattern\":{\"shape\":\"\"}},\"name\":\"Guanyuan\",\"offsetgroup\":\"Guanyuan\",\"orientation\":\"v\",\"showlegend\":true,\"text\":[\"Guanyuan\",\"Guanyuan\",\"Guanyuan\",\"Guanyuan\",\"Guanyuan\",\"Guanyuan\"],\"textposition\":\"auto\",\"x\":[\"2013-09\",\"2014-07\",\"2015-06\",\"2016-04\",\"2017-01\",\"2017-08\"],\"xaxis\":\"x\",\"y\":[80.0,67.0,60.0,85.0,120.0,77.0],\"yaxis\":\"y\",\"type\":\"bar\"},{\"alignmentgroup\":\"True\",\"hovertemplate\":\"city=%{text}\\u003cbr\\u003eBulan-Tahun=%{x}\\u003cbr\\u003eRata-rata PM2.5 (\\u00b5g\\u002fm\\u00b3)=%{y}\\u003cextra\\u003e\\u003c\\u002fextra\\u003e\",\"legendgroup\":\"Gucheng\",\"marker\":{\"color\":\"#B6E880\",\"pattern\":{\"shape\":\"\"}},\"name\":\"Gucheng\",\"offsetgroup\":\"Gucheng\",\"orientation\":\"v\",\"showlegend\":true,\"text\":[\"Gucheng\",\"Gucheng\",\"Gucheng\",\"Gucheng\",\"Gucheng\"],\"textposition\":\"auto\",\"x\":[\"2013-10\",\"2014-06\",\"2015-01\",\"2015-09\",\"2016-10\"],\"xaxis\":\"x\",\"y\":[96.0,63.0,76.0,72.0,110.0],\"yaxis\":\"y\",\"type\":\"bar\"},{\"alignmentgroup\":\"True\",\"hovertemplate\":\"city=%{text}\\u003cbr\\u003eBulan-Tahun=%{x}\\u003cbr\\u003eRata-rata PM2.5 (\\u00b5g\\u002fm\\u00b3)=%{y}\\u003cextra\\u003e\\u003c\\u002fextra\\u003e\",\"legendgroup\":\"Shunyi\",\"marker\":{\"color\":\"#FF97FF\",\"pattern\":{\"shape\":\"\"}},\"name\":\"Shunyi\",\"offsetgroup\":\"Shunyi\",\"orientation\":\"v\",\"showlegend\":true,\"text\":[\"Shunyi\",\"Shunyi\",\"Shunyi\",\"Shunyi\",\"Shunyi\"],\"textposition\":\"auto\",\"x\":[\"2013-11\",\"2014-04\",\"2015-02\",\"2015-11\",\"2017-09\"],\"xaxis\":\"x\",\"y\":[67.0,74.0,49.0,81.0,92.0],\"yaxis\":\"y\",\"type\":\"bar\"},{\"alignmentgroup\":\"True\",\"hovertemplate\":\"city=%{text}\\u003cbr\\u003eBulan-Tahun=%{x}\\u003cbr\\u003eRata-rata PM2.5 (\\u00b5g\\u002fm\\u00b3)=%{y}\\u003cextra\\u003e\\u003c\\u002fextra\\u003e\",\"legendgroup\":\"Changping\",\"marker\":{\"color\":\"#FECB52\",\"pattern\":{\"shape\":\"\"}},\"name\":\"Changping\",\"offsetgroup\":\"Changping\",\"orientation\":\"v\",\"showlegend\":true,\"text\":[\"Changping\",\"Changping\",\"Changping\",\"Changping\",\"Changping\"],\"textposition\":\"auto\",\"x\":[\"2013-12\",\"2014-11\",\"2015-04\",\"2016-11\",\"2017-11\"],\"xaxis\":\"x\",\"y\":[67.0,91.0,104.0,100.0,105.0],\"yaxis\":\"y\",\"type\":\"bar\"},{\"alignmentgroup\":\"True\",\"hovertemplate\":\"city=%{text}\\u003cbr\\u003eBulan-Tahun=%{x}\\u003cbr\\u003eRata-rata PM2.5 (\\u00b5g\\u002fm\\u00b3)=%{y}\\u003cextra\\u003e\\u003c\\u002fextra\\u003e\",\"legendgroup\":\"Huairou\",\"marker\":{\"color\":\"#636efa\",\"pattern\":{\"shape\":\"\"}},\"name\":\"Huairou\",\"offsetgroup\":\"Huairou\",\"orientation\":\"v\",\"showlegend\":true,\"text\":[\"Huairou\",\"Huairou\",\"Huairou\",\"Huairou\"],\"textposition\":\"auto\",\"x\":[\"2014-10\",\"2015-07\",\"2016-05\",\"2017-10\"],\"xaxis\":\"x\",\"y\":[63.0,96.0,70.0,100.0],\"yaxis\":\"y\",\"type\":\"bar\"},{\"alignmentgroup\":\"True\",\"hovertemplate\":\"city=%{text}\\u003cbr\\u003eBulan-Tahun=%{x}\\u003cbr\\u003eRata-rata PM2.5 (\\u00b5g\\u002fm\\u00b3)=%{y}\\u003cextra\\u003e\\u003c\\u002fextra\\u003e\",\"legendgroup\":\"Dingling\",\"marker\":{\"color\":\"#EF553B\",\"pattern\":{\"shape\":\"\"}},\"name\":\"Dingling\",\"offsetgroup\":\"Dingling\",\"orientation\":\"v\",\"showlegend\":true,\"text\":[\"Dingling\",\"Dingling\",\"Dingling\",\"Dingling\"],\"textposition\":\"auto\",\"x\":[\"2014-12\",\"2015-12\",\"2016-12\",\"2017-12\"],\"xaxis\":\"x\",\"y\":[119.0,48.0,130.0,110.0],\"yaxis\":\"y\",\"type\":\"bar\"}],                        {\"template\":{\"data\":{\"histogram2dcontour\":[{\"type\":\"histogram2dcontour\",\"colorbar\":{\"outlinewidth\":0,\"ticks\":\"\"},\"colorscale\":[[0.0,\"#0d0887\"],[0.1111111111111111,\"#46039f\"],[0.2222222222222222,\"#7201a8\"],[0.3333333333333333,\"#9c179e\"],[0.4444444444444444,\"#bd3786\"],[0.5555555555555556,\"#d8576b\"],[0.6666666666666666,\"#ed7953\"],[0.7777777777777778,\"#fb9f3a\"],[0.8888888888888888,\"#fdca26\"],[1.0,\"#f0f921\"]]}],\"choropleth\":[{\"type\":\"choropleth\",\"colorbar\":{\"outlinewidth\":0,\"ticks\":\"\"}}],\"histogram2d\":[{\"type\":\"histogram2d\",\"colorbar\":{\"outlinewidth\":0,\"ticks\":\"\"},\"colorscale\":[[0.0,\"#0d0887\"],[0.1111111111111111,\"#46039f\"],[0.2222222222222222,\"#7201a8\"],[0.3333333333333333,\"#9c179e\"],[0.4444444444444444,\"#bd3786\"],[0.5555555555555556,\"#d8576b\"],[0.6666666666666666,\"#ed7953\"],[0.7777777777777778,\"#fb9f3a\"],[0.8888888888888888,\"#fdca26\"],[1.0,\"#f0f921\"]]}],\"heatmap\":[{\"type\":\"heatmap\",\"colorbar\":{\"outlinewidth\":0,\"ticks\":\"\"},\"colorscale\":[[0.0,\"#0d0887\"],[0.1111111111111111,\"#46039f\"],[0.2222222222222222,\"#7201a8\"],[0.3333333333333333,\"#9c179e\"],[0.4444444444444444,\"#bd3786\"],[0.5555555555555556,\"#d8576b\"],[0.6666666666666666,\"#ed7953\"],[0.7777777777777778,\"#fb9f3a\"],[0.8888888888888888,\"#fdca26\"],[1.0,\"#f0f921\"]]}],\"heatmapgl\":[{\"type\":\"heatmapgl\",\"colorbar\":{\"outlinewidth\":0,\"ticks\":\"\"},\"colorscale\":[[0.0,\"#0d0887\"],[0.1111111111111111,\"#46039f\"],[0.2222222222222222,\"#7201a8\"],[0.3333333333333333,\"#9c179e\"],[0.4444444444444444,\"#bd3786\"],[0.5555555555555556,\"#d8576b\"],[0.6666666666666666,\"#ed7953\"],[0.7777777777777778,\"#fb9f3a\"],[0.8888888888888888,\"#fdca26\"],[1.0,\"#f0f921\"]]}],\"contourcarpet\":[{\"type\":\"contourcarpet\",\"colorbar\":{\"outlinewidth\":0,\"ticks\":\"\"}}],\"contour\":[{\"type\":\"contour\",\"colorbar\":{\"outlinewidth\":0,\"ticks\":\"\"},\"colorscale\":[[0.0,\"#0d0887\"],[0.1111111111111111,\"#46039f\"],[0.2222222222222222,\"#7201a8\"],[0.3333333333333333,\"#9c179e\"],[0.4444444444444444,\"#bd3786\"],[0.5555555555555556,\"#d8576b\"],[0.6666666666666666,\"#ed7953\"],[0.7777777777777778,\"#fb9f3a\"],[0.8888888888888888,\"#fdca26\"],[1.0,\"#f0f921\"]]}],\"surface\":[{\"type\":\"surface\",\"colorbar\":{\"outlinewidth\":0,\"ticks\":\"\"},\"colorscale\":[[0.0,\"#0d0887\"],[0.1111111111111111,\"#46039f\"],[0.2222222222222222,\"#7201a8\"],[0.3333333333333333,\"#9c179e\"],[0.4444444444444444,\"#bd3786\"],[0.5555555555555556,\"#d8576b\"],[0.6666666666666666,\"#ed7953\"],[0.7777777777777778,\"#fb9f3a\"],[0.8888888888888888,\"#fdca26\"],[1.0,\"#f0f921\"]]}],\"mesh3d\":[{\"type\":\"mesh3d\",\"colorbar\":{\"outlinewidth\":0,\"ticks\":\"\"}}],\"scatter\":[{\"fillpattern\":{\"fillmode\":\"overlay\",\"size\":10,\"solidity\":0.2},\"type\":\"scatter\"}],\"parcoords\":[{\"type\":\"parcoords\",\"line\":{\"colorbar\":{\"outlinewidth\":0,\"ticks\":\"\"}}}],\"scatterpolargl\":[{\"type\":\"scatterpolargl\",\"marker\":{\"colorbar\":{\"outlinewidth\":0,\"ticks\":\"\"}}}],\"bar\":[{\"error_x\":{\"color\":\"#2a3f5f\"},\"error_y\":{\"color\":\"#2a3f5f\"},\"marker\":{\"line\":{\"color\":\"#E5ECF6\",\"width\":0.5},\"pattern\":{\"fillmode\":\"overlay\",\"size\":10,\"solidity\":0.2}},\"type\":\"bar\"}],\"scattergeo\":[{\"type\":\"scattergeo\",\"marker\":{\"colorbar\":{\"outlinewidth\":0,\"ticks\":\"\"}}}],\"scatterpolar\":[{\"type\":\"scatterpolar\",\"marker\":{\"colorbar\":{\"outlinewidth\":0,\"ticks\":\"\"}}}],\"histogram\":[{\"marker\":{\"pattern\":{\"fillmode\":\"overlay\",\"size\":10,\"solidity\":0.2}},\"type\":\"histogram\"}],\"scattergl\":[{\"type\":\"scattergl\",\"marker\":{\"colorbar\":{\"outlinewidth\":0,\"ticks\":\"\"}}}],\"scatter3d\":[{\"type\":\"scatter3d\",\"line\":{\"colorbar\":{\"outlinewidth\":0,\"ticks\":\"\"}},\"marker\":{\"colorbar\":{\"outlinewidth\":0,\"ticks\":\"\"}}}],\"scattermapbox\":[{\"type\":\"scattermapbox\",\"marker\":{\"colorbar\":{\"outlinewidth\":0,\"ticks\":\"\"}}}],\"scatterternary\":[{\"type\":\"scatterternary\",\"marker\":{\"colorbar\":{\"outlinewidth\":0,\"ticks\":\"\"}}}],\"scattercarpet\":[{\"type\":\"scattercarpet\",\"marker\":{\"colorbar\":{\"outlinewidth\":0,\"ticks\":\"\"}}}],\"carpet\":[{\"aaxis\":{\"endlinecolor\":\"#2a3f5f\",\"gridcolor\":\"white\",\"linecolor\":\"white\",\"minorgridcolor\":\"white\",\"startlinecolor\":\"#2a3f5f\"},\"baxis\":{\"endlinecolor\":\"#2a3f5f\",\"gridcolor\":\"white\",\"linecolor\":\"white\",\"minorgridcolor\":\"white\",\"startlinecolor\":\"#2a3f5f\"},\"type\":\"carpet\"}],\"table\":[{\"cells\":{\"fill\":{\"color\":\"#EBF0F8\"},\"line\":{\"color\":\"white\"}},\"header\":{\"fill\":{\"color\":\"#C8D4E3\"},\"line\":{\"color\":\"white\"}},\"type\":\"table\"}],\"barpolar\":[{\"marker\":{\"line\":{\"color\":\"#E5ECF6\",\"width\":0.5},\"pattern\":{\"fillmode\":\"overlay\",\"size\":10,\"solidity\":0.2}},\"type\":\"barpolar\"}],\"pie\":[{\"automargin\":true,\"type\":\"pie\"}]},\"layout\":{\"autotypenumbers\":\"strict\",\"colorway\":[\"#636efa\",\"#EF553B\",\"#00cc96\",\"#ab63fa\",\"#FFA15A\",\"#19d3f3\",\"#FF6692\",\"#B6E880\",\"#FF97FF\",\"#FECB52\"],\"font\":{\"color\":\"#2a3f5f\"},\"hovermode\":\"closest\",\"hoverlabel\":{\"align\":\"left\"},\"paper_bgcolor\":\"white\",\"plot_bgcolor\":\"#E5ECF6\",\"polar\":{\"bgcolor\":\"#E5ECF6\",\"angularaxis\":{\"gridcolor\":\"white\",\"linecolor\":\"white\",\"ticks\":\"\"},\"radialaxis\":{\"gridcolor\":\"white\",\"linecolor\":\"white\",\"ticks\":\"\"}},\"ternary\":{\"bgcolor\":\"#E5ECF6\",\"aaxis\":{\"gridcolor\":\"white\",\"linecolor\":\"white\",\"ticks\":\"\"},\"baxis\":{\"gridcolor\":\"white\",\"linecolor\":\"white\",\"ticks\":\"\"},\"caxis\":{\"gridcolor\":\"white\",\"linecolor\":\"white\",\"ticks\":\"\"}},\"coloraxis\":{\"colorbar\":{\"outlinewidth\":0,\"ticks\":\"\"}},\"colorscale\":{\"sequential\":[[0.0,\"#0d0887\"],[0.1111111111111111,\"#46039f\"],[0.2222222222222222,\"#7201a8\"],[0.3333333333333333,\"#9c179e\"],[0.4444444444444444,\"#bd3786\"],[0.5555555555555556,\"#d8576b\"],[0.6666666666666666,\"#ed7953\"],[0.7777777777777778,\"#fb9f3a\"],[0.8888888888888888,\"#fdca26\"],[1.0,\"#f0f921\"]],\"sequentialminus\":[[0.0,\"#0d0887\"],[0.1111111111111111,\"#46039f\"],[0.2222222222222222,\"#7201a8\"],[0.3333333333333333,\"#9c179e\"],[0.4444444444444444,\"#bd3786\"],[0.5555555555555556,\"#d8576b\"],[0.6666666666666666,\"#ed7953\"],[0.7777777777777778,\"#fb9f3a\"],[0.8888888888888888,\"#fdca26\"],[1.0,\"#f0f921\"]],\"diverging\":[[0,\"#8e0152\"],[0.1,\"#c51b7d\"],[0.2,\"#de77ae\"],[0.3,\"#f1b6da\"],[0.4,\"#fde0ef\"],[0.5,\"#f7f7f7\"],[0.6,\"#e6f5d0\"],[0.7,\"#b8e186\"],[0.8,\"#7fbc41\"],[0.9,\"#4d9221\"],[1,\"#276419\"]]},\"xaxis\":{\"gridcolor\":\"white\",\"linecolor\":\"white\",\"ticks\":\"\",\"title\":{\"standoff\":15},\"zerolinecolor\":\"white\",\"automargin\":true,\"zerolinewidth\":2},\"yaxis\":{\"gridcolor\":\"white\",\"linecolor\":\"white\",\"ticks\":\"\",\"title\":{\"standoff\":15},\"zerolinecolor\":\"white\",\"automargin\":true,\"zerolinewidth\":2},\"scene\":{\"xaxis\":{\"backgroundcolor\":\"#E5ECF6\",\"gridcolor\":\"white\",\"linecolor\":\"white\",\"showbackground\":true,\"ticks\":\"\",\"zerolinecolor\":\"white\",\"gridwidth\":2},\"yaxis\":{\"backgroundcolor\":\"#E5ECF6\",\"gridcolor\":\"white\",\"linecolor\":\"white\",\"showbackground\":true,\"ticks\":\"\",\"zerolinecolor\":\"white\",\"gridwidth\":2},\"zaxis\":{\"backgroundcolor\":\"#E5ECF6\",\"gridcolor\":\"white\",\"linecolor\":\"white\",\"showbackground\":true,\"ticks\":\"\",\"zerolinecolor\":\"white\",\"gridwidth\":2}},\"shapedefaults\":{\"line\":{\"color\":\"#2a3f5f\"}},\"annotationdefaults\":{\"arrowcolor\":\"#2a3f5f\",\"arrowhead\":0,\"arrowwidth\":1},\"geo\":{\"bgcolor\":\"white\",\"landcolor\":\"#E5ECF6\",\"subunitcolor\":\"white\",\"showland\":true,\"showlakes\":true,\"lakecolor\":\"white\"},\"title\":{\"x\":0.05},\"mapbox\":{\"style\":\"light\"}}},\"xaxis\":{\"anchor\":\"y\",\"domain\":[0.0,1.0],\"title\":{\"text\":\"Bulan-Tahun\"},\"tickangle\":-45},\"yaxis\":{\"anchor\":\"x\",\"domain\":[0.0,1.0],\"title\":{\"text\":\"Rata-rata PM2.5 (\\u00b5g\\u002fm\\u00b3)\"}},\"legend\":{\"title\":{\"text\":\"city\"},\"tracegroupgap\":0},\"title\":{\"text\":\"Rata-rata PM2.5 per Bulan dari Tahun 2013 sampai 2017\"},\"barmode\":\"relative\",\"height\":600},                        {\"responsive\": true}                    ).then(function(){\n",
       "                            \n",
       "var gd = document.getElementById('d2af8375-7e7f-4afb-82db-43c04d64bd72');\n",
       "var x = new MutationObserver(function (mutations, observer) {{\n",
       "        var display = window.getComputedStyle(gd).display;\n",
       "        if (!display || display === 'none') {{\n",
       "            console.log([gd, 'removed!']);\n",
       "            Plotly.purge(gd);\n",
       "            observer.disconnect();\n",
       "        }}\n",
       "}});\n",
       "\n",
       "// Listen for the removal of the full notebook cells\n",
       "var notebookContainer = gd.closest('#notebook-container');\n",
       "if (notebookContainer) {{\n",
       "    x.observe(notebookContainer, {childList: true});\n",
       "}}\n",
       "\n",
       "// Listen for the clearing of the current output cell\n",
       "var outputEl = gd.closest('.output');\n",
       "if (outputEl) {{\n",
       "    x.observe(outputEl, {childList: true});\n",
       "}}\n",
       "\n",
       "                        })                };                });            </script>        </div>"
      ]
     },
     "metadata": {},
     "output_type": "display_data"
    }
   ],
   "source": [
    "data = [\n",
    "    # 2013\n",
    "    {'year': 2013, 'month': 1, 'city': 'Wanshouxigong', 'avg_PM25': 117.0},\n",
    "    {'year': 2013, 'month': 2, 'city': 'Wanliu', 'avg_PM25': 162.0},\n",
    "    {'year': 2013, 'month': 3, 'city': 'Aotizhongxin', 'avg_PM25': 110.0},\n",
    "    {'year': 2013, 'month': 4, 'city': 'Wanshouxigong', 'avg_PM25': 79.0},\n",
    "    {'year': 2013, 'month': 5, 'city': 'Wanliu', 'avg_PM25': 93.0},\n",
    "    {'year': 2013, 'month': 6, 'city': 'Tiantan', 'avg_PM25': 110.0},\n",
    "    {'year': 2013, 'month': 7, 'city': 'Nongzhanguan', 'avg_PM25': 75.0},\n",
    "    {'year': 2013, 'month': 8, 'city': 'Dongsi', 'avg_PM25': 64.0},\n",
    "    {'year': 2013, 'month': 9, 'city': 'Guanyuan', 'avg_PM25': 80.0},\n",
    "    {'year': 2013, 'month': 10, 'city': 'Gucheng', 'avg_PM25': 96.0},\n",
    "    {'year': 2013, 'month': 11, 'city': 'Shunyi', 'avg_PM25': 67.0},\n",
    "    {'year': 2013, 'month': 12, 'city': 'Changping', 'avg_PM25': 67.0},\n",
    "\n",
    "    # 2014\n",
    "    {'year': 2014, 'month': 1, 'city': 'Nongzhanguan', 'avg_PM25': 108.0},\n",
    "    {'year': 2014, 'month': 2, 'city': 'Dongsi', 'avg_PM25': 109.0},\n",
    "    {'year': 2014, 'month': 3, 'city': 'Aotizhongxin', 'avg_PM25': 88.0},\n",
    "    {'year': 2014, 'month': 4, 'city': 'Shunyi', 'avg_PM25': 74.0},\n",
    "    {'year': 2014, 'month': 5, 'city': 'Wanliu', 'avg_PM25': 59.0},\n",
    "    {'year': 2014, 'month': 6, 'city': 'Gucheng', 'avg_PM25': 63.0},\n",
    "    {'year': 2014, 'month': 7, 'city': 'Guanyuan', 'avg_PM25': 67.0},\n",
    "    {'year': 2014, 'month': 8, 'city': 'Tiantan', 'avg_PM25': 47.0},\n",
    "    {'year': 2014, 'month': 9, 'city': 'Wanshouxigong', 'avg_PM25': 53.0},\n",
    "    {'year': 2014, 'month': 10, 'city': 'Huairou', 'avg_PM25': 63.0},\n",
    "    {'year': 2014, 'month': 11, 'city': 'Changping', 'avg_PM25': 91.0},\n",
    "    {'year': 2014, 'month': 12, 'city': 'Dingling', 'avg_PM25': 119.0},\n",
    "\n",
    "    # 2015\n",
    "    {'year': 2015, 'month': 1, 'city': 'Gucheng', 'avg_PM25': 76.0},\n",
    "    {'year': 2015, 'month': 2, 'city': 'Shunyi', 'avg_PM25': 49.0},\n",
    "    {'year': 2015, 'month': 3, 'city': 'Dongsi', 'avg_PM25': 100.0},\n",
    "    {'year': 2015, 'month': 4, 'city': 'Changping', 'avg_PM25': 104.0},\n",
    "    {'year': 2015, 'month': 5, 'city': 'Aotizhongxin', 'avg_PM25': 71.0},\n",
    "    {'year': 2015, 'month': 6, 'city': 'Guanyuan', 'avg_PM25': 60.0},\n",
    "    {'year': 2015, 'month': 7, 'city': 'Huairou', 'avg_PM25': 96.0},\n",
    "    {'year': 2015, 'month': 8, 'city': 'Tiantan', 'avg_PM25': 66.0},\n",
    "    {'year': 2015, 'month': 9, 'city': 'Gucheng', 'avg_PM25': 72.0},\n",
    "    {'year': 2015, 'month': 10, 'city': 'Nongzhanguan', 'avg_PM25': 137.0},\n",
    "    {'year': 2015, 'month': 11, 'city': 'Shunyi', 'avg_PM25': 81.0},\n",
    "    {'year': 2015, 'month': 12, 'city': 'Dingling', 'avg_PM25': 48.0},\n",
    "\n",
    "    # 2016\n",
    "    {'year': 2016, 'month': 1, 'city': 'Wanshouxigong', 'avg_PM25': 95.0},\n",
    "    {'year': 2016, 'month': 2, 'city': 'Wanliu', 'avg_PM25': 115.0},\n",
    "    {'year': 2016, 'month': 3, 'city': 'Aotizhongxin', 'avg_PM25': 98.0},\n",
    "    {'year': 2016, 'month': 4, 'city': 'Guanyuan', 'avg_PM25': 85.0},\n",
    "    {'year': 2016, 'month': 5, 'city': 'Huairou', 'avg_PM25': 70.0},\n",
    "    {'year': 2016, 'month': 6, 'city': 'Tiantan', 'avg_PM25': 90.0},\n",
    "    {'year': 2016, 'month': 7, 'city': 'Nongzhanguan', 'avg_PM25': 105.0},\n",
    "    {'year': 2016, 'month': 8, 'city': 'Dongsi', 'avg_PM25': 75.0},\n",
    "    {'year': 2016, 'month': 9, 'city': 'Wanshouxigong', 'avg_PM25': 60.0},\n",
    "    {'year': 2016, 'month': 10, 'city': 'Gucheng', 'avg_PM25': 110.0},\n",
    "    {'year': 2016, 'month': 11, 'city': 'Changping', 'avg_PM25': 100.0},\n",
    "    {'year': 2016, 'month': 12, 'city': 'Dingling', 'avg_PM25': 130.0},\n",
    "\n",
    "    # 2017\n",
    "    {'year': 2017, 'month': 1, 'city': 'Guanyuan', 'avg_PM25': 120.0},\n",
    "    {'year': 2017, 'month': 2, 'city': 'Tiantan', 'avg_PM25': 85.0},\n",
    "    {'year': 2017, 'month': 3, 'city': 'Nongzhanguan', 'avg_PM25': 95.0},\n",
    "    {'year': 2017, 'month': 4, 'city': 'Dongsi', 'avg_PM25': 70.0},\n",
    "    {'year': 2017, 'month': 5, 'city': 'Wanshouxigong', 'avg_PM25': 65.0},\n",
    "    {'year': 2017, 'month': 6, 'city': 'Wanliu', 'avg_PM25': 80.0},\n",
    "    {'year': 2017, 'month': 7, 'city': 'Aotizhongxin', 'avg_PM25': 90.0},\n",
    "    {'year': 2017, 'month': 8, 'city': 'Guanyuan', 'avg_PM25': 77.0},\n",
    "    {'year': 2017, 'month': 9, 'city': 'Shunyi', 'avg_PM25': 92.0},\n",
    "    {'year': 2017, 'month': 10, 'city': 'Huairou', 'avg_PM25': 100.0},\n",
    "    {'year': 2017, 'month': 11, 'city': 'Changping', 'avg_PM25': 105.0},\n",
    "    {'year': 2017, 'month': 12, 'city': 'Dingling', 'avg_PM25': 110.0}\n",
    "]\n",
    "\n",
    "\n",
    "# Membuat DataFrame\n",
    "df = pd.DataFrame(data)\n",
    "\n",
    "# Membuat kolom tambahan untuk sumbu-x yang menunjukkan bulan dan tahun\n",
    "df['month_year'] = df['year'].astype(str) + '-' + df['month'].astype(str).str.zfill(2)\n",
    "\n",
    "# Visualisasi menggunakan Plotly\n",
    "fig = px.bar(\n",
    "    df,\n",
    "    x='month_year',\n",
    "    y='avg_PM25',\n",
    "    color='city',\n",
    "    text='city',\n",
    "    title='Rata-rata PM2.5 per Bulan dari Tahun 2013 sampai 2017',\n",
    "    labels={'avg_PM25': 'Rata-rata PM2.5 (µg/m³)', 'month_year': 'Bulan-Tahun'},\n",
    "    height=600\n",
    ")\n",
    "\n",
    "fig.update_layout(\n",
    "    xaxis_title='Bulan-Tahun',\n",
    "    yaxis_title='Rata-rata PM2.5 (µg/m³)',\n",
    "    xaxis_tickangle=-45\n",
    ")\n",
    "\n",
    "fig.show()\n"
   ]
  },
  {
   "cell_type": "markdown",
   "metadata": {},
   "source": [
    "### PM 10"
   ]
  },
  {
   "cell_type": "code",
   "execution_count": 51,
   "metadata": {},
   "outputs": [],
   "source": [
    "data_pm10 = [\n",
    "    # 2013\n",
    "    {'year': 2013, 'month': 3, 'city': 'Gucheng', 'avg_PM10': 148},\n",
    "    {'year': 2013, 'month': 4, 'city': 'Wanliu', 'avg_PM10': 109},\n",
    "    {'year': 2013, 'month': 5, 'city': 'Huairou', 'avg_PM10': 163},\n",
    "    {'year': 2013, 'month': 6, 'city': 'Tiantan', 'avg_PM10': 134},\n",
    "    {'year': 2013, 'month': 7, 'city': 'Aotizhongxin', 'avg_PM10': 85},\n",
    "    {'year': 2013, 'month': 8, 'city': 'Dongsi', 'avg_PM10': 86},\n",
    "    {'year': 2013, 'month': 9, 'city': 'Wanshouxigong', 'avg_PM10': 117},\n",
    "    {'year': 2013, 'month': 10, 'city': 'Guanyuan', 'avg_PM10': 120},\n",
    "    {'year': 2013, 'month': 11, 'city': 'Nongzhanguan', 'avg_PM10': 105},\n",
    "    {'year': 2013, 'month': 12, 'city': 'Changping', 'avg_PM10': 81},\n",
    "    \n",
    "    # 2014\n",
    "    {'year': 2014, 'month': 1, 'city': 'Wanshouxigong', 'avg_PM10': 156},\n",
    "    {'year': 2014, 'month': 2, 'city': 'Nongzhanguan', 'avg_PM10': 167},\n",
    "    {'year': 2014, 'month': 3, 'city': 'Gucheng', 'avg_PM10': 155},\n",
    "    {'year': 2014, 'month': 4, 'city': 'Aotizhongxin', 'avg_PM10': 168},\n",
    "    {'year': 2014, 'month': 5, 'city': 'Wanliu', 'avg_PM10': 133},\n",
    "    {'year': 2014, 'month': 6, 'city': 'Tiantan', 'avg_PM10': 82},\n",
    "    {'year': 2014, 'month': 7, 'city': 'Huairou', 'avg_PM10': 115},\n",
    "    {'year': 2014, 'month': 8, 'city': 'Guanyuan', 'avg_PM10': 88},\n",
    "    {'year': 2014, 'month': 9, 'city': 'Dongsi', 'avg_PM10': 95},\n",
    "    {'year': 2014, 'month': 10, 'city': 'Changping', 'avg_PM10': 138},\n",
    "    {'year': 2014, 'month': 11, 'city': 'Shunyi', 'avg_PM10': 121},\n",
    "    {'year': 2014, 'month': 12, 'city': 'Dingling', 'avg_PM10': 65},\n",
    "    \n",
    "    # 2015\n",
    "    {'year': 2015, 'month': 1, 'city': 'Nongzhanguan', 'avg_PM10': 131},\n",
    "    {'year': 2015, 'month': 2, 'city': 'Wanshouxigong', 'avg_PM10': 134},\n",
    "    {'year': 2015, 'month': 3, 'city': 'Dongsi', 'avg_PM10': 169},\n",
    "    {'year': 2015, 'month': 4, 'city': 'Aotizhongxin', 'avg_PM10': 135},\n",
    "    {'year': 2015, 'month': 5, 'city': 'Gucheng', 'avg_PM10': 114},\n",
    "    {'year': 2015, 'month': 6, 'city': 'Guanyuan', 'avg_PM10': 84},\n",
    "    {'year': 2015, 'month': 7, 'city': 'Wanliu', 'avg_PM10': 79},\n",
    "    {'year': 2015, 'month': 8, 'city': 'Shunyi', 'avg_PM10': 61},\n",
    "    {'year': 2015, 'month': 9, 'city': 'Tiantan', 'avg_PM10': 62},\n",
    "    {'year': 2015, 'month': 10, 'city': 'Huairou', 'avg_PM10': 78},\n",
    "    {'year': 2015, 'month': 11, 'city': 'Changping', 'avg_PM10': 99},\n",
    "    {'year': 2015, 'month': 12, 'city': 'Dingling', 'avg_PM10': 128},\n",
    "    \n",
    "    # 2016\n",
    "    {'year': 2016, 'month': 1, 'city': 'Gucheng', 'avg_PM10': 96},\n",
    "    {'year': 2016, 'month': 2, 'city': 'Aotizhongxin', 'avg_PM10': 61},\n",
    "    {'year': 2016, 'month': 3, 'city': 'Guanyuan', 'avg_PM10': 144},\n",
    "    {'year': 2016, 'month': 4, 'city': 'Dongsi', 'avg_PM10': 118},\n",
    "    {'year': 2016, 'month': 5, 'city': 'Wanshouxigong', 'avg_PM10': 96},\n",
    "    {'year': 2016, 'month': 6, 'city': 'Tiantan', 'avg_PM10': 81},\n",
    "    {'year': 2016, 'month': 7, 'city': 'Wanliu', 'avg_PM10': 80},\n",
    "    {'year': 2016, 'month': 8, 'city': 'Nongzhanguan', 'avg_PM10': 59},\n",
    "    {'year': 2016, 'month': 9, 'city': 'Shunyi', 'avg_PM10': 67},\n",
    "    {'year': 2016, 'month': 10, 'city': 'Changping', 'avg_PM10': 96},\n",
    "    {'year': 2016, 'month': 11, 'city': 'Huairou', 'avg_PM10': 117},\n",
    "    {'year': 2016, 'month': 12, 'city': 'Dingling', 'avg_PM10': 105},\n",
    "    \n",
    "    # 2017\n",
    "    {'year': 2017, 'month': 1, 'city': 'Dongsi', 'avg_PM10': 158},\n",
    "    {'year': 2017, 'month': 2, 'city': 'Gucheng', 'avg_PM10': 97}\n",
    "]\n",
    "data_pm10 = pd.DataFrame(data_pm10)"
   ]
  },
  {
   "cell_type": "code",
   "execution_count": 53,
   "metadata": {},
   "outputs": [
    {
     "data": {
      "application/vnd.plotly.v1+json": {
       "config": {
        "plotlyServerURL": "https://plot.ly"
       },
       "data": [
        {
         "alignmentgroup": "True",
         "hovertemplate": "city=%{text}<br>Bulan-Tahun=%{x}<br>Rata-rata PM10 (µg/m³)=%{y}<extra></extra>",
         "legendgroup": "Gucheng",
         "marker": {
          "color": "#636efa",
          "pattern": {
           "shape": ""
          }
         },
         "name": "Gucheng",
         "offsetgroup": "Gucheng",
         "orientation": "v",
         "showlegend": true,
         "text": [
          "Gucheng",
          "Gucheng",
          "Gucheng",
          "Gucheng",
          "Gucheng"
         ],
         "textposition": "auto",
         "type": "bar",
         "x": [
          "2013-03",
          "2014-03",
          "2015-05",
          "2016-01",
          "2017-02"
         ],
         "xaxis": "x",
         "y": [
          148,
          155,
          114,
          96,
          97
         ],
         "yaxis": "y"
        },
        {
         "alignmentgroup": "True",
         "hovertemplate": "city=%{text}<br>Bulan-Tahun=%{x}<br>Rata-rata PM10 (µg/m³)=%{y}<extra></extra>",
         "legendgroup": "Wanliu",
         "marker": {
          "color": "#EF553B",
          "pattern": {
           "shape": ""
          }
         },
         "name": "Wanliu",
         "offsetgroup": "Wanliu",
         "orientation": "v",
         "showlegend": true,
         "text": [
          "Wanliu",
          "Wanliu",
          "Wanliu",
          "Wanliu"
         ],
         "textposition": "auto",
         "type": "bar",
         "x": [
          "2013-04",
          "2014-05",
          "2015-07",
          "2016-07"
         ],
         "xaxis": "x",
         "y": [
          109,
          133,
          79,
          80
         ],
         "yaxis": "y"
        },
        {
         "alignmentgroup": "True",
         "hovertemplate": "city=%{text}<br>Bulan-Tahun=%{x}<br>Rata-rata PM10 (µg/m³)=%{y}<extra></extra>",
         "legendgroup": "Huairou",
         "marker": {
          "color": "#00cc96",
          "pattern": {
           "shape": ""
          }
         },
         "name": "Huairou",
         "offsetgroup": "Huairou",
         "orientation": "v",
         "showlegend": true,
         "text": [
          "Huairou",
          "Huairou",
          "Huairou",
          "Huairou"
         ],
         "textposition": "auto",
         "type": "bar",
         "x": [
          "2013-05",
          "2014-07",
          "2015-10",
          "2016-11"
         ],
         "xaxis": "x",
         "y": [
          163,
          115,
          78,
          117
         ],
         "yaxis": "y"
        },
        {
         "alignmentgroup": "True",
         "hovertemplate": "city=%{text}<br>Bulan-Tahun=%{x}<br>Rata-rata PM10 (µg/m³)=%{y}<extra></extra>",
         "legendgroup": "Tiantan",
         "marker": {
          "color": "#ab63fa",
          "pattern": {
           "shape": ""
          }
         },
         "name": "Tiantan",
         "offsetgroup": "Tiantan",
         "orientation": "v",
         "showlegend": true,
         "text": [
          "Tiantan",
          "Tiantan",
          "Tiantan",
          "Tiantan"
         ],
         "textposition": "auto",
         "type": "bar",
         "x": [
          "2013-06",
          "2014-06",
          "2015-09",
          "2016-06"
         ],
         "xaxis": "x",
         "y": [
          134,
          82,
          62,
          81
         ],
         "yaxis": "y"
        },
        {
         "alignmentgroup": "True",
         "hovertemplate": "city=%{text}<br>Bulan-Tahun=%{x}<br>Rata-rata PM10 (µg/m³)=%{y}<extra></extra>",
         "legendgroup": "Aotizhongxin",
         "marker": {
          "color": "#FFA15A",
          "pattern": {
           "shape": ""
          }
         },
         "name": "Aotizhongxin",
         "offsetgroup": "Aotizhongxin",
         "orientation": "v",
         "showlegend": true,
         "text": [
          "Aotizhongxin",
          "Aotizhongxin",
          "Aotizhongxin",
          "Aotizhongxin"
         ],
         "textposition": "auto",
         "type": "bar",
         "x": [
          "2013-07",
          "2014-04",
          "2015-04",
          "2016-02"
         ],
         "xaxis": "x",
         "y": [
          85,
          168,
          135,
          61
         ],
         "yaxis": "y"
        },
        {
         "alignmentgroup": "True",
         "hovertemplate": "city=%{text}<br>Bulan-Tahun=%{x}<br>Rata-rata PM10 (µg/m³)=%{y}<extra></extra>",
         "legendgroup": "Dongsi",
         "marker": {
          "color": "#19d3f3",
          "pattern": {
           "shape": ""
          }
         },
         "name": "Dongsi",
         "offsetgroup": "Dongsi",
         "orientation": "v",
         "showlegend": true,
         "text": [
          "Dongsi",
          "Dongsi",
          "Dongsi",
          "Dongsi",
          "Dongsi"
         ],
         "textposition": "auto",
         "type": "bar",
         "x": [
          "2013-08",
          "2014-09",
          "2015-03",
          "2016-04",
          "2017-01"
         ],
         "xaxis": "x",
         "y": [
          86,
          95,
          169,
          118,
          158
         ],
         "yaxis": "y"
        },
        {
         "alignmentgroup": "True",
         "hovertemplate": "city=%{text}<br>Bulan-Tahun=%{x}<br>Rata-rata PM10 (µg/m³)=%{y}<extra></extra>",
         "legendgroup": "Wanshouxigong",
         "marker": {
          "color": "#FF6692",
          "pattern": {
           "shape": ""
          }
         },
         "name": "Wanshouxigong",
         "offsetgroup": "Wanshouxigong",
         "orientation": "v",
         "showlegend": true,
         "text": [
          "Wanshouxigong",
          "Wanshouxigong",
          "Wanshouxigong",
          "Wanshouxigong"
         ],
         "textposition": "auto",
         "type": "bar",
         "x": [
          "2013-09",
          "2014-01",
          "2015-02",
          "2016-05"
         ],
         "xaxis": "x",
         "y": [
          117,
          156,
          134,
          96
         ],
         "yaxis": "y"
        },
        {
         "alignmentgroup": "True",
         "hovertemplate": "city=%{text}<br>Bulan-Tahun=%{x}<br>Rata-rata PM10 (µg/m³)=%{y}<extra></extra>",
         "legendgroup": "Guanyuan",
         "marker": {
          "color": "#B6E880",
          "pattern": {
           "shape": ""
          }
         },
         "name": "Guanyuan",
         "offsetgroup": "Guanyuan",
         "orientation": "v",
         "showlegend": true,
         "text": [
          "Guanyuan",
          "Guanyuan",
          "Guanyuan",
          "Guanyuan"
         ],
         "textposition": "auto",
         "type": "bar",
         "x": [
          "2013-10",
          "2014-08",
          "2015-06",
          "2016-03"
         ],
         "xaxis": "x",
         "y": [
          120,
          88,
          84,
          144
         ],
         "yaxis": "y"
        },
        {
         "alignmentgroup": "True",
         "hovertemplate": "city=%{text}<br>Bulan-Tahun=%{x}<br>Rata-rata PM10 (µg/m³)=%{y}<extra></extra>",
         "legendgroup": "Nongzhanguan",
         "marker": {
          "color": "#FF97FF",
          "pattern": {
           "shape": ""
          }
         },
         "name": "Nongzhanguan",
         "offsetgroup": "Nongzhanguan",
         "orientation": "v",
         "showlegend": true,
         "text": [
          "Nongzhanguan",
          "Nongzhanguan",
          "Nongzhanguan",
          "Nongzhanguan"
         ],
         "textposition": "auto",
         "type": "bar",
         "x": [
          "2013-11",
          "2014-02",
          "2015-01",
          "2016-08"
         ],
         "xaxis": "x",
         "y": [
          105,
          167,
          131,
          59
         ],
         "yaxis": "y"
        },
        {
         "alignmentgroup": "True",
         "hovertemplate": "city=%{text}<br>Bulan-Tahun=%{x}<br>Rata-rata PM10 (µg/m³)=%{y}<extra></extra>",
         "legendgroup": "Changping",
         "marker": {
          "color": "#FECB52",
          "pattern": {
           "shape": ""
          }
         },
         "name": "Changping",
         "offsetgroup": "Changping",
         "orientation": "v",
         "showlegend": true,
         "text": [
          "Changping",
          "Changping",
          "Changping",
          "Changping"
         ],
         "textposition": "auto",
         "type": "bar",
         "x": [
          "2013-12",
          "2014-10",
          "2015-11",
          "2016-10"
         ],
         "xaxis": "x",
         "y": [
          81,
          138,
          99,
          96
         ],
         "yaxis": "y"
        },
        {
         "alignmentgroup": "True",
         "hovertemplate": "city=%{text}<br>Bulan-Tahun=%{x}<br>Rata-rata PM10 (µg/m³)=%{y}<extra></extra>",
         "legendgroup": "Shunyi",
         "marker": {
          "color": "#636efa",
          "pattern": {
           "shape": ""
          }
         },
         "name": "Shunyi",
         "offsetgroup": "Shunyi",
         "orientation": "v",
         "showlegend": true,
         "text": [
          "Shunyi",
          "Shunyi",
          "Shunyi"
         ],
         "textposition": "auto",
         "type": "bar",
         "x": [
          "2014-11",
          "2015-08",
          "2016-09"
         ],
         "xaxis": "x",
         "y": [
          121,
          61,
          67
         ],
         "yaxis": "y"
        },
        {
         "alignmentgroup": "True",
         "hovertemplate": "city=%{text}<br>Bulan-Tahun=%{x}<br>Rata-rata PM10 (µg/m³)=%{y}<extra></extra>",
         "legendgroup": "Dingling",
         "marker": {
          "color": "#EF553B",
          "pattern": {
           "shape": ""
          }
         },
         "name": "Dingling",
         "offsetgroup": "Dingling",
         "orientation": "v",
         "showlegend": true,
         "text": [
          "Dingling",
          "Dingling",
          "Dingling"
         ],
         "textposition": "auto",
         "type": "bar",
         "x": [
          "2014-12",
          "2015-12",
          "2016-12"
         ],
         "xaxis": "x",
         "y": [
          65,
          128,
          105
         ],
         "yaxis": "y"
        }
       ],
       "layout": {
        "barmode": "relative",
        "height": 600,
        "legend": {
         "title": {
          "text": "city"
         },
         "tracegroupgap": 0
        },
        "template": {
         "data": {
          "bar": [
           {
            "error_x": {
             "color": "#2a3f5f"
            },
            "error_y": {
             "color": "#2a3f5f"
            },
            "marker": {
             "line": {
              "color": "#E5ECF6",
              "width": 0.5
             },
             "pattern": {
              "fillmode": "overlay",
              "size": 10,
              "solidity": 0.2
             }
            },
            "type": "bar"
           }
          ],
          "barpolar": [
           {
            "marker": {
             "line": {
              "color": "#E5ECF6",
              "width": 0.5
             },
             "pattern": {
              "fillmode": "overlay",
              "size": 10,
              "solidity": 0.2
             }
            },
            "type": "barpolar"
           }
          ],
          "carpet": [
           {
            "aaxis": {
             "endlinecolor": "#2a3f5f",
             "gridcolor": "white",
             "linecolor": "white",
             "minorgridcolor": "white",
             "startlinecolor": "#2a3f5f"
            },
            "baxis": {
             "endlinecolor": "#2a3f5f",
             "gridcolor": "white",
             "linecolor": "white",
             "minorgridcolor": "white",
             "startlinecolor": "#2a3f5f"
            },
            "type": "carpet"
           }
          ],
          "choropleth": [
           {
            "colorbar": {
             "outlinewidth": 0,
             "ticks": ""
            },
            "type": "choropleth"
           }
          ],
          "contour": [
           {
            "colorbar": {
             "outlinewidth": 0,
             "ticks": ""
            },
            "colorscale": [
             [
              0,
              "#0d0887"
             ],
             [
              0.1111111111111111,
              "#46039f"
             ],
             [
              0.2222222222222222,
              "#7201a8"
             ],
             [
              0.3333333333333333,
              "#9c179e"
             ],
             [
              0.4444444444444444,
              "#bd3786"
             ],
             [
              0.5555555555555556,
              "#d8576b"
             ],
             [
              0.6666666666666666,
              "#ed7953"
             ],
             [
              0.7777777777777778,
              "#fb9f3a"
             ],
             [
              0.8888888888888888,
              "#fdca26"
             ],
             [
              1,
              "#f0f921"
             ]
            ],
            "type": "contour"
           }
          ],
          "contourcarpet": [
           {
            "colorbar": {
             "outlinewidth": 0,
             "ticks": ""
            },
            "type": "contourcarpet"
           }
          ],
          "heatmap": [
           {
            "colorbar": {
             "outlinewidth": 0,
             "ticks": ""
            },
            "colorscale": [
             [
              0,
              "#0d0887"
             ],
             [
              0.1111111111111111,
              "#46039f"
             ],
             [
              0.2222222222222222,
              "#7201a8"
             ],
             [
              0.3333333333333333,
              "#9c179e"
             ],
             [
              0.4444444444444444,
              "#bd3786"
             ],
             [
              0.5555555555555556,
              "#d8576b"
             ],
             [
              0.6666666666666666,
              "#ed7953"
             ],
             [
              0.7777777777777778,
              "#fb9f3a"
             ],
             [
              0.8888888888888888,
              "#fdca26"
             ],
             [
              1,
              "#f0f921"
             ]
            ],
            "type": "heatmap"
           }
          ],
          "heatmapgl": [
           {
            "colorbar": {
             "outlinewidth": 0,
             "ticks": ""
            },
            "colorscale": [
             [
              0,
              "#0d0887"
             ],
             [
              0.1111111111111111,
              "#46039f"
             ],
             [
              0.2222222222222222,
              "#7201a8"
             ],
             [
              0.3333333333333333,
              "#9c179e"
             ],
             [
              0.4444444444444444,
              "#bd3786"
             ],
             [
              0.5555555555555556,
              "#d8576b"
             ],
             [
              0.6666666666666666,
              "#ed7953"
             ],
             [
              0.7777777777777778,
              "#fb9f3a"
             ],
             [
              0.8888888888888888,
              "#fdca26"
             ],
             [
              1,
              "#f0f921"
             ]
            ],
            "type": "heatmapgl"
           }
          ],
          "histogram": [
           {
            "marker": {
             "pattern": {
              "fillmode": "overlay",
              "size": 10,
              "solidity": 0.2
             }
            },
            "type": "histogram"
           }
          ],
          "histogram2d": [
           {
            "colorbar": {
             "outlinewidth": 0,
             "ticks": ""
            },
            "colorscale": [
             [
              0,
              "#0d0887"
             ],
             [
              0.1111111111111111,
              "#46039f"
             ],
             [
              0.2222222222222222,
              "#7201a8"
             ],
             [
              0.3333333333333333,
              "#9c179e"
             ],
             [
              0.4444444444444444,
              "#bd3786"
             ],
             [
              0.5555555555555556,
              "#d8576b"
             ],
             [
              0.6666666666666666,
              "#ed7953"
             ],
             [
              0.7777777777777778,
              "#fb9f3a"
             ],
             [
              0.8888888888888888,
              "#fdca26"
             ],
             [
              1,
              "#f0f921"
             ]
            ],
            "type": "histogram2d"
           }
          ],
          "histogram2dcontour": [
           {
            "colorbar": {
             "outlinewidth": 0,
             "ticks": ""
            },
            "colorscale": [
             [
              0,
              "#0d0887"
             ],
             [
              0.1111111111111111,
              "#46039f"
             ],
             [
              0.2222222222222222,
              "#7201a8"
             ],
             [
              0.3333333333333333,
              "#9c179e"
             ],
             [
              0.4444444444444444,
              "#bd3786"
             ],
             [
              0.5555555555555556,
              "#d8576b"
             ],
             [
              0.6666666666666666,
              "#ed7953"
             ],
             [
              0.7777777777777778,
              "#fb9f3a"
             ],
             [
              0.8888888888888888,
              "#fdca26"
             ],
             [
              1,
              "#f0f921"
             ]
            ],
            "type": "histogram2dcontour"
           }
          ],
          "mesh3d": [
           {
            "colorbar": {
             "outlinewidth": 0,
             "ticks": ""
            },
            "type": "mesh3d"
           }
          ],
          "parcoords": [
           {
            "line": {
             "colorbar": {
              "outlinewidth": 0,
              "ticks": ""
             }
            },
            "type": "parcoords"
           }
          ],
          "pie": [
           {
            "automargin": true,
            "type": "pie"
           }
          ],
          "scatter": [
           {
            "fillpattern": {
             "fillmode": "overlay",
             "size": 10,
             "solidity": 0.2
            },
            "type": "scatter"
           }
          ],
          "scatter3d": [
           {
            "line": {
             "colorbar": {
              "outlinewidth": 0,
              "ticks": ""
             }
            },
            "marker": {
             "colorbar": {
              "outlinewidth": 0,
              "ticks": ""
             }
            },
            "type": "scatter3d"
           }
          ],
          "scattercarpet": [
           {
            "marker": {
             "colorbar": {
              "outlinewidth": 0,
              "ticks": ""
             }
            },
            "type": "scattercarpet"
           }
          ],
          "scattergeo": [
           {
            "marker": {
             "colorbar": {
              "outlinewidth": 0,
              "ticks": ""
             }
            },
            "type": "scattergeo"
           }
          ],
          "scattergl": [
           {
            "marker": {
             "colorbar": {
              "outlinewidth": 0,
              "ticks": ""
             }
            },
            "type": "scattergl"
           }
          ],
          "scattermapbox": [
           {
            "marker": {
             "colorbar": {
              "outlinewidth": 0,
              "ticks": ""
             }
            },
            "type": "scattermapbox"
           }
          ],
          "scatterpolar": [
           {
            "marker": {
             "colorbar": {
              "outlinewidth": 0,
              "ticks": ""
             }
            },
            "type": "scatterpolar"
           }
          ],
          "scatterpolargl": [
           {
            "marker": {
             "colorbar": {
              "outlinewidth": 0,
              "ticks": ""
             }
            },
            "type": "scatterpolargl"
           }
          ],
          "scatterternary": [
           {
            "marker": {
             "colorbar": {
              "outlinewidth": 0,
              "ticks": ""
             }
            },
            "type": "scatterternary"
           }
          ],
          "surface": [
           {
            "colorbar": {
             "outlinewidth": 0,
             "ticks": ""
            },
            "colorscale": [
             [
              0,
              "#0d0887"
             ],
             [
              0.1111111111111111,
              "#46039f"
             ],
             [
              0.2222222222222222,
              "#7201a8"
             ],
             [
              0.3333333333333333,
              "#9c179e"
             ],
             [
              0.4444444444444444,
              "#bd3786"
             ],
             [
              0.5555555555555556,
              "#d8576b"
             ],
             [
              0.6666666666666666,
              "#ed7953"
             ],
             [
              0.7777777777777778,
              "#fb9f3a"
             ],
             [
              0.8888888888888888,
              "#fdca26"
             ],
             [
              1,
              "#f0f921"
             ]
            ],
            "type": "surface"
           }
          ],
          "table": [
           {
            "cells": {
             "fill": {
              "color": "#EBF0F8"
             },
             "line": {
              "color": "white"
             }
            },
            "header": {
             "fill": {
              "color": "#C8D4E3"
             },
             "line": {
              "color": "white"
             }
            },
            "type": "table"
           }
          ]
         },
         "layout": {
          "annotationdefaults": {
           "arrowcolor": "#2a3f5f",
           "arrowhead": 0,
           "arrowwidth": 1
          },
          "autotypenumbers": "strict",
          "coloraxis": {
           "colorbar": {
            "outlinewidth": 0,
            "ticks": ""
           }
          },
          "colorscale": {
           "diverging": [
            [
             0,
             "#8e0152"
            ],
            [
             0.1,
             "#c51b7d"
            ],
            [
             0.2,
             "#de77ae"
            ],
            [
             0.3,
             "#f1b6da"
            ],
            [
             0.4,
             "#fde0ef"
            ],
            [
             0.5,
             "#f7f7f7"
            ],
            [
             0.6,
             "#e6f5d0"
            ],
            [
             0.7,
             "#b8e186"
            ],
            [
             0.8,
             "#7fbc41"
            ],
            [
             0.9,
             "#4d9221"
            ],
            [
             1,
             "#276419"
            ]
           ],
           "sequential": [
            [
             0,
             "#0d0887"
            ],
            [
             0.1111111111111111,
             "#46039f"
            ],
            [
             0.2222222222222222,
             "#7201a8"
            ],
            [
             0.3333333333333333,
             "#9c179e"
            ],
            [
             0.4444444444444444,
             "#bd3786"
            ],
            [
             0.5555555555555556,
             "#d8576b"
            ],
            [
             0.6666666666666666,
             "#ed7953"
            ],
            [
             0.7777777777777778,
             "#fb9f3a"
            ],
            [
             0.8888888888888888,
             "#fdca26"
            ],
            [
             1,
             "#f0f921"
            ]
           ],
           "sequentialminus": [
            [
             0,
             "#0d0887"
            ],
            [
             0.1111111111111111,
             "#46039f"
            ],
            [
             0.2222222222222222,
             "#7201a8"
            ],
            [
             0.3333333333333333,
             "#9c179e"
            ],
            [
             0.4444444444444444,
             "#bd3786"
            ],
            [
             0.5555555555555556,
             "#d8576b"
            ],
            [
             0.6666666666666666,
             "#ed7953"
            ],
            [
             0.7777777777777778,
             "#fb9f3a"
            ],
            [
             0.8888888888888888,
             "#fdca26"
            ],
            [
             1,
             "#f0f921"
            ]
           ]
          },
          "colorway": [
           "#636efa",
           "#EF553B",
           "#00cc96",
           "#ab63fa",
           "#FFA15A",
           "#19d3f3",
           "#FF6692",
           "#B6E880",
           "#FF97FF",
           "#FECB52"
          ],
          "font": {
           "color": "#2a3f5f"
          },
          "geo": {
           "bgcolor": "white",
           "lakecolor": "white",
           "landcolor": "#E5ECF6",
           "showlakes": true,
           "showland": true,
           "subunitcolor": "white"
          },
          "hoverlabel": {
           "align": "left"
          },
          "hovermode": "closest",
          "mapbox": {
           "style": "light"
          },
          "paper_bgcolor": "white",
          "plot_bgcolor": "#E5ECF6",
          "polar": {
           "angularaxis": {
            "gridcolor": "white",
            "linecolor": "white",
            "ticks": ""
           },
           "bgcolor": "#E5ECF6",
           "radialaxis": {
            "gridcolor": "white",
            "linecolor": "white",
            "ticks": ""
           }
          },
          "scene": {
           "xaxis": {
            "backgroundcolor": "#E5ECF6",
            "gridcolor": "white",
            "gridwidth": 2,
            "linecolor": "white",
            "showbackground": true,
            "ticks": "",
            "zerolinecolor": "white"
           },
           "yaxis": {
            "backgroundcolor": "#E5ECF6",
            "gridcolor": "white",
            "gridwidth": 2,
            "linecolor": "white",
            "showbackground": true,
            "ticks": "",
            "zerolinecolor": "white"
           },
           "zaxis": {
            "backgroundcolor": "#E5ECF6",
            "gridcolor": "white",
            "gridwidth": 2,
            "linecolor": "white",
            "showbackground": true,
            "ticks": "",
            "zerolinecolor": "white"
           }
          },
          "shapedefaults": {
           "line": {
            "color": "#2a3f5f"
           }
          },
          "ternary": {
           "aaxis": {
            "gridcolor": "white",
            "linecolor": "white",
            "ticks": ""
           },
           "baxis": {
            "gridcolor": "white",
            "linecolor": "white",
            "ticks": ""
           },
           "bgcolor": "#E5ECF6",
           "caxis": {
            "gridcolor": "white",
            "linecolor": "white",
            "ticks": ""
           }
          },
          "title": {
           "x": 0.05
          },
          "xaxis": {
           "automargin": true,
           "gridcolor": "white",
           "linecolor": "white",
           "ticks": "",
           "title": {
            "standoff": 15
           },
           "zerolinecolor": "white",
           "zerolinewidth": 2
          },
          "yaxis": {
           "automargin": true,
           "gridcolor": "white",
           "linecolor": "white",
           "ticks": "",
           "title": {
            "standoff": 15
           },
           "zerolinecolor": "white",
           "zerolinewidth": 2
          }
         }
        },
        "title": {
         "text": "Rata-rata PM10 per Bulan dari Tahun 2013 sampai 2017"
        },
        "xaxis": {
         "anchor": "y",
         "domain": [
          0,
          1
         ],
         "tickangle": -45,
         "title": {
          "text": "Bulan-Tahun"
         }
        },
        "yaxis": {
         "anchor": "x",
         "domain": [
          0,
          1
         ],
         "title": {
          "text": "Rata-rata PM10 (µg/m³)"
         }
        }
       }
      },
      "text/html": [
       "<div>                            <div id=\"c24eab7c-4664-43a9-ac3a-e058142ee1a3\" class=\"plotly-graph-div\" style=\"height:600px; width:100%;\"></div>            <script type=\"text/javascript\">                require([\"plotly\"], function(Plotly) {                    window.PLOTLYENV=window.PLOTLYENV || {};                                    if (document.getElementById(\"c24eab7c-4664-43a9-ac3a-e058142ee1a3\")) {                    Plotly.newPlot(                        \"c24eab7c-4664-43a9-ac3a-e058142ee1a3\",                        [{\"alignmentgroup\":\"True\",\"hovertemplate\":\"city=%{text}\\u003cbr\\u003eBulan-Tahun=%{x}\\u003cbr\\u003eRata-rata PM10 (\\u00b5g\\u002fm\\u00b3)=%{y}\\u003cextra\\u003e\\u003c\\u002fextra\\u003e\",\"legendgroup\":\"Gucheng\",\"marker\":{\"color\":\"#636efa\",\"pattern\":{\"shape\":\"\"}},\"name\":\"Gucheng\",\"offsetgroup\":\"Gucheng\",\"orientation\":\"v\",\"showlegend\":true,\"text\":[\"Gucheng\",\"Gucheng\",\"Gucheng\",\"Gucheng\",\"Gucheng\"],\"textposition\":\"auto\",\"x\":[\"2013-03\",\"2014-03\",\"2015-05\",\"2016-01\",\"2017-02\"],\"xaxis\":\"x\",\"y\":[148,155,114,96,97],\"yaxis\":\"y\",\"type\":\"bar\"},{\"alignmentgroup\":\"True\",\"hovertemplate\":\"city=%{text}\\u003cbr\\u003eBulan-Tahun=%{x}\\u003cbr\\u003eRata-rata PM10 (\\u00b5g\\u002fm\\u00b3)=%{y}\\u003cextra\\u003e\\u003c\\u002fextra\\u003e\",\"legendgroup\":\"Wanliu\",\"marker\":{\"color\":\"#EF553B\",\"pattern\":{\"shape\":\"\"}},\"name\":\"Wanliu\",\"offsetgroup\":\"Wanliu\",\"orientation\":\"v\",\"showlegend\":true,\"text\":[\"Wanliu\",\"Wanliu\",\"Wanliu\",\"Wanliu\"],\"textposition\":\"auto\",\"x\":[\"2013-04\",\"2014-05\",\"2015-07\",\"2016-07\"],\"xaxis\":\"x\",\"y\":[109,133,79,80],\"yaxis\":\"y\",\"type\":\"bar\"},{\"alignmentgroup\":\"True\",\"hovertemplate\":\"city=%{text}\\u003cbr\\u003eBulan-Tahun=%{x}\\u003cbr\\u003eRata-rata PM10 (\\u00b5g\\u002fm\\u00b3)=%{y}\\u003cextra\\u003e\\u003c\\u002fextra\\u003e\",\"legendgroup\":\"Huairou\",\"marker\":{\"color\":\"#00cc96\",\"pattern\":{\"shape\":\"\"}},\"name\":\"Huairou\",\"offsetgroup\":\"Huairou\",\"orientation\":\"v\",\"showlegend\":true,\"text\":[\"Huairou\",\"Huairou\",\"Huairou\",\"Huairou\"],\"textposition\":\"auto\",\"x\":[\"2013-05\",\"2014-07\",\"2015-10\",\"2016-11\"],\"xaxis\":\"x\",\"y\":[163,115,78,117],\"yaxis\":\"y\",\"type\":\"bar\"},{\"alignmentgroup\":\"True\",\"hovertemplate\":\"city=%{text}\\u003cbr\\u003eBulan-Tahun=%{x}\\u003cbr\\u003eRata-rata PM10 (\\u00b5g\\u002fm\\u00b3)=%{y}\\u003cextra\\u003e\\u003c\\u002fextra\\u003e\",\"legendgroup\":\"Tiantan\",\"marker\":{\"color\":\"#ab63fa\",\"pattern\":{\"shape\":\"\"}},\"name\":\"Tiantan\",\"offsetgroup\":\"Tiantan\",\"orientation\":\"v\",\"showlegend\":true,\"text\":[\"Tiantan\",\"Tiantan\",\"Tiantan\",\"Tiantan\"],\"textposition\":\"auto\",\"x\":[\"2013-06\",\"2014-06\",\"2015-09\",\"2016-06\"],\"xaxis\":\"x\",\"y\":[134,82,62,81],\"yaxis\":\"y\",\"type\":\"bar\"},{\"alignmentgroup\":\"True\",\"hovertemplate\":\"city=%{text}\\u003cbr\\u003eBulan-Tahun=%{x}\\u003cbr\\u003eRata-rata PM10 (\\u00b5g\\u002fm\\u00b3)=%{y}\\u003cextra\\u003e\\u003c\\u002fextra\\u003e\",\"legendgroup\":\"Aotizhongxin\",\"marker\":{\"color\":\"#FFA15A\",\"pattern\":{\"shape\":\"\"}},\"name\":\"Aotizhongxin\",\"offsetgroup\":\"Aotizhongxin\",\"orientation\":\"v\",\"showlegend\":true,\"text\":[\"Aotizhongxin\",\"Aotizhongxin\",\"Aotizhongxin\",\"Aotizhongxin\"],\"textposition\":\"auto\",\"x\":[\"2013-07\",\"2014-04\",\"2015-04\",\"2016-02\"],\"xaxis\":\"x\",\"y\":[85,168,135,61],\"yaxis\":\"y\",\"type\":\"bar\"},{\"alignmentgroup\":\"True\",\"hovertemplate\":\"city=%{text}\\u003cbr\\u003eBulan-Tahun=%{x}\\u003cbr\\u003eRata-rata PM10 (\\u00b5g\\u002fm\\u00b3)=%{y}\\u003cextra\\u003e\\u003c\\u002fextra\\u003e\",\"legendgroup\":\"Dongsi\",\"marker\":{\"color\":\"#19d3f3\",\"pattern\":{\"shape\":\"\"}},\"name\":\"Dongsi\",\"offsetgroup\":\"Dongsi\",\"orientation\":\"v\",\"showlegend\":true,\"text\":[\"Dongsi\",\"Dongsi\",\"Dongsi\",\"Dongsi\",\"Dongsi\"],\"textposition\":\"auto\",\"x\":[\"2013-08\",\"2014-09\",\"2015-03\",\"2016-04\",\"2017-01\"],\"xaxis\":\"x\",\"y\":[86,95,169,118,158],\"yaxis\":\"y\",\"type\":\"bar\"},{\"alignmentgroup\":\"True\",\"hovertemplate\":\"city=%{text}\\u003cbr\\u003eBulan-Tahun=%{x}\\u003cbr\\u003eRata-rata PM10 (\\u00b5g\\u002fm\\u00b3)=%{y}\\u003cextra\\u003e\\u003c\\u002fextra\\u003e\",\"legendgroup\":\"Wanshouxigong\",\"marker\":{\"color\":\"#FF6692\",\"pattern\":{\"shape\":\"\"}},\"name\":\"Wanshouxigong\",\"offsetgroup\":\"Wanshouxigong\",\"orientation\":\"v\",\"showlegend\":true,\"text\":[\"Wanshouxigong\",\"Wanshouxigong\",\"Wanshouxigong\",\"Wanshouxigong\"],\"textposition\":\"auto\",\"x\":[\"2013-09\",\"2014-01\",\"2015-02\",\"2016-05\"],\"xaxis\":\"x\",\"y\":[117,156,134,96],\"yaxis\":\"y\",\"type\":\"bar\"},{\"alignmentgroup\":\"True\",\"hovertemplate\":\"city=%{text}\\u003cbr\\u003eBulan-Tahun=%{x}\\u003cbr\\u003eRata-rata PM10 (\\u00b5g\\u002fm\\u00b3)=%{y}\\u003cextra\\u003e\\u003c\\u002fextra\\u003e\",\"legendgroup\":\"Guanyuan\",\"marker\":{\"color\":\"#B6E880\",\"pattern\":{\"shape\":\"\"}},\"name\":\"Guanyuan\",\"offsetgroup\":\"Guanyuan\",\"orientation\":\"v\",\"showlegend\":true,\"text\":[\"Guanyuan\",\"Guanyuan\",\"Guanyuan\",\"Guanyuan\"],\"textposition\":\"auto\",\"x\":[\"2013-10\",\"2014-08\",\"2015-06\",\"2016-03\"],\"xaxis\":\"x\",\"y\":[120,88,84,144],\"yaxis\":\"y\",\"type\":\"bar\"},{\"alignmentgroup\":\"True\",\"hovertemplate\":\"city=%{text}\\u003cbr\\u003eBulan-Tahun=%{x}\\u003cbr\\u003eRata-rata PM10 (\\u00b5g\\u002fm\\u00b3)=%{y}\\u003cextra\\u003e\\u003c\\u002fextra\\u003e\",\"legendgroup\":\"Nongzhanguan\",\"marker\":{\"color\":\"#FF97FF\",\"pattern\":{\"shape\":\"\"}},\"name\":\"Nongzhanguan\",\"offsetgroup\":\"Nongzhanguan\",\"orientation\":\"v\",\"showlegend\":true,\"text\":[\"Nongzhanguan\",\"Nongzhanguan\",\"Nongzhanguan\",\"Nongzhanguan\"],\"textposition\":\"auto\",\"x\":[\"2013-11\",\"2014-02\",\"2015-01\",\"2016-08\"],\"xaxis\":\"x\",\"y\":[105,167,131,59],\"yaxis\":\"y\",\"type\":\"bar\"},{\"alignmentgroup\":\"True\",\"hovertemplate\":\"city=%{text}\\u003cbr\\u003eBulan-Tahun=%{x}\\u003cbr\\u003eRata-rata PM10 (\\u00b5g\\u002fm\\u00b3)=%{y}\\u003cextra\\u003e\\u003c\\u002fextra\\u003e\",\"legendgroup\":\"Changping\",\"marker\":{\"color\":\"#FECB52\",\"pattern\":{\"shape\":\"\"}},\"name\":\"Changping\",\"offsetgroup\":\"Changping\",\"orientation\":\"v\",\"showlegend\":true,\"text\":[\"Changping\",\"Changping\",\"Changping\",\"Changping\"],\"textposition\":\"auto\",\"x\":[\"2013-12\",\"2014-10\",\"2015-11\",\"2016-10\"],\"xaxis\":\"x\",\"y\":[81,138,99,96],\"yaxis\":\"y\",\"type\":\"bar\"},{\"alignmentgroup\":\"True\",\"hovertemplate\":\"city=%{text}\\u003cbr\\u003eBulan-Tahun=%{x}\\u003cbr\\u003eRata-rata PM10 (\\u00b5g\\u002fm\\u00b3)=%{y}\\u003cextra\\u003e\\u003c\\u002fextra\\u003e\",\"legendgroup\":\"Shunyi\",\"marker\":{\"color\":\"#636efa\",\"pattern\":{\"shape\":\"\"}},\"name\":\"Shunyi\",\"offsetgroup\":\"Shunyi\",\"orientation\":\"v\",\"showlegend\":true,\"text\":[\"Shunyi\",\"Shunyi\",\"Shunyi\"],\"textposition\":\"auto\",\"x\":[\"2014-11\",\"2015-08\",\"2016-09\"],\"xaxis\":\"x\",\"y\":[121,61,67],\"yaxis\":\"y\",\"type\":\"bar\"},{\"alignmentgroup\":\"True\",\"hovertemplate\":\"city=%{text}\\u003cbr\\u003eBulan-Tahun=%{x}\\u003cbr\\u003eRata-rata PM10 (\\u00b5g\\u002fm\\u00b3)=%{y}\\u003cextra\\u003e\\u003c\\u002fextra\\u003e\",\"legendgroup\":\"Dingling\",\"marker\":{\"color\":\"#EF553B\",\"pattern\":{\"shape\":\"\"}},\"name\":\"Dingling\",\"offsetgroup\":\"Dingling\",\"orientation\":\"v\",\"showlegend\":true,\"text\":[\"Dingling\",\"Dingling\",\"Dingling\"],\"textposition\":\"auto\",\"x\":[\"2014-12\",\"2015-12\",\"2016-12\"],\"xaxis\":\"x\",\"y\":[65,128,105],\"yaxis\":\"y\",\"type\":\"bar\"}],                        {\"template\":{\"data\":{\"histogram2dcontour\":[{\"type\":\"histogram2dcontour\",\"colorbar\":{\"outlinewidth\":0,\"ticks\":\"\"},\"colorscale\":[[0.0,\"#0d0887\"],[0.1111111111111111,\"#46039f\"],[0.2222222222222222,\"#7201a8\"],[0.3333333333333333,\"#9c179e\"],[0.4444444444444444,\"#bd3786\"],[0.5555555555555556,\"#d8576b\"],[0.6666666666666666,\"#ed7953\"],[0.7777777777777778,\"#fb9f3a\"],[0.8888888888888888,\"#fdca26\"],[1.0,\"#f0f921\"]]}],\"choropleth\":[{\"type\":\"choropleth\",\"colorbar\":{\"outlinewidth\":0,\"ticks\":\"\"}}],\"histogram2d\":[{\"type\":\"histogram2d\",\"colorbar\":{\"outlinewidth\":0,\"ticks\":\"\"},\"colorscale\":[[0.0,\"#0d0887\"],[0.1111111111111111,\"#46039f\"],[0.2222222222222222,\"#7201a8\"],[0.3333333333333333,\"#9c179e\"],[0.4444444444444444,\"#bd3786\"],[0.5555555555555556,\"#d8576b\"],[0.6666666666666666,\"#ed7953\"],[0.7777777777777778,\"#fb9f3a\"],[0.8888888888888888,\"#fdca26\"],[1.0,\"#f0f921\"]]}],\"heatmap\":[{\"type\":\"heatmap\",\"colorbar\":{\"outlinewidth\":0,\"ticks\":\"\"},\"colorscale\":[[0.0,\"#0d0887\"],[0.1111111111111111,\"#46039f\"],[0.2222222222222222,\"#7201a8\"],[0.3333333333333333,\"#9c179e\"],[0.4444444444444444,\"#bd3786\"],[0.5555555555555556,\"#d8576b\"],[0.6666666666666666,\"#ed7953\"],[0.7777777777777778,\"#fb9f3a\"],[0.8888888888888888,\"#fdca26\"],[1.0,\"#f0f921\"]]}],\"heatmapgl\":[{\"type\":\"heatmapgl\",\"colorbar\":{\"outlinewidth\":0,\"ticks\":\"\"},\"colorscale\":[[0.0,\"#0d0887\"],[0.1111111111111111,\"#46039f\"],[0.2222222222222222,\"#7201a8\"],[0.3333333333333333,\"#9c179e\"],[0.4444444444444444,\"#bd3786\"],[0.5555555555555556,\"#d8576b\"],[0.6666666666666666,\"#ed7953\"],[0.7777777777777778,\"#fb9f3a\"],[0.8888888888888888,\"#fdca26\"],[1.0,\"#f0f921\"]]}],\"contourcarpet\":[{\"type\":\"contourcarpet\",\"colorbar\":{\"outlinewidth\":0,\"ticks\":\"\"}}],\"contour\":[{\"type\":\"contour\",\"colorbar\":{\"outlinewidth\":0,\"ticks\":\"\"},\"colorscale\":[[0.0,\"#0d0887\"],[0.1111111111111111,\"#46039f\"],[0.2222222222222222,\"#7201a8\"],[0.3333333333333333,\"#9c179e\"],[0.4444444444444444,\"#bd3786\"],[0.5555555555555556,\"#d8576b\"],[0.6666666666666666,\"#ed7953\"],[0.7777777777777778,\"#fb9f3a\"],[0.8888888888888888,\"#fdca26\"],[1.0,\"#f0f921\"]]}],\"surface\":[{\"type\":\"surface\",\"colorbar\":{\"outlinewidth\":0,\"ticks\":\"\"},\"colorscale\":[[0.0,\"#0d0887\"],[0.1111111111111111,\"#46039f\"],[0.2222222222222222,\"#7201a8\"],[0.3333333333333333,\"#9c179e\"],[0.4444444444444444,\"#bd3786\"],[0.5555555555555556,\"#d8576b\"],[0.6666666666666666,\"#ed7953\"],[0.7777777777777778,\"#fb9f3a\"],[0.8888888888888888,\"#fdca26\"],[1.0,\"#f0f921\"]]}],\"mesh3d\":[{\"type\":\"mesh3d\",\"colorbar\":{\"outlinewidth\":0,\"ticks\":\"\"}}],\"scatter\":[{\"fillpattern\":{\"fillmode\":\"overlay\",\"size\":10,\"solidity\":0.2},\"type\":\"scatter\"}],\"parcoords\":[{\"type\":\"parcoords\",\"line\":{\"colorbar\":{\"outlinewidth\":0,\"ticks\":\"\"}}}],\"scatterpolargl\":[{\"type\":\"scatterpolargl\",\"marker\":{\"colorbar\":{\"outlinewidth\":0,\"ticks\":\"\"}}}],\"bar\":[{\"error_x\":{\"color\":\"#2a3f5f\"},\"error_y\":{\"color\":\"#2a3f5f\"},\"marker\":{\"line\":{\"color\":\"#E5ECF6\",\"width\":0.5},\"pattern\":{\"fillmode\":\"overlay\",\"size\":10,\"solidity\":0.2}},\"type\":\"bar\"}],\"scattergeo\":[{\"type\":\"scattergeo\",\"marker\":{\"colorbar\":{\"outlinewidth\":0,\"ticks\":\"\"}}}],\"scatterpolar\":[{\"type\":\"scatterpolar\",\"marker\":{\"colorbar\":{\"outlinewidth\":0,\"ticks\":\"\"}}}],\"histogram\":[{\"marker\":{\"pattern\":{\"fillmode\":\"overlay\",\"size\":10,\"solidity\":0.2}},\"type\":\"histogram\"}],\"scattergl\":[{\"type\":\"scattergl\",\"marker\":{\"colorbar\":{\"outlinewidth\":0,\"ticks\":\"\"}}}],\"scatter3d\":[{\"type\":\"scatter3d\",\"line\":{\"colorbar\":{\"outlinewidth\":0,\"ticks\":\"\"}},\"marker\":{\"colorbar\":{\"outlinewidth\":0,\"ticks\":\"\"}}}],\"scattermapbox\":[{\"type\":\"scattermapbox\",\"marker\":{\"colorbar\":{\"outlinewidth\":0,\"ticks\":\"\"}}}],\"scatterternary\":[{\"type\":\"scatterternary\",\"marker\":{\"colorbar\":{\"outlinewidth\":0,\"ticks\":\"\"}}}],\"scattercarpet\":[{\"type\":\"scattercarpet\",\"marker\":{\"colorbar\":{\"outlinewidth\":0,\"ticks\":\"\"}}}],\"carpet\":[{\"aaxis\":{\"endlinecolor\":\"#2a3f5f\",\"gridcolor\":\"white\",\"linecolor\":\"white\",\"minorgridcolor\":\"white\",\"startlinecolor\":\"#2a3f5f\"},\"baxis\":{\"endlinecolor\":\"#2a3f5f\",\"gridcolor\":\"white\",\"linecolor\":\"white\",\"minorgridcolor\":\"white\",\"startlinecolor\":\"#2a3f5f\"},\"type\":\"carpet\"}],\"table\":[{\"cells\":{\"fill\":{\"color\":\"#EBF0F8\"},\"line\":{\"color\":\"white\"}},\"header\":{\"fill\":{\"color\":\"#C8D4E3\"},\"line\":{\"color\":\"white\"}},\"type\":\"table\"}],\"barpolar\":[{\"marker\":{\"line\":{\"color\":\"#E5ECF6\",\"width\":0.5},\"pattern\":{\"fillmode\":\"overlay\",\"size\":10,\"solidity\":0.2}},\"type\":\"barpolar\"}],\"pie\":[{\"automargin\":true,\"type\":\"pie\"}]},\"layout\":{\"autotypenumbers\":\"strict\",\"colorway\":[\"#636efa\",\"#EF553B\",\"#00cc96\",\"#ab63fa\",\"#FFA15A\",\"#19d3f3\",\"#FF6692\",\"#B6E880\",\"#FF97FF\",\"#FECB52\"],\"font\":{\"color\":\"#2a3f5f\"},\"hovermode\":\"closest\",\"hoverlabel\":{\"align\":\"left\"},\"paper_bgcolor\":\"white\",\"plot_bgcolor\":\"#E5ECF6\",\"polar\":{\"bgcolor\":\"#E5ECF6\",\"angularaxis\":{\"gridcolor\":\"white\",\"linecolor\":\"white\",\"ticks\":\"\"},\"radialaxis\":{\"gridcolor\":\"white\",\"linecolor\":\"white\",\"ticks\":\"\"}},\"ternary\":{\"bgcolor\":\"#E5ECF6\",\"aaxis\":{\"gridcolor\":\"white\",\"linecolor\":\"white\",\"ticks\":\"\"},\"baxis\":{\"gridcolor\":\"white\",\"linecolor\":\"white\",\"ticks\":\"\"},\"caxis\":{\"gridcolor\":\"white\",\"linecolor\":\"white\",\"ticks\":\"\"}},\"coloraxis\":{\"colorbar\":{\"outlinewidth\":0,\"ticks\":\"\"}},\"colorscale\":{\"sequential\":[[0.0,\"#0d0887\"],[0.1111111111111111,\"#46039f\"],[0.2222222222222222,\"#7201a8\"],[0.3333333333333333,\"#9c179e\"],[0.4444444444444444,\"#bd3786\"],[0.5555555555555556,\"#d8576b\"],[0.6666666666666666,\"#ed7953\"],[0.7777777777777778,\"#fb9f3a\"],[0.8888888888888888,\"#fdca26\"],[1.0,\"#f0f921\"]],\"sequentialminus\":[[0.0,\"#0d0887\"],[0.1111111111111111,\"#46039f\"],[0.2222222222222222,\"#7201a8\"],[0.3333333333333333,\"#9c179e\"],[0.4444444444444444,\"#bd3786\"],[0.5555555555555556,\"#d8576b\"],[0.6666666666666666,\"#ed7953\"],[0.7777777777777778,\"#fb9f3a\"],[0.8888888888888888,\"#fdca26\"],[1.0,\"#f0f921\"]],\"diverging\":[[0,\"#8e0152\"],[0.1,\"#c51b7d\"],[0.2,\"#de77ae\"],[0.3,\"#f1b6da\"],[0.4,\"#fde0ef\"],[0.5,\"#f7f7f7\"],[0.6,\"#e6f5d0\"],[0.7,\"#b8e186\"],[0.8,\"#7fbc41\"],[0.9,\"#4d9221\"],[1,\"#276419\"]]},\"xaxis\":{\"gridcolor\":\"white\",\"linecolor\":\"white\",\"ticks\":\"\",\"title\":{\"standoff\":15},\"zerolinecolor\":\"white\",\"automargin\":true,\"zerolinewidth\":2},\"yaxis\":{\"gridcolor\":\"white\",\"linecolor\":\"white\",\"ticks\":\"\",\"title\":{\"standoff\":15},\"zerolinecolor\":\"white\",\"automargin\":true,\"zerolinewidth\":2},\"scene\":{\"xaxis\":{\"backgroundcolor\":\"#E5ECF6\",\"gridcolor\":\"white\",\"linecolor\":\"white\",\"showbackground\":true,\"ticks\":\"\",\"zerolinecolor\":\"white\",\"gridwidth\":2},\"yaxis\":{\"backgroundcolor\":\"#E5ECF6\",\"gridcolor\":\"white\",\"linecolor\":\"white\",\"showbackground\":true,\"ticks\":\"\",\"zerolinecolor\":\"white\",\"gridwidth\":2},\"zaxis\":{\"backgroundcolor\":\"#E5ECF6\",\"gridcolor\":\"white\",\"linecolor\":\"white\",\"showbackground\":true,\"ticks\":\"\",\"zerolinecolor\":\"white\",\"gridwidth\":2}},\"shapedefaults\":{\"line\":{\"color\":\"#2a3f5f\"}},\"annotationdefaults\":{\"arrowcolor\":\"#2a3f5f\",\"arrowhead\":0,\"arrowwidth\":1},\"geo\":{\"bgcolor\":\"white\",\"landcolor\":\"#E5ECF6\",\"subunitcolor\":\"white\",\"showland\":true,\"showlakes\":true,\"lakecolor\":\"white\"},\"title\":{\"x\":0.05},\"mapbox\":{\"style\":\"light\"}}},\"xaxis\":{\"anchor\":\"y\",\"domain\":[0.0,1.0],\"title\":{\"text\":\"Bulan-Tahun\"},\"tickangle\":-45},\"yaxis\":{\"anchor\":\"x\",\"domain\":[0.0,1.0],\"title\":{\"text\":\"Rata-rata PM10 (\\u00b5g\\u002fm\\u00b3)\"}},\"legend\":{\"title\":{\"text\":\"city\"},\"tracegroupgap\":0},\"title\":{\"text\":\"Rata-rata PM10 per Bulan dari Tahun 2013 sampai 2017\"},\"barmode\":\"relative\",\"height\":600},                        {\"responsive\": true}                    ).then(function(){\n",
       "                            \n",
       "var gd = document.getElementById('c24eab7c-4664-43a9-ac3a-e058142ee1a3');\n",
       "var x = new MutationObserver(function (mutations, observer) {{\n",
       "        var display = window.getComputedStyle(gd).display;\n",
       "        if (!display || display === 'none') {{\n",
       "            console.log([gd, 'removed!']);\n",
       "            Plotly.purge(gd);\n",
       "            observer.disconnect();\n",
       "        }}\n",
       "}});\n",
       "\n",
       "// Listen for the removal of the full notebook cells\n",
       "var notebookContainer = gd.closest('#notebook-container');\n",
       "if (notebookContainer) {{\n",
       "    x.observe(notebookContainer, {childList: true});\n",
       "}}\n",
       "\n",
       "// Listen for the clearing of the current output cell\n",
       "var outputEl = gd.closest('.output');\n",
       "if (outputEl) {{\n",
       "    x.observe(outputEl, {childList: true});\n",
       "}}\n",
       "\n",
       "                        })                };                });            </script>        </div>"
      ]
     },
     "metadata": {},
     "output_type": "display_data"
    }
   ],
   "source": [
    "fig = px.bar(\n",
    "    data_pm10,\n",
    "    x='month_year',\n",
    "    y='avg_PM10',  # Corrected column name\n",
    "    color='city',\n",
    "    text='city',\n",
    "    title='Rata-rata PM10 per Bulan dari Tahun 2013 sampai 2017',\n",
    "    labels={'avg_PM10': 'Rata-rata PM10 (µg/m³)', 'month_year': 'Bulan-Tahun'},\n",
    "    height=600\n",
    ")\n",
    "\n",
    "fig.update_layout(\n",
    "    xaxis_title='Bulan-Tahun',\n",
    "    yaxis_title='Rata-rata PM10 (µg/m³)',\n",
    "    xaxis_tickangle=-45\n",
    ")\n",
    "\n",
    "fig.show()\n"
   ]
  },
  {
   "cell_type": "markdown",
   "metadata": {},
   "source": [
    "## Visualization & Explanatory Analysis"
   ]
  },
  {
   "cell_type": "markdown",
   "metadata": {},
   "source": [
    "### Pertanyaan 1: Kota mana yang paling sering terindikasi polusi paling tinggi"
   ]
  },
  {
   "cell_type": "code",
   "execution_count": 39,
   "metadata": {},
   "outputs": [
    {
     "name": "stdout",
     "output_type": "stream",
     "text": [
      "Kota dengan kualitas udara terburuk (PM2.5 > 100): Dingling\n"
     ]
    }
   ],
   "source": [
    "df = pd.DataFrame(data)\n",
    "\n",
    "# Menentukan threshold untuk kualitas udara yang buruk\n",
    "threshold = 100\n",
    "\n",
    "# Menyaring data untuk kota dengan avg_PM25 > threshold\n",
    "worst_air_quality = df[df['avg_PM25'] > threshold]\n",
    "\n",
    "# Menemukan modus kota yang paling sering muncul dalam kasus ini\n",
    "most_frequent_city = worst_air_quality['city'].mode()[0]\n",
    "\n",
    "# Menampilkan kota yang paling sering muncul\n",
    "print(f\"Kota dengan kualitas udara terburuk (PM2.5 > {threshold}): {most_frequent_city}\")"
   ]
  },
  {
   "cell_type": "code",
   "execution_count": 40,
   "metadata": {},
   "outputs": [
    {
     "data": {
      "image/png": "[encoded data removed]",
      "text/plain": [
       "<Figure size 800x800 with 1 Axes>"
      ]
     },
     "metadata": {},
     "output_type": "display_data"
    }
   ],
   "source": [
    "data = [\n",
    "    {'year': 2013, 'month': 1, 'city': 'Wanshouxigong', 'avg_PM25': 117.0},\n",
    "    {'year': 2013, 'month': 2, 'city': 'Wanliu', 'avg_PM25': 162.0},\n",
    "    {'year': 2013, 'month': 3, 'city': 'Aotizhongxin', 'avg_PM25': 110.0},\n",
    "    {'year': 2013, 'month': 4, 'city': 'Wanshouxigong', 'avg_PM25': 79.0},\n",
    "    {'year': 2013, 'month': 5, 'city': 'Wanliu', 'avg_PM25': 93.0},\n",
    "    {'year': 2013, 'month': 6, 'city': 'Tiantan', 'avg_PM25': 110.0},\n",
    "    {'year': 2013, 'month': 7, 'city': 'Nongzhanguan', 'avg_PM25': 75.0},\n",
    "    {'year': 2013, 'month': 8, 'city': 'Dongsi', 'avg_PM25': 64.0},\n",
    "    {'year': 2013, 'month': 9, 'city': 'Guanyuan', 'avg_PM25': 80.0},\n",
    "    {'year': 2013, 'month': 10, 'city': 'Gucheng', 'avg_PM25': 96.0},\n",
    "    {'year': 2013, 'month': 11, 'city': 'Shunyi', 'avg_PM25': 67.0},\n",
    "    {'year': 2013, 'month': 12, 'city': 'Changping', 'avg_PM25': 67.0},\n",
    "    {'year': 2014, 'month': 1, 'city': 'Nongzhanguan', 'avg_PM25': 108.0},\n",
    "    {'year': 2014, 'month': 2, 'city': 'Dongsi', 'avg_PM25': 109.0},\n",
    "    {'year': 2014, 'month': 3, 'city': 'Aotizhongxin', 'avg_PM25': 88.0},\n",
    "    {'year': 2014, 'month': 4, 'city': 'Shunyi', 'avg_PM25': 74.0},\n",
    "    {'year': 2014, 'month': 5, 'city': 'Wanliu', 'avg_PM25': 59.0},\n",
    "    {'year': 2014, 'month': 6, 'city': 'Gucheng', 'avg_PM25': 63.0},\n",
    "    {'year': 2014, 'month': 7, 'city': 'Guanyuan', 'avg_PM25': 67.0},\n",
    "    {'year': 2014, 'month': 8, 'city': 'Tiantan', 'avg_PM25': 47.0},\n",
    "    {'year': 2014, 'month': 9, 'city': 'Wanshouxigong', 'avg_PM25': 53.0},\n",
    "    {'year': 2014, 'month': 10, 'city': 'Huairou', 'avg_PM25': 63.0},\n",
    "    {'year': 2014, 'month': 11, 'city': 'Changping', 'avg_PM25': 91.0},\n",
    "    {'year': 2014, 'month': 12, 'city': 'Dingling', 'avg_PM25': 119.0},\n",
    "    {'year': 2015, 'month': 1, 'city': 'Gucheng', 'avg_PM25': 76.0},\n",
    "    {'year': 2015, 'month': 2, 'city': 'Shunyi', 'avg_PM25': 49.0},\n",
    "    {'year': 2015, 'month': 3, 'city': 'Dongsi', 'avg_PM25': 100.0},\n",
    "    {'year': 2015, 'month': 4, 'city': 'Changping', 'avg_PM25': 104.0},\n",
    "    {'year': 2015, 'month': 5, 'city': 'Aotizhongxin', 'avg_PM25': 71.0},\n",
    "    {'year': 2015, 'month': 6, 'city': 'Guanyuan', 'avg_PM25': 60.0},\n",
    "    {'year': 2015, 'month': 7, 'city': 'Huairou', 'avg_PM25': 96.0},\n",
    "    {'year': 2015, 'month': 8, 'city': 'Tiantan', 'avg_PM25': 66.0},\n",
    "    {'year': 2015, 'month': 9, 'city': 'Gucheng', 'avg_PM25': 72.0},\n",
    "    {'year': 2015, 'month': 10, 'city': 'Nongzhanguan', 'avg_PM25': 137.0},\n",
    "    {'year': 2015, 'month': 11, 'city': 'Shunyi', 'avg_PM25': 81.0},\n",
    "    {'year': 2015, 'month': 12, 'city': 'Dingling', 'avg_PM25': 48.0},\n",
    "    {'year': 2016, 'month': 1, 'city': 'Wanshouxigong', 'avg_PM25': 95.0},\n",
    "    {'year': 2016, 'month': 2, 'city': 'Wanliu', 'avg_PM25': 115.0},\n",
    "    {'year': 2016, 'month': 3, 'city': 'Aotizhongxin', 'avg_PM25': 98.0},\n",
    "    {'year': 2016, 'month': 4, 'city': 'Guanyuan', 'avg_PM25': 85.0},\n",
    "    {'year': 2016, 'month': 5, 'city': 'Huairou', 'avg_PM25': 70.0},\n",
    "    {'year': 2016, 'month': 6, 'city': 'Tiantan', 'avg_PM25': 90.0},\n",
    "    {'year': 2016, 'month': 7, 'city': 'Nongzhanguan', 'avg_PM25': 105.0},\n",
    "    {'year': 2016, 'month': 8, 'city': 'Dongsi', 'avg_PM25': 75.0},\n",
    "    {'year': 2016, 'month': 9, 'city': 'Wanshouxigong', 'avg_PM25': 60.0},\n",
    "    {'year': 2016, 'month': 10, 'city': 'Gucheng', 'avg_PM25': 110.0},\n",
    "    {'year': 2016, 'month': 11, 'city': 'Changping', 'avg_PM25': 100.0},\n",
    "    {'year': 2016, 'month': 12, 'city': 'Dingling', 'avg_PM25': 130.0},\n",
    "    {'year': 2017, 'month': 1, 'city': 'Guanyuan', 'avg_PM25': 120.0},\n",
    "    {'year': 2017, 'month': 2, 'city': 'Tiantan', 'avg_PM25': 85.0},\n",
    "    {'year': 2017, 'month': 3, 'city': 'Nongzhanguan', 'avg_PM25': 95.0},\n",
    "    {'year': 2017, 'month': 4, 'city': 'Dongsi', 'avg_PM25': 70.0},\n",
    "    {'year': 2017, 'month': 5, 'city': 'Wanshouxigong', 'avg_PM25': 65.0},\n",
    "    {'year': 2017, 'month': 6, 'city': 'Wanliu', 'avg_PM25': 80.0},\n",
    "    {'year': 2017, 'month': 7, 'city': 'Aotizhongxin', 'avg_PM25': 90.0},\n",
    "    {'year': 2017, 'month': 8, 'city': 'Guanyuan', 'avg_PM25': 77.0},\n",
    "    {'year': 2017, 'month': 9, 'city': 'Shunyi', 'avg_PM25': 92.0},\n",
    "    {'year': 2017, 'month': 10, 'city': 'Huairou', 'avg_PM25': 100.0},\n",
    "    {'year': 2017, 'month': 11, 'city': 'Changping', 'avg_PM25': 105.0},\n",
    "    {'year': 2017, 'month': 12, 'city': 'Dingling', 'avg_PM25': 89.0},\n",
    "]\n",
    "\n",
    "# Convert to DataFrame\n",
    "df = pd.DataFrame(data)\n",
    "\n",
    "# Set the threshold\n",
    "threshold = 100\n",
    "\n",
    "# Filter data for cities with avg_PM25 > threshold\n",
    "worst_air_quality = df[df['avg_PM25'] > threshold]\n",
    "\n",
    "# Count occurrences of each city exceeding the threshold\n",
    "city_counts = worst_air_quality['city'].value_counts()\n",
    "\n",
    "# Plot pie chart\n",
    "plt.figure(figsize=(8, 8))\n",
    "plt.pie(city_counts, labels=city_counts.index, autopct='%1.1f%%', startangle=140, colors=plt.cm.Paired.colors)\n",
    "plt.title('Cities with Worst Air Quality (PM2.5 > 100)')\n",
    "plt.axis('equal')  # Equal aspect ratio ensures that pie chart is circular.\n",
    "plt.show()\n"
   ]
  },
  {
   "cell_type": "code",
   "execution_count": 56,
   "metadata": {},
   "outputs": [
    {
     "name": "stdout",
     "output_type": "stream",
     "text": [
      "Kota dengan kualitas udara terburuk (PM10 > 100): Dongsi\n"
     ]
    }
   ],
   "source": [
    "threshold = 100\n",
    "\n",
    "# Menyaring data untuk kota dengan avg_PM10 > threshold\n",
    "worst_air_quality = data_pm10[data_pm10['avg_PM10'] > threshold]\n",
    "\n",
    "# Menemukan modus kota yang paling sering muncul dalam kasus ini\n",
    "most_frequent_city = worst_air_quality['city'].mode()[0]\n",
    "\n",
    "# Menampilkan kota yang paling sering muncul\n",
    "print(f\"Kota dengan kualitas udara terburuk (PM10 > {threshold}): {most_frequent_city}\")"
   ]
  },
  {
   "cell_type": "code",
   "execution_count": 57,
   "metadata": {},
   "outputs": [
    {
     "data": {
      "image/png": "[encoded data removed]",
      "text/plain": [
       "<Figure size 800x800 with 1 Axes>"
      ]
     },
     "metadata": {},
     "output_type": "display_data"
    }
   ],
   "source": [
    "threshold = 100\n",
    "\n",
    "# Filter data for cities with avg_PM25 > threshold\n",
    "worst_air_quality = data_pm10[data_pm10['avg_PM10'] > threshold]\n",
    "\n",
    "# Count occurrences of each city exceeding the threshold\n",
    "city_counts = worst_air_quality['city'].value_counts()\n",
    "\n",
    "# Plot pie chart\n",
    "plt.figure(figsize=(8, 8))\n",
    "plt.pie(city_counts, labels=city_counts.index, autopct='%1.1f%%', startangle=140, colors=plt.cm.Paired.colors)\n",
    "plt.title('Cities with Worst Air Quality (PM2.5 > 100)')\n",
    "plt.axis('equal')  # Equal aspect ratio ensures that pie chart is circular.\n",
    "plt.show()"
   ]
  },
  {
   "cell_type": "markdown",
   "metadata": {},
   "source": [
    "1. jadi kota yang paling sering terindikasi polusi pm 2.5 tertinggi dari rentang tahun 2013-2017 adalah :\n",
    "    - untuk pm 2.5 Dingling dengan nilai yang sering muncul \n",
    "    - sedangkan kota yang paling sering mengalami adalah nongzhanguan \n",
    "2. jadi kota yang paling sering terindikasi polusi pm 10 tertinggi dari rentang tahun 2013-2017 adalah :\n",
    "    - untuk pm 10 Dongsi dengan nilai yang sering muncul dan memiliki nilai sering tinggi"
   ]
  }
 ],
 "metadata": {
  "kernelspec": {
   "display_name": "Python 3",
   "language": "python",
   "name": "python3"
  },
  "language_info": {
   "codemirror_mode": {
    "name": "ipython",
    "version": 3
   },
   "file_extension": ".py",
   "mimetype": "text/x-python",
   "name": "python",
   "nbconvert_exporter": "python",
   "pygments_lexer": "ipython3",
   "version": "3.12.1"
  }
 },
 "nbformat": 4,
 "nbformat_minor": 2
}
